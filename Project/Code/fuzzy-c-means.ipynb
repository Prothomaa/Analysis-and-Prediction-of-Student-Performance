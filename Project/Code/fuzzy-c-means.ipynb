{
 "cells": [
  {
   "cell_type": "code",
   "execution_count": 1,
   "id": "7421175c",
   "metadata": {
    "_cell_guid": "660aa779-f142-411b-858f-3973a8467c80",
    "_uuid": "e6845f54-9f4f-4195-8996-08c351b42c24",
    "collapsed": false,
    "execution": {
     "iopub.execute_input": "2025-02-09T02:13:58.323922Z",
     "iopub.status.busy": "2025-02-09T02:13:58.323408Z",
     "iopub.status.idle": "2025-02-09T02:14:04.648790Z",
     "shell.execute_reply": "2025-02-09T02:14:04.647192Z"
    },
    "jupyter": {
     "outputs_hidden": false
    },
    "papermill": {
     "duration": 6.338803,
     "end_time": "2025-02-09T02:14:04.651060",
     "exception": false,
     "start_time": "2025-02-09T02:13:58.312257",
     "status": "completed"
    },
    "tags": []
   },
   "outputs": [
    {
     "name": "stdout",
     "output_type": "stream",
     "text": [
      "Collecting scikit-learn-extra\r\n",
      "  Downloading scikit_learn_extra-0.3.0-cp310-cp310-manylinux_2_17_x86_64.manylinux2014_x86_64.whl.metadata (3.6 kB)\r\n",
      "Requirement already satisfied: numpy>=1.13.3 in /usr/local/lib/python3.10/dist-packages (from scikit-learn-extra) (1.26.4)\r\n",
      "Requirement already satisfied: scipy>=0.19.1 in /usr/local/lib/python3.10/dist-packages (from scikit-learn-extra) (1.13.1)\r\n",
      "Requirement already satisfied: scikit-learn>=0.23.0 in /usr/local/lib/python3.10/dist-packages (from scikit-learn-extra) (1.2.2)\r\n",
      "Requirement already satisfied: mkl_fft in /usr/local/lib/python3.10/dist-packages (from numpy>=1.13.3->scikit-learn-extra) (1.3.8)\r\n",
      "Requirement already satisfied: mkl_random in /usr/local/lib/python3.10/dist-packages (from numpy>=1.13.3->scikit-learn-extra) (1.2.4)\r\n",
      "Requirement already satisfied: mkl_umath in /usr/local/lib/python3.10/dist-packages (from numpy>=1.13.3->scikit-learn-extra) (0.1.1)\r\n",
      "Requirement already satisfied: mkl in /usr/local/lib/python3.10/dist-packages (from numpy>=1.13.3->scikit-learn-extra) (2025.0.1)\r\n",
      "Requirement already satisfied: tbb4py in /usr/local/lib/python3.10/dist-packages (from numpy>=1.13.3->scikit-learn-extra) (2022.0.0)\r\n",
      "Requirement already satisfied: mkl-service in /usr/local/lib/python3.10/dist-packages (from numpy>=1.13.3->scikit-learn-extra) (2.4.1)\r\n",
      "Requirement already satisfied: joblib>=1.1.1 in /usr/local/lib/python3.10/dist-packages (from scikit-learn>=0.23.0->scikit-learn-extra) (1.4.2)\r\n",
      "Requirement already satisfied: threadpoolctl>=2.0.0 in /usr/local/lib/python3.10/dist-packages (from scikit-learn>=0.23.0->scikit-learn-extra) (3.5.0)\r\n",
      "Requirement already satisfied: intel-openmp>=2024 in /usr/local/lib/python3.10/dist-packages (from mkl->numpy>=1.13.3->scikit-learn-extra) (2024.2.0)\r\n",
      "Requirement already satisfied: tbb==2022.* in /usr/local/lib/python3.10/dist-packages (from mkl->numpy>=1.13.3->scikit-learn-extra) (2022.0.0)\r\n",
      "Requirement already satisfied: tcmlib==1.* in /usr/local/lib/python3.10/dist-packages (from tbb==2022.*->mkl->numpy>=1.13.3->scikit-learn-extra) (1.2.0)\r\n",
      "Requirement already satisfied: intel-cmplr-lib-rt in /usr/local/lib/python3.10/dist-packages (from mkl_umath->numpy>=1.13.3->scikit-learn-extra) (2024.2.0)\r\n",
      "Requirement already satisfied: intel-cmplr-lib-ur==2024.2.0 in /usr/local/lib/python3.10/dist-packages (from intel-openmp>=2024->mkl->numpy>=1.13.3->scikit-learn-extra) (2024.2.0)\r\n",
      "Downloading scikit_learn_extra-0.3.0-cp310-cp310-manylinux_2_17_x86_64.manylinux2014_x86_64.whl (2.0 MB)\r\n",
      "\u001b[2K   \u001b[90m━━━━━━━━━━━━━━━━━━━━━━━━━━━━━━━━━━━━━━━━\u001b[0m \u001b[32m2.0/2.0 MB\u001b[0m \u001b[31m19.4 MB/s\u001b[0m eta \u001b[36m0:00:00\u001b[0m\r\n",
      "\u001b[?25hInstalling collected packages: scikit-learn-extra\r\n",
      "Successfully installed scikit-learn-extra-0.3.0\r\n",
      "Note: you may need to restart the kernel to use updated packages.\n"
     ]
    }
   ],
   "source": [
    "pip install scikit-learn-extra"
   ]
  },
  {
   "cell_type": "code",
   "execution_count": 2,
   "id": "fb94018d",
   "metadata": {
    "_cell_guid": "77f45804-b0e4-4725-a7b5-230277eac2e2",
    "_uuid": "06ed0735-a264-46f0-a6d2-12cb67d1498f",
    "collapsed": false,
    "execution": {
     "iopub.execute_input": "2025-02-09T02:14:04.672617Z",
     "iopub.status.busy": "2025-02-09T02:14:04.672259Z",
     "iopub.status.idle": "2025-02-09T02:14:07.750989Z",
     "shell.execute_reply": "2025-02-09T02:14:07.749789Z"
    },
    "jupyter": {
     "outputs_hidden": false
    },
    "papermill": {
     "duration": 3.091945,
     "end_time": "2025-02-09T02:14:07.753423",
     "exception": false,
     "start_time": "2025-02-09T02:14:04.661478",
     "status": "completed"
    },
    "tags": []
   },
   "outputs": [],
   "source": [
    "import numpy as np\n",
    "import pandas as pd\n",
    "import matplotlib.pyplot as plt\n",
    "from sklearn_extra.cluster import KMedoids\n",
    "from sklearn.preprocessing import StandardScaler, LabelEncoder\n",
    "from sklearn.neighbors import KNeighborsClassifier\n",
    "from sklearn.model_selection import train_test_split\n",
    "from sklearn.metrics import accuracy_score, confusion_matrix, classification_report\n",
    "from sklearn.manifold import TSNE\n",
    "from sklearn.decomposition import PCA"
   ]
  },
  {
   "cell_type": "code",
   "execution_count": 3,
   "id": "1dd937fe",
   "metadata": {
    "_cell_guid": "a528b0fe-f5f4-4552-80bf-d9d02e30a2ba",
    "_uuid": "034c6b96-16da-470c-8c27-6fa3a6d9adfc",
    "collapsed": false,
    "execution": {
     "iopub.execute_input": "2025-02-09T02:14:07.774546Z",
     "iopub.status.busy": "2025-02-09T02:14:07.773993Z",
     "iopub.status.idle": "2025-02-09T02:14:07.857864Z",
     "shell.execute_reply": "2025-02-09T02:14:07.856568Z"
    },
    "jupyter": {
     "outputs_hidden": false
    },
    "papermill": {
     "duration": 0.096799,
     "end_time": "2025-02-09T02:14:07.859975",
     "exception": false,
     "start_time": "2025-02-09T02:14:07.763176",
     "status": "completed"
    },
    "tags": []
   },
   "outputs": [],
   "source": [
    "dataset = pd.read_csv(\"/kaggle/input/student-performance-bd/bd_students_per_v2.csv\")"
   ]
  },
  {
   "cell_type": "code",
   "execution_count": 4,
   "id": "d433af78",
   "metadata": {
    "_cell_guid": "c9100b98-321f-4df5-b2d8-e0417fa24275",
    "_uuid": "bdfab428-a4ba-4465-9e53-0443f75d38b5",
    "collapsed": false,
    "execution": {
     "iopub.execute_input": "2025-02-09T02:14:07.880096Z",
     "iopub.status.busy": "2025-02-09T02:14:07.879679Z",
     "iopub.status.idle": "2025-02-09T02:14:07.910230Z",
     "shell.execute_reply": "2025-02-09T02:14:07.908735Z"
    },
    "jupyter": {
     "outputs_hidden": false
    },
    "papermill": {
     "duration": 0.042854,
     "end_time": "2025-02-09T02:14:07.912382",
     "exception": false,
     "start_time": "2025-02-09T02:14:07.869528",
     "status": "completed"
    },
    "tags": []
   },
   "outputs": [
    {
     "name": "stdout",
     "output_type": "stream",
     "text": [
      "Dataset Preview:\n",
      "   id         full_name  age  gender location  family_size mother_education  \\\n",
      "0   2        Avi Biswas   16    Male    Urban            6              SSC   \n",
      "1   3   Taslima Sultana   18  Female    Rural            6              SSC   \n",
      "2   4  Md Adilur Rahman   15    Male    Rural            4              SSC   \n",
      "3   5       Saleh Ahmed   16    Male    Rural            6              SSC   \n",
      "4   6         Din Islam   17    Male    Urban            5           Honors   \n",
      "\n",
      "  father_education mother_job father_job  ... tutoring school_type attendance  \\\n",
      "0              HSC         No         No  ...      Yes     Private         95   \n",
      "1              HSC         No        Yes  ...       No   Semi_Govt         92   \n",
      "2              SSC        Yes        Yes  ...      Yes        Govt         81   \n",
      "3              SSC        Yes        Yes  ...      Yes     Private         90   \n",
      "4          Masters         No        Yes  ...      Yes   Semi_Govt         75   \n",
      "\n",
      "   extra_curricular_activities english math  science social_science  \\\n",
      "0                          Yes      95   98       92             94   \n",
      "1                           No      65   71       40             78   \n",
      "2                          Yes      64   78       58             86   \n",
      "3                          Yes      84   90       85             86   \n",
      "4                          Yes      54   70       45             79   \n",
      "\n",
      "   art_culture  stu_group  \n",
      "0           98    Science  \n",
      "1           80   Commerce  \n",
      "2           74   Commerce  \n",
      "3           88    Science  \n",
      "4           76   Commerce  \n",
      "\n",
      "[5 rows x 24 columns]\n"
     ]
    }
   ],
   "source": [
    "print(\"Dataset Preview:\")\n",
    "print(dataset.head())"
   ]
  },
  {
   "cell_type": "code",
   "execution_count": 5,
   "id": "5724a7e1",
   "metadata": {
    "_cell_guid": "24f9d629-0d36-418b-b194-c467f96106eb",
    "_uuid": "889320f0-3a18-46de-80fc-facb3c418f97",
    "collapsed": false,
    "execution": {
     "iopub.execute_input": "2025-02-09T02:14:07.933522Z",
     "iopub.status.busy": "2025-02-09T02:14:07.933114Z",
     "iopub.status.idle": "2025-02-09T02:14:07.938532Z",
     "shell.execute_reply": "2025-02-09T02:14:07.937179Z"
    },
    "jupyter": {
     "outputs_hidden": false
    },
    "papermill": {
     "duration": 0.018363,
     "end_time": "2025-02-09T02:14:07.940613",
     "exception": false,
     "start_time": "2025-02-09T02:14:07.922250",
     "status": "completed"
    },
    "tags": []
   },
   "outputs": [
    {
     "name": "stdout",
     "output_type": "stream",
     "text": [
      "\n",
      "Dataset Shape: (8612, 24)\n"
     ]
    }
   ],
   "source": [
    "print(\"\\nDataset Shape:\", dataset.shape)"
   ]
  },
  {
   "cell_type": "code",
   "execution_count": 6,
   "id": "7059a5a7",
   "metadata": {
    "_cell_guid": "789da2b5-ce1f-4d02-8809-ba284e720732",
    "_uuid": "7a26fab9-bda2-4d62-8d04-0d95abf68d25",
    "collapsed": false,
    "execution": {
     "iopub.execute_input": "2025-02-09T02:14:07.961439Z",
     "iopub.status.busy": "2025-02-09T02:14:07.961029Z",
     "iopub.status.idle": "2025-02-09T02:14:07.977263Z",
     "shell.execute_reply": "2025-02-09T02:14:07.975677Z"
    },
    "jupyter": {
     "outputs_hidden": false
    },
    "papermill": {
     "duration": 0.028962,
     "end_time": "2025-02-09T02:14:07.979274",
     "exception": false,
     "start_time": "2025-02-09T02:14:07.950312",
     "status": "completed"
    },
    "tags": []
   },
   "outputs": [
    {
     "name": "stdout",
     "output_type": "stream",
     "text": [
      "\n",
      "Missing Values:\n",
      "id                              0\n",
      "full_name                       0\n",
      "age                             0\n",
      "gender                          0\n",
      "location                        1\n",
      "family_size                     0\n",
      "mother_education               10\n",
      "father_education                4\n",
      "mother_job                      0\n",
      "father_job                      0\n",
      "guardian                        0\n",
      "parental_involvement            0\n",
      "internet_access                 0\n",
      "studytime                       0\n",
      "tutoring                        0\n",
      "school_type                     0\n",
      "attendance                      0\n",
      "extra_curricular_activities     0\n",
      "english                         0\n",
      "math                            0\n",
      "science                         0\n",
      "social_science                  0\n",
      "art_culture                     0\n",
      "stu_group                       0\n",
      "dtype: int64\n"
     ]
    }
   ],
   "source": [
    "print(\"\\nMissing Values:\")\n",
    "print(dataset.isnull().sum())"
   ]
  },
  {
   "cell_type": "code",
   "execution_count": 7,
   "id": "fa085a95",
   "metadata": {
    "_cell_guid": "37a6273a-7d2c-4ce2-a939-7a272bfded4d",
    "_uuid": "2f4d2dd8-47ca-4bce-88fb-332eea14a1ba",
    "collapsed": false,
    "execution": {
     "iopub.execute_input": "2025-02-09T02:14:08.000744Z",
     "iopub.status.busy": "2025-02-09T02:14:08.000335Z",
     "iopub.status.idle": "2025-02-09T02:14:08.038663Z",
     "shell.execute_reply": "2025-02-09T02:14:08.037245Z"
    },
    "jupyter": {
     "outputs_hidden": false
    },
    "papermill": {
     "duration": 0.051418,
     "end_time": "2025-02-09T02:14:08.040577",
     "exception": false,
     "start_time": "2025-02-09T02:14:07.989159",
     "status": "completed"
    },
    "tags": []
   },
   "outputs": [
    {
     "data": {
      "text/html": [
       "<div>\n",
       "<style scoped>\n",
       "    .dataframe tbody tr th:only-of-type {\n",
       "        vertical-align: middle;\n",
       "    }\n",
       "\n",
       "    .dataframe tbody tr th {\n",
       "        vertical-align: top;\n",
       "    }\n",
       "\n",
       "    .dataframe thead th {\n",
       "        text-align: right;\n",
       "    }\n",
       "</style>\n",
       "<table border=\"1\" class=\"dataframe\">\n",
       "  <thead>\n",
       "    <tr style=\"text-align: right;\">\n",
       "      <th></th>\n",
       "      <th>id</th>\n",
       "      <th>full_name</th>\n",
       "      <th>age</th>\n",
       "      <th>gender</th>\n",
       "      <th>location</th>\n",
       "      <th>family_size</th>\n",
       "      <th>mother_education</th>\n",
       "      <th>father_education</th>\n",
       "      <th>mother_job</th>\n",
       "      <th>father_job</th>\n",
       "      <th>...</th>\n",
       "      <th>tutoring</th>\n",
       "      <th>school_type</th>\n",
       "      <th>attendance</th>\n",
       "      <th>extra_curricular_activities</th>\n",
       "      <th>english</th>\n",
       "      <th>math</th>\n",
       "      <th>science</th>\n",
       "      <th>social_science</th>\n",
       "      <th>art_culture</th>\n",
       "      <th>stu_group</th>\n",
       "    </tr>\n",
       "  </thead>\n",
       "  <tbody>\n",
       "    <tr>\n",
       "      <th>0</th>\n",
       "      <td>2</td>\n",
       "      <td>Avi Biswas</td>\n",
       "      <td>16</td>\n",
       "      <td>Male</td>\n",
       "      <td>Urban</td>\n",
       "      <td>6</td>\n",
       "      <td>SSC</td>\n",
       "      <td>HSC</td>\n",
       "      <td>No</td>\n",
       "      <td>No</td>\n",
       "      <td>...</td>\n",
       "      <td>Yes</td>\n",
       "      <td>Private</td>\n",
       "      <td>95</td>\n",
       "      <td>Yes</td>\n",
       "      <td>95</td>\n",
       "      <td>98</td>\n",
       "      <td>92</td>\n",
       "      <td>94</td>\n",
       "      <td>98</td>\n",
       "      <td>Science</td>\n",
       "    </tr>\n",
       "    <tr>\n",
       "      <th>1</th>\n",
       "      <td>3</td>\n",
       "      <td>Taslima Sultana</td>\n",
       "      <td>18</td>\n",
       "      <td>Female</td>\n",
       "      <td>Rural</td>\n",
       "      <td>6</td>\n",
       "      <td>SSC</td>\n",
       "      <td>HSC</td>\n",
       "      <td>No</td>\n",
       "      <td>Yes</td>\n",
       "      <td>...</td>\n",
       "      <td>No</td>\n",
       "      <td>Semi_Govt</td>\n",
       "      <td>92</td>\n",
       "      <td>No</td>\n",
       "      <td>65</td>\n",
       "      <td>71</td>\n",
       "      <td>40</td>\n",
       "      <td>78</td>\n",
       "      <td>80</td>\n",
       "      <td>Commerce</td>\n",
       "    </tr>\n",
       "    <tr>\n",
       "      <th>2</th>\n",
       "      <td>4</td>\n",
       "      <td>Md Adilur Rahman</td>\n",
       "      <td>15</td>\n",
       "      <td>Male</td>\n",
       "      <td>Rural</td>\n",
       "      <td>4</td>\n",
       "      <td>SSC</td>\n",
       "      <td>SSC</td>\n",
       "      <td>Yes</td>\n",
       "      <td>Yes</td>\n",
       "      <td>...</td>\n",
       "      <td>Yes</td>\n",
       "      <td>Govt</td>\n",
       "      <td>81</td>\n",
       "      <td>Yes</td>\n",
       "      <td>64</td>\n",
       "      <td>78</td>\n",
       "      <td>58</td>\n",
       "      <td>86</td>\n",
       "      <td>74</td>\n",
       "      <td>Commerce</td>\n",
       "    </tr>\n",
       "    <tr>\n",
       "      <th>3</th>\n",
       "      <td>5</td>\n",
       "      <td>Saleh Ahmed</td>\n",
       "      <td>16</td>\n",
       "      <td>Male</td>\n",
       "      <td>Rural</td>\n",
       "      <td>6</td>\n",
       "      <td>SSC</td>\n",
       "      <td>SSC</td>\n",
       "      <td>Yes</td>\n",
       "      <td>Yes</td>\n",
       "      <td>...</td>\n",
       "      <td>Yes</td>\n",
       "      <td>Private</td>\n",
       "      <td>90</td>\n",
       "      <td>Yes</td>\n",
       "      <td>84</td>\n",
       "      <td>90</td>\n",
       "      <td>85</td>\n",
       "      <td>86</td>\n",
       "      <td>88</td>\n",
       "      <td>Science</td>\n",
       "    </tr>\n",
       "    <tr>\n",
       "      <th>4</th>\n",
       "      <td>6</td>\n",
       "      <td>Din Islam</td>\n",
       "      <td>17</td>\n",
       "      <td>Male</td>\n",
       "      <td>Urban</td>\n",
       "      <td>5</td>\n",
       "      <td>Honors</td>\n",
       "      <td>Masters</td>\n",
       "      <td>No</td>\n",
       "      <td>Yes</td>\n",
       "      <td>...</td>\n",
       "      <td>Yes</td>\n",
       "      <td>Semi_Govt</td>\n",
       "      <td>75</td>\n",
       "      <td>Yes</td>\n",
       "      <td>54</td>\n",
       "      <td>70</td>\n",
       "      <td>45</td>\n",
       "      <td>79</td>\n",
       "      <td>76</td>\n",
       "      <td>Commerce</td>\n",
       "    </tr>\n",
       "    <tr>\n",
       "      <th>...</th>\n",
       "      <td>...</td>\n",
       "      <td>...</td>\n",
       "      <td>...</td>\n",
       "      <td>...</td>\n",
       "      <td>...</td>\n",
       "      <td>...</td>\n",
       "      <td>...</td>\n",
       "      <td>...</td>\n",
       "      <td>...</td>\n",
       "      <td>...</td>\n",
       "      <td>...</td>\n",
       "      <td>...</td>\n",
       "      <td>...</td>\n",
       "      <td>...</td>\n",
       "      <td>...</td>\n",
       "      <td>...</td>\n",
       "      <td>...</td>\n",
       "      <td>...</td>\n",
       "      <td>...</td>\n",
       "      <td>...</td>\n",
       "      <td>...</td>\n",
       "    </tr>\n",
       "    <tr>\n",
       "      <th>8607</th>\n",
       "      <td>8609</td>\n",
       "      <td>Elina Khanam</td>\n",
       "      <td>17</td>\n",
       "      <td>Female</td>\n",
       "      <td>City</td>\n",
       "      <td>5</td>\n",
       "      <td>HSC</td>\n",
       "      <td>Non_Educated</td>\n",
       "      <td>No</td>\n",
       "      <td>No</td>\n",
       "      <td>...</td>\n",
       "      <td>No</td>\n",
       "      <td>Govt</td>\n",
       "      <td>78</td>\n",
       "      <td>Yes</td>\n",
       "      <td>81</td>\n",
       "      <td>83</td>\n",
       "      <td>80</td>\n",
       "      <td>84</td>\n",
       "      <td>91</td>\n",
       "      <td>Science</td>\n",
       "    </tr>\n",
       "    <tr>\n",
       "      <th>8608</th>\n",
       "      <td>8610</td>\n",
       "      <td>Sadiq Ghosh</td>\n",
       "      <td>16</td>\n",
       "      <td>Male</td>\n",
       "      <td>City</td>\n",
       "      <td>2</td>\n",
       "      <td>SSC</td>\n",
       "      <td>Under_SSC</td>\n",
       "      <td>No</td>\n",
       "      <td>Yes</td>\n",
       "      <td>...</td>\n",
       "      <td>No</td>\n",
       "      <td>Private</td>\n",
       "      <td>73</td>\n",
       "      <td>No</td>\n",
       "      <td>95</td>\n",
       "      <td>100</td>\n",
       "      <td>96</td>\n",
       "      <td>98</td>\n",
       "      <td>98</td>\n",
       "      <td>Science</td>\n",
       "    </tr>\n",
       "    <tr>\n",
       "      <th>8609</th>\n",
       "      <td>8611</td>\n",
       "      <td>Arman Amin</td>\n",
       "      <td>18</td>\n",
       "      <td>Male</td>\n",
       "      <td>City</td>\n",
       "      <td>3</td>\n",
       "      <td>Diploma</td>\n",
       "      <td>SSC</td>\n",
       "      <td>No</td>\n",
       "      <td>No</td>\n",
       "      <td>...</td>\n",
       "      <td>Yes</td>\n",
       "      <td>Private</td>\n",
       "      <td>51</td>\n",
       "      <td>No</td>\n",
       "      <td>45</td>\n",
       "      <td>59</td>\n",
       "      <td>41</td>\n",
       "      <td>51</td>\n",
       "      <td>69</td>\n",
       "      <td>Arts</td>\n",
       "    </tr>\n",
       "    <tr>\n",
       "      <th>8610</th>\n",
       "      <td>8612</td>\n",
       "      <td>Tawhidul Saif</td>\n",
       "      <td>15</td>\n",
       "      <td>Male</td>\n",
       "      <td>Urban</td>\n",
       "      <td>5</td>\n",
       "      <td>Honors</td>\n",
       "      <td>HSC</td>\n",
       "      <td>No</td>\n",
       "      <td>No</td>\n",
       "      <td>...</td>\n",
       "      <td>No</td>\n",
       "      <td>Private</td>\n",
       "      <td>66</td>\n",
       "      <td>Yes</td>\n",
       "      <td>59</td>\n",
       "      <td>65</td>\n",
       "      <td>60</td>\n",
       "      <td>68</td>\n",
       "      <td>69</td>\n",
       "      <td>Arts</td>\n",
       "    </tr>\n",
       "    <tr>\n",
       "      <th>8611</th>\n",
       "      <td>8613</td>\n",
       "      <td>Naimul Sen</td>\n",
       "      <td>18</td>\n",
       "      <td>Male</td>\n",
       "      <td>Urban</td>\n",
       "      <td>3</td>\n",
       "      <td>Diploma</td>\n",
       "      <td>Under_SSC</td>\n",
       "      <td>No</td>\n",
       "      <td>No</td>\n",
       "      <td>...</td>\n",
       "      <td>Yes</td>\n",
       "      <td>Semi_Govt</td>\n",
       "      <td>88</td>\n",
       "      <td>Yes</td>\n",
       "      <td>87</td>\n",
       "      <td>95</td>\n",
       "      <td>96</td>\n",
       "      <td>100</td>\n",
       "      <td>98</td>\n",
       "      <td>Science</td>\n",
       "    </tr>\n",
       "  </tbody>\n",
       "</table>\n",
       "<p>8612 rows × 24 columns</p>\n",
       "</div>"
      ],
      "text/plain": [
       "        id         full_name  age  gender location  family_size  \\\n",
       "0        2        Avi Biswas   16    Male    Urban            6   \n",
       "1        3   Taslima Sultana   18  Female    Rural            6   \n",
       "2        4  Md Adilur Rahman   15    Male    Rural            4   \n",
       "3        5       Saleh Ahmed   16    Male    Rural            6   \n",
       "4        6         Din Islam   17    Male    Urban            5   \n",
       "...    ...               ...  ...     ...      ...          ...   \n",
       "8607  8609      Elina Khanam   17  Female     City            5   \n",
       "8608  8610       Sadiq Ghosh   16    Male     City            2   \n",
       "8609  8611        Arman Amin   18    Male     City            3   \n",
       "8610  8612     Tawhidul Saif   15    Male    Urban            5   \n",
       "8611  8613        Naimul Sen   18    Male    Urban            3   \n",
       "\n",
       "     mother_education father_education mother_job father_job  ... tutoring  \\\n",
       "0                 SSC              HSC         No         No  ...      Yes   \n",
       "1                 SSC              HSC         No        Yes  ...       No   \n",
       "2                 SSC              SSC        Yes        Yes  ...      Yes   \n",
       "3                 SSC              SSC        Yes        Yes  ...      Yes   \n",
       "4              Honors          Masters         No        Yes  ...      Yes   \n",
       "...               ...              ...        ...        ...  ...      ...   \n",
       "8607              HSC     Non_Educated         No         No  ...       No   \n",
       "8608              SSC        Under_SSC         No        Yes  ...       No   \n",
       "8609          Diploma              SSC         No         No  ...      Yes   \n",
       "8610           Honors              HSC         No         No  ...       No   \n",
       "8611          Diploma        Under_SSC         No         No  ...      Yes   \n",
       "\n",
       "     school_type attendance  extra_curricular_activities english math  \\\n",
       "0        Private         95                          Yes      95   98   \n",
       "1      Semi_Govt         92                           No      65   71   \n",
       "2           Govt         81                          Yes      64   78   \n",
       "3        Private         90                          Yes      84   90   \n",
       "4      Semi_Govt         75                          Yes      54   70   \n",
       "...          ...        ...                          ...     ...  ...   \n",
       "8607        Govt         78                          Yes      81   83   \n",
       "8608     Private         73                           No      95  100   \n",
       "8609     Private         51                           No      45   59   \n",
       "8610     Private         66                          Yes      59   65   \n",
       "8611   Semi_Govt         88                          Yes      87   95   \n",
       "\n",
       "      science social_science  art_culture  stu_group  \n",
       "0          92             94           98    Science  \n",
       "1          40             78           80   Commerce  \n",
       "2          58             86           74   Commerce  \n",
       "3          85             86           88    Science  \n",
       "4          45             79           76   Commerce  \n",
       "...       ...            ...          ...        ...  \n",
       "8607       80             84           91    Science  \n",
       "8608       96             98           98    Science  \n",
       "8609       41             51           69       Arts  \n",
       "8610       60             68           69       Arts  \n",
       "8611       96            100           98    Science  \n",
       "\n",
       "[8612 rows x 24 columns]"
      ]
     },
     "execution_count": 7,
     "metadata": {},
     "output_type": "execute_result"
    }
   ],
   "source": [
    "df = pd.DataFrame(dataset)\n",
    "df"
   ]
  },
  {
   "cell_type": "code",
   "execution_count": 8,
   "id": "ac0acf44",
   "metadata": {
    "_cell_guid": "f0f153ab-2da0-4f08-b616-aef9c4ff38e0",
    "_uuid": "1062fa71-3116-4b0d-819b-bea11201a047",
    "collapsed": false,
    "execution": {
     "iopub.execute_input": "2025-02-09T02:14:08.065271Z",
     "iopub.status.busy": "2025-02-09T02:14:08.064870Z",
     "iopub.status.idle": "2025-02-09T02:14:08.078333Z",
     "shell.execute_reply": "2025-02-09T02:14:08.077107Z"
    },
    "jupyter": {
     "outputs_hidden": false
    },
    "papermill": {
     "duration": 0.028862,
     "end_time": "2025-02-09T02:14:08.080496",
     "exception": false,
     "start_time": "2025-02-09T02:14:08.051634",
     "status": "completed"
    },
    "tags": []
   },
   "outputs": [],
   "source": [
    "# Remove rows with missing values\n",
    "df_cleaned = dataset.dropna()"
   ]
  },
  {
   "cell_type": "code",
   "execution_count": 9,
   "id": "c712e9ac",
   "metadata": {
    "_cell_guid": "acaa26a9-e06b-4c06-a9f3-ef4de0dbc16f",
    "_uuid": "866e031d-7fee-4712-8a9a-e46819a296cc",
    "collapsed": false,
    "execution": {
     "iopub.execute_input": "2025-02-09T02:14:08.104174Z",
     "iopub.status.busy": "2025-02-09T02:14:08.103816Z",
     "iopub.status.idle": "2025-02-09T02:14:08.117729Z",
     "shell.execute_reply": "2025-02-09T02:14:08.116151Z"
    },
    "jupyter": {
     "outputs_hidden": false
    },
    "papermill": {
     "duration": 0.027935,
     "end_time": "2025-02-09T02:14:08.119804",
     "exception": false,
     "start_time": "2025-02-09T02:14:08.091869",
     "status": "completed"
    },
    "tags": []
   },
   "outputs": [
    {
     "name": "stdout",
     "output_type": "stream",
     "text": [
      "\n",
      "Missing Values After Cleaning:\n",
      "id                             0\n",
      "full_name                      0\n",
      "age                            0\n",
      "gender                         0\n",
      "location                       0\n",
      "family_size                    0\n",
      "mother_education               0\n",
      "father_education               0\n",
      "mother_job                     0\n",
      "father_job                     0\n",
      "guardian                       0\n",
      "parental_involvement           0\n",
      "internet_access                0\n",
      "studytime                      0\n",
      "tutoring                       0\n",
      "school_type                    0\n",
      "attendance                     0\n",
      "extra_curricular_activities    0\n",
      "english                        0\n",
      "math                           0\n",
      "science                        0\n",
      "social_science                 0\n",
      "art_culture                    0\n",
      "stu_group                      0\n",
      "dtype: int64\n"
     ]
    }
   ],
   "source": [
    "# Verify no missing values remain\n",
    "print(\"\\nMissing Values After Cleaning:\")\n",
    "print(df_cleaned.isnull().sum())"
   ]
  },
  {
   "cell_type": "code",
   "execution_count": 10,
   "id": "0e30f74f",
   "metadata": {
    "_cell_guid": "194a6f41-d2b6-4fac-aba1-194a85188256",
    "_uuid": "9d1817dd-eb16-4275-b148-e04bedc407f0",
    "collapsed": false,
    "execution": {
     "iopub.execute_input": "2025-02-09T02:14:08.143486Z",
     "iopub.status.busy": "2025-02-09T02:14:08.143111Z",
     "iopub.status.idle": "2025-02-09T02:14:08.147526Z",
     "shell.execute_reply": "2025-02-09T02:14:08.146343Z"
    },
    "jupyter": {
     "outputs_hidden": false
    },
    "papermill": {
     "duration": 0.018082,
     "end_time": "2025-02-09T02:14:08.149448",
     "exception": false,
     "start_time": "2025-02-09T02:14:08.131366",
     "status": "completed"
    },
    "tags": []
   },
   "outputs": [],
   "source": [
    "df = df_cleaned"
   ]
  },
  {
   "cell_type": "code",
   "execution_count": 11,
   "id": "656c0d6a",
   "metadata": {
    "_cell_guid": "4004f19b-99fd-4431-b06a-373e106cd805",
    "_uuid": "fe521e1e-8b7b-4702-a91d-de5748833f2f",
    "collapsed": false,
    "execution": {
     "iopub.execute_input": "2025-02-09T02:14:08.171969Z",
     "iopub.status.busy": "2025-02-09T02:14:08.171488Z",
     "iopub.status.idle": "2025-02-09T02:14:08.176442Z",
     "shell.execute_reply": "2025-02-09T02:14:08.175247Z"
    },
    "jupyter": {
     "outputs_hidden": false
    },
    "papermill": {
     "duration": 0.018253,
     "end_time": "2025-02-09T02:14:08.178398",
     "exception": false,
     "start_time": "2025-02-09T02:14:08.160145",
     "status": "completed"
    },
    "tags": []
   },
   "outputs": [],
   "source": [
    "categorical_columns = ['gender', 'stu_group']"
   ]
  },
  {
   "cell_type": "code",
   "execution_count": 12,
   "id": "6c82c532",
   "metadata": {
    "_cell_guid": "6c98664c-858d-449d-8fa5-c4580d80a17e",
    "_uuid": "f06f7cfc-3949-466b-b085-e0f6d7d8d70f",
    "collapsed": false,
    "execution": {
     "iopub.execute_input": "2025-02-09T02:14:08.200435Z",
     "iopub.status.busy": "2025-02-09T02:14:08.199967Z",
     "iopub.status.idle": "2025-02-09T02:14:08.219476Z",
     "shell.execute_reply": "2025-02-09T02:14:08.218064Z"
    },
    "jupyter": {
     "outputs_hidden": false
    },
    "papermill": {
     "duration": 0.03306,
     "end_time": "2025-02-09T02:14:08.221568",
     "exception": false,
     "start_time": "2025-02-09T02:14:08.188508",
     "status": "completed"
    },
    "tags": []
   },
   "outputs": [],
   "source": [
    "# One-Hot Encode categorical columns\n",
    "df_pandas_encoded = pd.get_dummies(df, columns=categorical_columns, drop_first=True)"
   ]
  },
  {
   "cell_type": "code",
   "execution_count": 13,
   "id": "a0b952c9",
   "metadata": {
    "_cell_guid": "b93885dd-d9ec-46e1-b334-f698fd2e314e",
    "_uuid": "3e530493-0069-4fe6-b6d4-59eaf9c4c4c1",
    "collapsed": false,
    "execution": {
     "iopub.execute_input": "2025-02-09T02:14:08.244454Z",
     "iopub.status.busy": "2025-02-09T02:14:08.243925Z",
     "iopub.status.idle": "2025-02-09T02:14:08.261189Z",
     "shell.execute_reply": "2025-02-09T02:14:08.259184Z"
    },
    "jupyter": {
     "outputs_hidden": false
    },
    "papermill": {
     "duration": 0.031577,
     "end_time": "2025-02-09T02:14:08.263318",
     "exception": false,
     "start_time": "2025-02-09T02:14:08.231741",
     "status": "completed"
    },
    "tags": []
   },
   "outputs": [
    {
     "name": "stdout",
     "output_type": "stream",
     "text": [
      "\n",
      "Encoded Dataset Preview:\n",
      "   id         full_name  age location  family_size mother_education  \\\n",
      "0   2        Avi Biswas   16    Urban            6              SSC   \n",
      "1   3   Taslima Sultana   18    Rural            6              SSC   \n",
      "2   4  Md Adilur Rahman   15    Rural            4              SSC   \n",
      "3   5       Saleh Ahmed   16    Rural            6              SSC   \n",
      "4   6         Din Islam   17    Urban            5           Honors   \n",
      "\n",
      "  father_education mother_job father_job guardian  ... attendance  \\\n",
      "0              HSC         No         No   Father  ...         95   \n",
      "1              HSC         No        Yes   Father  ...         92   \n",
      "2              SSC        Yes        Yes   Father  ...         81   \n",
      "3              SSC        Yes        Yes   Father  ...         90   \n",
      "4          Masters         No        Yes   Father  ...         75   \n",
      "\n",
      "  extra_curricular_activities  english math science  social_science  \\\n",
      "0                         Yes       95   98      92              94   \n",
      "1                          No       65   71      40              78   \n",
      "2                         Yes       64   78      58              86   \n",
      "3                         Yes       84   90      85              86   \n",
      "4                         Yes       54   70      45              79   \n",
      "\n",
      "  art_culture  gender_Male  stu_group_Commerce  stu_group_Science  \n",
      "0          98         True               False               True  \n",
      "1          80        False                True              False  \n",
      "2          74         True                True              False  \n",
      "3          88         True               False               True  \n",
      "4          76         True                True              False  \n",
      "\n",
      "[5 rows x 25 columns]\n"
     ]
    }
   ],
   "source": [
    "print(\"\\nEncoded Dataset Preview:\")\n",
    "print(df_pandas_encoded.head())"
   ]
  },
  {
   "cell_type": "code",
   "execution_count": 14,
   "id": "b1e3e542",
   "metadata": {
    "_cell_guid": "0c48bfe6-c287-43a2-a58a-5a7f2e750f75",
    "_uuid": "b4369982-9f50-4be6-bd64-280d61482d66",
    "collapsed": false,
    "execution": {
     "iopub.execute_input": "2025-02-09T02:14:08.286152Z",
     "iopub.status.busy": "2025-02-09T02:14:08.285615Z",
     "iopub.status.idle": "2025-02-09T02:14:08.336929Z",
     "shell.execute_reply": "2025-02-09T02:14:08.335684Z"
    },
    "jupyter": {
     "outputs_hidden": false
    },
    "papermill": {
     "duration": 0.064861,
     "end_time": "2025-02-09T02:14:08.338975",
     "exception": false,
     "start_time": "2025-02-09T02:14:08.274114",
     "status": "completed"
    },
    "tags": []
   },
   "outputs": [],
   "source": [
    "# Apply Label Encoding to any remaining categorical or boolean columns\n",
    "encoder = LabelEncoder()\n",
    "df_encoded = df_pandas_encoded.apply(\n",
    "    lambda col: encoder.fit_transform(col) if (col.dtype == 'object' or col.dtype == 'bool') else col\n",
    ")"
   ]
  },
  {
   "cell_type": "code",
   "execution_count": 15,
   "id": "e9d43ee6",
   "metadata": {
    "_cell_guid": "3f8b5db8-d8ea-40c7-be05-30b9efa8a330",
    "_uuid": "c06be7cf-6bde-4390-933f-db1efdc4866e",
    "collapsed": false,
    "execution": {
     "iopub.execute_input": "2025-02-09T02:14:08.360629Z",
     "iopub.status.busy": "2025-02-09T02:14:08.360214Z",
     "iopub.status.idle": "2025-02-09T02:14:08.372201Z",
     "shell.execute_reply": "2025-02-09T02:14:08.370730Z"
    },
    "jupyter": {
     "outputs_hidden": false
    },
    "papermill": {
     "duration": 0.024883,
     "end_time": "2025-02-09T02:14:08.373893",
     "exception": false,
     "start_time": "2025-02-09T02:14:08.349010",
     "status": "completed"
    },
    "tags": []
   },
   "outputs": [
    {
     "name": "stdout",
     "output_type": "stream",
     "text": [
      "\n",
      "Fully Encoded Dataset Preview:\n",
      "   id  full_name  age  location  family_size  mother_education  \\\n",
      "0   2        602   16         2            6                 6   \n",
      "1   3       6366   18         1            6                 6   \n",
      "2   4       3563   15         1            4                 6   \n",
      "3   5       5433   16         1            6                 6   \n",
      "4   6       1142   17         2            5                 2   \n",
      "\n",
      "   father_education  mother_job  father_job  guardian  ...  attendance  \\\n",
      "0                 1           0           0         0  ...          95   \n",
      "1                 1           0           1         0  ...          92   \n",
      "2                 6           1           1         0  ...          81   \n",
      "3                 6           1           1         0  ...          90   \n",
      "4                 4           0           1         0  ...          75   \n",
      "\n",
      "   extra_curricular_activities  english  math  science  social_science  \\\n",
      "0                            1       95    98       92              94   \n",
      "1                            0       65    71       40              78   \n",
      "2                            1       64    78       58              86   \n",
      "3                            1       84    90       85              86   \n",
      "4                            1       54    70       45              79   \n",
      "\n",
      "   art_culture  gender_Male  stu_group_Commerce  stu_group_Science  \n",
      "0           98            1                   0                  1  \n",
      "1           80            0                   1                  0  \n",
      "2           74            1                   1                  0  \n",
      "3           88            1                   0                  1  \n",
      "4           76            1                   1                  0  \n",
      "\n",
      "[5 rows x 25 columns]\n"
     ]
    }
   ],
   "source": [
    "# Verify the encoded dataset\n",
    "print(\"\\nFully Encoded Dataset Preview:\")\n",
    "print(df_encoded.head())"
   ]
  },
  {
   "cell_type": "code",
   "execution_count": 16,
   "id": "a04e6ac3",
   "metadata": {
    "_cell_guid": "f256ae8a-abaf-445d-8402-928bdf3d2a27",
    "_uuid": "58076e19-73d2-4e94-9d8b-596760280276",
    "collapsed": false,
    "execution": {
     "iopub.execute_input": "2025-02-09T02:14:08.396690Z",
     "iopub.status.busy": "2025-02-09T02:14:08.396258Z",
     "iopub.status.idle": "2025-02-09T02:14:08.403025Z",
     "shell.execute_reply": "2025-02-09T02:14:08.401627Z"
    },
    "jupyter": {
     "outputs_hidden": false
    },
    "papermill": {
     "duration": 0.020792,
     "end_time": "2025-02-09T02:14:08.404924",
     "exception": false,
     "start_time": "2025-02-09T02:14:08.384132",
     "status": "completed"
    },
    "tags": []
   },
   "outputs": [
    {
     "name": "stdout",
     "output_type": "stream",
     "text": [
      "\n",
      "Data Type of 'gender_Male': bool\n"
     ]
    }
   ],
   "source": [
    "df_encoded# Display the data types of a sample column to confirm encoding\n",
    "print(\"\\nData Type of 'gender_Male':\", df_pandas_encoded['gender_Male'].dtype)"
   ]
  },
  {
   "cell_type": "code",
   "execution_count": 17,
   "id": "c3e3a1cb",
   "metadata": {
    "_cell_guid": "9165a86e-434b-46dd-9f6e-f55d32ff9681",
    "_uuid": "e8726be2-3fe0-4ffe-b1ca-07c119df0f71",
    "collapsed": false,
    "execution": {
     "iopub.execute_input": "2025-02-09T02:14:08.428999Z",
     "iopub.status.busy": "2025-02-09T02:14:08.428292Z",
     "iopub.status.idle": "2025-02-09T02:14:08.433953Z",
     "shell.execute_reply": "2025-02-09T02:14:08.432553Z"
    },
    "jupyter": {
     "outputs_hidden": false
    },
    "papermill": {
     "duration": 0.019812,
     "end_time": "2025-02-09T02:14:08.436058",
     "exception": false,
     "start_time": "2025-02-09T02:14:08.416246",
     "status": "completed"
    },
    "tags": []
   },
   "outputs": [],
   "source": [
    "# Select features for clustering\n",
    "# 'parental_involvement' badd delm\n",
    "features_for_clustering = [\n",
    "    'location','father_job','internet_access','mother_job','studytime','extra_curricular_activities', 'tutoring', 'attendance', \n",
    "    'english', 'math', 'science', \n",
    "    'social_science', 'art_culture' \n",
    "]"
   ]
  },
  {
   "cell_type": "code",
   "execution_count": 18,
   "id": "3f2c5a9c",
   "metadata": {
    "_cell_guid": "d7192ca3-5b61-4174-adae-5a817dc31f5a",
    "_uuid": "5b915fb1-f0a6-46fe-9a26-cbd2d3dd7729",
    "collapsed": false,
    "execution": {
     "iopub.execute_input": "2025-02-09T02:14:08.458267Z",
     "iopub.status.busy": "2025-02-09T02:14:08.457855Z",
     "iopub.status.idle": "2025-02-09T02:14:08.463873Z",
     "shell.execute_reply": "2025-02-09T02:14:08.462749Z"
    },
    "jupyter": {
     "outputs_hidden": false
    },
    "papermill": {
     "duration": 0.019183,
     "end_time": "2025-02-09T02:14:08.465704",
     "exception": false,
     "start_time": "2025-02-09T02:14:08.446521",
     "status": "completed"
    },
    "tags": []
   },
   "outputs": [],
   "source": [
    "X = df_encoded[features_for_clustering]"
   ]
  },
  {
   "cell_type": "code",
   "execution_count": 19,
   "id": "1c30a774",
   "metadata": {
    "_cell_guid": "5ddd1beb-c1aa-42e4-a130-aa6cef41e627",
    "_uuid": "00322672-d5d1-46c9-8e52-241384167225",
    "collapsed": false,
    "execution": {
     "iopub.execute_input": "2025-02-09T02:14:08.489008Z",
     "iopub.status.busy": "2025-02-09T02:14:08.488549Z",
     "iopub.status.idle": "2025-02-09T02:14:08.524521Z",
     "shell.execute_reply": "2025-02-09T02:14:08.523242Z"
    },
    "jupyter": {
     "outputs_hidden": false
    },
    "papermill": {
     "duration": 0.049726,
     "end_time": "2025-02-09T02:14:08.526676",
     "exception": false,
     "start_time": "2025-02-09T02:14:08.476950",
     "status": "completed"
    },
    "tags": []
   },
   "outputs": [],
   "source": [
    "# Standardize the features\n",
    "scaler = StandardScaler()\n",
    "X_scaled = scaler.fit_transform(X).T"
   ]
  },
  {
   "cell_type": "code",
   "execution_count": 20,
   "id": "6b13aed1",
   "metadata": {
    "execution": {
     "iopub.execute_input": "2025-02-09T02:14:08.551933Z",
     "iopub.status.busy": "2025-02-09T02:14:08.551448Z",
     "iopub.status.idle": "2025-02-09T02:14:08.558901Z",
     "shell.execute_reply": "2025-02-09T02:14:08.557752Z"
    },
    "papermill": {
     "duration": 0.020724,
     "end_time": "2025-02-09T02:14:08.560624",
     "exception": false,
     "start_time": "2025-02-09T02:14:08.539900",
     "status": "completed"
    },
    "tags": []
   },
   "outputs": [
    {
     "data": {
      "text/plain": [
       "array([[ 1.04377547, -0.05467334, -0.05467334, ..., -1.15312216,\n",
       "         1.04377547,  1.04377547],\n",
       "       [-1.12750279,  0.88691576,  0.88691576, ..., -1.12750279,\n",
       "        -1.12750279, -1.12750279],\n",
       "       [ 0.91788412, -1.08946215,  0.91788412, ...,  0.91788412,\n",
       "         0.91788412,  0.91788412],\n",
       "       ...,\n",
       "       [ 1.22130183, -2.21813003, -1.02755746, ..., -2.15198711,\n",
       "        -0.89527162,  1.48587352],\n",
       "       [ 1.30581913,  0.23554266,  0.7706809 , ..., -1.57054889,\n",
       "        -0.43338014,  1.70717281],\n",
       "       [ 1.59668701,  0.27525377, -0.16522398, ..., -0.53228876,\n",
       "        -0.53228876,  1.59668701]])"
      ]
     },
     "execution_count": 20,
     "metadata": {},
     "output_type": "execute_result"
    }
   ],
   "source": [
    "X_scaled"
   ]
  },
  {
   "cell_type": "code",
   "execution_count": 21,
   "id": "89da4dd5",
   "metadata": {
    "execution": {
     "iopub.execute_input": "2025-02-09T02:14:08.584027Z",
     "iopub.status.busy": "2025-02-09T02:14:08.583516Z",
     "iopub.status.idle": "2025-02-09T02:14:13.719881Z",
     "shell.execute_reply": "2025-02-09T02:14:13.717861Z"
    },
    "papermill": {
     "duration": 5.151044,
     "end_time": "2025-02-09T02:14:13.722534",
     "exception": false,
     "start_time": "2025-02-09T02:14:08.571490",
     "status": "completed"
    },
    "tags": []
   },
   "outputs": [
    {
     "name": "stdout",
     "output_type": "stream",
     "text": [
      "Collecting scikit-fuzzy\r\n",
      "  Downloading scikit_fuzzy-0.5.0-py2.py3-none-any.whl.metadata (2.6 kB)\r\n",
      "Downloading scikit_fuzzy-0.5.0-py2.py3-none-any.whl (920 kB)\r\n",
      "\u001b[2K   \u001b[90m━━━━━━━━━━━━━━━━━━━━━━━━━━━━━━━━━━━━━━━━\u001b[0m \u001b[32m920.8/920.8 kB\u001b[0m \u001b[31m16.4 MB/s\u001b[0m eta \u001b[36m0:00:00\u001b[0m\r\n",
      "\u001b[?25hInstalling collected packages: scikit-fuzzy\r\n",
      "Successfully installed scikit-fuzzy-0.5.0\r\n",
      "Note: you may need to restart the kernel to use updated packages.\n"
     ]
    }
   ],
   "source": [
    "pip install scikit-fuzzy\n"
   ]
  },
  {
   "cell_type": "code",
   "execution_count": 22,
   "id": "3b6152ee",
   "metadata": {
    "_cell_guid": "428925e7-4a72-4918-96a7-169e47a6dc70",
    "_uuid": "734077d8-d0c4-4a77-ab5f-fe84399dd70d",
    "collapsed": false,
    "execution": {
     "iopub.execute_input": "2025-02-09T02:14:13.752742Z",
     "iopub.status.busy": "2025-02-09T02:14:13.752093Z",
     "iopub.status.idle": "2025-02-09T02:14:13.761462Z",
     "shell.execute_reply": "2025-02-09T02:14:13.759969Z"
    },
    "jupyter": {
     "outputs_hidden": false
    },
    "papermill": {
     "duration": 0.028352,
     "end_time": "2025-02-09T02:14:13.763636",
     "exception": false,
     "start_time": "2025-02-09T02:14:13.735284",
     "status": "completed"
    },
    "tags": []
   },
   "outputs": [
    {
     "data": {
      "text/plain": [
       "\"\\nimport numpy as np\\nimport skfuzzy as fuzz\\nimport pandas as pd\\nfrom sklearn.preprocessing import StandardScaler\\n\\n# Apply Fuzzy C-Means clustering with 3 clusters\\nn_clusters = 3\\ncntr, u, _, _, _, _, _ = fuzz.cluster.cmeans(X_scaled, c=n_clusters, m=2, error=0.005, maxiter=1000, init=None)\\n\\n# Assign each data point to the cluster with the highest probability\\ndf_encoded['cluster'] = np.argmax(u, axis=0)\\n\""
      ]
     },
     "execution_count": 22,
     "metadata": {},
     "output_type": "execute_result"
    }
   ],
   "source": [
    "\"\"\"\n",
    "import numpy as np\n",
    "import skfuzzy as fuzz\n",
    "import pandas as pd\n",
    "from sklearn.preprocessing import StandardScaler\n",
    "\n",
    "# Apply Fuzzy C-Means clustering with 3 clusters\n",
    "n_clusters = 3\n",
    "cntr, u, _, _, _, _, _ = fuzz.cluster.cmeans(X_scaled, c=n_clusters, m=2, error=0.005, maxiter=1000, init=None)\n",
    "\n",
    "# Assign each data point to the cluster with the highest probability\n",
    "df_encoded['cluster'] = np.argmax(u, axis=0)\n",
    "\"\"\"\n",
    "\n"
   ]
  },
  {
   "cell_type": "code",
   "execution_count": 23,
   "id": "95f22f2e",
   "metadata": {
    "execution": {
     "iopub.execute_input": "2025-02-09T02:14:13.790838Z",
     "iopub.status.busy": "2025-02-09T02:14:13.790409Z",
     "iopub.status.idle": "2025-02-09T02:14:14.106089Z",
     "shell.execute_reply": "2025-02-09T02:14:14.104959Z"
    },
    "papermill": {
     "duration": 0.331459,
     "end_time": "2025-02-09T02:14:14.108391",
     "exception": false,
     "start_time": "2025-02-09T02:14:13.776932",
     "status": "completed"
    },
    "tags": []
   },
   "outputs": [],
   "source": [
    "import numpy as np\n",
    "import skfuzzy as fuzz\n",
    "import pandas as pd\n",
    "from sklearn.preprocessing import StandardScaler\n",
    "\n",
    "# Assuming X_scaled is your dataset that has been standardized\n",
    "# Apply Fuzzy C-Means clustering with 3 clusters\n",
    "n_clusters = 3\n",
    "cntr, u, _, _, _, _, _ = fuzz.cluster.cmeans(X_scaled, c=n_clusters, m=2, error=0.005, maxiter=1000, init=None)\n",
    "\n",
    "# Assign each data point to the cluster with the highest probability\n",
    "df_encoded['cluster'] = np.argmax(u, axis=0)\n",
    "\n",
    "# Function to handle empty clusters by reassigning points to them\n",
    "def handle_empty_clusters(u, X_scaled, n_clusters, df_encoded):\n",
    "    # Check for empty clusters (those that have no points assigned)\n",
    "    empty_clusters = []\n",
    "    for cluster_idx in range(n_clusters):\n",
    "        if np.sum(u[cluster_idx, :]) == 0:\n",
    "            empty_clusters.append(cluster_idx)\n",
    "    \n",
    "    # Handle empty clusters\n",
    "    for cluster_idx in empty_clusters:\n",
    "        # Find the data point that is farthest from the current centroid of the empty cluster\n",
    "        distances = np.linalg.norm(X_scaled - cntr[cluster_idx], axis=1)\n",
    "        farthest_point_idx = np.argmax(distances)\n",
    "        \n",
    "        # Reassign this farthest data point to the empty cluster\n",
    "        u[cluster_idx, farthest_point_idx] = 1\n",
    "\n",
    "        # Update the cluster assignment for this data point\n",
    "        df_encoded.loc[farthest_point_idx, 'cluster'] = cluster_idx\n",
    "    \n",
    "    return u, df_encoded\n",
    "\n",
    "# Call the function to handle empty clusters and reassign points\n",
    "u, df_encoded = handle_empty_clusters(u, X_scaled, n_clusters, df_encoded)\n",
    "\n",
    "# After this, the 'u' matrix and 'df_encoded' should have no empty clusters\n"
   ]
  },
  {
   "cell_type": "code",
   "execution_count": 24,
   "id": "35a1d987",
   "metadata": {
    "_cell_guid": "386ebc72-d52f-4dde-998d-34cc9a135e26",
    "_uuid": "20daccb8-1c43-4808-947c-9cce32bbc970",
    "collapsed": false,
    "execution": {
     "iopub.execute_input": "2025-02-09T02:14:14.135418Z",
     "iopub.status.busy": "2025-02-09T02:14:14.135045Z",
     "iopub.status.idle": "2025-02-09T02:14:14.157935Z",
     "shell.execute_reply": "2025-02-09T02:14:14.156390Z"
    },
    "jupyter": {
     "outputs_hidden": false
    },
    "papermill": {
     "duration": 0.037837,
     "end_time": "2025-02-09T02:14:14.159942",
     "exception": false,
     "start_time": "2025-02-09T02:14:14.122105",
     "status": "completed"
    },
    "tags": []
   },
   "outputs": [
    {
     "name": "stdout",
     "output_type": "stream",
     "text": [
      "                  id    full_name        age  location  family_size  \\\n",
      "cluster                                                               \n",
      "0        4363.461591  3547.606692  16.607375  1.004438     4.456811   \n",
      "1        4292.490727  3517.447700  16.596810  0.987018     4.547478   \n",
      "2        4268.228312  3588.239744  16.635508  1.151311     4.500672   \n",
      "\n",
      "         mother_education  father_education  mother_job  father_job  guardian  \\\n",
      "cluster                                                                         \n",
      "0                3.514510          3.488904    0.462957    0.559918  0.955616   \n",
      "1                3.474777          3.434347    0.468101    0.578635  0.922478   \n",
      "2                3.550773          3.457633    0.506389    0.542367  0.954270   \n",
      "\n",
      "         ...  attendance  extra_curricular_activities    english       math  \\\n",
      "cluster  ...                                                                  \n",
      "0        ...   66.297371                     0.520656  56.579379  55.741891   \n",
      "1        ...   71.831602                     0.540801  75.063056  73.868694   \n",
      "2        ...   83.610625                     0.536651  89.090787  89.053463   \n",
      "\n",
      "           science  social_science  art_culture  gender_Male  \\\n",
      "cluster                                                        \n",
      "0        56.753158       58.351997    62.431888     0.508023   \n",
      "1        74.930267       76.001113    76.627226     0.485905   \n",
      "2        88.799260       88.981506    89.518830     0.516140   \n",
      "\n",
      "         stu_group_Commerce  stu_group_Science  \n",
      "cluster                                         \n",
      "0                  0.073062           0.003756  \n",
      "1                  0.942878           0.043398  \n",
      "2                  0.042031           0.956624  \n",
      "\n",
      "[3 rows x 25 columns]\n"
     ]
    }
   ],
   "source": [
    "# Analyze and interpret the clusters (add your code here to understand the characteristics of each cluster)\n",
    "# For example, you can calculate the mean of each feature within each cluster:\n",
    "\n",
    "cluster_means = df_encoded.groupby('cluster').mean()\n",
    "print(cluster_means)"
   ]
  },
  {
   "cell_type": "code",
   "execution_count": 25,
   "id": "6218625b",
   "metadata": {
    "_cell_guid": "36974b03-88a1-402c-8c7b-6b56187e1dc6",
    "_uuid": "092738f1-b112-4591-aca8-b6b68c4a5e31",
    "collapsed": false,
    "execution": {
     "iopub.execute_input": "2025-02-09T02:14:14.184683Z",
     "iopub.status.busy": "2025-02-09T02:14:14.184332Z",
     "iopub.status.idle": "2025-02-09T02:14:14.188929Z",
     "shell.execute_reply": "2025-02-09T02:14:14.187522Z"
    },
    "jupyter": {
     "outputs_hidden": false
    },
    "papermill": {
     "duration": 0.019641,
     "end_time": "2025-02-09T02:14:14.190999",
     "exception": false,
     "start_time": "2025-02-09T02:14:14.171358",
     "status": "completed"
    },
    "tags": []
   },
   "outputs": [],
   "source": [
    "# # Visualize the clusters (optional - choose appropriate features for visualization)\n",
    "# plt.scatter(df_encoded['math'], df_encoded['english'], c=df_encoded['cluster'])\n",
    "# plt.xlabel('Math Score')\n",
    "# plt.ylabel('English Score')\n",
    "# plt.title('Student Clusters')\n",
    "# plt.show()"
   ]
  },
  {
   "cell_type": "code",
   "execution_count": 26,
   "id": "dbb97388",
   "metadata": {
    "_cell_guid": "520735d3-b14c-4d5e-9402-1047be6d4341",
    "_uuid": "15933edb-6caf-4dfe-a45b-96e5b766a5b2",
    "collapsed": false,
    "execution": {
     "iopub.execute_input": "2025-02-09T02:14:14.215345Z",
     "iopub.status.busy": "2025-02-09T02:14:14.215001Z",
     "iopub.status.idle": "2025-02-09T02:14:14.262549Z",
     "shell.execute_reply": "2025-02-09T02:14:14.261218Z"
    },
    "jupyter": {
     "outputs_hidden": false
    },
    "papermill": {
     "duration": 0.06199,
     "end_time": "2025-02-09T02:14:14.264728",
     "exception": false,
     "start_time": "2025-02-09T02:14:14.202738",
     "status": "completed"
    },
    "tags": []
   },
   "outputs": [],
   "source": [
    "import numpy as np\n",
    "import pandas as pd\n",
    "import skfuzzy as fuzz\n",
    "from sklearn.preprocessing import StandardScaler\n",
    "\n",
    "def remove_outliers_after_clustering(df, u, cntr, threshold=1.5):\n",
    "    \"\"\"\n",
    "    Removes outliers from a DataFrame after clustering based on distance to cluster centers.\n",
    "\n",
    "    Args:\n",
    "        df (pd.DataFrame): DataFrame with cluster assignments.\n",
    "        u (np.ndarray): Membership matrix from Fuzzy C-Means.\n",
    "        cntr (np.ndarray): Cluster centers from Fuzzy C-Means.\n",
    "        threshold (float): Standard deviation threshold for outlier detection.\n",
    "\n",
    "    Returns:\n",
    "        pd.DataFrame: DataFrame with outliers removed.\n",
    "    \"\"\"\n",
    "    # Assign each data point to the cluster with the highest probability\n",
    "    df['cluster'] = np.argmax(u, axis=0)\n",
    "    \n",
    "    # Calculate distance to closest cluster center\n",
    "    distances = np.linalg.norm(df[features_for_clustering].values[:, np.newaxis] - cntr, axis=2)\n",
    "    df['distance_to_center'] = np.min(distances, axis=1)\n",
    "    \n",
    "    # Calculate mean and standard deviation of distances for each cluster\n",
    "    cluster_stats = df.groupby('cluster')['distance_to_center'].agg(['mean', 'std'])\n",
    "    \n",
    "    # Identify outliers based on threshold\n",
    "    df['outlier'] = False\n",
    "    for cluster_id in range(cntr.shape[0]):\n",
    "        mean_dist = cluster_stats.loc[cluster_id, 'mean']\n",
    "        std_dist = cluster_stats.loc[cluster_id, 'std']\n",
    "        df.loc[df['cluster'] == cluster_id, 'outlier'] = df.loc[df['cluster'] == cluster_id, 'distance_to_center'] > mean_dist + threshold * std_dist\n",
    "    \n",
    "    # Remove outliers\n",
    "    df_filtered = df[df['outlier'] == False].copy()\n",
    "    df_filtered.drop(['distance_to_center', 'outlier'], axis=1, inplace=True)\n",
    "    return df_filtered\n",
    "\n",
    "# Example usage\n",
    "df_filtered = remove_outliers_after_clustering(df_encoded.copy(), u, cntr)\n"
   ]
  },
  {
   "cell_type": "code",
   "execution_count": 27,
   "id": "30013740",
   "metadata": {
    "_cell_guid": "c70408ee-d794-46e3-965a-f06e50a2d116",
    "_uuid": "2f5e9c73-2a90-4bae-8bc7-9fd578a4cf63",
    "collapsed": false,
    "execution": {
     "iopub.execute_input": "2025-02-09T02:14:14.288688Z",
     "iopub.status.busy": "2025-02-09T02:14:14.288318Z",
     "iopub.status.idle": "2025-02-09T02:14:14.293047Z",
     "shell.execute_reply": "2025-02-09T02:14:14.291638Z"
    },
    "jupyter": {
     "outputs_hidden": false
    },
    "papermill": {
     "duration": 0.018826,
     "end_time": "2025-02-09T02:14:14.294961",
     "exception": false,
     "start_time": "2025-02-09T02:14:14.276135",
     "status": "completed"
    },
    "tags": []
   },
   "outputs": [],
   "source": [
    "# Assign labels to clusters based on your analysis\n",
    "cluster_labels = {\n",
    "    0: 'Excellent', \n",
    "    1: 'Moderate', \n",
    "    2: 'At-Risk'  \n",
    "}"
   ]
  },
  {
   "cell_type": "code",
   "execution_count": 28,
   "id": "538bbee2",
   "metadata": {
    "_cell_guid": "87b2249c-c53c-4148-bc4e-af060507c12a",
    "_uuid": "2ae5375f-f8d7-4878-84ba-d0b0ae787109",
    "execution": {
     "iopub.execute_input": "2025-02-09T02:14:14.320406Z",
     "iopub.status.busy": "2025-02-09T02:14:14.320029Z",
     "iopub.status.idle": "2025-02-09T02:14:14.324553Z",
     "shell.execute_reply": "2025-02-09T02:14:14.323337Z"
    },
    "papermill": {
     "duration": 0.019066,
     "end_time": "2025-02-09T02:14:14.326451",
     "exception": false,
     "start_time": "2025-02-09T02:14:14.307385",
     "status": "completed"
    },
    "tags": []
   },
   "outputs": [],
   "source": [
    "# pca = PCA(n_components=2)  # Reduce to 2 dimensions\n",
    "# X_pca = pca.fit_transform(X_scaled)\n",
    "\n",
    "# plt.scatter(X_pca[:, 0], X_pca[:, 1], c=df_encoded['cluster'])\n",
    "# plt.xlabel('Principal Component 1')\n",
    "# plt.ylabel('Principal Component 2')\n",
    "# plt.title('Clusters visualized with PCA')\n",
    "# plt.show()\n",
    "\n",
    "# X_filtered = df_filtered[features_for_clustering]\n",
    "\n",
    "# # Standardize the features of the filtered DataFrame\n",
    "# X_scaled_filtered = scaler.fit_transform(X_filtered)\n",
    "\n",
    "# pca = PCA(n_components=2)\n",
    "# X_pca = pca.fit_transform(X_scaled_filtered)\n",
    "# plt.scatter(X_pca[:, 0], X_pca[:, 1], c=df_filtered['cluster'])  # Use df_filtered['cluster'] for colors\n",
    "# plt.xlabel('Principal Component 1')\n",
    "# plt.ylabel('Principal Component 2')\n",
    "# plt.title('Clusters visualized with PCA (after outlier removal)')\n",
    "# plt.show()"
   ]
  },
  {
   "cell_type": "code",
   "execution_count": 29,
   "id": "d68b4265",
   "metadata": {
    "_cell_guid": "302cd0a5-3c23-4195-b91e-e6e2364db94f",
    "_uuid": "1634509f-396d-4896-96d0-f4837055344a",
    "execution": {
     "iopub.execute_input": "2025-02-09T02:14:14.350244Z",
     "iopub.status.busy": "2025-02-09T02:14:14.349894Z",
     "iopub.status.idle": "2025-02-09T02:14:14.354247Z",
     "shell.execute_reply": "2025-02-09T02:14:14.353175Z"
    },
    "papermill": {
     "duration": 0.017937,
     "end_time": "2025-02-09T02:14:14.356045",
     "exception": false,
     "start_time": "2025-02-09T02:14:14.338108",
     "status": "completed"
    },
    "tags": []
   },
   "outputs": [],
   "source": [
    "# tsne = TSNE(n_components=2, random_state=42)\n",
    "# X_tsne = tsne.fit_transform(X_scaled)\n",
    "\n",
    "# plt.scatter(X_tsne[:, 0], X_tsne[:, 1], c=df_encoded['cluster'])\n",
    "# plt.xlabel('t-SNE Dimension 1')\n",
    "# plt.ylabel('t-SNE Dimension 2')\n",
    "# plt.title('Clusters visualized with t-SNE')\n",
    "# plt.show()\n",
    "\n",
    "# tsne = TSNE(n_components=2, random_state=42)\n",
    "# X_tsne = tsne.fit_transform(X_scaled_filtered)\n",
    "\n",
    "# plt.scatter(X_tsne[:, 0], X_tsne[:, 1], c=df_filtered['cluster'])\n",
    "# plt.xlabel('t-SNE Dimension 1')\n",
    "# plt.ylabel('t-SNE Dimension 2')\n",
    "# plt.title('Clusters visualized with t-SNE After outlier Removal')\n",
    "# plt.show()"
   ]
  },
  {
   "cell_type": "code",
   "execution_count": 30,
   "id": "597c44a4",
   "metadata": {
    "_cell_guid": "5fd1323e-6fe3-4ab2-a1a5-5a009a0e7ec3",
    "_uuid": "d6b44944-f083-491c-967e-6c0abc35c225",
    "execution": {
     "iopub.execute_input": "2025-02-09T02:14:14.378988Z",
     "iopub.status.busy": "2025-02-09T02:14:14.378596Z",
     "iopub.status.idle": "2025-02-09T02:14:14.383038Z",
     "shell.execute_reply": "2025-02-09T02:14:14.381858Z"
    },
    "papermill": {
     "duration": 0.018356,
     "end_time": "2025-02-09T02:14:14.385187",
     "exception": false,
     "start_time": "2025-02-09T02:14:14.366831",
     "status": "completed"
    },
    "tags": []
   },
   "outputs": [],
   "source": [
    "# from sklearn.metrics import silhouette_score\n",
    "\n",
    "# silhouette_avg = silhouette_score(X_scaled_filtered, df_filtered['cluster']) \n",
    "# print(f\"Silhouette Score: {silhouette_avg}\")\n",
    "\n",
    "# inertia = kmedoids.inertia_\n",
    "# print(f\"Inertia: {inertia}\")\n",
    "\n",
    "# from sklearn.metrics import davies_bouldin_score\n",
    "\n",
    "# db_index = davies_bouldin_score(X_scaled_filtered, df_filtered['cluster'])\n",
    "# print(f\"Davies-Bouldin Index: {db_index}\")\n",
    "\n",
    "# from sklearn.metrics import calinski_harabasz_score\n",
    "\n",
    "# ch_index = calinski_harabasz_score(X_scaled_filtered, df_filtered['cluster'])\n",
    "# print(f\"Calinski-Harabasz Index: {ch_index}\")"
   ]
  },
  {
   "cell_type": "code",
   "execution_count": 31,
   "id": "7160adf9",
   "metadata": {
    "_cell_guid": "559c5828-c4e6-4997-9d89-4b917a54af54",
    "_uuid": "cf57ce6a-da83-4459-bb24-3268615c27fa",
    "execution": {
     "iopub.execute_input": "2025-02-09T02:14:14.408710Z",
     "iopub.status.busy": "2025-02-09T02:14:14.408268Z",
     "iopub.status.idle": "2025-02-09T02:14:14.417219Z",
     "shell.execute_reply": "2025-02-09T02:14:14.415704Z"
    },
    "papermill": {
     "duration": 0.022551,
     "end_time": "2025-02-09T02:14:14.419045",
     "exception": false,
     "start_time": "2025-02-09T02:14:14.396494",
     "status": "completed"
    },
    "tags": []
   },
   "outputs": [
    {
     "name": "stdout",
     "output_type": "stream",
     "text": [
      "Points in each cluster: Counter({2: 2974, 0: 2929, 1: 2696})\n"
     ]
    }
   ],
   "source": [
    "from collections import Counter\n",
    "\n",
    "# Assign each data point to the cluster with the highest probability\n",
    "labels = np.argmax(u, axis=0)\n",
    "\n",
    "# Count points in each cluster\n",
    "point_counts = Counter(labels)\n",
    "\n",
    "print(\"Points in each cluster:\", point_counts)\n"
   ]
  },
  {
   "cell_type": "code",
   "execution_count": 32,
   "id": "a9339da8",
   "metadata": {
    "_cell_guid": "d2ba9f86-efb1-4a4d-8f56-5a493ba6bcfb",
    "_uuid": "3cedbb11-8fa2-4343-8ca7-e8f19ac361a1",
    "collapsed": false,
    "execution": {
     "iopub.execute_input": "2025-02-09T02:14:14.442004Z",
     "iopub.status.busy": "2025-02-09T02:14:14.441609Z",
     "iopub.status.idle": "2025-02-09T02:14:14.453489Z",
     "shell.execute_reply": "2025-02-09T02:14:14.452080Z"
    },
    "jupyter": {
     "outputs_hidden": false
    },
    "papermill": {
     "duration": 0.025794,
     "end_time": "2025-02-09T02:14:14.455528",
     "exception": false,
     "start_time": "2025-02-09T02:14:14.429734",
     "status": "completed"
    },
    "tags": []
   },
   "outputs": [],
   "source": [
    "from sklearn.svm import SVC\n",
    "from sklearn.metrics import precision_score, recall_score, f1_score, confusion_matrix, classification_report\n",
    "\n",
    "df_encoded['cluster_label'] = df_encoded['cluster'].map(cluster_labels)\n",
    "X_classification = df_encoded[features_for_clustering]\n",
    "y_classification = df_encoded['cluster']\n",
    "\n",
    "X_train, X_test, y_train, y_test = train_test_split(X_classification, y_classification, test_size=0.3, random_state=42)"
   ]
  },
  {
   "cell_type": "code",
   "execution_count": 33,
   "id": "46a86a5b",
   "metadata": {
    "_cell_guid": "291dcba9-d510-4c2c-8d26-b3699884998f",
    "_uuid": "babdeb2e-1f72-4ef2-adc8-d9ba34ad867e",
    "collapsed": false,
    "execution": {
     "iopub.execute_input": "2025-02-09T02:14:14.478855Z",
     "iopub.status.busy": "2025-02-09T02:14:14.478390Z",
     "iopub.status.idle": "2025-02-09T02:14:14.484898Z",
     "shell.execute_reply": "2025-02-09T02:14:14.483727Z"
    },
    "jupyter": {
     "outputs_hidden": false
    },
    "papermill": {
     "duration": 0.020126,
     "end_time": "2025-02-09T02:14:14.486622",
     "exception": false,
     "start_time": "2025-02-09T02:14:14.466496",
     "status": "completed"
    },
    "tags": []
   },
   "outputs": [
    {
     "data": {
      "text/plain": [
       "'\\n# Train an SVM classifier\\nsvm_classifier = SVC(kernel=\\'linear\\', random_state=42)\\nsvm_classifier.fit(X_train, y_train)\\n\\n\\n# # Make predictions\\ny_pred = svm_classifier.predict(X_test)\\n\\n# Evaluate the classifier\\naccuracy = accuracy_score(y_test, y_pred)\\nprecision = precision_score(y_test, y_pred, average=\\'weighted\\')\\nrecall = recall_score(y_test, y_pred, average=\\'weighted\\')\\nf1 = f1_score(y_test, y_pred, average=\\'weighted\\')\\nconf_matrix = confusion_matrix(y_test, y_pred)\\nclass_report = classification_report(y_test, y_pred)\\n\\n# Print evaluation metrics\\nprint(f\"Accuracy: {accuracy:.2f}\")\\nprint(f\"Precision: {precision:.2f}\")\\nprint(f\"Recall: {recall:.2f}\")\\nprint(f\"F1 Score: {f1:.2f}\")\\nprint(\"Confusion Matrix:\")\\nprint(conf_matrix)\\nprint(\"Classification Report:\")\\nprint(class_report)\\n'"
      ]
     },
     "execution_count": 33,
     "metadata": {},
     "output_type": "execute_result"
    }
   ],
   "source": [
    "\"\"\"\n",
    "# Train an SVM classifier\n",
    "svm_classifier = SVC(kernel='linear', random_state=42)\n",
    "svm_classifier.fit(X_train, y_train)\n",
    "\n",
    "\n",
    "# # Make predictions\n",
    "y_pred = svm_classifier.predict(X_test)\n",
    "\n",
    "# Evaluate the classifier\n",
    "accuracy = accuracy_score(y_test, y_pred)\n",
    "precision = precision_score(y_test, y_pred, average='weighted')\n",
    "recall = recall_score(y_test, y_pred, average='weighted')\n",
    "f1 = f1_score(y_test, y_pred, average='weighted')\n",
    "conf_matrix = confusion_matrix(y_test, y_pred)\n",
    "class_report = classification_report(y_test, y_pred)\n",
    "\n",
    "# Print evaluation metrics\n",
    "print(f\"Accuracy: {accuracy:.2f}\")\n",
    "print(f\"Precision: {precision:.2f}\")\n",
    "print(f\"Recall: {recall:.2f}\")\n",
    "print(f\"F1 Score: {f1:.2f}\")\n",
    "print(\"Confusion Matrix:\")\n",
    "print(conf_matrix)\n",
    "print(\"Classification Report:\")\n",
    "print(class_report)\n",
    "\"\"\""
   ]
  },
  {
   "cell_type": "code",
   "execution_count": 34,
   "id": "6f1b9389",
   "metadata": {
    "_cell_guid": "8a769459-2483-4c9d-8432-aac1e084b491",
    "_uuid": "d43878ba-367e-4344-8eff-6039de811ea6",
    "collapsed": false,
    "execution": {
     "iopub.execute_input": "2025-02-09T02:14:14.510791Z",
     "iopub.status.busy": "2025-02-09T02:14:14.510302Z",
     "iopub.status.idle": "2025-02-09T02:14:14.516822Z",
     "shell.execute_reply": "2025-02-09T02:14:14.515708Z"
    },
    "jupyter": {
     "outputs_hidden": false
    },
    "papermill": {
     "duration": 0.020685,
     "end_time": "2025-02-09T02:14:14.518615",
     "exception": false,
     "start_time": "2025-02-09T02:14:14.497930",
     "status": "completed"
    },
    "tags": []
   },
   "outputs": [
    {
     "data": {
      "text/plain": [
       "'\\nimport itertools\\nplt.figure(figsize=(8, 6))\\nplt.imshow(conf_matrix, interpolation=\\'nearest\\', cmap=plt.cm.Blues)\\nplt.title(\\'Confusion Matrix\\')\\nplt.colorbar()\\ntick_marks = range(len(cluster_labels))\\nplt.xticks(tick_marks, cluster_labels.values(), rotation=45)\\nplt.yticks(tick_marks, cluster_labels.values())\\n\\nthresh = conf_matrix.max() / 2.\\nfor i, j in itertools.product(range(conf_matrix.shape[0]), range(conf_matrix.shape[1])):\\n    plt.text(j, i, format(conf_matrix[i, j], \\'d\\'),\\n             horizontalalignment=\"center\",\\n             color=\"white\" if conf_matrix[i, j] > thresh else \"black\")\\n\\nplt.ylabel(\\'True label\\')\\nplt.xlabel(\\'Predicted label\\')\\nplt.tight_layout()\\nplt.show()\\n'"
      ]
     },
     "execution_count": 34,
     "metadata": {},
     "output_type": "execute_result"
    }
   ],
   "source": [
    "\"\"\"\n",
    "import itertools\n",
    "plt.figure(figsize=(8, 6))\n",
    "plt.imshow(conf_matrix, interpolation='nearest', cmap=plt.cm.Blues)\n",
    "plt.title('Confusion Matrix')\n",
    "plt.colorbar()\n",
    "tick_marks = range(len(cluster_labels))\n",
    "plt.xticks(tick_marks, cluster_labels.values(), rotation=45)\n",
    "plt.yticks(tick_marks, cluster_labels.values())\n",
    "\n",
    "thresh = conf_matrix.max() / 2.\n",
    "for i, j in itertools.product(range(conf_matrix.shape[0]), range(conf_matrix.shape[1])):\n",
    "    plt.text(j, i, format(conf_matrix[i, j], 'd'),\n",
    "             horizontalalignment=\"center\",\n",
    "             color=\"white\" if conf_matrix[i, j] > thresh else \"black\")\n",
    "\n",
    "plt.ylabel('True label')\n",
    "plt.xlabel('Predicted label')\n",
    "plt.tight_layout()\n",
    "plt.show()\n",
    "\"\"\""
   ]
  },
  {
   "cell_type": "code",
   "execution_count": 35,
   "id": "82e44477",
   "metadata": {
    "_cell_guid": "26f454e9-279d-4232-ad10-4db4373bcf67",
    "_uuid": "b861a06f-35ff-4825-99c3-e1d39ee9805b",
    "collapsed": false,
    "execution": {
     "iopub.execute_input": "2025-02-09T02:14:14.542709Z",
     "iopub.status.busy": "2025-02-09T02:14:14.542269Z",
     "iopub.status.idle": "2025-02-09T02:14:14.546832Z",
     "shell.execute_reply": "2025-02-09T02:14:14.545728Z"
    },
    "jupyter": {
     "outputs_hidden": false
    },
    "papermill": {
     "duration": 0.018986,
     "end_time": "2025-02-09T02:14:14.548796",
     "exception": false,
     "start_time": "2025-02-09T02:14:14.529810",
     "status": "completed"
    },
    "tags": []
   },
   "outputs": [],
   "source": [
    "# from sklearn.svm import SVC\n",
    "# from sklearn.metrics import precision_score, recall_score, f1_score, confusion_matrix, classification_report\n",
    "\n",
    "# df_filtered['cluster_label'] = df_filtered['cluster'].map(cluster_labels)\n",
    "# X_classification = df_filtered[features_for_clustering]\n",
    "# y_classification = df_filtered['cluster']\n",
    "\n",
    "# X_train, X_test, y_train, y_test = train_test_split(X_classification, y_classification, test_size=0.2)"
   ]
  },
  {
   "cell_type": "code",
   "execution_count": 36,
   "id": "2311d3fb",
   "metadata": {
    "_cell_guid": "5d0dbd53-2000-44ec-adc6-bac21cb5b22e",
    "_uuid": "613564d9-f0ae-4589-8423-891630aa0b8b",
    "collapsed": false,
    "execution": {
     "iopub.execute_input": "2025-02-09T02:14:14.574782Z",
     "iopub.status.busy": "2025-02-09T02:14:14.574335Z",
     "iopub.status.idle": "2025-02-09T02:14:22.137124Z",
     "shell.execute_reply": "2025-02-09T02:14:22.134936Z"
    },
    "jupyter": {
     "outputs_hidden": false
    },
    "papermill": {
     "duration": 7.57757,
     "end_time": "2025-02-09T02:14:22.139530",
     "exception": false,
     "start_time": "2025-02-09T02:14:14.561960",
     "status": "completed"
    },
    "tags": []
   },
   "outputs": [
    {
     "name": "stdout",
     "output_type": "stream",
     "text": [
      "Accuracy: 0.9912\n",
      "Precision: 0.9914\n",
      "Recall: 0.9912\n",
      "F1 Score: 0.9913\n",
      "Confusion Matrix:\n",
      "[[569   1   0]\n",
      " [  2 466   1]\n",
      " [  0  10 550]]\n",
      "Classification Report:\n",
      "              precision    recall  f1-score   support\n",
      "\n",
      "           0       1.00      1.00      1.00       570\n",
      "           1       0.98      0.99      0.99       469\n",
      "           2       1.00      0.98      0.99       560\n",
      "\n",
      "    accuracy                           0.99      1599\n",
      "   macro avg       0.99      0.99      0.99      1599\n",
      "weighted avg       0.99      0.99      0.99      1599\n",
      "\n"
     ]
    }
   ],
   "source": [
    "from sklearn.svm import SVC\n",
    "from sklearn.tree import DecisionTreeClassifier\n",
    "from sklearn.ensemble import RandomForestClassifier, VotingClassifier\n",
    "from sklearn.model_selection import train_test_split\n",
    "from sklearn.metrics import accuracy_score, precision_score, recall_score, f1_score\n",
    "\n",
    "# Assign cluster labels and prepare data\n",
    "df_filtered['cluster_label'] = df_filtered['cluster'].map(cluster_labels)\n",
    "X_classification = df_filtered[features_for_clustering]\n",
    "y_classification = df_filtered['cluster']\n",
    "\n",
    "X_train, X_test, y_train, y_test = train_test_split(X_classification, y_classification, test_size=0.2, random_state=42)\n",
    "\n",
    "# Define individual classifiers\n",
    "svm_classifier = SVC(kernel='rbf', C=0.1, gamma=0.01, probability=True, random_state=42)\n",
    "decision_tree = DecisionTreeClassifier(random_state=42)\n",
    "random_forest = RandomForestClassifier(n_estimators=100, random_state=42)\n",
    "\n",
    "# Create an ensemble using VotingClassifier (soft voting for probability-based averaging)\n",
    "ensemble_classifier = VotingClassifier(\n",
    "    estimators=[('svm', svm_classifier), ('dt', decision_tree), ('rf', random_forest)],\n",
    "    voting='soft'  # Use 'hard' for majority voting, 'soft' for probability averaging\n",
    ")\n",
    "\n",
    "# Train the ensemble classifier\n",
    "ensemble_classifier.fit(X_train, y_train)\n",
    "\n",
    "# Make predictions\n",
    "y_pred = ensemble_classifier.predict(X_test)\n",
    "\n",
    "# Evaluate the classifier\n",
    "accuracy = accuracy_score(y_test, y_pred)\n",
    "precision = precision_score(y_test, y_pred, average='weighted')\n",
    "recall = recall_score(y_test, y_pred, average='weighted')\n",
    "f1 = f1_score(y_test, y_pred, average='weighted')\n",
    "conf_matrix = confusion_matrix(y_test, y_pred)\n",
    "class_report = classification_report(y_test, y_pred)\n",
    "\n",
    "# Print evaluation metrics\n",
    "print(f\"Accuracy: {accuracy:.4f}\")\n",
    "print(f\"Precision: {precision:.4f}\")\n",
    "print(f\"Recall: {recall:.4f}\")\n",
    "print(f\"F1 Score: {f1:.4f}\")\n",
    "print(\"Confusion Matrix:\")\n",
    "print(conf_matrix)\n",
    "print(\"Classification Report:\")\n",
    "print(class_report)"
   ]
  },
  {
   "cell_type": "code",
   "execution_count": 37,
   "id": "37982e81",
   "metadata": {
    "_cell_guid": "7c77b558-4451-43e4-9761-441e09f6e368",
    "_uuid": "76c4abe4-5ca4-4286-af0a-0b5b4c2d2ab1",
    "collapsed": false,
    "execution": {
     "iopub.execute_input": "2025-02-09T02:14:22.167680Z",
     "iopub.status.busy": "2025-02-09T02:14:22.167282Z",
     "iopub.status.idle": "2025-02-09T02:14:22.528951Z",
     "shell.execute_reply": "2025-02-09T02:14:22.527809Z"
    },
    "jupyter": {
     "outputs_hidden": false
    },
    "papermill": {
     "duration": 0.377589,
     "end_time": "2025-02-09T02:14:22.530818",
     "exception": false,
     "start_time": "2025-02-09T02:14:22.153229",
     "status": "completed"
    },
    "tags": []
   },
   "outputs": [
    {
     "data": {
      "image/png": "[encoded data removed]",
      "text/plain": [
       "<Figure size 800x600 with 2 Axes>"
      ]
     },
     "metadata": {},
     "output_type": "display_data"
    }
   ],
   "source": [
    "import itertools\n",
    "plt.figure(figsize=(8, 6))\n",
    "plt.imshow(conf_matrix, interpolation='nearest', cmap=plt.cm.Blues)\n",
    "plt.title('Confusion Matrix')\n",
    "plt.colorbar()\n",
    "tick_marks = range(len(cluster_labels))\n",
    "plt.xticks(tick_marks, cluster_labels.values(), rotation=45)\n",
    "plt.yticks(tick_marks, cluster_labels.values())\n",
    "\n",
    "thresh = conf_matrix.max() / 2.\n",
    "for i, j in itertools.product(range(conf_matrix.shape[0]), range(conf_matrix.shape[1])):\n",
    "    plt.text(j, i, format(conf_matrix[i, j], 'd'),\n",
    "             horizontalalignment=\"center\",\n",
    "             color=\"white\" if conf_matrix[i, j] > thresh else \"black\")\n",
    "\n",
    "plt.ylabel('True label')\n",
    "plt.xlabel('Predicted label')\n",
    "plt.tight_layout()\n",
    "plt.show()"
   ]
  },
  {
   "cell_type": "code",
   "execution_count": null,
   "id": "e3fc37d6",
   "metadata": {
    "papermill": {
     "duration": 0.099801,
     "end_time": "2025-02-09T02:14:22.643214",
     "exception": false,
     "start_time": "2025-02-09T02:14:22.543413",
     "status": "completed"
    },
    "tags": []
   },
   "outputs": [],
   "source": []
  }
 ],
 "metadata": {
  "kaggle": {
   "accelerator": "none",
   "dataSources": [
    {
     "datasetId": 6082550,
     "sourceId": 10038088,
     "sourceType": "datasetVersion"
    },
    {
     "datasetId": 6619858,
     "sourceId": 10685072,
     "sourceType": "datasetVersion"
    }
   ],
   "dockerImageVersionId": 30886,
   "isGpuEnabled": false,
   "isInternetEnabled": true,
   "language": "python",
   "sourceType": "notebook"
  },
  "kernelspec": {
   "display_name": "Python 3",
   "language": "python",
   "name": "python3"
  },
  "language_info": {
   "codemirror_mode": {
    "name": "ipython",
    "version": 3
   },
   "file_extension": ".py",
   "mimetype": "text/x-python",
   "name": "python",
   "nbconvert_exporter": "python",
   "pygments_lexer": "ipython3",
   "version": "3.10.12"
  },
  "papermill": {
   "default_parameters": {},
   "duration": 28.39253,
   "end_time": "2025-02-09T02:14:23.684510",
   "environment_variables": {},
   "exception": null,
   "input_path": "__notebook__.ipynb",
   "output_path": "__notebook__.ipynb",
   "parameters": {},
   "start_time": "2025-02-09T02:13:55.291980",
   "version": "2.6.0"
  }
 },
 "nbformat": 4,
 "nbformat_minor": 5
}
