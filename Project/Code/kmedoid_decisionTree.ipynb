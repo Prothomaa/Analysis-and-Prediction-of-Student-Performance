{
 "cells": [
  {
   "cell_type": "code",
   "execution_count": 1,
   "id": "4e94a36d",
   "metadata": {
    "_cell_guid": "660aa779-f142-411b-858f-3973a8467c80",
    "_uuid": "e6845f54-9f4f-4195-8996-08c351b42c24",
    "collapsed": false,
    "execution": {
     "iopub.execute_input": "2025-01-14T18:20:36.167192Z",
     "iopub.status.busy": "2025-01-14T18:20:36.166727Z",
     "iopub.status.idle": "2025-01-14T18:20:42.375556Z",
     "shell.execute_reply": "2025-01-14T18:20:42.374292Z"
    },
    "jupyter": {
     "outputs_hidden": false
    },
    "papermill": {
     "duration": 6.22105,
     "end_time": "2025-01-14T18:20:42.377507",
     "exception": false,
     "start_time": "2025-01-14T18:20:36.156457",
     "status": "completed"
    },
    "tags": []
   },
   "outputs": [
    {
     "name": "stdout",
     "output_type": "stream",
     "text": [
      "Collecting scikit-learn-extra\r\n",
      "  Downloading scikit_learn_extra-0.3.0-cp310-cp310-manylinux_2_17_x86_64.manylinux2014_x86_64.whl.metadata (3.6 kB)\r\n",
      "Requirement already satisfied: numpy>=1.13.3 in /usr/local/lib/python3.10/dist-packages (from scikit-learn-extra) (1.26.4)\r\n",
      "Requirement already satisfied: scipy>=0.19.1 in /usr/local/lib/python3.10/dist-packages (from scikit-learn-extra) (1.13.1)\r\n",
      "Requirement already satisfied: scikit-learn>=0.23.0 in /usr/local/lib/python3.10/dist-packages (from scikit-learn-extra) (1.2.2)\r\n",
      "Requirement already satisfied: joblib>=1.1.1 in /usr/local/lib/python3.10/dist-packages (from scikit-learn>=0.23.0->scikit-learn-extra) (1.4.2)\r\n",
      "Requirement already satisfied: threadpoolctl>=2.0.0 in /usr/local/lib/python3.10/dist-packages (from scikit-learn>=0.23.0->scikit-learn-extra) (3.5.0)\r\n",
      "Downloading scikit_learn_extra-0.3.0-cp310-cp310-manylinux_2_17_x86_64.manylinux2014_x86_64.whl (2.0 MB)\r\n",
      "\u001b[2K   \u001b[90m━━━━━━━━━━━━━━━━━━━━━━━━━━━━━━━━━━━━━━━━\u001b[0m \u001b[32m2.0/2.0 MB\u001b[0m \u001b[31m40.2 MB/s\u001b[0m eta \u001b[36m0:00:00\u001b[0m\r\n",
      "\u001b[?25hInstalling collected packages: scikit-learn-extra\r\n",
      "Successfully installed scikit-learn-extra-0.3.0\r\n",
      "Note: you may need to restart the kernel to use updated packages.\n"
     ]
    }
   ],
   "source": [
    "pip install scikit-learn-extra"
   ]
  },
  {
   "cell_type": "code",
   "execution_count": 2,
   "id": "541d07fa",
   "metadata": {
    "_cell_guid": "77f45804-b0e4-4725-a7b5-230277eac2e2",
    "_uuid": "06ed0735-a264-46f0-a6d2-12cb67d1498f",
    "collapsed": false,
    "execution": {
     "iopub.execute_input": "2025-01-14T18:20:42.397149Z",
     "iopub.status.busy": "2025-01-14T18:20:42.396752Z",
     "iopub.status.idle": "2025-01-14T18:20:44.684320Z",
     "shell.execute_reply": "2025-01-14T18:20:44.683111Z"
    },
    "jupyter": {
     "outputs_hidden": false
    },
    "papermill": {
     "duration": 2.299573,
     "end_time": "2025-01-14T18:20:44.686480",
     "exception": false,
     "start_time": "2025-01-14T18:20:42.386907",
     "status": "completed"
    },
    "tags": []
   },
   "outputs": [],
   "source": [
    "import numpy as np\n",
    "import pandas as pd\n",
    "import matplotlib.pyplot as plt\n",
    "from sklearn_extra.cluster import KMedoids\n",
    "from sklearn.preprocessing import StandardScaler, LabelEncoder\n",
    "from sklearn.neighbors import KNeighborsClassifier\n",
    "from sklearn.model_selection import train_test_split\n",
    "from sklearn.metrics import accuracy_score, confusion_matrix, classification_report\n",
    "from sklearn.manifold import TSNE\n",
    "from sklearn.decomposition import PCA"
   ]
  },
  {
   "cell_type": "code",
   "execution_count": 3,
   "id": "40f114db",
   "metadata": {
    "_cell_guid": "a528b0fe-f5f4-4552-80bf-d9d02e30a2ba",
    "_uuid": "034c6b96-16da-470c-8c27-6fa3a6d9adfc",
    "collapsed": false,
    "execution": {
     "iopub.execute_input": "2025-01-14T18:20:44.707453Z",
     "iopub.status.busy": "2025-01-14T18:20:44.706787Z",
     "iopub.status.idle": "2025-01-14T18:20:44.853395Z",
     "shell.execute_reply": "2025-01-14T18:20:44.852156Z"
    },
    "jupyter": {
     "outputs_hidden": false
    },
    "papermill": {
     "duration": 0.159451,
     "end_time": "2025-01-14T18:20:44.856032",
     "exception": false,
     "start_time": "2025-01-14T18:20:44.696581",
     "status": "completed"
    },
    "tags": []
   },
   "outputs": [],
   "source": [
    "dataset = pd.read_csv(\"/kaggle/input/student-performance-bd/bd_students_per_v2.csv\")"
   ]
  },
  {
   "cell_type": "code",
   "execution_count": 4,
   "id": "d3ebdd2b",
   "metadata": {
    "_cell_guid": "c9100b98-321f-4df5-b2d8-e0417fa24275",
    "_uuid": "bdfab428-a4ba-4465-9e53-0443f75d38b5",
    "collapsed": false,
    "execution": {
     "iopub.execute_input": "2025-01-14T18:20:44.885527Z",
     "iopub.status.busy": "2025-01-14T18:20:44.885055Z",
     "iopub.status.idle": "2025-01-14T18:20:44.912351Z",
     "shell.execute_reply": "2025-01-14T18:20:44.910707Z"
    },
    "jupyter": {
     "outputs_hidden": false
    },
    "papermill": {
     "duration": 0.040939,
     "end_time": "2025-01-14T18:20:44.914530",
     "exception": false,
     "start_time": "2025-01-14T18:20:44.873591",
     "status": "completed"
    },
    "tags": []
   },
   "outputs": [
    {
     "name": "stdout",
     "output_type": "stream",
     "text": [
      "Dataset Preview:\n",
      "   id         full_name  age  gender location  family_size mother_education  \\\n",
      "0   2        Avi Biswas   16    Male    Urban            6              SSC   \n",
      "1   3   Taslima Sultana   18  Female    Rural            6              SSC   \n",
      "2   4  Md Adilur Rahman   15    Male    Rural            4              SSC   \n",
      "3   5       Saleh Ahmed   16    Male    Rural            6              SSC   \n",
      "4   6         Din Islam   17    Male    Urban            5           Honors   \n",
      "\n",
      "  father_education mother_job father_job  ... tutoring school_type attendance  \\\n",
      "0              HSC         No         No  ...      Yes     Private         95   \n",
      "1              HSC         No        Yes  ...       No   Semi_Govt         92   \n",
      "2              SSC        Yes        Yes  ...      Yes        Govt         81   \n",
      "3              SSC        Yes        Yes  ...      Yes     Private         90   \n",
      "4          Masters         No        Yes  ...      Yes   Semi_Govt         75   \n",
      "\n",
      "   extra_curricular_activities english math  science social_science  \\\n",
      "0                          Yes      95   98       92             94   \n",
      "1                           No      65   71       40             78   \n",
      "2                          Yes      64   78       58             86   \n",
      "3                          Yes      84   90       85             86   \n",
      "4                          Yes      54   70       45             79   \n",
      "\n",
      "   art_culture  stu_group  \n",
      "0           98    Science  \n",
      "1           80   Commerce  \n",
      "2           74   Commerce  \n",
      "3           88    Science  \n",
      "4           76   Commerce  \n",
      "\n",
      "[5 rows x 24 columns]\n"
     ]
    }
   ],
   "source": [
    "print(\"Dataset Preview:\")\n",
    "print(dataset.head())"
   ]
  },
  {
   "cell_type": "code",
   "execution_count": 5,
   "id": "74b94b9d",
   "metadata": {
    "_cell_guid": "24f9d629-0d36-418b-b194-c467f96106eb",
    "_uuid": "889320f0-3a18-46de-80fc-facb3c418f97",
    "collapsed": false,
    "execution": {
     "iopub.execute_input": "2025-01-14T18:20:44.933712Z",
     "iopub.status.busy": "2025-01-14T18:20:44.933387Z",
     "iopub.status.idle": "2025-01-14T18:20:44.939284Z",
     "shell.execute_reply": "2025-01-14T18:20:44.937954Z"
    },
    "jupyter": {
     "outputs_hidden": false
    },
    "papermill": {
     "duration": 0.017675,
     "end_time": "2025-01-14T18:20:44.941300",
     "exception": false,
     "start_time": "2025-01-14T18:20:44.923625",
     "status": "completed"
    },
    "tags": []
   },
   "outputs": [
    {
     "name": "stdout",
     "output_type": "stream",
     "text": [
      "\n",
      "Dataset Shape: (8612, 24)\n"
     ]
    }
   ],
   "source": [
    "print(\"\\nDataset Shape:\", dataset.shape)"
   ]
  },
  {
   "cell_type": "code",
   "execution_count": 6,
   "id": "69c84316",
   "metadata": {
    "_cell_guid": "789da2b5-ce1f-4d02-8809-ba284e720732",
    "_uuid": "7a26fab9-bda2-4d62-8d04-0d95abf68d25",
    "collapsed": false,
    "execution": {
     "iopub.execute_input": "2025-01-14T18:20:44.967609Z",
     "iopub.status.busy": "2025-01-14T18:20:44.967124Z",
     "iopub.status.idle": "2025-01-14T18:20:44.987677Z",
     "shell.execute_reply": "2025-01-14T18:20:44.986337Z"
    },
    "jupyter": {
     "outputs_hidden": false
    },
    "papermill": {
     "duration": 0.032765,
     "end_time": "2025-01-14T18:20:44.989816",
     "exception": false,
     "start_time": "2025-01-14T18:20:44.957051",
     "status": "completed"
    },
    "tags": []
   },
   "outputs": [
    {
     "name": "stdout",
     "output_type": "stream",
     "text": [
      "\n",
      "Missing Values:\n",
      "id                              0\n",
      "full_name                       0\n",
      "age                             0\n",
      "gender                          0\n",
      "location                        1\n",
      "family_size                     0\n",
      "mother_education               10\n",
      "father_education                4\n",
      "mother_job                      0\n",
      "father_job                      0\n",
      "guardian                        0\n",
      "parental_involvement            0\n",
      "internet_access                 0\n",
      "studytime                       0\n",
      "tutoring                        0\n",
      "school_type                     0\n",
      "attendance                      0\n",
      "extra_curricular_activities     0\n",
      "english                         0\n",
      "math                            0\n",
      "science                         0\n",
      "social_science                  0\n",
      "art_culture                     0\n",
      "stu_group                       0\n",
      "dtype: int64\n"
     ]
    }
   ],
   "source": [
    "print(\"\\nMissing Values:\")\n",
    "print(dataset.isnull().sum())"
   ]
  },
  {
   "cell_type": "code",
   "execution_count": 7,
   "id": "f1350b6e",
   "metadata": {
    "_cell_guid": "37a6273a-7d2c-4ce2-a939-7a272bfded4d",
    "_uuid": "2f4d2dd8-47ca-4bce-88fb-332eea14a1ba",
    "collapsed": false,
    "execution": {
     "iopub.execute_input": "2025-01-14T18:20:45.010201Z",
     "iopub.status.busy": "2025-01-14T18:20:45.009693Z",
     "iopub.status.idle": "2025-01-14T18:20:45.043341Z",
     "shell.execute_reply": "2025-01-14T18:20:45.042098Z"
    },
    "jupyter": {
     "outputs_hidden": false
    },
    "papermill": {
     "duration": 0.046524,
     "end_time": "2025-01-14T18:20:45.045947",
     "exception": false,
     "start_time": "2025-01-14T18:20:44.999423",
     "status": "completed"
    },
    "tags": []
   },
   "outputs": [
    {
     "data": {
      "text/html": [
       "<div>\n",
       "<style scoped>\n",
       "    .dataframe tbody tr th:only-of-type {\n",
       "        vertical-align: middle;\n",
       "    }\n",
       "\n",
       "    .dataframe tbody tr th {\n",
       "        vertical-align: top;\n",
       "    }\n",
       "\n",
       "    .dataframe thead th {\n",
       "        text-align: right;\n",
       "    }\n",
       "</style>\n",
       "<table border=\"1\" class=\"dataframe\">\n",
       "  <thead>\n",
       "    <tr style=\"text-align: right;\">\n",
       "      <th></th>\n",
       "      <th>id</th>\n",
       "      <th>full_name</th>\n",
       "      <th>age</th>\n",
       "      <th>gender</th>\n",
       "      <th>location</th>\n",
       "      <th>family_size</th>\n",
       "      <th>mother_education</th>\n",
       "      <th>father_education</th>\n",
       "      <th>mother_job</th>\n",
       "      <th>father_job</th>\n",
       "      <th>...</th>\n",
       "      <th>tutoring</th>\n",
       "      <th>school_type</th>\n",
       "      <th>attendance</th>\n",
       "      <th>extra_curricular_activities</th>\n",
       "      <th>english</th>\n",
       "      <th>math</th>\n",
       "      <th>science</th>\n",
       "      <th>social_science</th>\n",
       "      <th>art_culture</th>\n",
       "      <th>stu_group</th>\n",
       "    </tr>\n",
       "  </thead>\n",
       "  <tbody>\n",
       "    <tr>\n",
       "      <th>0</th>\n",
       "      <td>2</td>\n",
       "      <td>Avi Biswas</td>\n",
       "      <td>16</td>\n",
       "      <td>Male</td>\n",
       "      <td>Urban</td>\n",
       "      <td>6</td>\n",
       "      <td>SSC</td>\n",
       "      <td>HSC</td>\n",
       "      <td>No</td>\n",
       "      <td>No</td>\n",
       "      <td>...</td>\n",
       "      <td>Yes</td>\n",
       "      <td>Private</td>\n",
       "      <td>95</td>\n",
       "      <td>Yes</td>\n",
       "      <td>95</td>\n",
       "      <td>98</td>\n",
       "      <td>92</td>\n",
       "      <td>94</td>\n",
       "      <td>98</td>\n",
       "      <td>Science</td>\n",
       "    </tr>\n",
       "    <tr>\n",
       "      <th>1</th>\n",
       "      <td>3</td>\n",
       "      <td>Taslima Sultana</td>\n",
       "      <td>18</td>\n",
       "      <td>Female</td>\n",
       "      <td>Rural</td>\n",
       "      <td>6</td>\n",
       "      <td>SSC</td>\n",
       "      <td>HSC</td>\n",
       "      <td>No</td>\n",
       "      <td>Yes</td>\n",
       "      <td>...</td>\n",
       "      <td>No</td>\n",
       "      <td>Semi_Govt</td>\n",
       "      <td>92</td>\n",
       "      <td>No</td>\n",
       "      <td>65</td>\n",
       "      <td>71</td>\n",
       "      <td>40</td>\n",
       "      <td>78</td>\n",
       "      <td>80</td>\n",
       "      <td>Commerce</td>\n",
       "    </tr>\n",
       "    <tr>\n",
       "      <th>2</th>\n",
       "      <td>4</td>\n",
       "      <td>Md Adilur Rahman</td>\n",
       "      <td>15</td>\n",
       "      <td>Male</td>\n",
       "      <td>Rural</td>\n",
       "      <td>4</td>\n",
       "      <td>SSC</td>\n",
       "      <td>SSC</td>\n",
       "      <td>Yes</td>\n",
       "      <td>Yes</td>\n",
       "      <td>...</td>\n",
       "      <td>Yes</td>\n",
       "      <td>Govt</td>\n",
       "      <td>81</td>\n",
       "      <td>Yes</td>\n",
       "      <td>64</td>\n",
       "      <td>78</td>\n",
       "      <td>58</td>\n",
       "      <td>86</td>\n",
       "      <td>74</td>\n",
       "      <td>Commerce</td>\n",
       "    </tr>\n",
       "    <tr>\n",
       "      <th>3</th>\n",
       "      <td>5</td>\n",
       "      <td>Saleh Ahmed</td>\n",
       "      <td>16</td>\n",
       "      <td>Male</td>\n",
       "      <td>Rural</td>\n",
       "      <td>6</td>\n",
       "      <td>SSC</td>\n",
       "      <td>SSC</td>\n",
       "      <td>Yes</td>\n",
       "      <td>Yes</td>\n",
       "      <td>...</td>\n",
       "      <td>Yes</td>\n",
       "      <td>Private</td>\n",
       "      <td>90</td>\n",
       "      <td>Yes</td>\n",
       "      <td>84</td>\n",
       "      <td>90</td>\n",
       "      <td>85</td>\n",
       "      <td>86</td>\n",
       "      <td>88</td>\n",
       "      <td>Science</td>\n",
       "    </tr>\n",
       "    <tr>\n",
       "      <th>4</th>\n",
       "      <td>6</td>\n",
       "      <td>Din Islam</td>\n",
       "      <td>17</td>\n",
       "      <td>Male</td>\n",
       "      <td>Urban</td>\n",
       "      <td>5</td>\n",
       "      <td>Honors</td>\n",
       "      <td>Masters</td>\n",
       "      <td>No</td>\n",
       "      <td>Yes</td>\n",
       "      <td>...</td>\n",
       "      <td>Yes</td>\n",
       "      <td>Semi_Govt</td>\n",
       "      <td>75</td>\n",
       "      <td>Yes</td>\n",
       "      <td>54</td>\n",
       "      <td>70</td>\n",
       "      <td>45</td>\n",
       "      <td>79</td>\n",
       "      <td>76</td>\n",
       "      <td>Commerce</td>\n",
       "    </tr>\n",
       "    <tr>\n",
       "      <th>...</th>\n",
       "      <td>...</td>\n",
       "      <td>...</td>\n",
       "      <td>...</td>\n",
       "      <td>...</td>\n",
       "      <td>...</td>\n",
       "      <td>...</td>\n",
       "      <td>...</td>\n",
       "      <td>...</td>\n",
       "      <td>...</td>\n",
       "      <td>...</td>\n",
       "      <td>...</td>\n",
       "      <td>...</td>\n",
       "      <td>...</td>\n",
       "      <td>...</td>\n",
       "      <td>...</td>\n",
       "      <td>...</td>\n",
       "      <td>...</td>\n",
       "      <td>...</td>\n",
       "      <td>...</td>\n",
       "      <td>...</td>\n",
       "      <td>...</td>\n",
       "    </tr>\n",
       "    <tr>\n",
       "      <th>8607</th>\n",
       "      <td>8609</td>\n",
       "      <td>Elina Khanam</td>\n",
       "      <td>17</td>\n",
       "      <td>Female</td>\n",
       "      <td>City</td>\n",
       "      <td>5</td>\n",
       "      <td>HSC</td>\n",
       "      <td>Non_Educated</td>\n",
       "      <td>No</td>\n",
       "      <td>No</td>\n",
       "      <td>...</td>\n",
       "      <td>No</td>\n",
       "      <td>Govt</td>\n",
       "      <td>78</td>\n",
       "      <td>Yes</td>\n",
       "      <td>81</td>\n",
       "      <td>83</td>\n",
       "      <td>80</td>\n",
       "      <td>84</td>\n",
       "      <td>91</td>\n",
       "      <td>Science</td>\n",
       "    </tr>\n",
       "    <tr>\n",
       "      <th>8608</th>\n",
       "      <td>8610</td>\n",
       "      <td>Sadiq Ghosh</td>\n",
       "      <td>16</td>\n",
       "      <td>Male</td>\n",
       "      <td>City</td>\n",
       "      <td>2</td>\n",
       "      <td>SSC</td>\n",
       "      <td>Under_SSC</td>\n",
       "      <td>No</td>\n",
       "      <td>Yes</td>\n",
       "      <td>...</td>\n",
       "      <td>No</td>\n",
       "      <td>Private</td>\n",
       "      <td>73</td>\n",
       "      <td>No</td>\n",
       "      <td>95</td>\n",
       "      <td>100</td>\n",
       "      <td>96</td>\n",
       "      <td>98</td>\n",
       "      <td>98</td>\n",
       "      <td>Science</td>\n",
       "    </tr>\n",
       "    <tr>\n",
       "      <th>8609</th>\n",
       "      <td>8611</td>\n",
       "      <td>Arman Amin</td>\n",
       "      <td>18</td>\n",
       "      <td>Male</td>\n",
       "      <td>City</td>\n",
       "      <td>3</td>\n",
       "      <td>Diploma</td>\n",
       "      <td>SSC</td>\n",
       "      <td>No</td>\n",
       "      <td>No</td>\n",
       "      <td>...</td>\n",
       "      <td>Yes</td>\n",
       "      <td>Private</td>\n",
       "      <td>51</td>\n",
       "      <td>No</td>\n",
       "      <td>45</td>\n",
       "      <td>59</td>\n",
       "      <td>41</td>\n",
       "      <td>51</td>\n",
       "      <td>69</td>\n",
       "      <td>Arts</td>\n",
       "    </tr>\n",
       "    <tr>\n",
       "      <th>8610</th>\n",
       "      <td>8612</td>\n",
       "      <td>Tawhidul Saif</td>\n",
       "      <td>15</td>\n",
       "      <td>Male</td>\n",
       "      <td>Urban</td>\n",
       "      <td>5</td>\n",
       "      <td>Honors</td>\n",
       "      <td>HSC</td>\n",
       "      <td>No</td>\n",
       "      <td>No</td>\n",
       "      <td>...</td>\n",
       "      <td>No</td>\n",
       "      <td>Private</td>\n",
       "      <td>66</td>\n",
       "      <td>Yes</td>\n",
       "      <td>59</td>\n",
       "      <td>65</td>\n",
       "      <td>60</td>\n",
       "      <td>68</td>\n",
       "      <td>69</td>\n",
       "      <td>Arts</td>\n",
       "    </tr>\n",
       "    <tr>\n",
       "      <th>8611</th>\n",
       "      <td>8613</td>\n",
       "      <td>Naimul Sen</td>\n",
       "      <td>18</td>\n",
       "      <td>Male</td>\n",
       "      <td>Urban</td>\n",
       "      <td>3</td>\n",
       "      <td>Diploma</td>\n",
       "      <td>Under_SSC</td>\n",
       "      <td>No</td>\n",
       "      <td>No</td>\n",
       "      <td>...</td>\n",
       "      <td>Yes</td>\n",
       "      <td>Semi_Govt</td>\n",
       "      <td>88</td>\n",
       "      <td>Yes</td>\n",
       "      <td>87</td>\n",
       "      <td>95</td>\n",
       "      <td>96</td>\n",
       "      <td>100</td>\n",
       "      <td>98</td>\n",
       "      <td>Science</td>\n",
       "    </tr>\n",
       "  </tbody>\n",
       "</table>\n",
       "<p>8612 rows × 24 columns</p>\n",
       "</div>"
      ],
      "text/plain": [
       "        id         full_name  age  gender location  family_size  \\\n",
       "0        2        Avi Biswas   16    Male    Urban            6   \n",
       "1        3   Taslima Sultana   18  Female    Rural            6   \n",
       "2        4  Md Adilur Rahman   15    Male    Rural            4   \n",
       "3        5       Saleh Ahmed   16    Male    Rural            6   \n",
       "4        6         Din Islam   17    Male    Urban            5   \n",
       "...    ...               ...  ...     ...      ...          ...   \n",
       "8607  8609      Elina Khanam   17  Female     City            5   \n",
       "8608  8610       Sadiq Ghosh   16    Male     City            2   \n",
       "8609  8611        Arman Amin   18    Male     City            3   \n",
       "8610  8612     Tawhidul Saif   15    Male    Urban            5   \n",
       "8611  8613        Naimul Sen   18    Male    Urban            3   \n",
       "\n",
       "     mother_education father_education mother_job father_job  ... tutoring  \\\n",
       "0                 SSC              HSC         No         No  ...      Yes   \n",
       "1                 SSC              HSC         No        Yes  ...       No   \n",
       "2                 SSC              SSC        Yes        Yes  ...      Yes   \n",
       "3                 SSC              SSC        Yes        Yes  ...      Yes   \n",
       "4              Honors          Masters         No        Yes  ...      Yes   \n",
       "...               ...              ...        ...        ...  ...      ...   \n",
       "8607              HSC     Non_Educated         No         No  ...       No   \n",
       "8608              SSC        Under_SSC         No        Yes  ...       No   \n",
       "8609          Diploma              SSC         No         No  ...      Yes   \n",
       "8610           Honors              HSC         No         No  ...       No   \n",
       "8611          Diploma        Under_SSC         No         No  ...      Yes   \n",
       "\n",
       "     school_type attendance  extra_curricular_activities english math  \\\n",
       "0        Private         95                          Yes      95   98   \n",
       "1      Semi_Govt         92                           No      65   71   \n",
       "2           Govt         81                          Yes      64   78   \n",
       "3        Private         90                          Yes      84   90   \n",
       "4      Semi_Govt         75                          Yes      54   70   \n",
       "...          ...        ...                          ...     ...  ...   \n",
       "8607        Govt         78                          Yes      81   83   \n",
       "8608     Private         73                           No      95  100   \n",
       "8609     Private         51                           No      45   59   \n",
       "8610     Private         66                          Yes      59   65   \n",
       "8611   Semi_Govt         88                          Yes      87   95   \n",
       "\n",
       "      science social_science  art_culture  stu_group  \n",
       "0          92             94           98    Science  \n",
       "1          40             78           80   Commerce  \n",
       "2          58             86           74   Commerce  \n",
       "3          85             86           88    Science  \n",
       "4          45             79           76   Commerce  \n",
       "...       ...            ...          ...        ...  \n",
       "8607       80             84           91    Science  \n",
       "8608       96             98           98    Science  \n",
       "8609       41             51           69       Arts  \n",
       "8610       60             68           69       Arts  \n",
       "8611       96            100           98    Science  \n",
       "\n",
       "[8612 rows x 24 columns]"
      ]
     },
     "execution_count": 7,
     "metadata": {},
     "output_type": "execute_result"
    }
   ],
   "source": [
    "df = pd.DataFrame(dataset)\n",
    "df"
   ]
  },
  {
   "cell_type": "code",
   "execution_count": 8,
   "id": "1e31d94c",
   "metadata": {
    "_cell_guid": "f0f153ab-2da0-4f08-b616-aef9c4ff38e0",
    "_uuid": "1062fa71-3116-4b0d-819b-bea11201a047",
    "collapsed": false,
    "execution": {
     "iopub.execute_input": "2025-01-14T18:20:45.074222Z",
     "iopub.status.busy": "2025-01-14T18:20:45.073714Z",
     "iopub.status.idle": "2025-01-14T18:20:45.094960Z",
     "shell.execute_reply": "2025-01-14T18:20:45.093546Z"
    },
    "jupyter": {
     "outputs_hidden": false
    },
    "papermill": {
     "duration": 0.03428,
     "end_time": "2025-01-14T18:20:45.097324",
     "exception": false,
     "start_time": "2025-01-14T18:20:45.063044",
     "status": "completed"
    },
    "tags": []
   },
   "outputs": [],
   "source": [
    "# Remove rows with missing values\n",
    "df_cleaned = dataset.dropna()"
   ]
  },
  {
   "cell_type": "code",
   "execution_count": 9,
   "id": "5559cf72",
   "metadata": {
    "_cell_guid": "acaa26a9-e06b-4c06-a9f3-ef4de0dbc16f",
    "_uuid": "866e031d-7fee-4712-8a9a-e46819a296cc",
    "collapsed": false,
    "execution": {
     "iopub.execute_input": "2025-01-14T18:20:45.118267Z",
     "iopub.status.busy": "2025-01-14T18:20:45.117786Z",
     "iopub.status.idle": "2025-01-14T18:20:45.137829Z",
     "shell.execute_reply": "2025-01-14T18:20:45.136506Z"
    },
    "jupyter": {
     "outputs_hidden": false
    },
    "papermill": {
     "duration": 0.032401,
     "end_time": "2025-01-14T18:20:45.139681",
     "exception": false,
     "start_time": "2025-01-14T18:20:45.107280",
     "status": "completed"
    },
    "tags": []
   },
   "outputs": [
    {
     "name": "stdout",
     "output_type": "stream",
     "text": [
      "\n",
      "Missing Values After Cleaning:\n",
      "id                             0\n",
      "full_name                      0\n",
      "age                            0\n",
      "gender                         0\n",
      "location                       0\n",
      "family_size                    0\n",
      "mother_education               0\n",
      "father_education               0\n",
      "mother_job                     0\n",
      "father_job                     0\n",
      "guardian                       0\n",
      "parental_involvement           0\n",
      "internet_access                0\n",
      "studytime                      0\n",
      "tutoring                       0\n",
      "school_type                    0\n",
      "attendance                     0\n",
      "extra_curricular_activities    0\n",
      "english                        0\n",
      "math                           0\n",
      "science                        0\n",
      "social_science                 0\n",
      "art_culture                    0\n",
      "stu_group                      0\n",
      "dtype: int64\n"
     ]
    }
   ],
   "source": [
    "# Verify no missing values remain\n",
    "print(\"\\nMissing Values After Cleaning:\")\n",
    "print(df_cleaned.isnull().sum())"
   ]
  },
  {
   "cell_type": "code",
   "execution_count": 10,
   "id": "d719e3ac",
   "metadata": {
    "_cell_guid": "194a6f41-d2b6-4fac-aba1-194a85188256",
    "_uuid": "9d1817dd-eb16-4275-b148-e04bedc407f0",
    "collapsed": false,
    "execution": {
     "iopub.execute_input": "2025-01-14T18:20:45.160613Z",
     "iopub.status.busy": "2025-01-14T18:20:45.160254Z",
     "iopub.status.idle": "2025-01-14T18:20:45.164480Z",
     "shell.execute_reply": "2025-01-14T18:20:45.163372Z"
    },
    "jupyter": {
     "outputs_hidden": false
    },
    "papermill": {
     "duration": 0.016882,
     "end_time": "2025-01-14T18:20:45.166454",
     "exception": false,
     "start_time": "2025-01-14T18:20:45.149572",
     "status": "completed"
    },
    "tags": []
   },
   "outputs": [],
   "source": [
    "df = df_cleaned"
   ]
  },
  {
   "cell_type": "code",
   "execution_count": 11,
   "id": "3f974331",
   "metadata": {
    "_cell_guid": "4004f19b-99fd-4431-b06a-373e106cd805",
    "_uuid": "fe521e1e-8b7b-4702-a91d-de5748833f2f",
    "collapsed": false,
    "execution": {
     "iopub.execute_input": "2025-01-14T18:20:45.187896Z",
     "iopub.status.busy": "2025-01-14T18:20:45.187424Z",
     "iopub.status.idle": "2025-01-14T18:20:45.192226Z",
     "shell.execute_reply": "2025-01-14T18:20:45.191099Z"
    },
    "jupyter": {
     "outputs_hidden": false
    },
    "papermill": {
     "duration": 0.0171,
     "end_time": "2025-01-14T18:20:45.194018",
     "exception": false,
     "start_time": "2025-01-14T18:20:45.176918",
     "status": "completed"
    },
    "tags": []
   },
   "outputs": [],
   "source": [
    "categorical_columns = ['gender', 'stu_group']"
   ]
  },
  {
   "cell_type": "code",
   "execution_count": 12,
   "id": "6f7dea5a",
   "metadata": {
    "_cell_guid": "6c98664c-858d-449d-8fa5-c4580d80a17e",
    "_uuid": "f06f7cfc-3949-466b-b085-e0f6d7d8d70f",
    "collapsed": false,
    "execution": {
     "iopub.execute_input": "2025-01-14T18:20:45.214923Z",
     "iopub.status.busy": "2025-01-14T18:20:45.214556Z",
     "iopub.status.idle": "2025-01-14T18:20:45.233497Z",
     "shell.execute_reply": "2025-01-14T18:20:45.232453Z"
    },
    "jupyter": {
     "outputs_hidden": false
    },
    "papermill": {
     "duration": 0.031362,
     "end_time": "2025-01-14T18:20:45.235437",
     "exception": false,
     "start_time": "2025-01-14T18:20:45.204075",
     "status": "completed"
    },
    "tags": []
   },
   "outputs": [],
   "source": [
    "# One-Hot Encode categorical columns\n",
    "df_pandas_encoded = pd.get_dummies(df, columns=categorical_columns, drop_first=True)"
   ]
  },
  {
   "cell_type": "code",
   "execution_count": 13,
   "id": "96ed1f6e",
   "metadata": {
    "_cell_guid": "b93885dd-d9ec-46e1-b334-f698fd2e314e",
    "_uuid": "3e530493-0069-4fe6-b6d4-59eaf9c4c4c1",
    "collapsed": false,
    "execution": {
     "iopub.execute_input": "2025-01-14T18:20:45.256281Z",
     "iopub.status.busy": "2025-01-14T18:20:45.255766Z",
     "iopub.status.idle": "2025-01-14T18:20:45.272849Z",
     "shell.execute_reply": "2025-01-14T18:20:45.271394Z"
    },
    "jupyter": {
     "outputs_hidden": false
    },
    "papermill": {
     "duration": 0.029565,
     "end_time": "2025-01-14T18:20:45.274752",
     "exception": false,
     "start_time": "2025-01-14T18:20:45.245187",
     "status": "completed"
    },
    "tags": []
   },
   "outputs": [
    {
     "name": "stdout",
     "output_type": "stream",
     "text": [
      "\n",
      "Encoded Dataset Preview:\n",
      "   id         full_name  age location  family_size mother_education  \\\n",
      "0   2        Avi Biswas   16    Urban            6              SSC   \n",
      "1   3   Taslima Sultana   18    Rural            6              SSC   \n",
      "2   4  Md Adilur Rahman   15    Rural            4              SSC   \n",
      "3   5       Saleh Ahmed   16    Rural            6              SSC   \n",
      "4   6         Din Islam   17    Urban            5           Honors   \n",
      "\n",
      "  father_education mother_job father_job guardian  ... attendance  \\\n",
      "0              HSC         No         No   Father  ...         95   \n",
      "1              HSC         No        Yes   Father  ...         92   \n",
      "2              SSC        Yes        Yes   Father  ...         81   \n",
      "3              SSC        Yes        Yes   Father  ...         90   \n",
      "4          Masters         No        Yes   Father  ...         75   \n",
      "\n",
      "  extra_curricular_activities  english math science  social_science  \\\n",
      "0                         Yes       95   98      92              94   \n",
      "1                          No       65   71      40              78   \n",
      "2                         Yes       64   78      58              86   \n",
      "3                         Yes       84   90      85              86   \n",
      "4                         Yes       54   70      45              79   \n",
      "\n",
      "  art_culture  gender_Male  stu_group_Commerce  stu_group_Science  \n",
      "0          98         True               False               True  \n",
      "1          80        False                True              False  \n",
      "2          74         True                True              False  \n",
      "3          88         True               False               True  \n",
      "4          76         True                True              False  \n",
      "\n",
      "[5 rows x 25 columns]\n"
     ]
    }
   ],
   "source": [
    "print(\"\\nEncoded Dataset Preview:\")\n",
    "print(df_pandas_encoded.head())"
   ]
  },
  {
   "cell_type": "code",
   "execution_count": 14,
   "id": "e69476ab",
   "metadata": {
    "_cell_guid": "0c48bfe6-c287-43a2-a58a-5a7f2e750f75",
    "_uuid": "b4369982-9f50-4be6-bd64-280d61482d66",
    "collapsed": false,
    "execution": {
     "iopub.execute_input": "2025-01-14T18:20:45.296058Z",
     "iopub.status.busy": "2025-01-14T18:20:45.295543Z",
     "iopub.status.idle": "2025-01-14T18:20:45.347012Z",
     "shell.execute_reply": "2025-01-14T18:20:45.345841Z"
    },
    "jupyter": {
     "outputs_hidden": false
    },
    "papermill": {
     "duration": 0.064323,
     "end_time": "2025-01-14T18:20:45.349033",
     "exception": false,
     "start_time": "2025-01-14T18:20:45.284710",
     "status": "completed"
    },
    "tags": []
   },
   "outputs": [],
   "source": [
    "# Apply Label Encoding to any remaining categorical or boolean columns\n",
    "encoder = LabelEncoder()\n",
    "df_encoded = df_pandas_encoded.apply(\n",
    "    lambda col: encoder.fit_transform(col) if (col.dtype == 'object' or col.dtype == 'bool') else col\n",
    ")"
   ]
  },
  {
   "cell_type": "code",
   "execution_count": 15,
   "id": "5097fb1f",
   "metadata": {
    "_cell_guid": "3f8b5db8-d8ea-40c7-be05-30b9efa8a330",
    "_uuid": "c06be7cf-6bde-4390-933f-db1efdc4866e",
    "collapsed": false,
    "execution": {
     "iopub.execute_input": "2025-01-14T18:20:45.370324Z",
     "iopub.status.busy": "2025-01-14T18:20:45.369803Z",
     "iopub.status.idle": "2025-01-14T18:20:45.384255Z",
     "shell.execute_reply": "2025-01-14T18:20:45.383004Z"
    },
    "jupyter": {
     "outputs_hidden": false
    },
    "papermill": {
     "duration": 0.027354,
     "end_time": "2025-01-14T18:20:45.386409",
     "exception": false,
     "start_time": "2025-01-14T18:20:45.359055",
     "status": "completed"
    },
    "tags": []
   },
   "outputs": [
    {
     "name": "stdout",
     "output_type": "stream",
     "text": [
      "\n",
      "Fully Encoded Dataset Preview:\n",
      "   id  full_name  age  location  family_size  mother_education  \\\n",
      "0   2        602   16         2            6                 6   \n",
      "1   3       6366   18         1            6                 6   \n",
      "2   4       3563   15         1            4                 6   \n",
      "3   5       5433   16         1            6                 6   \n",
      "4   6       1142   17         2            5                 2   \n",
      "\n",
      "   father_education  mother_job  father_job  guardian  ...  attendance  \\\n",
      "0                 1           0           0         0  ...          95   \n",
      "1                 1           0           1         0  ...          92   \n",
      "2                 6           1           1         0  ...          81   \n",
      "3                 6           1           1         0  ...          90   \n",
      "4                 4           0           1         0  ...          75   \n",
      "\n",
      "   extra_curricular_activities  english  math  science  social_science  \\\n",
      "0                            1       95    98       92              94   \n",
      "1                            0       65    71       40              78   \n",
      "2                            1       64    78       58              86   \n",
      "3                            1       84    90       85              86   \n",
      "4                            1       54    70       45              79   \n",
      "\n",
      "   art_culture  gender_Male  stu_group_Commerce  stu_group_Science  \n",
      "0           98            1                   0                  1  \n",
      "1           80            0                   1                  0  \n",
      "2           74            1                   1                  0  \n",
      "3           88            1                   0                  1  \n",
      "4           76            1                   1                  0  \n",
      "\n",
      "[5 rows x 25 columns]\n"
     ]
    }
   ],
   "source": [
    "# Verify the encoded dataset\n",
    "print(\"\\nFully Encoded Dataset Preview:\")\n",
    "print(df_encoded.head())"
   ]
  },
  {
   "cell_type": "code",
   "execution_count": 16,
   "id": "330eea42",
   "metadata": {
    "_cell_guid": "f256ae8a-abaf-445d-8402-928bdf3d2a27",
    "_uuid": "58076e19-73d2-4e94-9d8b-596760280276",
    "collapsed": false,
    "execution": {
     "iopub.execute_input": "2025-01-14T18:20:45.407544Z",
     "iopub.status.busy": "2025-01-14T18:20:45.407067Z",
     "iopub.status.idle": "2025-01-14T18:20:45.413366Z",
     "shell.execute_reply": "2025-01-14T18:20:45.411870Z"
    },
    "jupyter": {
     "outputs_hidden": false
    },
    "papermill": {
     "duration": 0.018901,
     "end_time": "2025-01-14T18:20:45.415311",
     "exception": false,
     "start_time": "2025-01-14T18:20:45.396410",
     "status": "completed"
    },
    "tags": []
   },
   "outputs": [
    {
     "name": "stdout",
     "output_type": "stream",
     "text": [
      "\n",
      "Data Type of 'gender_Male': bool\n"
     ]
    }
   ],
   "source": [
    "df_encoded# Display the data types of a sample column to confirm encoding\n",
    "print(\"\\nData Type of 'gender_Male':\", df_pandas_encoded['gender_Male'].dtype)"
   ]
  },
  {
   "cell_type": "code",
   "execution_count": 17,
   "id": "386dd9af",
   "metadata": {
    "_cell_guid": "9165a86e-434b-46dd-9f6e-f55d32ff9681",
    "_uuid": "e8726be2-3fe0-4ffe-b1ca-07c119df0f71",
    "collapsed": false,
    "execution": {
     "iopub.execute_input": "2025-01-14T18:20:45.437208Z",
     "iopub.status.busy": "2025-01-14T18:20:45.436817Z",
     "iopub.status.idle": "2025-01-14T18:20:45.441609Z",
     "shell.execute_reply": "2025-01-14T18:20:45.440304Z"
    },
    "jupyter": {
     "outputs_hidden": false
    },
    "papermill": {
     "duration": 0.017587,
     "end_time": "2025-01-14T18:20:45.443466",
     "exception": false,
     "start_time": "2025-01-14T18:20:45.425879",
     "status": "completed"
    },
    "tags": []
   },
   "outputs": [],
   "source": [
    "# Select features for clustering\n",
    "# 'parental_involvement' badd delm\n",
    "features_for_clustering = [\n",
    "    'location','father_job','internet_access','mother_job','studytime','extra_curricular_activities', 'tutoring', 'attendance', \n",
    "    'english', 'math', 'science', \n",
    "    'social_science', 'art_culture' \n",
    "]"
   ]
  },
  {
   "cell_type": "code",
   "execution_count": 18,
   "id": "4a914ccf",
   "metadata": {
    "_cell_guid": "d7192ca3-5b61-4174-adae-5a817dc31f5a",
    "_uuid": "5b915fb1-f0a6-46fe-9a26-cbd2d3dd7729",
    "collapsed": false,
    "execution": {
     "iopub.execute_input": "2025-01-14T18:20:45.465849Z",
     "iopub.status.busy": "2025-01-14T18:20:45.465389Z",
     "iopub.status.idle": "2025-01-14T18:20:45.471470Z",
     "shell.execute_reply": "2025-01-14T18:20:45.470394Z"
    },
    "jupyter": {
     "outputs_hidden": false
    },
    "papermill": {
     "duration": 0.019263,
     "end_time": "2025-01-14T18:20:45.473576",
     "exception": false,
     "start_time": "2025-01-14T18:20:45.454313",
     "status": "completed"
    },
    "tags": []
   },
   "outputs": [],
   "source": [
    "X = df_encoded[features_for_clustering]"
   ]
  },
  {
   "cell_type": "code",
   "execution_count": 19,
   "id": "98b3fb69",
   "metadata": {
    "_cell_guid": "5ddd1beb-c1aa-42e4-a130-aa6cef41e627",
    "_uuid": "00322672-d5d1-46c9-8e52-241384167225",
    "collapsed": false,
    "execution": {
     "iopub.execute_input": "2025-01-14T18:20:45.499800Z",
     "iopub.status.busy": "2025-01-14T18:20:45.499323Z",
     "iopub.status.idle": "2025-01-14T18:20:45.513749Z",
     "shell.execute_reply": "2025-01-14T18:20:45.512598Z"
    },
    "jupyter": {
     "outputs_hidden": false
    },
    "papermill": {
     "duration": 0.027769,
     "end_time": "2025-01-14T18:20:45.515950",
     "exception": false,
     "start_time": "2025-01-14T18:20:45.488181",
     "status": "completed"
    },
    "tags": []
   },
   "outputs": [],
   "source": [
    "# Standardize the features\n",
    "scaler = StandardScaler()\n",
    "X_scaled = scaler.fit_transform(X)"
   ]
  },
  {
   "cell_type": "code",
   "execution_count": 20,
   "id": "2f9a4221",
   "metadata": {
    "_cell_guid": "428925e7-4a72-4918-96a7-169e47a6dc70",
    "_uuid": "734077d8-d0c4-4a77-ab5f-fe84399dd70d",
    "collapsed": false,
    "execution": {
     "iopub.execute_input": "2025-01-14T18:20:45.538792Z",
     "iopub.status.busy": "2025-01-14T18:20:45.538330Z",
     "iopub.status.idle": "2025-01-14T18:20:48.011501Z",
     "shell.execute_reply": "2025-01-14T18:20:48.010188Z"
    },
    "jupyter": {
     "outputs_hidden": false
    },
    "papermill": {
     "duration": 2.487711,
     "end_time": "2025-01-14T18:20:48.014318",
     "exception": false,
     "start_time": "2025-01-14T18:20:45.526607",
     "status": "completed"
    },
    "tags": []
   },
   "outputs": [
    {
     "name": "stderr",
     "output_type": "stream",
     "text": [
      "/usr/local/lib/python3.10/dist-packages/sklearn_extra/cluster/_k_medoids.py:329: UserWarning: Cluster 2 is empty! self.labels_[self.medoid_indices_[2]] may not be labeled with its corresponding cluster (2).\n",
      "  warnings.warn(\n"
     ]
    }
   ],
   "source": [
    "# Apply K-Medoids clustering with 3 clusters\n",
    "kmedoids = KMedoids(n_clusters=3, random_state=42)\n",
    "df_encoded['cluster'] = kmedoids.fit_predict(X_scaled)"
   ]
  },
  {
   "cell_type": "code",
   "execution_count": 21,
   "id": "4e35e297",
   "metadata": {
    "_cell_guid": "386ebc72-d52f-4dde-998d-34cc9a135e26",
    "_uuid": "20daccb8-1c43-4808-947c-9cce32bbc970",
    "collapsed": false,
    "execution": {
     "iopub.execute_input": "2025-01-14T18:20:48.054080Z",
     "iopub.status.busy": "2025-01-14T18:20:48.053547Z",
     "iopub.status.idle": "2025-01-14T18:20:48.089112Z",
     "shell.execute_reply": "2025-01-14T18:20:48.087799Z"
    },
    "jupyter": {
     "outputs_hidden": false
    },
    "papermill": {
     "duration": 0.058432,
     "end_time": "2025-01-14T18:20:48.091868",
     "exception": false,
     "start_time": "2025-01-14T18:20:48.033436",
     "status": "completed"
    },
    "tags": []
   },
   "outputs": [
    {
     "name": "stdout",
     "output_type": "stream",
     "text": [
      "                  id    full_name        age  location  family_size  \\\n",
      "cluster                                                               \n",
      "0        4318.317472  3541.227752  16.593898  1.132946     4.521976   \n",
      "1        4359.064023  3540.093489  16.596217  1.008730     4.466715   \n",
      "2        4254.262189  3572.711334  16.647078  1.012270     4.511140   \n",
      "\n",
      "         mother_education  father_education  mother_job  father_job  guardian  \\\n",
      "cluster                                                                         \n",
      "0                3.521976          3.478024    0.696695    0.534326  0.969851   \n",
      "1                3.529647          3.508185    0.476537    0.553292  0.970171   \n",
      "2                3.494672          3.403939    0.289312    0.587988  0.899903   \n",
      "\n",
      "         ...  attendance  extra_curricular_activities    english       math  \\\n",
      "cluster  ...                                                                  \n",
      "0        ...   85.268071                     0.531057  87.507810  87.380312   \n",
      "1        ...   66.588578                     0.516188  55.707894  54.827210   \n",
      "2        ...   70.618663                     0.548273  77.170488  76.197933   \n",
      "\n",
      "           science  social_science  art_culture  gender_Male  \\\n",
      "cluster                                                        \n",
      "0        87.258627       87.551398    88.140937     0.521250   \n",
      "1        55.962168       57.483812    61.875591     0.511095   \n",
      "2        76.935098       77.943494    78.440749     0.482079   \n",
      "\n",
      "         stu_group_Commerce  stu_group_Science  \n",
      "cluster                                         \n",
      "0                  0.167090           0.831820  \n",
      "1                  0.033467           0.002183  \n",
      "2                  0.752018           0.218599  \n",
      "\n",
      "[3 rows x 25 columns]\n"
     ]
    }
   ],
   "source": [
    "# Analyze and interpret the clusters (add your code here to understand the characteristics of each cluster)\n",
    "# For example, you can calculate the mean of each feature within each cluster:\n",
    "\n",
    "cluster_means = df_encoded.groupby('cluster').mean()\n",
    "print(cluster_means)"
   ]
  },
  {
   "cell_type": "code",
   "execution_count": 22,
   "id": "e97885b8",
   "metadata": {
    "_cell_guid": "36974b03-88a1-402c-8c7b-6b56187e1dc6",
    "_uuid": "092738f1-b112-4591-aca8-b6b68c4a5e31",
    "collapsed": false,
    "execution": {
     "iopub.execute_input": "2025-01-14T18:20:48.129121Z",
     "iopub.status.busy": "2025-01-14T18:20:48.128712Z",
     "iopub.status.idle": "2025-01-14T18:20:48.132061Z",
     "shell.execute_reply": "2025-01-14T18:20:48.131254Z"
    },
    "jupyter": {
     "outputs_hidden": false
    },
    "papermill": {
     "duration": 0.022574,
     "end_time": "2025-01-14T18:20:48.133441",
     "exception": false,
     "start_time": "2025-01-14T18:20:48.110867",
     "status": "completed"
    },
    "tags": []
   },
   "outputs": [],
   "source": [
    "# # Visualize the clusters (optional - choose appropriate features for visualization)\n",
    "# plt.scatter(df_encoded['math'], df_encoded['english'], c=df_encoded['cluster'])\n",
    "# plt.xlabel('Math Score')\n",
    "# plt.ylabel('English Score')\n",
    "# plt.title('Student Clusters')\n",
    "# plt.show()"
   ]
  },
  {
   "cell_type": "code",
   "execution_count": 23,
   "id": "b3ebf91c",
   "metadata": {
    "_cell_guid": "520735d3-b14c-4d5e-9402-1047be6d4341",
    "_uuid": "15933edb-6caf-4dfe-a45b-96e5b766a5b2",
    "collapsed": false,
    "execution": {
     "iopub.execute_input": "2025-01-14T18:20:48.154877Z",
     "iopub.status.busy": "2025-01-14T18:20:48.154510Z",
     "iopub.status.idle": "2025-01-14T18:20:48.188877Z",
     "shell.execute_reply": "2025-01-14T18:20:48.187721Z"
    },
    "jupyter": {
     "outputs_hidden": false
    },
    "papermill": {
     "duration": 0.048241,
     "end_time": "2025-01-14T18:20:48.191892",
     "exception": false,
     "start_time": "2025-01-14T18:20:48.143651",
     "status": "completed"
    },
    "tags": []
   },
   "outputs": [],
   "source": [
    "def remove_outliers_after_clustering(df, kmedoids, threshold=1.5):\n",
    "    \"\"\"\n",
    "    Removes outliers from a DataFrame after clustering based on distance to cluster centers.\n",
    "\n",
    "    Args:\n",
    "        df (pd.DataFrame): DataFrame with cluster assignments.\n",
    "        kmedoids (KMedoids): Fitted KMedoids object.\n",
    "        threshold (float): Standard deviation threshold for outlier detection.\n",
    "\n",
    "    Returns:\n",
    "        pd.DataFrame: DataFrame with outliers removed.\n",
    "    \"\"\"\n",
    "\n",
    "    df['distance_to_center'] = np.min(kmedoids.transform(df[features_for_clustering]), axis=1)\n",
    "    \n",
    "    # Calculate mean and standard deviation of distances for each cluster\n",
    "    cluster_stats = df.groupby('cluster')['distance_to_center'].agg(['mean', 'std'])\n",
    "\n",
    "    # Identify outliers based on threshold\n",
    "    df['outlier'] = False\n",
    "    for cluster_id in range(kmedoids.n_clusters):\n",
    "        mean_dist = cluster_stats.loc[cluster_id, 'mean']\n",
    "        std_dist = cluster_stats.loc[cluster_id, 'std']\n",
    "        df.loc[df['cluster'] == cluster_id, 'outlier'] = df.loc[df['cluster'] == cluster_id, 'distance_to_center'] > mean_dist + threshold * std_dist\n",
    "\n",
    "    # Remove outliers\n",
    "    df_filtered = df[df['outlier'] == False].copy()\n",
    "    df_filtered.drop(['distance_to_center', 'outlier'], axis=1, inplace=True)\n",
    "    return df_filtered\n",
    "\n",
    "df_filtered = remove_outliers_after_clustering(df_encoded.copy(), kmedoids)"
   ]
  },
  {
   "cell_type": "code",
   "execution_count": 24,
   "id": "6b6c34ba",
   "metadata": {
    "_cell_guid": "c70408ee-d794-46e3-965a-f06e50a2d116",
    "_uuid": "2f5e9c73-2a90-4bae-8bc7-9fd578a4cf63",
    "collapsed": false,
    "execution": {
     "iopub.execute_input": "2025-01-14T18:20:48.232164Z",
     "iopub.status.busy": "2025-01-14T18:20:48.231586Z",
     "iopub.status.idle": "2025-01-14T18:20:48.238801Z",
     "shell.execute_reply": "2025-01-14T18:20:48.237733Z"
    },
    "jupyter": {
     "outputs_hidden": false
    },
    "papermill": {
     "duration": 0.030298,
     "end_time": "2025-01-14T18:20:48.241587",
     "exception": false,
     "start_time": "2025-01-14T18:20:48.211289",
     "status": "completed"
    },
    "tags": []
   },
   "outputs": [],
   "source": [
    "# Assign labels to clusters based on your analysis\n",
    "cluster_labels = {\n",
    "    0: 'Excellent', \n",
    "    1: 'Moderate', \n",
    "    2: 'At-Risk'  \n",
    "}"
   ]
  },
  {
   "cell_type": "code",
   "execution_count": 25,
   "id": "2663b43c",
   "metadata": {
    "_cell_guid": "87b2249c-c53c-4148-bc4e-af060507c12a",
    "_uuid": "2ae5375f-f8d7-4878-84ba-d0b0ae787109",
    "execution": {
     "iopub.execute_input": "2025-01-14T18:20:48.280967Z",
     "iopub.status.busy": "2025-01-14T18:20:48.280470Z",
     "iopub.status.idle": "2025-01-14T18:20:48.287567Z",
     "shell.execute_reply": "2025-01-14T18:20:48.286447Z"
    },
    "jupyter": {
     "source_hidden": true
    },
    "papermill": {
     "duration": 0.029081,
     "end_time": "2025-01-14T18:20:48.289462",
     "exception": false,
     "start_time": "2025-01-14T18:20:48.260381",
     "status": "completed"
    },
    "tags": []
   },
   "outputs": [],
   "source": [
    "# pca = PCA(n_components=2)  # Reduce to 2 dimensions\n",
    "# X_pca = pca.fit_transform(X_scaled)\n",
    "\n",
    "# plt.scatter(X_pca[:, 0], X_pca[:, 1], c=df_encoded['cluster'])\n",
    "# plt.xlabel('Principal Component 1')\n",
    "# plt.ylabel('Principal Component 2')\n",
    "# plt.title('Clusters visualized with PCA')\n",
    "# plt.show()\n",
    "\n",
    "# X_filtered = df_filtered[features_for_clustering]\n",
    "\n",
    "# # Standardize the features of the filtered DataFrame\n",
    "# X_scaled_filtered = scaler.fit_transform(X_filtered)\n",
    "\n",
    "# pca = PCA(n_components=2)\n",
    "# X_pca = pca.fit_transform(X_scaled_filtered)\n",
    "# plt.scatter(X_pca[:, 0], X_pca[:, 1], c=df_filtered['cluster'])  # Use df_filtered['cluster'] for colors\n",
    "# plt.xlabel('Principal Component 1')\n",
    "# plt.ylabel('Principal Component 2')\n",
    "# plt.title('Clusters visualized with PCA (after outlier removal)')\n",
    "# plt.show()"
   ]
  },
  {
   "cell_type": "code",
   "execution_count": 26,
   "id": "347975de",
   "metadata": {
    "_cell_guid": "302cd0a5-3c23-4195-b91e-e6e2364db94f",
    "_uuid": "1634509f-396d-4896-96d0-f4837055344a",
    "execution": {
     "iopub.execute_input": "2025-01-14T18:20:48.310686Z",
     "iopub.status.busy": "2025-01-14T18:20:48.310362Z",
     "iopub.status.idle": "2025-01-14T18:20:48.314420Z",
     "shell.execute_reply": "2025-01-14T18:20:48.313262Z"
    },
    "jupyter": {
     "source_hidden": true
    },
    "papermill": {
     "duration": 0.017075,
     "end_time": "2025-01-14T18:20:48.316521",
     "exception": false,
     "start_time": "2025-01-14T18:20:48.299446",
     "status": "completed"
    },
    "tags": []
   },
   "outputs": [],
   "source": [
    "# tsne = TSNE(n_components=2, random_state=42)\n",
    "# X_tsne = tsne.fit_transform(X_scaled)\n",
    "\n",
    "# plt.scatter(X_tsne[:, 0], X_tsne[:, 1], c=df_encoded['cluster'])\n",
    "# plt.xlabel('t-SNE Dimension 1')\n",
    "# plt.ylabel('t-SNE Dimension 2')\n",
    "# plt.title('Clusters visualized with t-SNE')\n",
    "# plt.show()\n",
    "\n",
    "# tsne = TSNE(n_components=2, random_state=42)\n",
    "# X_tsne = tsne.fit_transform(X_scaled_filtered)\n",
    "\n",
    "# plt.scatter(X_tsne[:, 0], X_tsne[:, 1], c=df_filtered['cluster'])\n",
    "# plt.xlabel('t-SNE Dimension 1')\n",
    "# plt.ylabel('t-SNE Dimension 2')\n",
    "# plt.title('Clusters visualized with t-SNE After outlier Removal')\n",
    "# plt.show()"
   ]
  },
  {
   "cell_type": "code",
   "execution_count": 27,
   "id": "1f9068ed",
   "metadata": {
    "_cell_guid": "5fd1323e-6fe3-4ab2-a1a5-5a009a0e7ec3",
    "_uuid": "d6b44944-f083-491c-967e-6c0abc35c225",
    "execution": {
     "iopub.execute_input": "2025-01-14T18:20:48.337879Z",
     "iopub.status.busy": "2025-01-14T18:20:48.337488Z",
     "iopub.status.idle": "2025-01-14T18:20:48.341571Z",
     "shell.execute_reply": "2025-01-14T18:20:48.340497Z"
    },
    "jupyter": {
     "source_hidden": true
    },
    "papermill": {
     "duration": 0.016719,
     "end_time": "2025-01-14T18:20:48.343330",
     "exception": false,
     "start_time": "2025-01-14T18:20:48.326611",
     "status": "completed"
    },
    "tags": []
   },
   "outputs": [],
   "source": [
    "# from sklearn.metrics import silhouette_score\n",
    "\n",
    "# silhouette_avg = silhouette_score(X_scaled_filtered, df_filtered['cluster']) \n",
    "# print(f\"Silhouette Score: {silhouette_avg}\")\n",
    "\n",
    "# inertia = kmedoids.inertia_\n",
    "# print(f\"Inertia: {inertia}\")\n",
    "\n",
    "# from sklearn.metrics import davies_bouldin_score\n",
    "\n",
    "# db_index = davies_bouldin_score(X_scaled_filtered, df_filtered['cluster'])\n",
    "# print(f\"Davies-Bouldin Index: {db_index}\")\n",
    "\n",
    "# from sklearn.metrics import calinski_harabasz_score\n",
    "\n",
    "# ch_index = calinski_harabasz_score(X_scaled_filtered, df_filtered['cluster'])\n",
    "# print(f\"Calinski-Harabasz Index: {ch_index}\")"
   ]
  },
  {
   "cell_type": "code",
   "execution_count": 28,
   "id": "15f0e993",
   "metadata": {
    "_cell_guid": "559c5828-c4e6-4997-9d89-4b917a54af54",
    "_uuid": "cf57ce6a-da83-4459-bb24-3268615c27fa",
    "execution": {
     "iopub.execute_input": "2025-01-14T18:20:48.365068Z",
     "iopub.status.busy": "2025-01-14T18:20:48.364635Z",
     "iopub.status.idle": "2025-01-14T18:20:48.372335Z",
     "shell.execute_reply": "2025-01-14T18:20:48.370837Z"
    },
    "jupyter": {
     "source_hidden": true
    },
    "papermill": {
     "duration": 0.020409,
     "end_time": "2025-01-14T18:20:48.374068",
     "exception": false,
     "start_time": "2025-01-14T18:20:48.353659",
     "status": "completed"
    },
    "tags": []
   },
   "outputs": [
    {
     "name": "stdout",
     "output_type": "stream",
     "text": [
      "Points in each cluster: Counter({2: 3097, 0: 2753, 1: 2749})\n"
     ]
    }
   ],
   "source": [
    "# Cluster assignments\n",
    "labels = kmedoids.labels_\n",
    "\n",
    "# Count points in each cluster\n",
    "from collections import Counter\n",
    "point_counts = Counter(labels)\n",
    "print(\"Points in each cluster:\", point_counts)"
   ]
  },
  {
   "cell_type": "code",
   "execution_count": 29,
   "id": "06eecc95",
   "metadata": {
    "_cell_guid": "d2ba9f86-efb1-4a4d-8f56-5a493ba6bcfb",
    "_uuid": "3cedbb11-8fa2-4343-8ca7-e8f19ac361a1",
    "collapsed": false,
    "execution": {
     "iopub.execute_input": "2025-01-14T18:20:48.395789Z",
     "iopub.status.busy": "2025-01-14T18:20:48.395383Z",
     "iopub.status.idle": "2025-01-14T18:20:48.408543Z",
     "shell.execute_reply": "2025-01-14T18:20:48.407253Z"
    },
    "jupyter": {
     "outputs_hidden": false
    },
    "papermill": {
     "duration": 0.026331,
     "end_time": "2025-01-14T18:20:48.410576",
     "exception": false,
     "start_time": "2025-01-14T18:20:48.384245",
     "status": "completed"
    },
    "tags": []
   },
   "outputs": [],
   "source": [
    "from sklearn.metrics import precision_score, recall_score, f1_score, confusion_matrix, classification_report\n",
    "df_encoded['cluster_label'] = df_encoded['cluster'].map(cluster_labels)\n",
    "X_classification = df_encoded[features_for_clustering]\n",
    "y_classification = df_encoded['cluster']\n",
    "\n",
    "X_train, X_test, y_train, y_test = train_test_split(X_classification, y_classification, test_size=0.3, random_state=42)"
   ]
  },
  {
   "cell_type": "code",
   "execution_count": 30,
   "id": "474b93ae",
   "metadata": {
    "execution": {
     "iopub.execute_input": "2025-01-14T18:20:48.433607Z",
     "iopub.status.busy": "2025-01-14T18:20:48.433270Z",
     "iopub.status.idle": "2025-01-14T18:20:48.463134Z",
     "shell.execute_reply": "2025-01-14T18:20:48.461888Z"
    },
    "papermill": {
     "duration": 0.043395,
     "end_time": "2025-01-14T18:20:48.465140",
     "exception": false,
     "start_time": "2025-01-14T18:20:48.421745",
     "status": "completed"
    },
    "tags": []
   },
   "outputs": [],
   "source": [
    "from sklearn.tree import DecisionTreeClassifier\n",
    "\n",
    "# Train a Decision Tree classifier\n",
    "dt_classifier = DecisionTreeClassifier(random_state=42)\n",
    "dt_classifier.fit(X_train, y_train)\n",
    "\n",
    "# Make predictions\n",
    "y_pred = dt_classifier.predict(X_test)\n"
   ]
  },
  {
   "cell_type": "code",
   "execution_count": 31,
   "id": "59dc66d1",
   "metadata": {
    "_cell_guid": "291dcba9-d510-4c2c-8d26-b3699884998f",
    "_uuid": "babdeb2e-1f72-4ef2-adc8-d9ba34ad867e",
    "collapsed": false,
    "execution": {
     "iopub.execute_input": "2025-01-14T18:20:48.487338Z",
     "iopub.status.busy": "2025-01-14T18:20:48.486897Z",
     "iopub.status.idle": "2025-01-14T18:20:48.518464Z",
     "shell.execute_reply": "2025-01-14T18:20:48.517256Z"
    },
    "jupyter": {
     "outputs_hidden": false
    },
    "papermill": {
     "duration": 0.045064,
     "end_time": "2025-01-14T18:20:48.520445",
     "exception": false,
     "start_time": "2025-01-14T18:20:48.475381",
     "status": "completed"
    },
    "tags": []
   },
   "outputs": [
    {
     "name": "stdout",
     "output_type": "stream",
     "text": [
      "Accuracy: 0.95\n",
      "Precision: 0.95\n",
      "Recall: 0.95\n",
      "F1 Score: 0.95\n",
      "Confusion Matrix:\n",
      "[[750   1  55]\n",
      " [  0 828   5]\n",
      " [ 46  16 879]]\n",
      "Classification Report:\n",
      "              precision    recall  f1-score   support\n",
      "\n",
      "           0       0.94      0.93      0.94       806\n",
      "           1       0.98      0.99      0.99       833\n",
      "           2       0.94      0.93      0.94       941\n",
      "\n",
      "    accuracy                           0.95      2580\n",
      "   macro avg       0.95      0.95      0.95      2580\n",
      "weighted avg       0.95      0.95      0.95      2580\n",
      "\n"
     ]
    }
   ],
   "source": [
    "\n",
    "\n",
    "# Evaluate the classifier\n",
    "accuracy = accuracy_score(y_test, y_pred)\n",
    "precision = precision_score(y_test, y_pred, average='weighted')\n",
    "recall = recall_score(y_test, y_pred, average='weighted')\n",
    "f1 = f1_score(y_test, y_pred, average='weighted')\n",
    "conf_matrix = confusion_matrix(y_test, y_pred)\n",
    "class_report = classification_report(y_test, y_pred)\n",
    "\n",
    "# Print evaluation metrics\n",
    "print(f\"Accuracy: {accuracy:.2f}\")\n",
    "print(f\"Precision: {precision:.2f}\")\n",
    "print(f\"Recall: {recall:.2f}\")\n",
    "print(f\"F1 Score: {f1:.2f}\")\n",
    "print(\"Confusion Matrix:\")\n",
    "print(conf_matrix)\n",
    "print(\"Classification Report:\")\n",
    "print(class_report)"
   ]
  },
  {
   "cell_type": "code",
   "execution_count": 32,
   "id": "2c6062c2",
   "metadata": {
    "_cell_guid": "8a769459-2483-4c9d-8432-aac1e084b491",
    "_uuid": "d43878ba-367e-4344-8eff-6039de811ea6",
    "collapsed": false,
    "execution": {
     "iopub.execute_input": "2025-01-14T18:20:48.542845Z",
     "iopub.status.busy": "2025-01-14T18:20:48.542491Z",
     "iopub.status.idle": "2025-01-14T18:20:48.925060Z",
     "shell.execute_reply": "2025-01-14T18:20:48.923796Z"
    },
    "jupyter": {
     "outputs_hidden": false
    },
    "papermill": {
     "duration": 0.395714,
     "end_time": "2025-01-14T18:20:48.926953",
     "exception": false,
     "start_time": "2025-01-14T18:20:48.531239",
     "status": "completed"
    },
    "tags": []
   },
   "outputs": [
    {
     "data": {
      "image/png": "[encoded data removed]",
      "text/plain": [
       "<Figure size 800x600 with 2 Axes>"
      ]
     },
     "metadata": {},
     "output_type": "display_data"
    }
   ],
   "source": [
    "import itertools\n",
    "plt.figure(figsize=(8, 6))\n",
    "plt.imshow(conf_matrix, interpolation='nearest', cmap=plt.cm.Blues)\n",
    "plt.title('Confusion Matrix')\n",
    "plt.colorbar()\n",
    "tick_marks = range(len(cluster_labels))\n",
    "plt.xticks(tick_marks, cluster_labels.values(), rotation=45)\n",
    "plt.yticks(tick_marks, cluster_labels.values())\n",
    "\n",
    "thresh = conf_matrix.max() / 2.\n",
    "for i, j in itertools.product(range(conf_matrix.shape[0]), range(conf_matrix.shape[1])):\n",
    "    plt.text(j, i, format(conf_matrix[i, j], 'd'),\n",
    "             horizontalalignment=\"center\",\n",
    "             color=\"white\" if conf_matrix[i, j] > thresh else \"black\")\n",
    "\n",
    "plt.ylabel('True label')\n",
    "plt.xlabel('Predicted label')\n",
    "plt.tight_layout()\n",
    "plt.show()"
   ]
  },
  {
   "cell_type": "code",
   "execution_count": 33,
   "id": "842dc1bd",
   "metadata": {
    "_cell_guid": "26f454e9-279d-4232-ad10-4db4373bcf67",
    "_uuid": "b861a06f-35ff-4825-99c3-e1d39ee9805b",
    "collapsed": false,
    "execution": {
     "iopub.execute_input": "2025-01-14T18:20:48.951894Z",
     "iopub.status.busy": "2025-01-14T18:20:48.951520Z",
     "iopub.status.idle": "2025-01-14T18:20:48.962297Z",
     "shell.execute_reply": "2025-01-14T18:20:48.961247Z"
    },
    "jupyter": {
     "outputs_hidden": false
    },
    "papermill": {
     "duration": 0.025921,
     "end_time": "2025-01-14T18:20:48.964398",
     "exception": false,
     "start_time": "2025-01-14T18:20:48.938477",
     "status": "completed"
    },
    "tags": []
   },
   "outputs": [],
   "source": [
    "from sklearn.svm import SVC\n",
    "from sklearn.metrics import precision_score, recall_score, f1_score, confusion_matrix, classification_report\n",
    "\n",
    "df_filtered['cluster_label'] = df_filtered['cluster'].map(cluster_labels)\n",
    "X_classification = df_filtered[features_for_clustering]\n",
    "y_classification = df_filtered['cluster']\n",
    "\n",
    "X_train, X_test, y_train, y_test = train_test_split(X_classification, y_classification, test_size=0.3, random_state=42)"
   ]
  },
  {
   "cell_type": "code",
   "execution_count": 34,
   "id": "759c4036",
   "metadata": {
    "execution": {
     "iopub.execute_input": "2025-01-14T18:20:48.988470Z",
     "iopub.status.busy": "2025-01-14T18:20:48.988100Z",
     "iopub.status.idle": "2025-01-14T18:20:49.015940Z",
     "shell.execute_reply": "2025-01-14T18:20:49.014884Z"
    },
    "papermill": {
     "duration": 0.041907,
     "end_time": "2025-01-14T18:20:49.017996",
     "exception": false,
     "start_time": "2025-01-14T18:20:48.976089",
     "status": "completed"
    },
    "tags": []
   },
   "outputs": [],
   "source": [
    "from sklearn.tree import DecisionTreeClassifier\n",
    "\n",
    "# Train a Decision Tree classifier\n",
    "dt_classifier = DecisionTreeClassifier(random_state=42)\n",
    "dt_classifier.fit(X_train, y_train)\n",
    "\n",
    "# Make predictions\n",
    "y_pred = dt_classifier.predict(X_test)\n"
   ]
  },
  {
   "cell_type": "code",
   "execution_count": 35,
   "id": "88f276e8",
   "metadata": {
    "_cell_guid": "5d0dbd53-2000-44ec-adc6-bac21cb5b22e",
    "_uuid": "613564d9-f0ae-4589-8423-891630aa0b8b",
    "collapsed": false,
    "execution": {
     "iopub.execute_input": "2025-01-14T18:20:49.041579Z",
     "iopub.status.busy": "2025-01-14T18:20:49.041181Z",
     "iopub.status.idle": "2025-01-14T18:20:49.070202Z",
     "shell.execute_reply": "2025-01-14T18:20:49.068904Z"
    },
    "jupyter": {
     "outputs_hidden": false
    },
    "papermill": {
     "duration": 0.043286,
     "end_time": "2025-01-14T18:20:49.072416",
     "exception": false,
     "start_time": "2025-01-14T18:20:49.029130",
     "status": "completed"
    },
    "tags": []
   },
   "outputs": [
    {
     "name": "stdout",
     "output_type": "stream",
     "text": [
      "Accuracy: 0.97\n",
      "Precision: 0.97\n",
      "Recall: 0.97\n",
      "F1 Score: 0.97\n",
      "Confusion Matrix:\n",
      "[[781   0  29]\n",
      " [  1 753   3]\n",
      " [ 31   7 773]]\n",
      "Classification Report:\n",
      "              precision    recall  f1-score   support\n",
      "\n",
      "           0       0.96      0.96      0.96       810\n",
      "           1       0.99      0.99      0.99       757\n",
      "           2       0.96      0.95      0.96       811\n",
      "\n",
      "    accuracy                           0.97      2378\n",
      "   macro avg       0.97      0.97      0.97      2378\n",
      "weighted avg       0.97      0.97      0.97      2378\n",
      "\n"
     ]
    }
   ],
   "source": [
    "\n",
    "\n",
    "# Evaluate the classifier\n",
    "accuracy = accuracy_score(y_test, y_pred)\n",
    "precision = precision_score(y_test, y_pred, average='weighted')\n",
    "recall = recall_score(y_test, y_pred, average='weighted')\n",
    "f1 = f1_score(y_test, y_pred, average='weighted')\n",
    "conf_matrix = confusion_matrix(y_test, y_pred)\n",
    "class_report = classification_report(y_test, y_pred)\n",
    "\n",
    "# Print evaluation metrics\n",
    "print(f\"Accuracy: {accuracy:.2f}\")\n",
    "print(f\"Precision: {precision:.2f}\")\n",
    "print(f\"Recall: {recall:.2f}\")\n",
    "print(f\"F1 Score: {f1:.2f}\")\n",
    "print(\"Confusion Matrix:\")\n",
    "print(conf_matrix)\n",
    "print(\"Classification Report:\")\n",
    "print(class_report)"
   ]
  },
  {
   "cell_type": "code",
   "execution_count": 36,
   "id": "9681b986",
   "metadata": {
    "_cell_guid": "7c77b558-4451-43e4-9761-441e09f6e368",
    "_uuid": "76c4abe4-5ca4-4286-af0a-0b5b4c2d2ab1",
    "collapsed": false,
    "execution": {
     "iopub.execute_input": "2025-01-14T18:20:49.097333Z",
     "iopub.status.busy": "2025-01-14T18:20:49.096928Z",
     "iopub.status.idle": "2025-01-14T18:20:49.370048Z",
     "shell.execute_reply": "2025-01-14T18:20:49.368845Z"
    },
    "jupyter": {
     "outputs_hidden": false
    },
    "papermill": {
     "duration": 0.287761,
     "end_time": "2025-01-14T18:20:49.372432",
     "exception": false,
     "start_time": "2025-01-14T18:20:49.084671",
     "status": "completed"
    },
    "tags": []
   },
   "outputs": [
    {
     "data": {
      "image/png": "[encoded data removed]",
      "text/plain": [
       "<Figure size 800x600 with 2 Axes>"
      ]
     },
     "metadata": {},
     "output_type": "display_data"
    }
   ],
   "source": [
    "import itertools\n",
    "plt.figure(figsize=(8, 6))\n",
    "plt.imshow(conf_matrix, interpolation='nearest', cmap=plt.cm.Blues)\n",
    "plt.title('Confusion Matrix')\n",
    "plt.colorbar()\n",
    "tick_marks = range(len(cluster_labels))\n",
    "plt.xticks(tick_marks, cluster_labels.values(), rotation=45)\n",
    "plt.yticks(tick_marks, cluster_labels.values())\n",
    "\n",
    "thresh = conf_matrix.max() / 2.\n",
    "for i, j in itertools.product(range(conf_matrix.shape[0]), range(conf_matrix.shape[1])):\n",
    "    plt.text(j, i, format(conf_matrix[i, j], 'd'),\n",
    "             horizontalalignment=\"center\",\n",
    "             color=\"white\" if conf_matrix[i, j] > thresh else \"black\")\n",
    "\n",
    "plt.ylabel('True label')\n",
    "plt.xlabel('Predicted label')\n",
    "plt.tight_layout()\n",
    "plt.show()"
   ]
  },
  {
   "cell_type": "code",
   "execution_count": null,
   "id": "429b2c07",
   "metadata": {
    "_cell_guid": "e0bffbdf-914a-4a54-a5bb-aa5dc8a0c1f7",
    "_uuid": "edd96633-12d5-4875-9300-27960c00f38a",
    "collapsed": false,
    "jupyter": {
     "outputs_hidden": false
    },
    "papermill": {
     "duration": 0.011264,
     "end_time": "2025-01-14T18:20:49.395780",
     "exception": false,
     "start_time": "2025-01-14T18:20:49.384516",
     "status": "completed"
    },
    "tags": []
   },
   "outputs": [],
   "source": []
  }
 ],
 "metadata": {
  "kaggle": {
   "accelerator": "none",
   "dataSources": [
    {
     "datasetId": 6082550,
     "sourceId": 10038088,
     "sourceType": "datasetVersion"
    }
   ],
   "dockerImageVersionId": 30822,
   "isGpuEnabled": false,
   "isInternetEnabled": true,
   "language": "python",
   "sourceType": "notebook"
  },
  "kernelspec": {
   "display_name": "Python 3",
   "language": "python",
   "name": "python3"
  },
  "language_info": {
   "codemirror_mode": {
    "name": "ipython",
    "version": 3
   },
   "file_extension": ".py",
   "mimetype": "text/x-python",
   "name": "python",
   "nbconvert_exporter": "python",
   "pygments_lexer": "ipython3",
   "version": "3.10.12"
  },
  "papermill": {
   "default_parameters": {},
   "duration": 16.197863,
   "end_time": "2025-01-14T18:20:50.128357",
   "environment_variables": {},
   "exception": null,
   "input_path": "__notebook__.ipynb",
   "output_path": "__notebook__.ipynb",
   "parameters": {},
   "start_time": "2025-01-14T18:20:33.930494",
   "version": "2.6.0"
  }
 },
 "nbformat": 4,
 "nbformat_minor": 5
}
