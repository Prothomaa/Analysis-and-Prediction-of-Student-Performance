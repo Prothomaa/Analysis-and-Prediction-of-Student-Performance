{
 "cells": [
  {
   "cell_type": "code",
   "execution_count": 1,
   "id": "53faf583",
   "metadata": {
    "_cell_guid": "660aa779-f142-411b-858f-3973a8467c80",
    "_uuid": "e6845f54-9f4f-4195-8996-08c351b42c24",
    "collapsed": false,
    "execution": {
     "iopub.execute_input": "2025-01-14T18:22:23.150564Z",
     "iopub.status.busy": "2025-01-14T18:22:23.150163Z",
     "iopub.status.idle": "2025-01-14T18:22:29.422559Z",
     "shell.execute_reply": "2025-01-14T18:22:29.420963Z"
    },
    "jupyter": {
     "outputs_hidden": false
    },
    "papermill": {
     "duration": 6.285236,
     "end_time": "2025-01-14T18:22:29.424628",
     "exception": false,
     "start_time": "2025-01-14T18:22:23.139392",
     "status": "completed"
    },
    "tags": []
   },
   "outputs": [
    {
     "name": "stdout",
     "output_type": "stream",
     "text": [
      "Collecting scikit-learn-extra\r\n",
      "  Downloading scikit_learn_extra-0.3.0-cp310-cp310-manylinux_2_17_x86_64.manylinux2014_x86_64.whl.metadata (3.6 kB)\r\n",
      "Requirement already satisfied: numpy>=1.13.3 in /usr/local/lib/python3.10/dist-packages (from scikit-learn-extra) (1.26.4)\r\n",
      "Requirement already satisfied: scipy>=0.19.1 in /usr/local/lib/python3.10/dist-packages (from scikit-learn-extra) (1.13.1)\r\n",
      "Requirement already satisfied: scikit-learn>=0.23.0 in /usr/local/lib/python3.10/dist-packages (from scikit-learn-extra) (1.2.2)\r\n",
      "Requirement already satisfied: joblib>=1.1.1 in /usr/local/lib/python3.10/dist-packages (from scikit-learn>=0.23.0->scikit-learn-extra) (1.4.2)\r\n",
      "Requirement already satisfied: threadpoolctl>=2.0.0 in /usr/local/lib/python3.10/dist-packages (from scikit-learn>=0.23.0->scikit-learn-extra) (3.5.0)\r\n",
      "Downloading scikit_learn_extra-0.3.0-cp310-cp310-manylinux_2_17_x86_64.manylinux2014_x86_64.whl (2.0 MB)\r\n",
      "\u001b[2K   \u001b[90m━━━━━━━━━━━━━━━━━━━━━━━━━━━━━━━━━━━━━━━━\u001b[0m \u001b[32m2.0/2.0 MB\u001b[0m \u001b[31m21.9 MB/s\u001b[0m eta \u001b[36m0:00:00\u001b[0m\r\n",
      "\u001b[?25hInstalling collected packages: scikit-learn-extra\r\n",
      "Successfully installed scikit-learn-extra-0.3.0\r\n",
      "Note: you may need to restart the kernel to use updated packages.\n"
     ]
    }
   ],
   "source": [
    "pip install scikit-learn-extra"
   ]
  },
  {
   "cell_type": "code",
   "execution_count": 2,
   "id": "51caa42a",
   "metadata": {
    "_cell_guid": "77f45804-b0e4-4725-a7b5-230277eac2e2",
    "_uuid": "06ed0735-a264-46f0-a6d2-12cb67d1498f",
    "collapsed": false,
    "execution": {
     "iopub.execute_input": "2025-01-14T18:22:29.444504Z",
     "iopub.status.busy": "2025-01-14T18:22:29.444116Z",
     "iopub.status.idle": "2025-01-14T18:22:31.525782Z",
     "shell.execute_reply": "2025-01-14T18:22:31.524392Z"
    },
    "jupyter": {
     "outputs_hidden": false
    },
    "papermill": {
     "duration": 2.093908,
     "end_time": "2025-01-14T18:22:31.527838",
     "exception": false,
     "start_time": "2025-01-14T18:22:29.433930",
     "status": "completed"
    },
    "tags": []
   },
   "outputs": [],
   "source": [
    "import numpy as np\n",
    "import pandas as pd\n",
    "import matplotlib.pyplot as plt\n",
    "from sklearn_extra.cluster import KMedoids\n",
    "from sklearn.preprocessing import StandardScaler, LabelEncoder\n",
    "from sklearn.neighbors import KNeighborsClassifier\n",
    "from sklearn.model_selection import train_test_split\n",
    "from sklearn.metrics import accuracy_score, confusion_matrix, classification_report\n",
    "from sklearn.manifold import TSNE\n",
    "from sklearn.decomposition import PCA"
   ]
  },
  {
   "cell_type": "code",
   "execution_count": 3,
   "id": "f340ca46",
   "metadata": {
    "_cell_guid": "a528b0fe-f5f4-4552-80bf-d9d02e30a2ba",
    "_uuid": "034c6b96-16da-470c-8c27-6fa3a6d9adfc",
    "collapsed": false,
    "execution": {
     "iopub.execute_input": "2025-01-14T18:22:31.547242Z",
     "iopub.status.busy": "2025-01-14T18:22:31.546696Z",
     "iopub.status.idle": "2025-01-14T18:22:31.688597Z",
     "shell.execute_reply": "2025-01-14T18:22:31.687720Z"
    },
    "jupyter": {
     "outputs_hidden": false
    },
    "papermill": {
     "duration": 0.153517,
     "end_time": "2025-01-14T18:22:31.690476",
     "exception": false,
     "start_time": "2025-01-14T18:22:31.536959",
     "status": "completed"
    },
    "tags": []
   },
   "outputs": [],
   "source": [
    "dataset = pd.read_csv(\"/kaggle/input/student-performance-bd/bd_students_per_v2.csv\")"
   ]
  },
  {
   "cell_type": "code",
   "execution_count": 4,
   "id": "6f5a6443",
   "metadata": {
    "_cell_guid": "c9100b98-321f-4df5-b2d8-e0417fa24275",
    "_uuid": "bdfab428-a4ba-4465-9e53-0443f75d38b5",
    "collapsed": false,
    "execution": {
     "iopub.execute_input": "2025-01-14T18:22:31.709626Z",
     "iopub.status.busy": "2025-01-14T18:22:31.709279Z",
     "iopub.status.idle": "2025-01-14T18:22:31.731986Z",
     "shell.execute_reply": "2025-01-14T18:22:31.730720Z"
    },
    "jupyter": {
     "outputs_hidden": false
    },
    "papermill": {
     "duration": 0.034502,
     "end_time": "2025-01-14T18:22:31.734032",
     "exception": false,
     "start_time": "2025-01-14T18:22:31.699530",
     "status": "completed"
    },
    "tags": []
   },
   "outputs": [
    {
     "name": "stdout",
     "output_type": "stream",
     "text": [
      "Dataset Preview:\n",
      "   id         full_name  age  gender location  family_size mother_education  \\\n",
      "0   2        Avi Biswas   16    Male    Urban            6              SSC   \n",
      "1   3   Taslima Sultana   18  Female    Rural            6              SSC   \n",
      "2   4  Md Adilur Rahman   15    Male    Rural            4              SSC   \n",
      "3   5       Saleh Ahmed   16    Male    Rural            6              SSC   \n",
      "4   6         Din Islam   17    Male    Urban            5           Honors   \n",
      "\n",
      "  father_education mother_job father_job  ... tutoring school_type attendance  \\\n",
      "0              HSC         No         No  ...      Yes     Private         95   \n",
      "1              HSC         No        Yes  ...       No   Semi_Govt         92   \n",
      "2              SSC        Yes        Yes  ...      Yes        Govt         81   \n",
      "3              SSC        Yes        Yes  ...      Yes     Private         90   \n",
      "4          Masters         No        Yes  ...      Yes   Semi_Govt         75   \n",
      "\n",
      "   extra_curricular_activities english math  science social_science  \\\n",
      "0                          Yes      95   98       92             94   \n",
      "1                           No      65   71       40             78   \n",
      "2                          Yes      64   78       58             86   \n",
      "3                          Yes      84   90       85             86   \n",
      "4                          Yes      54   70       45             79   \n",
      "\n",
      "   art_culture  stu_group  \n",
      "0           98    Science  \n",
      "1           80   Commerce  \n",
      "2           74   Commerce  \n",
      "3           88    Science  \n",
      "4           76   Commerce  \n",
      "\n",
      "[5 rows x 24 columns]\n"
     ]
    }
   ],
   "source": [
    "print(\"Dataset Preview:\")\n",
    "print(dataset.head())"
   ]
  },
  {
   "cell_type": "code",
   "execution_count": 5,
   "id": "e776f752",
   "metadata": {
    "_cell_guid": "24f9d629-0d36-418b-b194-c467f96106eb",
    "_uuid": "889320f0-3a18-46de-80fc-facb3c418f97",
    "collapsed": false,
    "execution": {
     "iopub.execute_input": "2025-01-14T18:22:31.753959Z",
     "iopub.status.busy": "2025-01-14T18:22:31.753521Z",
     "iopub.status.idle": "2025-01-14T18:22:31.758703Z",
     "shell.execute_reply": "2025-01-14T18:22:31.757644Z"
    },
    "jupyter": {
     "outputs_hidden": false
    },
    "papermill": {
     "duration": 0.016748,
     "end_time": "2025-01-14T18:22:31.760261",
     "exception": false,
     "start_time": "2025-01-14T18:22:31.743513",
     "status": "completed"
    },
    "tags": []
   },
   "outputs": [
    {
     "name": "stdout",
     "output_type": "stream",
     "text": [
      "\n",
      "Dataset Shape: (8612, 24)\n"
     ]
    }
   ],
   "source": [
    "print(\"\\nDataset Shape:\", dataset.shape)"
   ]
  },
  {
   "cell_type": "code",
   "execution_count": 6,
   "id": "add5ae36",
   "metadata": {
    "_cell_guid": "789da2b5-ce1f-4d02-8809-ba284e720732",
    "_uuid": "7a26fab9-bda2-4d62-8d04-0d95abf68d25",
    "collapsed": false,
    "execution": {
     "iopub.execute_input": "2025-01-14T18:22:31.780090Z",
     "iopub.status.busy": "2025-01-14T18:22:31.779686Z",
     "iopub.status.idle": "2025-01-14T18:22:31.793839Z",
     "shell.execute_reply": "2025-01-14T18:22:31.792450Z"
    },
    "jupyter": {
     "outputs_hidden": false
    },
    "papermill": {
     "duration": 0.025967,
     "end_time": "2025-01-14T18:22:31.795877",
     "exception": false,
     "start_time": "2025-01-14T18:22:31.769910",
     "status": "completed"
    },
    "tags": []
   },
   "outputs": [
    {
     "name": "stdout",
     "output_type": "stream",
     "text": [
      "\n",
      "Missing Values:\n",
      "id                              0\n",
      "full_name                       0\n",
      "age                             0\n",
      "gender                          0\n",
      "location                        1\n",
      "family_size                     0\n",
      "mother_education               10\n",
      "father_education                4\n",
      "mother_job                      0\n",
      "father_job                      0\n",
      "guardian                        0\n",
      "parental_involvement            0\n",
      "internet_access                 0\n",
      "studytime                       0\n",
      "tutoring                        0\n",
      "school_type                     0\n",
      "attendance                      0\n",
      "extra_curricular_activities     0\n",
      "english                         0\n",
      "math                            0\n",
      "science                         0\n",
      "social_science                  0\n",
      "art_culture                     0\n",
      "stu_group                       0\n",
      "dtype: int64\n"
     ]
    }
   ],
   "source": [
    "print(\"\\nMissing Values:\")\n",
    "print(dataset.isnull().sum())"
   ]
  },
  {
   "cell_type": "code",
   "execution_count": 7,
   "id": "a1f50d85",
   "metadata": {
    "_cell_guid": "37a6273a-7d2c-4ce2-a939-7a272bfded4d",
    "_uuid": "2f4d2dd8-47ca-4bce-88fb-332eea14a1ba",
    "collapsed": false,
    "execution": {
     "iopub.execute_input": "2025-01-14T18:22:31.815701Z",
     "iopub.status.busy": "2025-01-14T18:22:31.815303Z",
     "iopub.status.idle": "2025-01-14T18:22:31.844672Z",
     "shell.execute_reply": "2025-01-14T18:22:31.843551Z"
    },
    "jupyter": {
     "outputs_hidden": false
    },
    "papermill": {
     "duration": 0.04091,
     "end_time": "2025-01-14T18:22:31.846238",
     "exception": false,
     "start_time": "2025-01-14T18:22:31.805328",
     "status": "completed"
    },
    "tags": []
   },
   "outputs": [
    {
     "data": {
      "text/html": [
       "<div>\n",
       "<style scoped>\n",
       "    .dataframe tbody tr th:only-of-type {\n",
       "        vertical-align: middle;\n",
       "    }\n",
       "\n",
       "    .dataframe tbody tr th {\n",
       "        vertical-align: top;\n",
       "    }\n",
       "\n",
       "    .dataframe thead th {\n",
       "        text-align: right;\n",
       "    }\n",
       "</style>\n",
       "<table border=\"1\" class=\"dataframe\">\n",
       "  <thead>\n",
       "    <tr style=\"text-align: right;\">\n",
       "      <th></th>\n",
       "      <th>id</th>\n",
       "      <th>full_name</th>\n",
       "      <th>age</th>\n",
       "      <th>gender</th>\n",
       "      <th>location</th>\n",
       "      <th>family_size</th>\n",
       "      <th>mother_education</th>\n",
       "      <th>father_education</th>\n",
       "      <th>mother_job</th>\n",
       "      <th>father_job</th>\n",
       "      <th>...</th>\n",
       "      <th>tutoring</th>\n",
       "      <th>school_type</th>\n",
       "      <th>attendance</th>\n",
       "      <th>extra_curricular_activities</th>\n",
       "      <th>english</th>\n",
       "      <th>math</th>\n",
       "      <th>science</th>\n",
       "      <th>social_science</th>\n",
       "      <th>art_culture</th>\n",
       "      <th>stu_group</th>\n",
       "    </tr>\n",
       "  </thead>\n",
       "  <tbody>\n",
       "    <tr>\n",
       "      <th>0</th>\n",
       "      <td>2</td>\n",
       "      <td>Avi Biswas</td>\n",
       "      <td>16</td>\n",
       "      <td>Male</td>\n",
       "      <td>Urban</td>\n",
       "      <td>6</td>\n",
       "      <td>SSC</td>\n",
       "      <td>HSC</td>\n",
       "      <td>No</td>\n",
       "      <td>No</td>\n",
       "      <td>...</td>\n",
       "      <td>Yes</td>\n",
       "      <td>Private</td>\n",
       "      <td>95</td>\n",
       "      <td>Yes</td>\n",
       "      <td>95</td>\n",
       "      <td>98</td>\n",
       "      <td>92</td>\n",
       "      <td>94</td>\n",
       "      <td>98</td>\n",
       "      <td>Science</td>\n",
       "    </tr>\n",
       "    <tr>\n",
       "      <th>1</th>\n",
       "      <td>3</td>\n",
       "      <td>Taslima Sultana</td>\n",
       "      <td>18</td>\n",
       "      <td>Female</td>\n",
       "      <td>Rural</td>\n",
       "      <td>6</td>\n",
       "      <td>SSC</td>\n",
       "      <td>HSC</td>\n",
       "      <td>No</td>\n",
       "      <td>Yes</td>\n",
       "      <td>...</td>\n",
       "      <td>No</td>\n",
       "      <td>Semi_Govt</td>\n",
       "      <td>92</td>\n",
       "      <td>No</td>\n",
       "      <td>65</td>\n",
       "      <td>71</td>\n",
       "      <td>40</td>\n",
       "      <td>78</td>\n",
       "      <td>80</td>\n",
       "      <td>Commerce</td>\n",
       "    </tr>\n",
       "    <tr>\n",
       "      <th>2</th>\n",
       "      <td>4</td>\n",
       "      <td>Md Adilur Rahman</td>\n",
       "      <td>15</td>\n",
       "      <td>Male</td>\n",
       "      <td>Rural</td>\n",
       "      <td>4</td>\n",
       "      <td>SSC</td>\n",
       "      <td>SSC</td>\n",
       "      <td>Yes</td>\n",
       "      <td>Yes</td>\n",
       "      <td>...</td>\n",
       "      <td>Yes</td>\n",
       "      <td>Govt</td>\n",
       "      <td>81</td>\n",
       "      <td>Yes</td>\n",
       "      <td>64</td>\n",
       "      <td>78</td>\n",
       "      <td>58</td>\n",
       "      <td>86</td>\n",
       "      <td>74</td>\n",
       "      <td>Commerce</td>\n",
       "    </tr>\n",
       "    <tr>\n",
       "      <th>3</th>\n",
       "      <td>5</td>\n",
       "      <td>Saleh Ahmed</td>\n",
       "      <td>16</td>\n",
       "      <td>Male</td>\n",
       "      <td>Rural</td>\n",
       "      <td>6</td>\n",
       "      <td>SSC</td>\n",
       "      <td>SSC</td>\n",
       "      <td>Yes</td>\n",
       "      <td>Yes</td>\n",
       "      <td>...</td>\n",
       "      <td>Yes</td>\n",
       "      <td>Private</td>\n",
       "      <td>90</td>\n",
       "      <td>Yes</td>\n",
       "      <td>84</td>\n",
       "      <td>90</td>\n",
       "      <td>85</td>\n",
       "      <td>86</td>\n",
       "      <td>88</td>\n",
       "      <td>Science</td>\n",
       "    </tr>\n",
       "    <tr>\n",
       "      <th>4</th>\n",
       "      <td>6</td>\n",
       "      <td>Din Islam</td>\n",
       "      <td>17</td>\n",
       "      <td>Male</td>\n",
       "      <td>Urban</td>\n",
       "      <td>5</td>\n",
       "      <td>Honors</td>\n",
       "      <td>Masters</td>\n",
       "      <td>No</td>\n",
       "      <td>Yes</td>\n",
       "      <td>...</td>\n",
       "      <td>Yes</td>\n",
       "      <td>Semi_Govt</td>\n",
       "      <td>75</td>\n",
       "      <td>Yes</td>\n",
       "      <td>54</td>\n",
       "      <td>70</td>\n",
       "      <td>45</td>\n",
       "      <td>79</td>\n",
       "      <td>76</td>\n",
       "      <td>Commerce</td>\n",
       "    </tr>\n",
       "    <tr>\n",
       "      <th>...</th>\n",
       "      <td>...</td>\n",
       "      <td>...</td>\n",
       "      <td>...</td>\n",
       "      <td>...</td>\n",
       "      <td>...</td>\n",
       "      <td>...</td>\n",
       "      <td>...</td>\n",
       "      <td>...</td>\n",
       "      <td>...</td>\n",
       "      <td>...</td>\n",
       "      <td>...</td>\n",
       "      <td>...</td>\n",
       "      <td>...</td>\n",
       "      <td>...</td>\n",
       "      <td>...</td>\n",
       "      <td>...</td>\n",
       "      <td>...</td>\n",
       "      <td>...</td>\n",
       "      <td>...</td>\n",
       "      <td>...</td>\n",
       "      <td>...</td>\n",
       "    </tr>\n",
       "    <tr>\n",
       "      <th>8607</th>\n",
       "      <td>8609</td>\n",
       "      <td>Elina Khanam</td>\n",
       "      <td>17</td>\n",
       "      <td>Female</td>\n",
       "      <td>City</td>\n",
       "      <td>5</td>\n",
       "      <td>HSC</td>\n",
       "      <td>Non_Educated</td>\n",
       "      <td>No</td>\n",
       "      <td>No</td>\n",
       "      <td>...</td>\n",
       "      <td>No</td>\n",
       "      <td>Govt</td>\n",
       "      <td>78</td>\n",
       "      <td>Yes</td>\n",
       "      <td>81</td>\n",
       "      <td>83</td>\n",
       "      <td>80</td>\n",
       "      <td>84</td>\n",
       "      <td>91</td>\n",
       "      <td>Science</td>\n",
       "    </tr>\n",
       "    <tr>\n",
       "      <th>8608</th>\n",
       "      <td>8610</td>\n",
       "      <td>Sadiq Ghosh</td>\n",
       "      <td>16</td>\n",
       "      <td>Male</td>\n",
       "      <td>City</td>\n",
       "      <td>2</td>\n",
       "      <td>SSC</td>\n",
       "      <td>Under_SSC</td>\n",
       "      <td>No</td>\n",
       "      <td>Yes</td>\n",
       "      <td>...</td>\n",
       "      <td>No</td>\n",
       "      <td>Private</td>\n",
       "      <td>73</td>\n",
       "      <td>No</td>\n",
       "      <td>95</td>\n",
       "      <td>100</td>\n",
       "      <td>96</td>\n",
       "      <td>98</td>\n",
       "      <td>98</td>\n",
       "      <td>Science</td>\n",
       "    </tr>\n",
       "    <tr>\n",
       "      <th>8609</th>\n",
       "      <td>8611</td>\n",
       "      <td>Arman Amin</td>\n",
       "      <td>18</td>\n",
       "      <td>Male</td>\n",
       "      <td>City</td>\n",
       "      <td>3</td>\n",
       "      <td>Diploma</td>\n",
       "      <td>SSC</td>\n",
       "      <td>No</td>\n",
       "      <td>No</td>\n",
       "      <td>...</td>\n",
       "      <td>Yes</td>\n",
       "      <td>Private</td>\n",
       "      <td>51</td>\n",
       "      <td>No</td>\n",
       "      <td>45</td>\n",
       "      <td>59</td>\n",
       "      <td>41</td>\n",
       "      <td>51</td>\n",
       "      <td>69</td>\n",
       "      <td>Arts</td>\n",
       "    </tr>\n",
       "    <tr>\n",
       "      <th>8610</th>\n",
       "      <td>8612</td>\n",
       "      <td>Tawhidul Saif</td>\n",
       "      <td>15</td>\n",
       "      <td>Male</td>\n",
       "      <td>Urban</td>\n",
       "      <td>5</td>\n",
       "      <td>Honors</td>\n",
       "      <td>HSC</td>\n",
       "      <td>No</td>\n",
       "      <td>No</td>\n",
       "      <td>...</td>\n",
       "      <td>No</td>\n",
       "      <td>Private</td>\n",
       "      <td>66</td>\n",
       "      <td>Yes</td>\n",
       "      <td>59</td>\n",
       "      <td>65</td>\n",
       "      <td>60</td>\n",
       "      <td>68</td>\n",
       "      <td>69</td>\n",
       "      <td>Arts</td>\n",
       "    </tr>\n",
       "    <tr>\n",
       "      <th>8611</th>\n",
       "      <td>8613</td>\n",
       "      <td>Naimul Sen</td>\n",
       "      <td>18</td>\n",
       "      <td>Male</td>\n",
       "      <td>Urban</td>\n",
       "      <td>3</td>\n",
       "      <td>Diploma</td>\n",
       "      <td>Under_SSC</td>\n",
       "      <td>No</td>\n",
       "      <td>No</td>\n",
       "      <td>...</td>\n",
       "      <td>Yes</td>\n",
       "      <td>Semi_Govt</td>\n",
       "      <td>88</td>\n",
       "      <td>Yes</td>\n",
       "      <td>87</td>\n",
       "      <td>95</td>\n",
       "      <td>96</td>\n",
       "      <td>100</td>\n",
       "      <td>98</td>\n",
       "      <td>Science</td>\n",
       "    </tr>\n",
       "  </tbody>\n",
       "</table>\n",
       "<p>8612 rows × 24 columns</p>\n",
       "</div>"
      ],
      "text/plain": [
       "        id         full_name  age  gender location  family_size  \\\n",
       "0        2        Avi Biswas   16    Male    Urban            6   \n",
       "1        3   Taslima Sultana   18  Female    Rural            6   \n",
       "2        4  Md Adilur Rahman   15    Male    Rural            4   \n",
       "3        5       Saleh Ahmed   16    Male    Rural            6   \n",
       "4        6         Din Islam   17    Male    Urban            5   \n",
       "...    ...               ...  ...     ...      ...          ...   \n",
       "8607  8609      Elina Khanam   17  Female     City            5   \n",
       "8608  8610       Sadiq Ghosh   16    Male     City            2   \n",
       "8609  8611        Arman Amin   18    Male     City            3   \n",
       "8610  8612     Tawhidul Saif   15    Male    Urban            5   \n",
       "8611  8613        Naimul Sen   18    Male    Urban            3   \n",
       "\n",
       "     mother_education father_education mother_job father_job  ... tutoring  \\\n",
       "0                 SSC              HSC         No         No  ...      Yes   \n",
       "1                 SSC              HSC         No        Yes  ...       No   \n",
       "2                 SSC              SSC        Yes        Yes  ...      Yes   \n",
       "3                 SSC              SSC        Yes        Yes  ...      Yes   \n",
       "4              Honors          Masters         No        Yes  ...      Yes   \n",
       "...               ...              ...        ...        ...  ...      ...   \n",
       "8607              HSC     Non_Educated         No         No  ...       No   \n",
       "8608              SSC        Under_SSC         No        Yes  ...       No   \n",
       "8609          Diploma              SSC         No         No  ...      Yes   \n",
       "8610           Honors              HSC         No         No  ...       No   \n",
       "8611          Diploma        Under_SSC         No         No  ...      Yes   \n",
       "\n",
       "     school_type attendance  extra_curricular_activities english math  \\\n",
       "0        Private         95                          Yes      95   98   \n",
       "1      Semi_Govt         92                           No      65   71   \n",
       "2           Govt         81                          Yes      64   78   \n",
       "3        Private         90                          Yes      84   90   \n",
       "4      Semi_Govt         75                          Yes      54   70   \n",
       "...          ...        ...                          ...     ...  ...   \n",
       "8607        Govt         78                          Yes      81   83   \n",
       "8608     Private         73                           No      95  100   \n",
       "8609     Private         51                           No      45   59   \n",
       "8610     Private         66                          Yes      59   65   \n",
       "8611   Semi_Govt         88                          Yes      87   95   \n",
       "\n",
       "      science social_science  art_culture  stu_group  \n",
       "0          92             94           98    Science  \n",
       "1          40             78           80   Commerce  \n",
       "2          58             86           74   Commerce  \n",
       "3          85             86           88    Science  \n",
       "4          45             79           76   Commerce  \n",
       "...       ...            ...          ...        ...  \n",
       "8607       80             84           91    Science  \n",
       "8608       96             98           98    Science  \n",
       "8609       41             51           69       Arts  \n",
       "8610       60             68           69       Arts  \n",
       "8611       96            100           98    Science  \n",
       "\n",
       "[8612 rows x 24 columns]"
      ]
     },
     "execution_count": 7,
     "metadata": {},
     "output_type": "execute_result"
    }
   ],
   "source": [
    "df = pd.DataFrame(dataset)\n",
    "df"
   ]
  },
  {
   "cell_type": "code",
   "execution_count": 8,
   "id": "7985485d",
   "metadata": {
    "_cell_guid": "f0f153ab-2da0-4f08-b616-aef9c4ff38e0",
    "_uuid": "1062fa71-3116-4b0d-819b-bea11201a047",
    "collapsed": false,
    "execution": {
     "iopub.execute_input": "2025-01-14T18:22:31.866405Z",
     "iopub.status.busy": "2025-01-14T18:22:31.866012Z",
     "iopub.status.idle": "2025-01-14T18:22:31.879597Z",
     "shell.execute_reply": "2025-01-14T18:22:31.878407Z"
    },
    "jupyter": {
     "outputs_hidden": false
    },
    "papermill": {
     "duration": 0.025685,
     "end_time": "2025-01-14T18:22:31.881527",
     "exception": false,
     "start_time": "2025-01-14T18:22:31.855842",
     "status": "completed"
    },
    "tags": []
   },
   "outputs": [],
   "source": [
    "# Remove rows with missing values\n",
    "df_cleaned = dataset.dropna()"
   ]
  },
  {
   "cell_type": "code",
   "execution_count": 9,
   "id": "70b1d6fe",
   "metadata": {
    "_cell_guid": "acaa26a9-e06b-4c06-a9f3-ef4de0dbc16f",
    "_uuid": "866e031d-7fee-4712-8a9a-e46819a296cc",
    "collapsed": false,
    "execution": {
     "iopub.execute_input": "2025-01-14T18:22:31.902237Z",
     "iopub.status.busy": "2025-01-14T18:22:31.901828Z",
     "iopub.status.idle": "2025-01-14T18:22:31.915533Z",
     "shell.execute_reply": "2025-01-14T18:22:31.914165Z"
    },
    "jupyter": {
     "outputs_hidden": false
    },
    "papermill": {
     "duration": 0.026471,
     "end_time": "2025-01-14T18:22:31.917753",
     "exception": false,
     "start_time": "2025-01-14T18:22:31.891282",
     "status": "completed"
    },
    "tags": []
   },
   "outputs": [
    {
     "name": "stdout",
     "output_type": "stream",
     "text": [
      "\n",
      "Missing Values After Cleaning:\n",
      "id                             0\n",
      "full_name                      0\n",
      "age                            0\n",
      "gender                         0\n",
      "location                       0\n",
      "family_size                    0\n",
      "mother_education               0\n",
      "father_education               0\n",
      "mother_job                     0\n",
      "father_job                     0\n",
      "guardian                       0\n",
      "parental_involvement           0\n",
      "internet_access                0\n",
      "studytime                      0\n",
      "tutoring                       0\n",
      "school_type                    0\n",
      "attendance                     0\n",
      "extra_curricular_activities    0\n",
      "english                        0\n",
      "math                           0\n",
      "science                        0\n",
      "social_science                 0\n",
      "art_culture                    0\n",
      "stu_group                      0\n",
      "dtype: int64\n"
     ]
    }
   ],
   "source": [
    "# Verify no missing values remain\n",
    "print(\"\\nMissing Values After Cleaning:\")\n",
    "print(df_cleaned.isnull().sum())"
   ]
  },
  {
   "cell_type": "code",
   "execution_count": 10,
   "id": "7a6de4fb",
   "metadata": {
    "_cell_guid": "194a6f41-d2b6-4fac-aba1-194a85188256",
    "_uuid": "9d1817dd-eb16-4275-b148-e04bedc407f0",
    "collapsed": false,
    "execution": {
     "iopub.execute_input": "2025-01-14T18:22:31.939080Z",
     "iopub.status.busy": "2025-01-14T18:22:31.938655Z",
     "iopub.status.idle": "2025-01-14T18:22:31.943094Z",
     "shell.execute_reply": "2025-01-14T18:22:31.942005Z"
    },
    "jupyter": {
     "outputs_hidden": false
    },
    "papermill": {
     "duration": 0.017356,
     "end_time": "2025-01-14T18:22:31.944874",
     "exception": false,
     "start_time": "2025-01-14T18:22:31.927518",
     "status": "completed"
    },
    "tags": []
   },
   "outputs": [],
   "source": [
    "df = df_cleaned"
   ]
  },
  {
   "cell_type": "code",
   "execution_count": 11,
   "id": "6f5b4e07",
   "metadata": {
    "_cell_guid": "4004f19b-99fd-4431-b06a-373e106cd805",
    "_uuid": "fe521e1e-8b7b-4702-a91d-de5748833f2f",
    "collapsed": false,
    "execution": {
     "iopub.execute_input": "2025-01-14T18:22:31.966067Z",
     "iopub.status.busy": "2025-01-14T18:22:31.965626Z",
     "iopub.status.idle": "2025-01-14T18:22:31.970357Z",
     "shell.execute_reply": "2025-01-14T18:22:31.969214Z"
    },
    "jupyter": {
     "outputs_hidden": false
    },
    "papermill": {
     "duration": 0.017446,
     "end_time": "2025-01-14T18:22:31.972197",
     "exception": false,
     "start_time": "2025-01-14T18:22:31.954751",
     "status": "completed"
    },
    "tags": []
   },
   "outputs": [],
   "source": [
    "categorical_columns = ['gender', 'stu_group']"
   ]
  },
  {
   "cell_type": "code",
   "execution_count": 12,
   "id": "cc0fe824",
   "metadata": {
    "_cell_guid": "6c98664c-858d-449d-8fa5-c4580d80a17e",
    "_uuid": "f06f7cfc-3949-466b-b085-e0f6d7d8d70f",
    "collapsed": false,
    "execution": {
     "iopub.execute_input": "2025-01-14T18:22:31.993173Z",
     "iopub.status.busy": "2025-01-14T18:22:31.992785Z",
     "iopub.status.idle": "2025-01-14T18:22:32.018709Z",
     "shell.execute_reply": "2025-01-14T18:22:32.017515Z"
    },
    "jupyter": {
     "outputs_hidden": false
    },
    "papermill": {
     "duration": 0.038708,
     "end_time": "2025-01-14T18:22:32.020821",
     "exception": false,
     "start_time": "2025-01-14T18:22:31.982113",
     "status": "completed"
    },
    "tags": []
   },
   "outputs": [],
   "source": [
    "# One-Hot Encode categorical columns\n",
    "df_pandas_encoded = pd.get_dummies(df, columns=categorical_columns, drop_first=True)"
   ]
  },
  {
   "cell_type": "code",
   "execution_count": 13,
   "id": "bb88d735",
   "metadata": {
    "_cell_guid": "b93885dd-d9ec-46e1-b334-f698fd2e314e",
    "_uuid": "3e530493-0069-4fe6-b6d4-59eaf9c4c4c1",
    "collapsed": false,
    "execution": {
     "iopub.execute_input": "2025-01-14T18:22:32.041431Z",
     "iopub.status.busy": "2025-01-14T18:22:32.041045Z",
     "iopub.status.idle": "2025-01-14T18:22:32.054967Z",
     "shell.execute_reply": "2025-01-14T18:22:32.053639Z"
    },
    "jupyter": {
     "outputs_hidden": false
    },
    "papermill": {
     "duration": 0.026372,
     "end_time": "2025-01-14T18:22:32.056904",
     "exception": false,
     "start_time": "2025-01-14T18:22:32.030532",
     "status": "completed"
    },
    "tags": []
   },
   "outputs": [
    {
     "name": "stdout",
     "output_type": "stream",
     "text": [
      "\n",
      "Encoded Dataset Preview:\n",
      "   id         full_name  age location  family_size mother_education  \\\n",
      "0   2        Avi Biswas   16    Urban            6              SSC   \n",
      "1   3   Taslima Sultana   18    Rural            6              SSC   \n",
      "2   4  Md Adilur Rahman   15    Rural            4              SSC   \n",
      "3   5       Saleh Ahmed   16    Rural            6              SSC   \n",
      "4   6         Din Islam   17    Urban            5           Honors   \n",
      "\n",
      "  father_education mother_job father_job guardian  ... attendance  \\\n",
      "0              HSC         No         No   Father  ...         95   \n",
      "1              HSC         No        Yes   Father  ...         92   \n",
      "2              SSC        Yes        Yes   Father  ...         81   \n",
      "3              SSC        Yes        Yes   Father  ...         90   \n",
      "4          Masters         No        Yes   Father  ...         75   \n",
      "\n",
      "  extra_curricular_activities  english math science  social_science  \\\n",
      "0                         Yes       95   98      92              94   \n",
      "1                          No       65   71      40              78   \n",
      "2                         Yes       64   78      58              86   \n",
      "3                         Yes       84   90      85              86   \n",
      "4                         Yes       54   70      45              79   \n",
      "\n",
      "  art_culture  gender_Male  stu_group_Commerce  stu_group_Science  \n",
      "0          98         True               False               True  \n",
      "1          80        False                True              False  \n",
      "2          74         True                True              False  \n",
      "3          88         True               False               True  \n",
      "4          76         True                True              False  \n",
      "\n",
      "[5 rows x 25 columns]\n"
     ]
    }
   ],
   "source": [
    "print(\"\\nEncoded Dataset Preview:\")\n",
    "print(df_pandas_encoded.head())"
   ]
  },
  {
   "cell_type": "code",
   "execution_count": 14,
   "id": "dc846647",
   "metadata": {
    "_cell_guid": "0c48bfe6-c287-43a2-a58a-5a7f2e750f75",
    "_uuid": "b4369982-9f50-4be6-bd64-280d61482d66",
    "collapsed": false,
    "execution": {
     "iopub.execute_input": "2025-01-14T18:22:32.078020Z",
     "iopub.status.busy": "2025-01-14T18:22:32.077673Z",
     "iopub.status.idle": "2025-01-14T18:22:32.120154Z",
     "shell.execute_reply": "2025-01-14T18:22:32.119067Z"
    },
    "jupyter": {
     "outputs_hidden": false
    },
    "papermill": {
     "duration": 0.054984,
     "end_time": "2025-01-14T18:22:32.122081",
     "exception": false,
     "start_time": "2025-01-14T18:22:32.067097",
     "status": "completed"
    },
    "tags": []
   },
   "outputs": [],
   "source": [
    "# Apply Label Encoding to any remaining categorical or boolean columns\n",
    "encoder = LabelEncoder()\n",
    "df_encoded = df_pandas_encoded.apply(\n",
    "    lambda col: encoder.fit_transform(col) if (col.dtype == 'object' or col.dtype == 'bool') else col\n",
    ")"
   ]
  },
  {
   "cell_type": "code",
   "execution_count": 15,
   "id": "fc63479a",
   "metadata": {
    "_cell_guid": "3f8b5db8-d8ea-40c7-be05-30b9efa8a330",
    "_uuid": "c06be7cf-6bde-4390-933f-db1efdc4866e",
    "collapsed": false,
    "execution": {
     "iopub.execute_input": "2025-01-14T18:22:32.143070Z",
     "iopub.status.busy": "2025-01-14T18:22:32.142660Z",
     "iopub.status.idle": "2025-01-14T18:22:32.153105Z",
     "shell.execute_reply": "2025-01-14T18:22:32.151749Z"
    },
    "jupyter": {
     "outputs_hidden": false
    },
    "papermill": {
     "duration": 0.022812,
     "end_time": "2025-01-14T18:22:32.154775",
     "exception": false,
     "start_time": "2025-01-14T18:22:32.131963",
     "status": "completed"
    },
    "tags": []
   },
   "outputs": [
    {
     "name": "stdout",
     "output_type": "stream",
     "text": [
      "\n",
      "Fully Encoded Dataset Preview:\n",
      "   id  full_name  age  location  family_size  mother_education  \\\n",
      "0   2        602   16         2            6                 6   \n",
      "1   3       6366   18         1            6                 6   \n",
      "2   4       3563   15         1            4                 6   \n",
      "3   5       5433   16         1            6                 6   \n",
      "4   6       1142   17         2            5                 2   \n",
      "\n",
      "   father_education  mother_job  father_job  guardian  ...  attendance  \\\n",
      "0                 1           0           0         0  ...          95   \n",
      "1                 1           0           1         0  ...          92   \n",
      "2                 6           1           1         0  ...          81   \n",
      "3                 6           1           1         0  ...          90   \n",
      "4                 4           0           1         0  ...          75   \n",
      "\n",
      "   extra_curricular_activities  english  math  science  social_science  \\\n",
      "0                            1       95    98       92              94   \n",
      "1                            0       65    71       40              78   \n",
      "2                            1       64    78       58              86   \n",
      "3                            1       84    90       85              86   \n",
      "4                            1       54    70       45              79   \n",
      "\n",
      "   art_culture  gender_Male  stu_group_Commerce  stu_group_Science  \n",
      "0           98            1                   0                  1  \n",
      "1           80            0                   1                  0  \n",
      "2           74            1                   1                  0  \n",
      "3           88            1                   0                  1  \n",
      "4           76            1                   1                  0  \n",
      "\n",
      "[5 rows x 25 columns]\n"
     ]
    }
   ],
   "source": [
    "# Verify the encoded dataset\n",
    "print(\"\\nFully Encoded Dataset Preview:\")\n",
    "print(df_encoded.head())"
   ]
  },
  {
   "cell_type": "code",
   "execution_count": 16,
   "id": "2f4f5b68",
   "metadata": {
    "_cell_guid": "f256ae8a-abaf-445d-8402-928bdf3d2a27",
    "_uuid": "58076e19-73d2-4e94-9d8b-596760280276",
    "collapsed": false,
    "execution": {
     "iopub.execute_input": "2025-01-14T18:22:32.175917Z",
     "iopub.status.busy": "2025-01-14T18:22:32.175540Z",
     "iopub.status.idle": "2025-01-14T18:22:32.181472Z",
     "shell.execute_reply": "2025-01-14T18:22:32.180233Z"
    },
    "jupyter": {
     "outputs_hidden": false
    },
    "papermill": {
     "duration": 0.018515,
     "end_time": "2025-01-14T18:22:32.183331",
     "exception": false,
     "start_time": "2025-01-14T18:22:32.164816",
     "status": "completed"
    },
    "tags": []
   },
   "outputs": [
    {
     "name": "stdout",
     "output_type": "stream",
     "text": [
      "\n",
      "Data Type of 'gender_Male': bool\n"
     ]
    }
   ],
   "source": [
    "df_encoded# Display the data types of a sample column to confirm encoding\n",
    "print(\"\\nData Type of 'gender_Male':\", df_pandas_encoded['gender_Male'].dtype)"
   ]
  },
  {
   "cell_type": "code",
   "execution_count": 17,
   "id": "16790f7f",
   "metadata": {
    "_cell_guid": "9165a86e-434b-46dd-9f6e-f55d32ff9681",
    "_uuid": "e8726be2-3fe0-4ffe-b1ca-07c119df0f71",
    "collapsed": false,
    "execution": {
     "iopub.execute_input": "2025-01-14T18:22:32.204752Z",
     "iopub.status.busy": "2025-01-14T18:22:32.204326Z",
     "iopub.status.idle": "2025-01-14T18:22:32.208922Z",
     "shell.execute_reply": "2025-01-14T18:22:32.207831Z"
    },
    "jupyter": {
     "outputs_hidden": false
    },
    "papermill": {
     "duration": 0.017385,
     "end_time": "2025-01-14T18:22:32.210797",
     "exception": false,
     "start_time": "2025-01-14T18:22:32.193412",
     "status": "completed"
    },
    "tags": []
   },
   "outputs": [],
   "source": [
    "# Select features for clustering\n",
    "# 'parental_involvement' badd delm\n",
    "features_for_clustering = [\n",
    "    'location','father_job','internet_access','mother_job','studytime','extra_curricular_activities', 'tutoring', 'attendance', \n",
    "    'english', 'math', 'science', \n",
    "    'social_science', 'art_culture' \n",
    "]"
   ]
  },
  {
   "cell_type": "code",
   "execution_count": 18,
   "id": "bf7f4356",
   "metadata": {
    "_cell_guid": "d7192ca3-5b61-4174-adae-5a817dc31f5a",
    "_uuid": "5b915fb1-f0a6-46fe-9a26-cbd2d3dd7729",
    "collapsed": false,
    "execution": {
     "iopub.execute_input": "2025-01-14T18:22:32.232087Z",
     "iopub.status.busy": "2025-01-14T18:22:32.231729Z",
     "iopub.status.idle": "2025-01-14T18:22:32.236964Z",
     "shell.execute_reply": "2025-01-14T18:22:32.235966Z"
    },
    "jupyter": {
     "outputs_hidden": false
    },
    "papermill": {
     "duration": 0.017909,
     "end_time": "2025-01-14T18:22:32.238623",
     "exception": false,
     "start_time": "2025-01-14T18:22:32.220714",
     "status": "completed"
    },
    "tags": []
   },
   "outputs": [],
   "source": [
    "X = df_encoded[features_for_clustering]"
   ]
  },
  {
   "cell_type": "code",
   "execution_count": 19,
   "id": "1a523aa9",
   "metadata": {
    "_cell_guid": "5ddd1beb-c1aa-42e4-a130-aa6cef41e627",
    "_uuid": "00322672-d5d1-46c9-8e52-241384167225",
    "collapsed": false,
    "execution": {
     "iopub.execute_input": "2025-01-14T18:22:32.259845Z",
     "iopub.status.busy": "2025-01-14T18:22:32.259452Z",
     "iopub.status.idle": "2025-01-14T18:22:32.271070Z",
     "shell.execute_reply": "2025-01-14T18:22:32.270235Z"
    },
    "jupyter": {
     "outputs_hidden": false
    },
    "papermill": {
     "duration": 0.024287,
     "end_time": "2025-01-14T18:22:32.272879",
     "exception": false,
     "start_time": "2025-01-14T18:22:32.248592",
     "status": "completed"
    },
    "tags": []
   },
   "outputs": [],
   "source": [
    "# Standardize the features\n",
    "scaler = StandardScaler()\n",
    "X_scaled = scaler.fit_transform(X)"
   ]
  },
  {
   "cell_type": "code",
   "execution_count": 20,
   "id": "93576e8c",
   "metadata": {
    "_cell_guid": "428925e7-4a72-4918-96a7-169e47a6dc70",
    "_uuid": "734077d8-d0c4-4a77-ab5f-fe84399dd70d",
    "collapsed": false,
    "execution": {
     "iopub.execute_input": "2025-01-14T18:22:32.293872Z",
     "iopub.status.busy": "2025-01-14T18:22:32.293504Z",
     "iopub.status.idle": "2025-01-14T18:22:34.828968Z",
     "shell.execute_reply": "2025-01-14T18:22:34.826720Z"
    },
    "jupyter": {
     "outputs_hidden": false
    },
    "papermill": {
     "duration": 2.549665,
     "end_time": "2025-01-14T18:22:34.832460",
     "exception": false,
     "start_time": "2025-01-14T18:22:32.282795",
     "status": "completed"
    },
    "tags": []
   },
   "outputs": [
    {
     "name": "stderr",
     "output_type": "stream",
     "text": [
      "/usr/local/lib/python3.10/dist-packages/sklearn_extra/cluster/_k_medoids.py:329: UserWarning: Cluster 2 is empty! self.labels_[self.medoid_indices_[2]] may not be labeled with its corresponding cluster (2).\n",
      "  warnings.warn(\n"
     ]
    }
   ],
   "source": [
    "# Apply K-Medoids clustering with 3 clusters\n",
    "kmedoids = KMedoids(n_clusters=3, random_state=42)\n",
    "df_encoded['cluster'] = kmedoids.fit_predict(X_scaled)"
   ]
  },
  {
   "cell_type": "code",
   "execution_count": 21,
   "id": "e778e2bd",
   "metadata": {
    "_cell_guid": "386ebc72-d52f-4dde-998d-34cc9a135e26",
    "_uuid": "20daccb8-1c43-4808-947c-9cce32bbc970",
    "collapsed": false,
    "execution": {
     "iopub.execute_input": "2025-01-14T18:22:34.898552Z",
     "iopub.status.busy": "2025-01-14T18:22:34.897874Z",
     "iopub.status.idle": "2025-01-14T18:22:34.941092Z",
     "shell.execute_reply": "2025-01-14T18:22:34.940286Z"
    },
    "jupyter": {
     "outputs_hidden": false
    },
    "papermill": {
     "duration": 0.078882,
     "end_time": "2025-01-14T18:22:34.942823",
     "exception": false,
     "start_time": "2025-01-14T18:22:34.863941",
     "status": "completed"
    },
    "tags": []
   },
   "outputs": [
    {
     "name": "stdout",
     "output_type": "stream",
     "text": [
      "                  id    full_name        age  location  family_size  \\\n",
      "cluster                                                               \n",
      "0        4318.317472  3541.227752  16.593898  1.132946     4.521976   \n",
      "1        4359.064023  3540.093489  16.596217  1.008730     4.466715   \n",
      "2        4254.262189  3572.711334  16.647078  1.012270     4.511140   \n",
      "\n",
      "         mother_education  father_education  mother_job  father_job  guardian  \\\n",
      "cluster                                                                         \n",
      "0                3.521976          3.478024    0.696695    0.534326  0.969851   \n",
      "1                3.529647          3.508185    0.476537    0.553292  0.970171   \n",
      "2                3.494672          3.403939    0.289312    0.587988  0.899903   \n",
      "\n",
      "         ...  attendance  extra_curricular_activities    english       math  \\\n",
      "cluster  ...                                                                  \n",
      "0        ...   85.268071                     0.531057  87.507810  87.380312   \n",
      "1        ...   66.588578                     0.516188  55.707894  54.827210   \n",
      "2        ...   70.618663                     0.548273  77.170488  76.197933   \n",
      "\n",
      "           science  social_science  art_culture  gender_Male  \\\n",
      "cluster                                                        \n",
      "0        87.258627       87.551398    88.140937     0.521250   \n",
      "1        55.962168       57.483812    61.875591     0.511095   \n",
      "2        76.935098       77.943494    78.440749     0.482079   \n",
      "\n",
      "         stu_group_Commerce  stu_group_Science  \n",
      "cluster                                         \n",
      "0                  0.167090           0.831820  \n",
      "1                  0.033467           0.002183  \n",
      "2                  0.752018           0.218599  \n",
      "\n",
      "[3 rows x 25 columns]\n"
     ]
    }
   ],
   "source": [
    "# Analyze and interpret the clusters (add your code here to understand the characteristics of each cluster)\n",
    "# For example, you can calculate the mean of each feature within each cluster:\n",
    "\n",
    "cluster_means = df_encoded.groupby('cluster').mean()\n",
    "print(cluster_means)"
   ]
  },
  {
   "cell_type": "code",
   "execution_count": 22,
   "id": "b1e8920a",
   "metadata": {
    "_cell_guid": "36974b03-88a1-402c-8c7b-6b56187e1dc6",
    "_uuid": "092738f1-b112-4591-aca8-b6b68c4a5e31",
    "collapsed": false,
    "execution": {
     "iopub.execute_input": "2025-01-14T18:22:34.964334Z",
     "iopub.status.busy": "2025-01-14T18:22:34.963957Z",
     "iopub.status.idle": "2025-01-14T18:22:34.967853Z",
     "shell.execute_reply": "2025-01-14T18:22:34.966926Z"
    },
    "jupyter": {
     "outputs_hidden": false
    },
    "papermill": {
     "duration": 0.016425,
     "end_time": "2025-01-14T18:22:34.969539",
     "exception": false,
     "start_time": "2025-01-14T18:22:34.953114",
     "status": "completed"
    },
    "tags": []
   },
   "outputs": [],
   "source": [
    "# # Visualize the clusters (optional - choose appropriate features for visualization)\n",
    "# plt.scatter(df_encoded['math'], df_encoded['english'], c=df_encoded['cluster'])\n",
    "# plt.xlabel('Math Score')\n",
    "# plt.ylabel('English Score')\n",
    "# plt.title('Student Clusters')\n",
    "# plt.show()"
   ]
  },
  {
   "cell_type": "code",
   "execution_count": 23,
   "id": "5d1bab9f",
   "metadata": {
    "_cell_guid": "520735d3-b14c-4d5e-9402-1047be6d4341",
    "_uuid": "15933edb-6caf-4dfe-a45b-96e5b766a5b2",
    "collapsed": false,
    "execution": {
     "iopub.execute_input": "2025-01-14T18:22:34.991098Z",
     "iopub.status.busy": "2025-01-14T18:22:34.990706Z",
     "iopub.status.idle": "2025-01-14T18:22:35.029862Z",
     "shell.execute_reply": "2025-01-14T18:22:35.028249Z"
    },
    "jupyter": {
     "outputs_hidden": false
    },
    "papermill": {
     "duration": 0.053487,
     "end_time": "2025-01-14T18:22:35.033154",
     "exception": false,
     "start_time": "2025-01-14T18:22:34.979667",
     "status": "completed"
    },
    "tags": []
   },
   "outputs": [],
   "source": [
    "def remove_outliers_after_clustering(df, kmedoids, threshold=1.5):\n",
    "    \"\"\"\n",
    "    Removes outliers from a DataFrame after clustering based on distance to cluster centers.\n",
    "\n",
    "    Args:\n",
    "        df (pd.DataFrame): DataFrame with cluster assignments.\n",
    "        kmedoids (KMedoids): Fitted KMedoids object.\n",
    "        threshold (float): Standard deviation threshold for outlier detection.\n",
    "\n",
    "    Returns:\n",
    "        pd.DataFrame: DataFrame with outliers removed.\n",
    "    \"\"\"\n",
    "\n",
    "    df['distance_to_center'] = np.min(kmedoids.transform(df[features_for_clustering]), axis=1)\n",
    "    \n",
    "    # Calculate mean and standard deviation of distances for each cluster\n",
    "    cluster_stats = df.groupby('cluster')['distance_to_center'].agg(['mean', 'std'])\n",
    "\n",
    "    # Identify outliers based on threshold\n",
    "    df['outlier'] = False\n",
    "    for cluster_id in range(kmedoids.n_clusters):\n",
    "        mean_dist = cluster_stats.loc[cluster_id, 'mean']\n",
    "        std_dist = cluster_stats.loc[cluster_id, 'std']\n",
    "        df.loc[df['cluster'] == cluster_id, 'outlier'] = df.loc[df['cluster'] == cluster_id, 'distance_to_center'] > mean_dist + threshold * std_dist\n",
    "\n",
    "    # Remove outliers\n",
    "    df_filtered = df[df['outlier'] == False].copy()\n",
    "    df_filtered.drop(['distance_to_center', 'outlier'], axis=1, inplace=True)\n",
    "    return df_filtered\n",
    "\n",
    "df_filtered = remove_outliers_after_clustering(df_encoded.copy(), kmedoids)"
   ]
  },
  {
   "cell_type": "code",
   "execution_count": 24,
   "id": "c3e65c0a",
   "metadata": {
    "_cell_guid": "c70408ee-d794-46e3-965a-f06e50a2d116",
    "_uuid": "2f5e9c73-2a90-4bae-8bc7-9fd578a4cf63",
    "collapsed": false,
    "execution": {
     "iopub.execute_input": "2025-01-14T18:22:35.094258Z",
     "iopub.status.busy": "2025-01-14T18:22:35.093610Z",
     "iopub.status.idle": "2025-01-14T18:22:35.100385Z",
     "shell.execute_reply": "2025-01-14T18:22:35.098978Z"
    },
    "jupyter": {
     "outputs_hidden": false
    },
    "papermill": {
     "duration": 0.04156,
     "end_time": "2025-01-14T18:22:35.103973",
     "exception": false,
     "start_time": "2025-01-14T18:22:35.062413",
     "status": "completed"
    },
    "tags": []
   },
   "outputs": [],
   "source": [
    "# Assign labels to clusters based on your analysis\n",
    "cluster_labels = {\n",
    "    0: 'Excellent', \n",
    "    1: 'Moderate', \n",
    "    2: 'At-Risk'  \n",
    "}"
   ]
  },
  {
   "cell_type": "code",
   "execution_count": 25,
   "id": "1ca7f824",
   "metadata": {
    "_cell_guid": "87b2249c-c53c-4148-bc4e-af060507c12a",
    "_uuid": "2ae5375f-f8d7-4878-84ba-d0b0ae787109",
    "execution": {
     "iopub.execute_input": "2025-01-14T18:22:35.140315Z",
     "iopub.status.busy": "2025-01-14T18:22:35.139904Z",
     "iopub.status.idle": "2025-01-14T18:22:35.144480Z",
     "shell.execute_reply": "2025-01-14T18:22:35.143268Z"
    },
    "jupyter": {
     "source_hidden": true
    },
    "papermill": {
     "duration": 0.017791,
     "end_time": "2025-01-14T18:22:35.146051",
     "exception": false,
     "start_time": "2025-01-14T18:22:35.128260",
     "status": "completed"
    },
    "tags": []
   },
   "outputs": [],
   "source": [
    "# pca = PCA(n_components=2)  # Reduce to 2 dimensions\n",
    "# X_pca = pca.fit_transform(X_scaled)\n",
    "\n",
    "# plt.scatter(X_pca[:, 0], X_pca[:, 1], c=df_encoded['cluster'])\n",
    "# plt.xlabel('Principal Component 1')\n",
    "# plt.ylabel('Principal Component 2')\n",
    "# plt.title('Clusters visualized with PCA')\n",
    "# plt.show()\n",
    "\n",
    "# X_filtered = df_filtered[features_for_clustering]\n",
    "\n",
    "# # Standardize the features of the filtered DataFrame\n",
    "# X_scaled_filtered = scaler.fit_transform(X_filtered)\n",
    "\n",
    "# pca = PCA(n_components=2)\n",
    "# X_pca = pca.fit_transform(X_scaled_filtered)\n",
    "# plt.scatter(X_pca[:, 0], X_pca[:, 1], c=df_filtered['cluster'])  # Use df_filtered['cluster'] for colors\n",
    "# plt.xlabel('Principal Component 1')\n",
    "# plt.ylabel('Principal Component 2')\n",
    "# plt.title('Clusters visualized with PCA (after outlier removal)')\n",
    "# plt.show()"
   ]
  },
  {
   "cell_type": "code",
   "execution_count": 26,
   "id": "36fde87f",
   "metadata": {
    "_cell_guid": "302cd0a5-3c23-4195-b91e-e6e2364db94f",
    "_uuid": "1634509f-396d-4896-96d0-f4837055344a",
    "execution": {
     "iopub.execute_input": "2025-01-14T18:22:35.167565Z",
     "iopub.status.busy": "2025-01-14T18:22:35.167195Z",
     "iopub.status.idle": "2025-01-14T18:22:35.171086Z",
     "shell.execute_reply": "2025-01-14T18:22:35.170084Z"
    },
    "jupyter": {
     "source_hidden": true
    },
    "papermill": {
     "duration": 0.016688,
     "end_time": "2025-01-14T18:22:35.172995",
     "exception": false,
     "start_time": "2025-01-14T18:22:35.156307",
     "status": "completed"
    },
    "tags": []
   },
   "outputs": [],
   "source": [
    "# tsne = TSNE(n_components=2, random_state=42)\n",
    "# X_tsne = tsne.fit_transform(X_scaled)\n",
    "\n",
    "# plt.scatter(X_tsne[:, 0], X_tsne[:, 1], c=df_encoded['cluster'])\n",
    "# plt.xlabel('t-SNE Dimension 1')\n",
    "# plt.ylabel('t-SNE Dimension 2')\n",
    "# plt.title('Clusters visualized with t-SNE')\n",
    "# plt.show()\n",
    "\n",
    "# tsne = TSNE(n_components=2, random_state=42)\n",
    "# X_tsne = tsne.fit_transform(X_scaled_filtered)\n",
    "\n",
    "# plt.scatter(X_tsne[:, 0], X_tsne[:, 1], c=df_filtered['cluster'])\n",
    "# plt.xlabel('t-SNE Dimension 1')\n",
    "# plt.ylabel('t-SNE Dimension 2')\n",
    "# plt.title('Clusters visualized with t-SNE After outlier Removal')\n",
    "# plt.show()"
   ]
  },
  {
   "cell_type": "code",
   "execution_count": 27,
   "id": "33c4de54",
   "metadata": {
    "_cell_guid": "5fd1323e-6fe3-4ab2-a1a5-5a009a0e7ec3",
    "_uuid": "d6b44944-f083-491c-967e-6c0abc35c225",
    "execution": {
     "iopub.execute_input": "2025-01-14T18:22:35.195071Z",
     "iopub.status.busy": "2025-01-14T18:22:35.194697Z",
     "iopub.status.idle": "2025-01-14T18:22:35.199298Z",
     "shell.execute_reply": "2025-01-14T18:22:35.198036Z"
    },
    "jupyter": {
     "source_hidden": true
    },
    "papermill": {
     "duration": 0.017613,
     "end_time": "2025-01-14T18:22:35.201202",
     "exception": false,
     "start_time": "2025-01-14T18:22:35.183589",
     "status": "completed"
    },
    "tags": []
   },
   "outputs": [],
   "source": [
    "# from sklearn.metrics import silhouette_score\n",
    "\n",
    "# silhouette_avg = silhouette_score(X_scaled_filtered, df_filtered['cluster']) \n",
    "# print(f\"Silhouette Score: {silhouette_avg}\")\n",
    "\n",
    "# inertia = kmedoids.inertia_\n",
    "# print(f\"Inertia: {inertia}\")\n",
    "\n",
    "# from sklearn.metrics import davies_bouldin_score\n",
    "\n",
    "# db_index = davies_bouldin_score(X_scaled_filtered, df_filtered['cluster'])\n",
    "# print(f\"Davies-Bouldin Index: {db_index}\")\n",
    "\n",
    "# from sklearn.metrics import calinski_harabasz_score\n",
    "\n",
    "# ch_index = calinski_harabasz_score(X_scaled_filtered, df_filtered['cluster'])\n",
    "# print(f\"Calinski-Harabasz Index: {ch_index}\")"
   ]
  },
  {
   "cell_type": "code",
   "execution_count": 28,
   "id": "d5a6cba1",
   "metadata": {
    "_cell_guid": "559c5828-c4e6-4997-9d89-4b917a54af54",
    "_uuid": "cf57ce6a-da83-4459-bb24-3268615c27fa",
    "execution": {
     "iopub.execute_input": "2025-01-14T18:22:35.222272Z",
     "iopub.status.busy": "2025-01-14T18:22:35.221876Z",
     "iopub.status.idle": "2025-01-14T18:22:35.228758Z",
     "shell.execute_reply": "2025-01-14T18:22:35.227448Z"
    },
    "jupyter": {
     "source_hidden": true
    },
    "papermill": {
     "duration": 0.019608,
     "end_time": "2025-01-14T18:22:35.230810",
     "exception": false,
     "start_time": "2025-01-14T18:22:35.211202",
     "status": "completed"
    },
    "tags": []
   },
   "outputs": [
    {
     "name": "stdout",
     "output_type": "stream",
     "text": [
      "Points in each cluster: Counter({2: 3097, 0: 2753, 1: 2749})\n"
     ]
    }
   ],
   "source": [
    "# Cluster assignments\n",
    "labels = kmedoids.labels_\n",
    "\n",
    "# Count points in each cluster\n",
    "from collections import Counter\n",
    "point_counts = Counter(labels)\n",
    "print(\"Points in each cluster:\", point_counts)"
   ]
  },
  {
   "cell_type": "code",
   "execution_count": 29,
   "id": "0b06e683",
   "metadata": {
    "_cell_guid": "d2ba9f86-efb1-4a4d-8f56-5a493ba6bcfb",
    "_uuid": "3cedbb11-8fa2-4343-8ca7-e8f19ac361a1",
    "collapsed": false,
    "execution": {
     "iopub.execute_input": "2025-01-14T18:22:35.252181Z",
     "iopub.status.busy": "2025-01-14T18:22:35.251782Z",
     "iopub.status.idle": "2025-01-14T18:22:35.263031Z",
     "shell.execute_reply": "2025-01-14T18:22:35.261915Z"
    },
    "jupyter": {
     "outputs_hidden": false
    },
    "papermill": {
     "duration": 0.023889,
     "end_time": "2025-01-14T18:22:35.264868",
     "exception": false,
     "start_time": "2025-01-14T18:22:35.240979",
     "status": "completed"
    },
    "tags": []
   },
   "outputs": [],
   "source": [
    "from sklearn.metrics import precision_score, recall_score, f1_score, confusion_matrix, classification_report\n",
    "df_encoded['cluster_label'] = df_encoded['cluster'].map(cluster_labels)\n",
    "X_classification = df_encoded[features_for_clustering]\n",
    "y_classification = df_encoded['cluster']\n",
    "\n",
    "X_train, X_test, y_train, y_test = train_test_split(X_classification, y_classification, test_size=0.3, random_state=42)"
   ]
  },
  {
   "cell_type": "code",
   "execution_count": 30,
   "id": "536372fd",
   "metadata": {
    "execution": {
     "iopub.execute_input": "2025-01-14T18:22:35.286653Z",
     "iopub.status.busy": "2025-01-14T18:22:35.286295Z",
     "iopub.status.idle": "2025-01-14T18:22:35.724536Z",
     "shell.execute_reply": "2025-01-14T18:22:35.723605Z"
    },
    "papermill": {
     "duration": 0.451206,
     "end_time": "2025-01-14T18:22:35.726431",
     "exception": false,
     "start_time": "2025-01-14T18:22:35.275225",
     "status": "completed"
    },
    "tags": []
   },
   "outputs": [],
   "source": [
    "from sklearn.ensemble import AdaBoostClassifier\n",
    "\n",
    "# Train an AdaBoost classifier\n",
    "ab_classifier = AdaBoostClassifier(random_state=42)\n",
    "ab_classifier.fit(X_train, y_train)\n",
    "\n",
    "# Make predictions\n",
    "y_pred = ab_classifier.predict(X_test)\n"
   ]
  },
  {
   "cell_type": "code",
   "execution_count": 31,
   "id": "d9712238",
   "metadata": {
    "_cell_guid": "291dcba9-d510-4c2c-8d26-b3699884998f",
    "_uuid": "babdeb2e-1f72-4ef2-adc8-d9ba34ad867e",
    "collapsed": false,
    "execution": {
     "iopub.execute_input": "2025-01-14T18:22:35.747765Z",
     "iopub.status.busy": "2025-01-14T18:22:35.747378Z",
     "iopub.status.idle": "2025-01-14T18:22:35.775952Z",
     "shell.execute_reply": "2025-01-14T18:22:35.774892Z"
    },
    "jupyter": {
     "outputs_hidden": false
    },
    "papermill": {
     "duration": 0.041272,
     "end_time": "2025-01-14T18:22:35.777802",
     "exception": false,
     "start_time": "2025-01-14T18:22:35.736530",
     "status": "completed"
    },
    "tags": []
   },
   "outputs": [
    {
     "name": "stdout",
     "output_type": "stream",
     "text": [
      "Accuracy: 0.89\n",
      "Precision: 0.90\n",
      "Recall: 0.89\n",
      "F1 Score: 0.89\n",
      "Confusion Matrix:\n",
      "[[602   0 204]\n",
      " [  0 816  17]\n",
      " [ 48   4 889]]\n",
      "Classification Report:\n",
      "              precision    recall  f1-score   support\n",
      "\n",
      "           0       0.93      0.75      0.83       806\n",
      "           1       1.00      0.98      0.99       833\n",
      "           2       0.80      0.94      0.87       941\n",
      "\n",
      "    accuracy                           0.89      2580\n",
      "   macro avg       0.91      0.89      0.89      2580\n",
      "weighted avg       0.90      0.89      0.89      2580\n",
      "\n"
     ]
    }
   ],
   "source": [
    "\n",
    "\n",
    "# Evaluate the classifier\n",
    "accuracy = accuracy_score(y_test, y_pred)\n",
    "precision = precision_score(y_test, y_pred, average='weighted')\n",
    "recall = recall_score(y_test, y_pred, average='weighted')\n",
    "f1 = f1_score(y_test, y_pred, average='weighted')\n",
    "conf_matrix = confusion_matrix(y_test, y_pred)\n",
    "class_report = classification_report(y_test, y_pred)\n",
    "\n",
    "# Print evaluation metrics\n",
    "print(f\"Accuracy: {accuracy:.2f}\")\n",
    "print(f\"Precision: {precision:.2f}\")\n",
    "print(f\"Recall: {recall:.2f}\")\n",
    "print(f\"F1 Score: {f1:.2f}\")\n",
    "print(\"Confusion Matrix:\")\n",
    "print(conf_matrix)\n",
    "print(\"Classification Report:\")\n",
    "print(class_report)"
   ]
  },
  {
   "cell_type": "code",
   "execution_count": 32,
   "id": "b18a4052",
   "metadata": {
    "_cell_guid": "8a769459-2483-4c9d-8432-aac1e084b491",
    "_uuid": "d43878ba-367e-4344-8eff-6039de811ea6",
    "collapsed": false,
    "execution": {
     "iopub.execute_input": "2025-01-14T18:22:35.800186Z",
     "iopub.status.busy": "2025-01-14T18:22:35.799776Z",
     "iopub.status.idle": "2025-01-14T18:22:36.206330Z",
     "shell.execute_reply": "2025-01-14T18:22:36.205270Z"
    },
    "jupyter": {
     "outputs_hidden": false
    },
    "papermill": {
     "duration": 0.419938,
     "end_time": "2025-01-14T18:22:36.208217",
     "exception": false,
     "start_time": "2025-01-14T18:22:35.788279",
     "status": "completed"
    },
    "tags": []
   },
   "outputs": [
    {
     "data": {
      "image/png": "[encoded data removed]",
      "text/plain": [
       "<Figure size 800x600 with 2 Axes>"
      ]
     },
     "metadata": {},
     "output_type": "display_data"
    }
   ],
   "source": [
    "import itertools\n",
    "plt.figure(figsize=(8, 6))\n",
    "plt.imshow(conf_matrix, interpolation='nearest', cmap=plt.cm.Blues)\n",
    "plt.title('Confusion Matrix')\n",
    "plt.colorbar()\n",
    "tick_marks = range(len(cluster_labels))\n",
    "plt.xticks(tick_marks, cluster_labels.values(), rotation=45)\n",
    "plt.yticks(tick_marks, cluster_labels.values())\n",
    "\n",
    "thresh = conf_matrix.max() / 2.\n",
    "for i, j in itertools.product(range(conf_matrix.shape[0]), range(conf_matrix.shape[1])):\n",
    "    plt.text(j, i, format(conf_matrix[i, j], 'd'),\n",
    "             horizontalalignment=\"center\",\n",
    "             color=\"white\" if conf_matrix[i, j] > thresh else \"black\")\n",
    "\n",
    "plt.ylabel('True label')\n",
    "plt.xlabel('Predicted label')\n",
    "plt.tight_layout()\n",
    "plt.show()"
   ]
  },
  {
   "cell_type": "code",
   "execution_count": 33,
   "id": "26712a33",
   "metadata": {
    "_cell_guid": "26f454e9-279d-4232-ad10-4db4373bcf67",
    "_uuid": "b861a06f-35ff-4825-99c3-e1d39ee9805b",
    "collapsed": false,
    "execution": {
     "iopub.execute_input": "2025-01-14T18:22:36.231915Z",
     "iopub.status.busy": "2025-01-14T18:22:36.231527Z",
     "iopub.status.idle": "2025-01-14T18:22:36.242047Z",
     "shell.execute_reply": "2025-01-14T18:22:36.241101Z"
    },
    "jupyter": {
     "outputs_hidden": false
    },
    "papermill": {
     "duration": 0.024517,
     "end_time": "2025-01-14T18:22:36.244052",
     "exception": false,
     "start_time": "2025-01-14T18:22:36.219535",
     "status": "completed"
    },
    "tags": []
   },
   "outputs": [],
   "source": [
    "from sklearn.svm import SVC\n",
    "from sklearn.metrics import precision_score, recall_score, f1_score, confusion_matrix, classification_report\n",
    "\n",
    "df_filtered['cluster_label'] = df_filtered['cluster'].map(cluster_labels)\n",
    "X_classification = df_filtered[features_for_clustering]\n",
    "y_classification = df_filtered['cluster']\n",
    "\n",
    "X_train, X_test, y_train, y_test = train_test_split(X_classification, y_classification, test_size=0.3, random_state=42)"
   ]
  },
  {
   "cell_type": "code",
   "execution_count": 34,
   "id": "5aac39ab",
   "metadata": {
    "execution": {
     "iopub.execute_input": "2025-01-14T18:22:36.267822Z",
     "iopub.status.busy": "2025-01-14T18:22:36.267467Z",
     "iopub.status.idle": "2025-01-14T18:22:36.563885Z",
     "shell.execute_reply": "2025-01-14T18:22:36.562981Z"
    },
    "papermill": {
     "duration": 0.310595,
     "end_time": "2025-01-14T18:22:36.565925",
     "exception": false,
     "start_time": "2025-01-14T18:22:36.255330",
     "status": "completed"
    },
    "tags": []
   },
   "outputs": [],
   "source": [
    "from sklearn.ensemble import AdaBoostClassifier\n",
    "\n",
    "# Train an AdaBoost classifier\n",
    "ab_classifier = AdaBoostClassifier(random_state=42)\n",
    "ab_classifier.fit(X_train, y_train)\n",
    "\n",
    "# Make predictions\n",
    "y_pred = ab_classifier.predict(X_test)\n"
   ]
  },
  {
   "cell_type": "code",
   "execution_count": 35,
   "id": "06bf3748",
   "metadata": {
    "_cell_guid": "5d0dbd53-2000-44ec-adc6-bac21cb5b22e",
    "_uuid": "613564d9-f0ae-4589-8423-891630aa0b8b",
    "collapsed": false,
    "execution": {
     "iopub.execute_input": "2025-01-14T18:22:36.589240Z",
     "iopub.status.busy": "2025-01-14T18:22:36.588835Z",
     "iopub.status.idle": "2025-01-14T18:22:36.616522Z",
     "shell.execute_reply": "2025-01-14T18:22:36.615080Z"
    },
    "jupyter": {
     "outputs_hidden": false
    },
    "papermill": {
     "duration": 0.04165,
     "end_time": "2025-01-14T18:22:36.618539",
     "exception": false,
     "start_time": "2025-01-14T18:22:36.576889",
     "status": "completed"
    },
    "tags": []
   },
   "outputs": [
    {
     "name": "stdout",
     "output_type": "stream",
     "text": [
      "Accuracy: 0.94\n",
      "Precision: 0.94\n",
      "Recall: 0.94\n",
      "F1 Score: 0.94\n",
      "Confusion Matrix:\n",
      "[[716   0  94]\n",
      " [  0 750   7]\n",
      " [ 50   3 758]]\n",
      "Classification Report:\n",
      "              precision    recall  f1-score   support\n",
      "\n",
      "           0       0.93      0.88      0.91       810\n",
      "           1       1.00      0.99      0.99       757\n",
      "           2       0.88      0.93      0.91       811\n",
      "\n",
      "    accuracy                           0.94      2378\n",
      "   macro avg       0.94      0.94      0.94      2378\n",
      "weighted avg       0.94      0.94      0.94      2378\n",
      "\n"
     ]
    }
   ],
   "source": [
    "\n",
    "\n",
    "# Evaluate the classifier\n",
    "accuracy = accuracy_score(y_test, y_pred)\n",
    "precision = precision_score(y_test, y_pred, average='weighted')\n",
    "recall = recall_score(y_test, y_pred, average='weighted')\n",
    "f1 = f1_score(y_test, y_pred, average='weighted')\n",
    "conf_matrix = confusion_matrix(y_test, y_pred)\n",
    "class_report = classification_report(y_test, y_pred)\n",
    "\n",
    "# Print evaluation metrics\n",
    "print(f\"Accuracy: {accuracy:.2f}\")\n",
    "print(f\"Precision: {precision:.2f}\")\n",
    "print(f\"Recall: {recall:.2f}\")\n",
    "print(f\"F1 Score: {f1:.2f}\")\n",
    "print(\"Confusion Matrix:\")\n",
    "print(conf_matrix)\n",
    "print(\"Classification Report:\")\n",
    "print(class_report)"
   ]
  },
  {
   "cell_type": "code",
   "execution_count": 36,
   "id": "0eabed2f",
   "metadata": {
    "_cell_guid": "7c77b558-4451-43e4-9761-441e09f6e368",
    "_uuid": "76c4abe4-5ca4-4286-af0a-0b5b4c2d2ab1",
    "collapsed": false,
    "execution": {
     "iopub.execute_input": "2025-01-14T18:22:36.642016Z",
     "iopub.status.busy": "2025-01-14T18:22:36.641667Z",
     "iopub.status.idle": "2025-01-14T18:22:36.994385Z",
     "shell.execute_reply": "2025-01-14T18:22:36.993159Z"
    },
    "jupyter": {
     "outputs_hidden": false
    },
    "papermill": {
     "duration": 0.36644,
     "end_time": "2025-01-14T18:22:36.996266",
     "exception": false,
     "start_time": "2025-01-14T18:22:36.629826",
     "status": "completed"
    },
    "tags": []
   },
   "outputs": [
    {
     "data": {
      "image/png": "[encoded data removed]",
      "text/plain": [
       "<Figure size 800x600 with 2 Axes>"
      ]
     },
     "metadata": {},
     "output_type": "display_data"
    }
   ],
   "source": [
    "import itertools\n",
    "plt.figure(figsize=(8, 6))\n",
    "plt.imshow(conf_matrix, interpolation='nearest', cmap=plt.cm.Blues)\n",
    "plt.title('Confusion Matrix')\n",
    "plt.colorbar()\n",
    "tick_marks = range(len(cluster_labels))\n",
    "plt.xticks(tick_marks, cluster_labels.values(), rotation=45)\n",
    "plt.yticks(tick_marks, cluster_labels.values())\n",
    "\n",
    "thresh = conf_matrix.max() / 2.\n",
    "for i, j in itertools.product(range(conf_matrix.shape[0]), range(conf_matrix.shape[1])):\n",
    "    plt.text(j, i, format(conf_matrix[i, j], 'd'),\n",
    "             horizontalalignment=\"center\",\n",
    "             color=\"white\" if conf_matrix[i, j] > thresh else \"black\")\n",
    "\n",
    "plt.ylabel('True label')\n",
    "plt.xlabel('Predicted label')\n",
    "plt.tight_layout()\n",
    "plt.show()"
   ]
  },
  {
   "cell_type": "code",
   "execution_count": null,
   "id": "a3fbf8cd",
   "metadata": {
    "_cell_guid": "e0bffbdf-914a-4a54-a5bb-aa5dc8a0c1f7",
    "_uuid": "edd96633-12d5-4875-9300-27960c00f38a",
    "collapsed": false,
    "jupyter": {
     "outputs_hidden": false
    },
    "papermill": {
     "duration": 0.011533,
     "end_time": "2025-01-14T18:22:37.019794",
     "exception": false,
     "start_time": "2025-01-14T18:22:37.008261",
     "status": "completed"
    },
    "tags": []
   },
   "outputs": [],
   "source": []
  }
 ],
 "metadata": {
  "kaggle": {
   "accelerator": "none",
   "dataSources": [
    {
     "datasetId": 6082550,
     "sourceId": 10038088,
     "sourceType": "datasetVersion"
    }
   ],
   "dockerImageVersionId": 30822,
   "isGpuEnabled": false,
   "isInternetEnabled": true,
   "language": "python",
   "sourceType": "notebook"
  },
  "kernelspec": {
   "display_name": "Python 3",
   "language": "python",
   "name": "python3"
  },
  "language_info": {
   "codemirror_mode": {
    "name": "ipython",
    "version": 3
   },
   "file_extension": ".py",
   "mimetype": "text/x-python",
   "name": "python",
   "nbconvert_exporter": "python",
   "pygments_lexer": "ipython3",
   "version": "3.10.12"
  },
  "papermill": {
   "default_parameters": {},
   "duration": 16.92016,
   "end_time": "2025-01-14T18:22:37.752053",
   "environment_variables": {},
   "exception": null,
   "input_path": "__notebook__.ipynb",
   "output_path": "__notebook__.ipynb",
   "parameters": {},
   "start_time": "2025-01-14T18:22:20.831893",
   "version": "2.6.0"
  }
 },
 "nbformat": 4,
 "nbformat_minor": 5
}
