{
 "cells": [
  {
   "cell_type": "code",
   "execution_count": 1,
   "id": "7803d388",
   "metadata": {
    "_cell_guid": "b1076dfc-b9ad-4769-8c92-a6c4dae69d19",
    "_uuid": "8f2839f25d086af736a60e9eeb907d3b93b6e0e5",
    "execution": {
     "iopub.execute_input": "2025-01-14T18:38:56.289596Z",
     "iopub.status.busy": "2025-01-14T18:38:56.289250Z",
     "iopub.status.idle": "2025-01-14T18:38:58.330675Z",
     "shell.execute_reply": "2025-01-14T18:38:58.329952Z"
    },
    "papermill": {
     "duration": 2.052258,
     "end_time": "2025-01-14T18:38:58.332169",
     "exception": false,
     "start_time": "2025-01-14T18:38:56.279911",
     "status": "completed"
    },
    "tags": []
   },
   "outputs": [],
   "source": [
    "import numpy as np\n",
    "import pandas as pd\n",
    "import matplotlib.pyplot as plt\n",
    "from sklearn.cluster import KMeans\n",
    "from sklearn.preprocessing import StandardScaler, LabelEncoder\n",
    "from sklearn.neighbors import KNeighborsClassifier\n",
    "from sklearn.model_selection import train_test_split\n",
    "from sklearn.metrics import accuracy_score, confusion_matrix, classification_report\n",
    "from sklearn.manifold import TSNE\n",
    "from sklearn.decomposition import PCA"
   ]
  },
  {
   "cell_type": "code",
   "execution_count": 2,
   "id": "47b1f08f",
   "metadata": {
    "execution": {
     "iopub.execute_input": "2025-01-14T18:38:58.347969Z",
     "iopub.status.busy": "2025-01-14T18:38:58.347535Z",
     "iopub.status.idle": "2025-01-14T18:38:58.406422Z",
     "shell.execute_reply": "2025-01-14T18:38:58.405684Z"
    },
    "papermill": {
     "duration": 0.068318,
     "end_time": "2025-01-14T18:38:58.408022",
     "exception": false,
     "start_time": "2025-01-14T18:38:58.339704",
     "status": "completed"
    },
    "tags": []
   },
   "outputs": [],
   "source": [
    "dataset = pd.read_csv(\"/kaggle/input/student-performance-bd/bd_students_per_v2.csv\")"
   ]
  },
  {
   "cell_type": "code",
   "execution_count": 3,
   "id": "0959b2e7",
   "metadata": {
    "execution": {
     "iopub.execute_input": "2025-01-14T18:38:58.424202Z",
     "iopub.status.busy": "2025-01-14T18:38:58.423852Z",
     "iopub.status.idle": "2025-01-14T18:38:58.443205Z",
     "shell.execute_reply": "2025-01-14T18:38:58.442060Z"
    },
    "papermill": {
     "duration": 0.028819,
     "end_time": "2025-01-14T18:38:58.444678",
     "exception": false,
     "start_time": "2025-01-14T18:38:58.415859",
     "status": "completed"
    },
    "tags": []
   },
   "outputs": [
    {
     "name": "stdout",
     "output_type": "stream",
     "text": [
      "Dataset Preview:\n",
      "   id         full_name  age  gender location  family_size mother_education  \\\n",
      "0   2        Avi Biswas   16    Male    Urban            6              SSC   \n",
      "1   3   Taslima Sultana   18  Female    Rural            6              SSC   \n",
      "2   4  Md Adilur Rahman   15    Male    Rural            4              SSC   \n",
      "3   5       Saleh Ahmed   16    Male    Rural            6              SSC   \n",
      "4   6         Din Islam   17    Male    Urban            5           Honors   \n",
      "\n",
      "  father_education mother_job father_job  ... tutoring school_type attendance  \\\n",
      "0              HSC         No         No  ...      Yes     Private         95   \n",
      "1              HSC         No        Yes  ...       No   Semi_Govt         92   \n",
      "2              SSC        Yes        Yes  ...      Yes        Govt         81   \n",
      "3              SSC        Yes        Yes  ...      Yes     Private         90   \n",
      "4          Masters         No        Yes  ...      Yes   Semi_Govt         75   \n",
      "\n",
      "   extra_curricular_activities english math  science social_science  \\\n",
      "0                          Yes      95   98       92             94   \n",
      "1                           No      65   71       40             78   \n",
      "2                          Yes      64   78       58             86   \n",
      "3                          Yes      84   90       85             86   \n",
      "4                          Yes      54   70       45             79   \n",
      "\n",
      "   art_culture  stu_group  \n",
      "0           98    Science  \n",
      "1           80   Commerce  \n",
      "2           74   Commerce  \n",
      "3           88    Science  \n",
      "4           76   Commerce  \n",
      "\n",
      "[5 rows x 24 columns]\n"
     ]
    }
   ],
   "source": [
    "print(\"Dataset Preview:\")\n",
    "print(dataset.head())"
   ]
  },
  {
   "cell_type": "code",
   "execution_count": 4,
   "id": "e8fcb608",
   "metadata": {
    "execution": {
     "iopub.execute_input": "2025-01-14T18:38:58.460619Z",
     "iopub.status.busy": "2025-01-14T18:38:58.460237Z",
     "iopub.status.idle": "2025-01-14T18:38:58.464758Z",
     "shell.execute_reply": "2025-01-14T18:38:58.464019Z"
    },
    "papermill": {
     "duration": 0.013807,
     "end_time": "2025-01-14T18:38:58.465978",
     "exception": false,
     "start_time": "2025-01-14T18:38:58.452171",
     "status": "completed"
    },
    "tags": []
   },
   "outputs": [
    {
     "name": "stdout",
     "output_type": "stream",
     "text": [
      "\n",
      "Dataset Shape: (8612, 24)\n"
     ]
    }
   ],
   "source": [
    "print(\"\\nDataset Shape:\", dataset.shape)"
   ]
  },
  {
   "cell_type": "code",
   "execution_count": 5,
   "id": "7a3b339f",
   "metadata": {
    "execution": {
     "iopub.execute_input": "2025-01-14T18:38:58.481865Z",
     "iopub.status.busy": "2025-01-14T18:38:58.481595Z",
     "iopub.status.idle": "2025-01-14T18:38:58.492096Z",
     "shell.execute_reply": "2025-01-14T18:38:58.491171Z"
    },
    "papermill": {
     "duration": 0.019616,
     "end_time": "2025-01-14T18:38:58.493400",
     "exception": false,
     "start_time": "2025-01-14T18:38:58.473784",
     "status": "completed"
    },
    "tags": []
   },
   "outputs": [
    {
     "name": "stdout",
     "output_type": "stream",
     "text": [
      "\n",
      "Missing Values:\n",
      "id                              0\n",
      "full_name                       0\n",
      "age                             0\n",
      "gender                          0\n",
      "location                        1\n",
      "family_size                     0\n",
      "mother_education               10\n",
      "father_education                4\n",
      "mother_job                      0\n",
      "father_job                      0\n",
      "guardian                        0\n",
      "parental_involvement            0\n",
      "internet_access                 0\n",
      "studytime                       0\n",
      "tutoring                        0\n",
      "school_type                     0\n",
      "attendance                      0\n",
      "extra_curricular_activities     0\n",
      "english                         0\n",
      "math                            0\n",
      "science                         0\n",
      "social_science                  0\n",
      "art_culture                     0\n",
      "stu_group                       0\n",
      "dtype: int64\n"
     ]
    }
   ],
   "source": [
    "print(\"\\nMissing Values:\")\n",
    "print(dataset.isnull().sum())"
   ]
  },
  {
   "cell_type": "code",
   "execution_count": 6,
   "id": "94665c72",
   "metadata": {
    "execution": {
     "iopub.execute_input": "2025-01-14T18:38:58.509820Z",
     "iopub.status.busy": "2025-01-14T18:38:58.509521Z",
     "iopub.status.idle": "2025-01-14T18:38:58.533881Z",
     "shell.execute_reply": "2025-01-14T18:38:58.532893Z"
    },
    "papermill": {
     "duration": 0.034038,
     "end_time": "2025-01-14T18:38:58.535385",
     "exception": false,
     "start_time": "2025-01-14T18:38:58.501347",
     "status": "completed"
    },
    "tags": []
   },
   "outputs": [
    {
     "data": {
      "text/html": [
       "<div>\n",
       "<style scoped>\n",
       "    .dataframe tbody tr th:only-of-type {\n",
       "        vertical-align: middle;\n",
       "    }\n",
       "\n",
       "    .dataframe tbody tr th {\n",
       "        vertical-align: top;\n",
       "    }\n",
       "\n",
       "    .dataframe thead th {\n",
       "        text-align: right;\n",
       "    }\n",
       "</style>\n",
       "<table border=\"1\" class=\"dataframe\">\n",
       "  <thead>\n",
       "    <tr style=\"text-align: right;\">\n",
       "      <th></th>\n",
       "      <th>id</th>\n",
       "      <th>full_name</th>\n",
       "      <th>age</th>\n",
       "      <th>gender</th>\n",
       "      <th>location</th>\n",
       "      <th>family_size</th>\n",
       "      <th>mother_education</th>\n",
       "      <th>father_education</th>\n",
       "      <th>mother_job</th>\n",
       "      <th>father_job</th>\n",
       "      <th>...</th>\n",
       "      <th>tutoring</th>\n",
       "      <th>school_type</th>\n",
       "      <th>attendance</th>\n",
       "      <th>extra_curricular_activities</th>\n",
       "      <th>english</th>\n",
       "      <th>math</th>\n",
       "      <th>science</th>\n",
       "      <th>social_science</th>\n",
       "      <th>art_culture</th>\n",
       "      <th>stu_group</th>\n",
       "    </tr>\n",
       "  </thead>\n",
       "  <tbody>\n",
       "    <tr>\n",
       "      <th>0</th>\n",
       "      <td>2</td>\n",
       "      <td>Avi Biswas</td>\n",
       "      <td>16</td>\n",
       "      <td>Male</td>\n",
       "      <td>Urban</td>\n",
       "      <td>6</td>\n",
       "      <td>SSC</td>\n",
       "      <td>HSC</td>\n",
       "      <td>No</td>\n",
       "      <td>No</td>\n",
       "      <td>...</td>\n",
       "      <td>Yes</td>\n",
       "      <td>Private</td>\n",
       "      <td>95</td>\n",
       "      <td>Yes</td>\n",
       "      <td>95</td>\n",
       "      <td>98</td>\n",
       "      <td>92</td>\n",
       "      <td>94</td>\n",
       "      <td>98</td>\n",
       "      <td>Science</td>\n",
       "    </tr>\n",
       "    <tr>\n",
       "      <th>1</th>\n",
       "      <td>3</td>\n",
       "      <td>Taslima Sultana</td>\n",
       "      <td>18</td>\n",
       "      <td>Female</td>\n",
       "      <td>Rural</td>\n",
       "      <td>6</td>\n",
       "      <td>SSC</td>\n",
       "      <td>HSC</td>\n",
       "      <td>No</td>\n",
       "      <td>Yes</td>\n",
       "      <td>...</td>\n",
       "      <td>No</td>\n",
       "      <td>Semi_Govt</td>\n",
       "      <td>92</td>\n",
       "      <td>No</td>\n",
       "      <td>65</td>\n",
       "      <td>71</td>\n",
       "      <td>40</td>\n",
       "      <td>78</td>\n",
       "      <td>80</td>\n",
       "      <td>Commerce</td>\n",
       "    </tr>\n",
       "    <tr>\n",
       "      <th>2</th>\n",
       "      <td>4</td>\n",
       "      <td>Md Adilur Rahman</td>\n",
       "      <td>15</td>\n",
       "      <td>Male</td>\n",
       "      <td>Rural</td>\n",
       "      <td>4</td>\n",
       "      <td>SSC</td>\n",
       "      <td>SSC</td>\n",
       "      <td>Yes</td>\n",
       "      <td>Yes</td>\n",
       "      <td>...</td>\n",
       "      <td>Yes</td>\n",
       "      <td>Govt</td>\n",
       "      <td>81</td>\n",
       "      <td>Yes</td>\n",
       "      <td>64</td>\n",
       "      <td>78</td>\n",
       "      <td>58</td>\n",
       "      <td>86</td>\n",
       "      <td>74</td>\n",
       "      <td>Commerce</td>\n",
       "    </tr>\n",
       "    <tr>\n",
       "      <th>3</th>\n",
       "      <td>5</td>\n",
       "      <td>Saleh Ahmed</td>\n",
       "      <td>16</td>\n",
       "      <td>Male</td>\n",
       "      <td>Rural</td>\n",
       "      <td>6</td>\n",
       "      <td>SSC</td>\n",
       "      <td>SSC</td>\n",
       "      <td>Yes</td>\n",
       "      <td>Yes</td>\n",
       "      <td>...</td>\n",
       "      <td>Yes</td>\n",
       "      <td>Private</td>\n",
       "      <td>90</td>\n",
       "      <td>Yes</td>\n",
       "      <td>84</td>\n",
       "      <td>90</td>\n",
       "      <td>85</td>\n",
       "      <td>86</td>\n",
       "      <td>88</td>\n",
       "      <td>Science</td>\n",
       "    </tr>\n",
       "    <tr>\n",
       "      <th>4</th>\n",
       "      <td>6</td>\n",
       "      <td>Din Islam</td>\n",
       "      <td>17</td>\n",
       "      <td>Male</td>\n",
       "      <td>Urban</td>\n",
       "      <td>5</td>\n",
       "      <td>Honors</td>\n",
       "      <td>Masters</td>\n",
       "      <td>No</td>\n",
       "      <td>Yes</td>\n",
       "      <td>...</td>\n",
       "      <td>Yes</td>\n",
       "      <td>Semi_Govt</td>\n",
       "      <td>75</td>\n",
       "      <td>Yes</td>\n",
       "      <td>54</td>\n",
       "      <td>70</td>\n",
       "      <td>45</td>\n",
       "      <td>79</td>\n",
       "      <td>76</td>\n",
       "      <td>Commerce</td>\n",
       "    </tr>\n",
       "    <tr>\n",
       "      <th>...</th>\n",
       "      <td>...</td>\n",
       "      <td>...</td>\n",
       "      <td>...</td>\n",
       "      <td>...</td>\n",
       "      <td>...</td>\n",
       "      <td>...</td>\n",
       "      <td>...</td>\n",
       "      <td>...</td>\n",
       "      <td>...</td>\n",
       "      <td>...</td>\n",
       "      <td>...</td>\n",
       "      <td>...</td>\n",
       "      <td>...</td>\n",
       "      <td>...</td>\n",
       "      <td>...</td>\n",
       "      <td>...</td>\n",
       "      <td>...</td>\n",
       "      <td>...</td>\n",
       "      <td>...</td>\n",
       "      <td>...</td>\n",
       "      <td>...</td>\n",
       "    </tr>\n",
       "    <tr>\n",
       "      <th>8607</th>\n",
       "      <td>8609</td>\n",
       "      <td>Elina Khanam</td>\n",
       "      <td>17</td>\n",
       "      <td>Female</td>\n",
       "      <td>City</td>\n",
       "      <td>5</td>\n",
       "      <td>HSC</td>\n",
       "      <td>Non_Educated</td>\n",
       "      <td>No</td>\n",
       "      <td>No</td>\n",
       "      <td>...</td>\n",
       "      <td>No</td>\n",
       "      <td>Govt</td>\n",
       "      <td>78</td>\n",
       "      <td>Yes</td>\n",
       "      <td>81</td>\n",
       "      <td>83</td>\n",
       "      <td>80</td>\n",
       "      <td>84</td>\n",
       "      <td>91</td>\n",
       "      <td>Science</td>\n",
       "    </tr>\n",
       "    <tr>\n",
       "      <th>8608</th>\n",
       "      <td>8610</td>\n",
       "      <td>Sadiq Ghosh</td>\n",
       "      <td>16</td>\n",
       "      <td>Male</td>\n",
       "      <td>City</td>\n",
       "      <td>2</td>\n",
       "      <td>SSC</td>\n",
       "      <td>Under_SSC</td>\n",
       "      <td>No</td>\n",
       "      <td>Yes</td>\n",
       "      <td>...</td>\n",
       "      <td>No</td>\n",
       "      <td>Private</td>\n",
       "      <td>73</td>\n",
       "      <td>No</td>\n",
       "      <td>95</td>\n",
       "      <td>100</td>\n",
       "      <td>96</td>\n",
       "      <td>98</td>\n",
       "      <td>98</td>\n",
       "      <td>Science</td>\n",
       "    </tr>\n",
       "    <tr>\n",
       "      <th>8609</th>\n",
       "      <td>8611</td>\n",
       "      <td>Arman Amin</td>\n",
       "      <td>18</td>\n",
       "      <td>Male</td>\n",
       "      <td>City</td>\n",
       "      <td>3</td>\n",
       "      <td>Diploma</td>\n",
       "      <td>SSC</td>\n",
       "      <td>No</td>\n",
       "      <td>No</td>\n",
       "      <td>...</td>\n",
       "      <td>Yes</td>\n",
       "      <td>Private</td>\n",
       "      <td>51</td>\n",
       "      <td>No</td>\n",
       "      <td>45</td>\n",
       "      <td>59</td>\n",
       "      <td>41</td>\n",
       "      <td>51</td>\n",
       "      <td>69</td>\n",
       "      <td>Arts</td>\n",
       "    </tr>\n",
       "    <tr>\n",
       "      <th>8610</th>\n",
       "      <td>8612</td>\n",
       "      <td>Tawhidul Saif</td>\n",
       "      <td>15</td>\n",
       "      <td>Male</td>\n",
       "      <td>Urban</td>\n",
       "      <td>5</td>\n",
       "      <td>Honors</td>\n",
       "      <td>HSC</td>\n",
       "      <td>No</td>\n",
       "      <td>No</td>\n",
       "      <td>...</td>\n",
       "      <td>No</td>\n",
       "      <td>Private</td>\n",
       "      <td>66</td>\n",
       "      <td>Yes</td>\n",
       "      <td>59</td>\n",
       "      <td>65</td>\n",
       "      <td>60</td>\n",
       "      <td>68</td>\n",
       "      <td>69</td>\n",
       "      <td>Arts</td>\n",
       "    </tr>\n",
       "    <tr>\n",
       "      <th>8611</th>\n",
       "      <td>8613</td>\n",
       "      <td>Naimul Sen</td>\n",
       "      <td>18</td>\n",
       "      <td>Male</td>\n",
       "      <td>Urban</td>\n",
       "      <td>3</td>\n",
       "      <td>Diploma</td>\n",
       "      <td>Under_SSC</td>\n",
       "      <td>No</td>\n",
       "      <td>No</td>\n",
       "      <td>...</td>\n",
       "      <td>Yes</td>\n",
       "      <td>Semi_Govt</td>\n",
       "      <td>88</td>\n",
       "      <td>Yes</td>\n",
       "      <td>87</td>\n",
       "      <td>95</td>\n",
       "      <td>96</td>\n",
       "      <td>100</td>\n",
       "      <td>98</td>\n",
       "      <td>Science</td>\n",
       "    </tr>\n",
       "  </tbody>\n",
       "</table>\n",
       "<p>8612 rows × 24 columns</p>\n",
       "</div>"
      ],
      "text/plain": [
       "        id         full_name  age  gender location  family_size  \\\n",
       "0        2        Avi Biswas   16    Male    Urban            6   \n",
       "1        3   Taslima Sultana   18  Female    Rural            6   \n",
       "2        4  Md Adilur Rahman   15    Male    Rural            4   \n",
       "3        5       Saleh Ahmed   16    Male    Rural            6   \n",
       "4        6         Din Islam   17    Male    Urban            5   \n",
       "...    ...               ...  ...     ...      ...          ...   \n",
       "8607  8609      Elina Khanam   17  Female     City            5   \n",
       "8608  8610       Sadiq Ghosh   16    Male     City            2   \n",
       "8609  8611        Arman Amin   18    Male     City            3   \n",
       "8610  8612     Tawhidul Saif   15    Male    Urban            5   \n",
       "8611  8613        Naimul Sen   18    Male    Urban            3   \n",
       "\n",
       "     mother_education father_education mother_job father_job  ... tutoring  \\\n",
       "0                 SSC              HSC         No         No  ...      Yes   \n",
       "1                 SSC              HSC         No        Yes  ...       No   \n",
       "2                 SSC              SSC        Yes        Yes  ...      Yes   \n",
       "3                 SSC              SSC        Yes        Yes  ...      Yes   \n",
       "4              Honors          Masters         No        Yes  ...      Yes   \n",
       "...               ...              ...        ...        ...  ...      ...   \n",
       "8607              HSC     Non_Educated         No         No  ...       No   \n",
       "8608              SSC        Under_SSC         No        Yes  ...       No   \n",
       "8609          Diploma              SSC         No         No  ...      Yes   \n",
       "8610           Honors              HSC         No         No  ...       No   \n",
       "8611          Diploma        Under_SSC         No         No  ...      Yes   \n",
       "\n",
       "     school_type attendance  extra_curricular_activities english math  \\\n",
       "0        Private         95                          Yes      95   98   \n",
       "1      Semi_Govt         92                           No      65   71   \n",
       "2           Govt         81                          Yes      64   78   \n",
       "3        Private         90                          Yes      84   90   \n",
       "4      Semi_Govt         75                          Yes      54   70   \n",
       "...          ...        ...                          ...     ...  ...   \n",
       "8607        Govt         78                          Yes      81   83   \n",
       "8608     Private         73                           No      95  100   \n",
       "8609     Private         51                           No      45   59   \n",
       "8610     Private         66                          Yes      59   65   \n",
       "8611   Semi_Govt         88                          Yes      87   95   \n",
       "\n",
       "      science social_science  art_culture  stu_group  \n",
       "0          92             94           98    Science  \n",
       "1          40             78           80   Commerce  \n",
       "2          58             86           74   Commerce  \n",
       "3          85             86           88    Science  \n",
       "4          45             79           76   Commerce  \n",
       "...       ...            ...          ...        ...  \n",
       "8607       80             84           91    Science  \n",
       "8608       96             98           98    Science  \n",
       "8609       41             51           69       Arts  \n",
       "8610       60             68           69       Arts  \n",
       "8611       96            100           98    Science  \n",
       "\n",
       "[8612 rows x 24 columns]"
      ]
     },
     "execution_count": 6,
     "metadata": {},
     "output_type": "execute_result"
    }
   ],
   "source": [
    "df = pd.DataFrame(dataset)\n",
    "df"
   ]
  },
  {
   "cell_type": "code",
   "execution_count": 7,
   "id": "c48d5385",
   "metadata": {
    "execution": {
     "iopub.execute_input": "2025-01-14T18:38:58.552086Z",
     "iopub.status.busy": "2025-01-14T18:38:58.551775Z",
     "iopub.status.idle": "2025-01-14T18:38:58.562522Z",
     "shell.execute_reply": "2025-01-14T18:38:58.561634Z"
    },
    "papermill": {
     "duration": 0.020546,
     "end_time": "2025-01-14T18:38:58.564003",
     "exception": false,
     "start_time": "2025-01-14T18:38:58.543457",
     "status": "completed"
    },
    "tags": []
   },
   "outputs": [],
   "source": [
    "# Remove rows with missing values\n",
    "df_cleaned = dataset.dropna()"
   ]
  },
  {
   "cell_type": "code",
   "execution_count": 8,
   "id": "4cc7393c",
   "metadata": {
    "execution": {
     "iopub.execute_input": "2025-01-14T18:38:58.580619Z",
     "iopub.status.busy": "2025-01-14T18:38:58.580288Z",
     "iopub.status.idle": "2025-01-14T18:38:58.590362Z",
     "shell.execute_reply": "2025-01-14T18:38:58.589334Z"
    },
    "papermill": {
     "duration": 0.019858,
     "end_time": "2025-01-14T18:38:58.591742",
     "exception": false,
     "start_time": "2025-01-14T18:38:58.571884",
     "status": "completed"
    },
    "tags": []
   },
   "outputs": [
    {
     "name": "stdout",
     "output_type": "stream",
     "text": [
      "\n",
      "Missing Values After Cleaning:\n",
      "id                             0\n",
      "full_name                      0\n",
      "age                            0\n",
      "gender                         0\n",
      "location                       0\n",
      "family_size                    0\n",
      "mother_education               0\n",
      "father_education               0\n",
      "mother_job                     0\n",
      "father_job                     0\n",
      "guardian                       0\n",
      "parental_involvement           0\n",
      "internet_access                0\n",
      "studytime                      0\n",
      "tutoring                       0\n",
      "school_type                    0\n",
      "attendance                     0\n",
      "extra_curricular_activities    0\n",
      "english                        0\n",
      "math                           0\n",
      "science                        0\n",
      "social_science                 0\n",
      "art_culture                    0\n",
      "stu_group                      0\n",
      "dtype: int64\n"
     ]
    }
   ],
   "source": [
    "# Verify no missing values remain\n",
    "print(\"\\nMissing Values After Cleaning:\")\n",
    "print(df_cleaned.isnull().sum())"
   ]
  },
  {
   "cell_type": "code",
   "execution_count": 9,
   "id": "49c1f1cb",
   "metadata": {
    "execution": {
     "iopub.execute_input": "2025-01-14T18:38:58.608722Z",
     "iopub.status.busy": "2025-01-14T18:38:58.608389Z",
     "iopub.status.idle": "2025-01-14T18:38:58.612078Z",
     "shell.execute_reply": "2025-01-14T18:38:58.611247Z"
    },
    "papermill": {
     "duration": 0.013461,
     "end_time": "2025-01-14T18:38:58.613358",
     "exception": false,
     "start_time": "2025-01-14T18:38:58.599897",
     "status": "completed"
    },
    "tags": []
   },
   "outputs": [],
   "source": [
    "df = df_cleaned"
   ]
  },
  {
   "cell_type": "code",
   "execution_count": 10,
   "id": "b37b01f4",
   "metadata": {
    "execution": {
     "iopub.execute_input": "2025-01-14T18:38:58.630074Z",
     "iopub.status.busy": "2025-01-14T18:38:58.629773Z",
     "iopub.status.idle": "2025-01-14T18:38:58.633244Z",
     "shell.execute_reply": "2025-01-14T18:38:58.632421Z"
    },
    "papermill": {
     "duration": 0.013204,
     "end_time": "2025-01-14T18:38:58.634581",
     "exception": false,
     "start_time": "2025-01-14T18:38:58.621377",
     "status": "completed"
    },
    "tags": []
   },
   "outputs": [],
   "source": [
    "categorical_columns = ['gender', 'stu_group']"
   ]
  },
  {
   "cell_type": "code",
   "execution_count": 11,
   "id": "c83b72d6",
   "metadata": {
    "execution": {
     "iopub.execute_input": "2025-01-14T18:38:58.651081Z",
     "iopub.status.busy": "2025-01-14T18:38:58.650809Z",
     "iopub.status.idle": "2025-01-14T18:38:58.664330Z",
     "shell.execute_reply": "2025-01-14T18:38:58.663639Z"
    },
    "papermill": {
     "duration": 0.023421,
     "end_time": "2025-01-14T18:38:58.665824",
     "exception": false,
     "start_time": "2025-01-14T18:38:58.642403",
     "status": "completed"
    },
    "tags": []
   },
   "outputs": [],
   "source": [
    "# One-Hot Encode categorical columns\n",
    "df_pandas_encoded = pd.get_dummies(df, columns=categorical_columns, drop_first=True)"
   ]
  },
  {
   "cell_type": "code",
   "execution_count": 12,
   "id": "6e90f31d",
   "metadata": {
    "execution": {
     "iopub.execute_input": "2025-01-14T18:38:58.682691Z",
     "iopub.status.busy": "2025-01-14T18:38:58.682393Z",
     "iopub.status.idle": "2025-01-14T18:38:58.693115Z",
     "shell.execute_reply": "2025-01-14T18:38:58.691892Z"
    },
    "papermill": {
     "duration": 0.02062,
     "end_time": "2025-01-14T18:38:58.694465",
     "exception": false,
     "start_time": "2025-01-14T18:38:58.673845",
     "status": "completed"
    },
    "tags": []
   },
   "outputs": [
    {
     "name": "stdout",
     "output_type": "stream",
     "text": [
      "\n",
      "Encoded Dataset Preview:\n",
      "   id         full_name  age location  family_size mother_education  \\\n",
      "0   2        Avi Biswas   16    Urban            6              SSC   \n",
      "1   3   Taslima Sultana   18    Rural            6              SSC   \n",
      "2   4  Md Adilur Rahman   15    Rural            4              SSC   \n",
      "3   5       Saleh Ahmed   16    Rural            6              SSC   \n",
      "4   6         Din Islam   17    Urban            5           Honors   \n",
      "\n",
      "  father_education mother_job father_job guardian  ... attendance  \\\n",
      "0              HSC         No         No   Father  ...         95   \n",
      "1              HSC         No        Yes   Father  ...         92   \n",
      "2              SSC        Yes        Yes   Father  ...         81   \n",
      "3              SSC        Yes        Yes   Father  ...         90   \n",
      "4          Masters         No        Yes   Father  ...         75   \n",
      "\n",
      "  extra_curricular_activities  english math science  social_science  \\\n",
      "0                         Yes       95   98      92              94   \n",
      "1                          No       65   71      40              78   \n",
      "2                         Yes       64   78      58              86   \n",
      "3                         Yes       84   90      85              86   \n",
      "4                         Yes       54   70      45              79   \n",
      "\n",
      "  art_culture  gender_Male  stu_group_Commerce  stu_group_Science  \n",
      "0          98         True               False               True  \n",
      "1          80        False                True              False  \n",
      "2          74         True                True              False  \n",
      "3          88         True               False               True  \n",
      "4          76         True                True              False  \n",
      "\n",
      "[5 rows x 25 columns]\n"
     ]
    }
   ],
   "source": [
    "print(\"\\nEncoded Dataset Preview:\")\n",
    "print(df_pandas_encoded.head())"
   ]
  },
  {
   "cell_type": "code",
   "execution_count": 13,
   "id": "cf41ac0b",
   "metadata": {
    "execution": {
     "iopub.execute_input": "2025-01-14T18:38:58.711490Z",
     "iopub.status.busy": "2025-01-14T18:38:58.711171Z",
     "iopub.status.idle": "2025-01-14T18:38:58.719642Z",
     "shell.execute_reply": "2025-01-14T18:38:58.718838Z"
    },
    "papermill": {
     "duration": 0.01831,
     "end_time": "2025-01-14T18:38:58.721043",
     "exception": false,
     "start_time": "2025-01-14T18:38:58.702733",
     "status": "completed"
    },
    "tags": []
   },
   "outputs": [
    {
     "name": "stdout",
     "output_type": "stream",
     "text": [
      "0       2\n",
      "1       2\n",
      "2       2\n",
      "3       2\n",
      "4       5\n",
      "       ..\n",
      "8607    3\n",
      "8608    2\n",
      "8609    4\n",
      "8610    5\n",
      "8611    4\n",
      "Name: mother_education, Length: 8599, dtype: int64\n"
     ]
    }
   ],
   "source": [
    "# Custom mapping\n",
    "custom_mapping = {'Non_Educated':0,'Under_SSC':1,'SSC':2,'HSC':3 ,'Diploma':4,'Honors':5,'Hons':5 ,'Masters':6}\n",
    "\n",
    "# Apply the mapping\n",
    "df_pandas_encoded['mother_education'] = df_pandas_encoded['mother_education'].map(custom_mapping)\n",
    "\n",
    "from sklearn.preprocessing import LabelEncoder\n",
    "encoder = LabelEncoder()\n",
    "df_pandas_encoded['mother_education'] = encoder.fit_transform(df_pandas_encoded['mother_education'])\n",
    "\n",
    "print(df_pandas_encoded['mother_education'] )"
   ]
  },
  {
   "cell_type": "code",
   "execution_count": 14,
   "id": "9f3159a7",
   "metadata": {
    "execution": {
     "iopub.execute_input": "2025-01-14T18:38:58.739034Z",
     "iopub.status.busy": "2025-01-14T18:38:58.738756Z",
     "iopub.status.idle": "2025-01-14T18:38:58.747273Z",
     "shell.execute_reply": "2025-01-14T18:38:58.746375Z"
    },
    "papermill": {
     "duration": 0.018834,
     "end_time": "2025-01-14T18:38:58.748631",
     "exception": false,
     "start_time": "2025-01-14T18:38:58.729797",
     "status": "completed"
    },
    "tags": []
   },
   "outputs": [
    {
     "name": "stdout",
     "output_type": "stream",
     "text": [
      "0       3\n",
      "1       3\n",
      "2       2\n",
      "3       2\n",
      "4       6\n",
      "       ..\n",
      "8607    0\n",
      "8608    1\n",
      "8609    2\n",
      "8610    3\n",
      "8611    1\n",
      "Name: father_education, Length: 8599, dtype: int64\n"
     ]
    }
   ],
   "source": [
    "# Custom mapping\n",
    "custom_mapping = {'Non_Educated':0,'Under_SSC':1,'SSC':2,'HSC':3 ,'Diploma':4,'Honors':5,'Hons':5 ,'Masters':6}\n",
    "\n",
    "# Apply the mapping\n",
    "df_pandas_encoded['father_education'] = df_pandas_encoded['father_education'].map(custom_mapping)\n",
    "\n",
    "from sklearn.preprocessing import LabelEncoder\n",
    "encoder = LabelEncoder()\n",
    "df_pandas_encoded['father_education'] = encoder.fit_transform(df_pandas_encoded['father_education'])\n",
    "print(df_pandas_encoded['father_education'] )"
   ]
  },
  {
   "cell_type": "code",
   "execution_count": 15,
   "id": "06119f2b",
   "metadata": {
    "execution": {
     "iopub.execute_input": "2025-01-14T18:38:58.765799Z",
     "iopub.status.busy": "2025-01-14T18:38:58.765516Z",
     "iopub.status.idle": "2025-01-14T18:38:58.797184Z",
     "shell.execute_reply": "2025-01-14T18:38:58.796521Z"
    },
    "papermill": {
     "duration": 0.041735,
     "end_time": "2025-01-14T18:38:58.798567",
     "exception": false,
     "start_time": "2025-01-14T18:38:58.756832",
     "status": "completed"
    },
    "tags": []
   },
   "outputs": [],
   "source": [
    "# Apply Label Encoding to any remaining categorical or boolean columns\n",
    "encoder = LabelEncoder()\n",
    "df_encoded = df_pandas_encoded.apply(\n",
    "    lambda col: encoder.fit_transform(col) if (col.dtype == 'object' or col.dtype == 'bool') else col\n",
    ")"
   ]
  },
  {
   "cell_type": "code",
   "execution_count": 16,
   "id": "f3b2d364",
   "metadata": {
    "execution": {
     "iopub.execute_input": "2025-01-14T18:38:58.816021Z",
     "iopub.status.busy": "2025-01-14T18:38:58.815753Z",
     "iopub.status.idle": "2025-01-14T18:38:58.824662Z",
     "shell.execute_reply": "2025-01-14T18:38:58.823590Z"
    },
    "papermill": {
     "duration": 0.019328,
     "end_time": "2025-01-14T18:38:58.826010",
     "exception": false,
     "start_time": "2025-01-14T18:38:58.806682",
     "status": "completed"
    },
    "tags": []
   },
   "outputs": [
    {
     "name": "stdout",
     "output_type": "stream",
     "text": [
      "\n",
      "Fully Encoded Dataset Preview:\n",
      "   id  full_name  age  location  family_size  mother_education  \\\n",
      "0   2        602   16         2            6                 2   \n",
      "1   3       6366   18         1            6                 2   \n",
      "2   4       3563   15         1            4                 2   \n",
      "3   5       5433   16         1            6                 2   \n",
      "4   6       1142   17         2            5                 5   \n",
      "\n",
      "   father_education  mother_job  father_job  guardian  ...  attendance  \\\n",
      "0                 3           0           0         0  ...          95   \n",
      "1                 3           0           1         0  ...          92   \n",
      "2                 2           1           1         0  ...          81   \n",
      "3                 2           1           1         0  ...          90   \n",
      "4                 6           0           1         0  ...          75   \n",
      "\n",
      "   extra_curricular_activities  english  math  science  social_science  \\\n",
      "0                            1       95    98       92              94   \n",
      "1                            0       65    71       40              78   \n",
      "2                            1       64    78       58              86   \n",
      "3                            1       84    90       85              86   \n",
      "4                            1       54    70       45              79   \n",
      "\n",
      "   art_culture  gender_Male  stu_group_Commerce  stu_group_Science  \n",
      "0           98            1                   0                  1  \n",
      "1           80            0                   1                  0  \n",
      "2           74            1                   1                  0  \n",
      "3           88            1                   0                  1  \n",
      "4           76            1                   1                  0  \n",
      "\n",
      "[5 rows x 25 columns]\n"
     ]
    }
   ],
   "source": [
    "# Verify the encoded dataset\n",
    "print(\"\\nFully Encoded Dataset Preview:\")\n",
    "print(df_encoded.head())"
   ]
  },
  {
   "cell_type": "code",
   "execution_count": 17,
   "id": "0e51f4ad",
   "metadata": {
    "execution": {
     "iopub.execute_input": "2025-01-14T18:38:58.843733Z",
     "iopub.status.busy": "2025-01-14T18:38:58.843213Z",
     "iopub.status.idle": "2025-01-14T18:38:58.848096Z",
     "shell.execute_reply": "2025-01-14T18:38:58.847066Z"
    },
    "papermill": {
     "duration": 0.015509,
     "end_time": "2025-01-14T18:38:58.849594",
     "exception": false,
     "start_time": "2025-01-14T18:38:58.834085",
     "status": "completed"
    },
    "tags": []
   },
   "outputs": [
    {
     "name": "stdout",
     "output_type": "stream",
     "text": [
      "\n",
      "Data Type of 'gender_Male': bool\n"
     ]
    }
   ],
   "source": [
    "df_encoded# Display the data types of a sample column to confirm encoding\n",
    "print(\"\\nData Type of 'gender_Male':\", df_pandas_encoded['gender_Male'].dtype)"
   ]
  },
  {
   "cell_type": "code",
   "execution_count": 18,
   "id": "d5972561",
   "metadata": {
    "execution": {
     "iopub.execute_input": "2025-01-14T18:38:58.866896Z",
     "iopub.status.busy": "2025-01-14T18:38:58.866613Z",
     "iopub.status.idle": "2025-01-14T18:38:58.870236Z",
     "shell.execute_reply": "2025-01-14T18:38:58.869477Z"
    },
    "papermill": {
     "duration": 0.013715,
     "end_time": "2025-01-14T18:38:58.871511",
     "exception": false,
     "start_time": "2025-01-14T18:38:58.857796",
     "status": "completed"
    },
    "tags": []
   },
   "outputs": [],
   "source": [
    "# Select features for clustering\n",
    "# 'studytime', badd delm\n",
    "features_for_clustering = [\n",
    "    'location','internet_access','parental_involvement','mother_job', 'tutoring', 'attendance', \n",
    "    'english', 'math', 'science', \n",
    "    'social_science', 'art_culture','studytime'\n",
    "]"
   ]
  },
  {
   "cell_type": "code",
   "execution_count": 19,
   "id": "3abc54c3",
   "metadata": {
    "execution": {
     "iopub.execute_input": "2025-01-14T18:38:58.888509Z",
     "iopub.status.busy": "2025-01-14T18:38:58.888164Z",
     "iopub.status.idle": "2025-01-14T18:38:58.892603Z",
     "shell.execute_reply": "2025-01-14T18:38:58.891886Z"
    },
    "papermill": {
     "duration": 0.014173,
     "end_time": "2025-01-14T18:38:58.893738",
     "exception": false,
     "start_time": "2025-01-14T18:38:58.879565",
     "status": "completed"
    },
    "tags": []
   },
   "outputs": [],
   "source": [
    "X = df_encoded[features_for_clustering]"
   ]
  },
  {
   "cell_type": "code",
   "execution_count": 20,
   "id": "0dcfcc1d",
   "metadata": {
    "execution": {
     "iopub.execute_input": "2025-01-14T18:38:58.911440Z",
     "iopub.status.busy": "2025-01-14T18:38:58.911108Z",
     "iopub.status.idle": "2025-01-14T18:38:58.920039Z",
     "shell.execute_reply": "2025-01-14T18:38:58.919370Z"
    },
    "papermill": {
     "duration": 0.019428,
     "end_time": "2025-01-14T18:38:58.921223",
     "exception": false,
     "start_time": "2025-01-14T18:38:58.901795",
     "status": "completed"
    },
    "tags": []
   },
   "outputs": [],
   "source": [
    "# Standardize the features\n",
    "scaler = StandardScaler()\n",
    "X_scaled = scaler.fit_transform(X)"
   ]
  },
  {
   "cell_type": "code",
   "execution_count": 21,
   "id": "953aa408",
   "metadata": {
    "execution": {
     "iopub.execute_input": "2025-01-14T18:38:58.938902Z",
     "iopub.status.busy": "2025-01-14T18:38:58.938598Z",
     "iopub.status.idle": "2025-01-14T18:39:00.226459Z",
     "shell.execute_reply": "2025-01-14T18:39:00.222480Z"
    },
    "papermill": {
     "duration": 1.299823,
     "end_time": "2025-01-14T18:39:00.229467",
     "exception": false,
     "start_time": "2025-01-14T18:38:58.929644",
     "status": "completed"
    },
    "tags": []
   },
   "outputs": [
    {
     "name": "stderr",
     "output_type": "stream",
     "text": [
      "/usr/local/lib/python3.10/dist-packages/sklearn/cluster/_kmeans.py:870: FutureWarning: The default value of `n_init` will change from 10 to 'auto' in 1.4. Set the value of `n_init` explicitly to suppress the warning\n",
      "  warnings.warn(\n"
     ]
    }
   ],
   "source": [
    "# Apply K-means clustering with 3 clusters\n",
    "kmeans = KMeans(n_clusters=3, random_state=42) \n",
    "df_encoded['cluster'] = kmeans.fit_predict(X_scaled)"
   ]
  },
  {
   "cell_type": "code",
   "execution_count": 22,
   "id": "5233e532",
   "metadata": {
    "execution": {
     "iopub.execute_input": "2025-01-14T18:39:00.249130Z",
     "iopub.status.busy": "2025-01-14T18:39:00.248796Z",
     "iopub.status.idle": "2025-01-14T18:39:00.266934Z",
     "shell.execute_reply": "2025-01-14T18:39:00.265896Z"
    },
    "papermill": {
     "duration": 0.028832,
     "end_time": "2025-01-14T18:39:00.268630",
     "exception": false,
     "start_time": "2025-01-14T18:39:00.239798",
     "status": "completed"
    },
    "tags": []
   },
   "outputs": [
    {
     "name": "stdout",
     "output_type": "stream",
     "text": [
      "                  id    full_name        age  location  family_size  \\\n",
      "cluster                                                               \n",
      "0        4279.554183  3564.059569  16.628961  0.993029     4.548479   \n",
      "1        4291.296493  3554.024796  16.628409  1.152674     4.484945   \n",
      "2        4361.161069  3535.961832  16.579771  1.007252     4.459160   \n",
      "\n",
      "         mother_education  father_education  mother_job  father_job  guardian  \\\n",
      "cluster                                                                         \n",
      "0                3.020913          3.184728    0.448352    0.600127   0.88403   \n",
      "1                3.013815          3.147715    0.506199    0.536309   0.96989   \n",
      "2                2.920229          3.020611    0.488550    0.536260   0.99084   \n",
      "\n",
      "         ...  attendance  extra_curricular_activities    english       math  \\\n",
      "cluster  ...                                                                  \n",
      "0        ...   71.819392                     0.557985  74.523447  73.470215   \n",
      "1        ...   83.465108                     0.529933  89.615303  89.607510   \n",
      "2        ...   66.495038                     0.504580  55.292748  54.362214   \n",
      "\n",
      "           science  social_science  art_culture  gender_Male  \\\n",
      "cluster                                                        \n",
      "0        74.247782       75.523764    76.218631     0.486375   \n",
      "1        89.363443       89.510450    89.955012     0.520014   \n",
      "2        55.622901       57.023664    61.522901     0.507634   \n",
      "\n",
      "         stu_group_Commerce  stu_group_Science  \n",
      "cluster                                         \n",
      "0                  0.890051           0.055767  \n",
      "1                  0.009919           0.989373  \n",
      "2                  0.016794           0.001527  \n",
      "\n",
      "[3 rows x 25 columns]\n"
     ]
    }
   ],
   "source": [
    "# Analyze and interpret the clusters (add your code here to understand the characteristics of each cluster)\n",
    "# For example, you can calculate the mean of each feature within each cluster:\n",
    "\n",
    "cluster_means = df_encoded.groupby('cluster').mean()\n",
    "print(cluster_means)"
   ]
  },
  {
   "cell_type": "code",
   "execution_count": 23,
   "id": "9c4a6ffd",
   "metadata": {
    "execution": {
     "iopub.execute_input": "2025-01-14T18:39:00.286827Z",
     "iopub.status.busy": "2025-01-14T18:39:00.286517Z",
     "iopub.status.idle": "2025-01-14T18:39:00.681592Z",
     "shell.execute_reply": "2025-01-14T18:39:00.680751Z"
    },
    "papermill": {
     "duration": 0.405878,
     "end_time": "2025-01-14T18:39:00.683237",
     "exception": false,
     "start_time": "2025-01-14T18:39:00.277359",
     "status": "completed"
    },
    "tags": []
   },
   "outputs": [
    {
     "data": {
      "image/png": "[encoded data removed]",
      "text/plain": [
       "<Figure size 640x480 with 1 Axes>"
      ]
     },
     "metadata": {},
     "output_type": "display_data"
    }
   ],
   "source": [
    "# Visualize the clusters (optional - choose appropriate features for visualization)\n",
    "plt.scatter(df_encoded['math'], df_encoded['english'], c=df_encoded['cluster'])\n",
    "plt.xlabel('Math Score')\n",
    "plt.ylabel('English Score')\n",
    "plt.title('Student Clusters')\n",
    "plt.show()"
   ]
  },
  {
   "cell_type": "code",
   "execution_count": 24,
   "id": "e6257386",
   "metadata": {
    "execution": {
     "iopub.execute_input": "2025-01-14T18:39:00.703246Z",
     "iopub.status.busy": "2025-01-14T18:39:00.702918Z",
     "iopub.status.idle": "2025-01-14T18:39:00.741619Z",
     "shell.execute_reply": "2025-01-14T18:39:00.738394Z"
    },
    "papermill": {
     "duration": 0.05161,
     "end_time": "2025-01-14T18:39:00.744429",
     "exception": false,
     "start_time": "2025-01-14T18:39:00.692819",
     "status": "completed"
    },
    "tags": []
   },
   "outputs": [
    {
     "name": "stderr",
     "output_type": "stream",
     "text": [
      "/usr/local/lib/python3.10/dist-packages/sklearn/base.py:432: UserWarning: X has feature names, but KMeans was fitted without feature names\n",
      "  warnings.warn(\n"
     ]
    }
   ],
   "source": [
    "def remove_outliers_after_clustering(df, kmeans, threshold=1.5):\n",
    "    \"\"\"\n",
    "    Removes outliers from a DataFrame after clustering based on distance to cluster centers.\n",
    "\n",
    "    Args:\n",
    "        df (pd.DataFrame): DataFrame with cluster assignments.\n",
    "        kmeans (KMeans): Fitted KMeans object.\n",
    "        threshold (float): Standard deviation threshold for outlier detection.\n",
    "\n",
    "    Returns:\n",
    "        pd.DataFrame: DataFrame with outliers removed.\n",
    "    \"\"\"\n",
    "\n",
    "    df['distance_to_center'] = np.min(kmeans.transform(df[features_for_clustering]), axis=1)\n",
    "    \n",
    "    # Calculate mean and standard deviation of distances for each cluster\n",
    "    cluster_stats = df.groupby('cluster')['distance_to_center'].agg(['mean', 'std'])\n",
    "\n",
    "    # Identify outliers based on threshold\n",
    "    df['outlier'] = False\n",
    "    for cluster_id in range(kmeans.n_clusters):\n",
    "        mean_dist = cluster_stats.loc[cluster_id, 'mean']\n",
    "        std_dist = cluster_stats.loc[cluster_id, 'std']\n",
    "        df.loc[df['cluster'] == cluster_id, 'outlier'] = df.loc[df['cluster'] == cluster_id, 'distance_to_center'] > mean_dist + threshold * std_dist\n",
    "\n",
    "    # Remove outliers\n",
    "    df_filtered = df[df['outlier'] == False].copy()\n",
    "    df_filtered.drop(['distance_to_center', 'outlier'], axis=1, inplace=True)\n",
    "    return df_filtered\n",
    "\n",
    "df_filtered = remove_outliers_after_clustering(df_encoded.copy(), kmeans)"
   ]
  },
  {
   "cell_type": "code",
   "execution_count": 25,
   "id": "73870162",
   "metadata": {
    "execution": {
     "iopub.execute_input": "2025-01-14T18:39:00.803366Z",
     "iopub.status.busy": "2025-01-14T18:39:00.802827Z",
     "iopub.status.idle": "2025-01-14T18:39:00.810099Z",
     "shell.execute_reply": "2025-01-14T18:39:00.809062Z"
    },
    "papermill": {
     "duration": 0.040865,
     "end_time": "2025-01-14T18:39:00.812817",
     "exception": false,
     "start_time": "2025-01-14T18:39:00.771952",
     "status": "completed"
    },
    "tags": []
   },
   "outputs": [],
   "source": [
    "# Assign labels to clusters based on your analysis\n",
    "cluster_labels = {\n",
    "    0: 'Excellent', \n",
    "    1: 'Moderate', \n",
    "    2: 'At-Risk'  \n",
    "}"
   ]
  },
  {
   "cell_type": "code",
   "execution_count": 26,
   "id": "9c3530fd",
   "metadata": {
    "execution": {
     "iopub.execute_input": "2025-01-14T18:39:00.856436Z",
     "iopub.status.busy": "2025-01-14T18:39:00.856049Z",
     "iopub.status.idle": "2025-01-14T18:39:00.877021Z",
     "shell.execute_reply": "2025-01-14T18:39:00.875968Z"
    },
    "papermill": {
     "duration": 0.037551,
     "end_time": "2025-01-14T18:39:00.878510",
     "exception": false,
     "start_time": "2025-01-14T18:39:00.840959",
     "status": "completed"
    },
    "tags": []
   },
   "outputs": [
    {
     "data": {
      "text/html": [
       "<div>\n",
       "<style scoped>\n",
       "    .dataframe tbody tr th:only-of-type {\n",
       "        vertical-align: middle;\n",
       "    }\n",
       "\n",
       "    .dataframe tbody tr th {\n",
       "        vertical-align: top;\n",
       "    }\n",
       "\n",
       "    .dataframe thead th {\n",
       "        text-align: right;\n",
       "    }\n",
       "</style>\n",
       "<table border=\"1\" class=\"dataframe\">\n",
       "  <thead>\n",
       "    <tr style=\"text-align: right;\">\n",
       "      <th></th>\n",
       "      <th>id</th>\n",
       "      <th>full_name</th>\n",
       "      <th>age</th>\n",
       "      <th>location</th>\n",
       "      <th>family_size</th>\n",
       "      <th>mother_education</th>\n",
       "      <th>father_education</th>\n",
       "      <th>mother_job</th>\n",
       "      <th>father_job</th>\n",
       "      <th>guardian</th>\n",
       "      <th>...</th>\n",
       "      <th>english</th>\n",
       "      <th>math</th>\n",
       "      <th>science</th>\n",
       "      <th>social_science</th>\n",
       "      <th>art_culture</th>\n",
       "      <th>gender_Male</th>\n",
       "      <th>stu_group_Commerce</th>\n",
       "      <th>stu_group_Science</th>\n",
       "      <th>cluster</th>\n",
       "      <th>cluster_label</th>\n",
       "    </tr>\n",
       "  </thead>\n",
       "  <tbody>\n",
       "    <tr>\n",
       "      <th>1</th>\n",
       "      <td>3</td>\n",
       "      <td>6366</td>\n",
       "      <td>18</td>\n",
       "      <td>1</td>\n",
       "      <td>6</td>\n",
       "      <td>2</td>\n",
       "      <td>3</td>\n",
       "      <td>0</td>\n",
       "      <td>1</td>\n",
       "      <td>0</td>\n",
       "      <td>...</td>\n",
       "      <td>65</td>\n",
       "      <td>71</td>\n",
       "      <td>40</td>\n",
       "      <td>78</td>\n",
       "      <td>80</td>\n",
       "      <td>0</td>\n",
       "      <td>1</td>\n",
       "      <td>0</td>\n",
       "      <td>0</td>\n",
       "      <td>Excellent</td>\n",
       "    </tr>\n",
       "    <tr>\n",
       "      <th>2</th>\n",
       "      <td>4</td>\n",
       "      <td>3563</td>\n",
       "      <td>15</td>\n",
       "      <td>1</td>\n",
       "      <td>4</td>\n",
       "      <td>2</td>\n",
       "      <td>2</td>\n",
       "      <td>1</td>\n",
       "      <td>1</td>\n",
       "      <td>0</td>\n",
       "      <td>...</td>\n",
       "      <td>64</td>\n",
       "      <td>78</td>\n",
       "      <td>58</td>\n",
       "      <td>86</td>\n",
       "      <td>74</td>\n",
       "      <td>1</td>\n",
       "      <td>1</td>\n",
       "      <td>0</td>\n",
       "      <td>0</td>\n",
       "      <td>Excellent</td>\n",
       "    </tr>\n",
       "    <tr>\n",
       "      <th>3</th>\n",
       "      <td>5</td>\n",
       "      <td>5433</td>\n",
       "      <td>16</td>\n",
       "      <td>1</td>\n",
       "      <td>6</td>\n",
       "      <td>2</td>\n",
       "      <td>2</td>\n",
       "      <td>1</td>\n",
       "      <td>1</td>\n",
       "      <td>0</td>\n",
       "      <td>...</td>\n",
       "      <td>84</td>\n",
       "      <td>90</td>\n",
       "      <td>85</td>\n",
       "      <td>86</td>\n",
       "      <td>88</td>\n",
       "      <td>1</td>\n",
       "      <td>0</td>\n",
       "      <td>1</td>\n",
       "      <td>1</td>\n",
       "      <td>Moderate</td>\n",
       "    </tr>\n",
       "    <tr>\n",
       "      <th>4</th>\n",
       "      <td>6</td>\n",
       "      <td>1142</td>\n",
       "      <td>17</td>\n",
       "      <td>2</td>\n",
       "      <td>5</td>\n",
       "      <td>5</td>\n",
       "      <td>6</td>\n",
       "      <td>0</td>\n",
       "      <td>1</td>\n",
       "      <td>0</td>\n",
       "      <td>...</td>\n",
       "      <td>54</td>\n",
       "      <td>70</td>\n",
       "      <td>45</td>\n",
       "      <td>79</td>\n",
       "      <td>76</td>\n",
       "      <td>1</td>\n",
       "      <td>1</td>\n",
       "      <td>0</td>\n",
       "      <td>0</td>\n",
       "      <td>Excellent</td>\n",
       "    </tr>\n",
       "    <tr>\n",
       "      <th>5</th>\n",
       "      <td>7</td>\n",
       "      <td>2442</td>\n",
       "      <td>15</td>\n",
       "      <td>2</td>\n",
       "      <td>5</td>\n",
       "      <td>3</td>\n",
       "      <td>4</td>\n",
       "      <td>0</td>\n",
       "      <td>1</td>\n",
       "      <td>0</td>\n",
       "      <td>...</td>\n",
       "      <td>56</td>\n",
       "      <td>48</td>\n",
       "      <td>78</td>\n",
       "      <td>88</td>\n",
       "      <td>88</td>\n",
       "      <td>1</td>\n",
       "      <td>0</td>\n",
       "      <td>1</td>\n",
       "      <td>0</td>\n",
       "      <td>Excellent</td>\n",
       "    </tr>\n",
       "    <tr>\n",
       "      <th>...</th>\n",
       "      <td>...</td>\n",
       "      <td>...</td>\n",
       "      <td>...</td>\n",
       "      <td>...</td>\n",
       "      <td>...</td>\n",
       "      <td>...</td>\n",
       "      <td>...</td>\n",
       "      <td>...</td>\n",
       "      <td>...</td>\n",
       "      <td>...</td>\n",
       "      <td>...</td>\n",
       "      <td>...</td>\n",
       "      <td>...</td>\n",
       "      <td>...</td>\n",
       "      <td>...</td>\n",
       "      <td>...</td>\n",
       "      <td>...</td>\n",
       "      <td>...</td>\n",
       "      <td>...</td>\n",
       "      <td>...</td>\n",
       "      <td>...</td>\n",
       "    </tr>\n",
       "    <tr>\n",
       "      <th>8605</th>\n",
       "      <td>8607</td>\n",
       "      <td>65</td>\n",
       "      <td>17</td>\n",
       "      <td>0</td>\n",
       "      <td>6</td>\n",
       "      <td>1</td>\n",
       "      <td>1</td>\n",
       "      <td>0</td>\n",
       "      <td>0</td>\n",
       "      <td>0</td>\n",
       "      <td>...</td>\n",
       "      <td>78</td>\n",
       "      <td>68</td>\n",
       "      <td>79</td>\n",
       "      <td>76</td>\n",
       "      <td>74</td>\n",
       "      <td>0</td>\n",
       "      <td>1</td>\n",
       "      <td>0</td>\n",
       "      <td>0</td>\n",
       "      <td>Excellent</td>\n",
       "    </tr>\n",
       "    <tr>\n",
       "      <th>8606</th>\n",
       "      <td>8608</td>\n",
       "      <td>2403</td>\n",
       "      <td>17</td>\n",
       "      <td>1</td>\n",
       "      <td>7</td>\n",
       "      <td>5</td>\n",
       "      <td>3</td>\n",
       "      <td>1</td>\n",
       "      <td>1</td>\n",
       "      <td>0</td>\n",
       "      <td>...</td>\n",
       "      <td>86</td>\n",
       "      <td>86</td>\n",
       "      <td>84</td>\n",
       "      <td>82</td>\n",
       "      <td>84</td>\n",
       "      <td>0</td>\n",
       "      <td>0</td>\n",
       "      <td>1</td>\n",
       "      <td>1</td>\n",
       "      <td>Moderate</td>\n",
       "    </tr>\n",
       "    <tr>\n",
       "      <th>8607</th>\n",
       "      <td>8609</td>\n",
       "      <td>1264</td>\n",
       "      <td>17</td>\n",
       "      <td>0</td>\n",
       "      <td>5</td>\n",
       "      <td>3</td>\n",
       "      <td>0</td>\n",
       "      <td>0</td>\n",
       "      <td>0</td>\n",
       "      <td>1</td>\n",
       "      <td>...</td>\n",
       "      <td>81</td>\n",
       "      <td>83</td>\n",
       "      <td>80</td>\n",
       "      <td>84</td>\n",
       "      <td>91</td>\n",
       "      <td>0</td>\n",
       "      <td>0</td>\n",
       "      <td>1</td>\n",
       "      <td>1</td>\n",
       "      <td>Moderate</td>\n",
       "    </tr>\n",
       "    <tr>\n",
       "      <th>8609</th>\n",
       "      <td>8611</td>\n",
       "      <td>422</td>\n",
       "      <td>18</td>\n",
       "      <td>0</td>\n",
       "      <td>3</td>\n",
       "      <td>4</td>\n",
       "      <td>2</td>\n",
       "      <td>0</td>\n",
       "      <td>0</td>\n",
       "      <td>2</td>\n",
       "      <td>...</td>\n",
       "      <td>45</td>\n",
       "      <td>59</td>\n",
       "      <td>41</td>\n",
       "      <td>51</td>\n",
       "      <td>69</td>\n",
       "      <td>1</td>\n",
       "      <td>0</td>\n",
       "      <td>0</td>\n",
       "      <td>2</td>\n",
       "      <td>At-Risk</td>\n",
       "    </tr>\n",
       "    <tr>\n",
       "      <th>8610</th>\n",
       "      <td>8612</td>\n",
       "      <td>6392</td>\n",
       "      <td>15</td>\n",
       "      <td>2</td>\n",
       "      <td>5</td>\n",
       "      <td>5</td>\n",
       "      <td>3</td>\n",
       "      <td>0</td>\n",
       "      <td>0</td>\n",
       "      <td>2</td>\n",
       "      <td>...</td>\n",
       "      <td>59</td>\n",
       "      <td>65</td>\n",
       "      <td>60</td>\n",
       "      <td>68</td>\n",
       "      <td>69</td>\n",
       "      <td>1</td>\n",
       "      <td>0</td>\n",
       "      <td>0</td>\n",
       "      <td>2</td>\n",
       "      <td>At-Risk</td>\n",
       "    </tr>\n",
       "  </tbody>\n",
       "</table>\n",
       "<p>8057 rows × 27 columns</p>\n",
       "</div>"
      ],
      "text/plain": [
       "        id  full_name  age  location  family_size  mother_education  \\\n",
       "1        3       6366   18         1            6                 2   \n",
       "2        4       3563   15         1            4                 2   \n",
       "3        5       5433   16         1            6                 2   \n",
       "4        6       1142   17         2            5                 5   \n",
       "5        7       2442   15         2            5                 3   \n",
       "...    ...        ...  ...       ...          ...               ...   \n",
       "8605  8607         65   17         0            6                 1   \n",
       "8606  8608       2403   17         1            7                 5   \n",
       "8607  8609       1264   17         0            5                 3   \n",
       "8609  8611        422   18         0            3                 4   \n",
       "8610  8612       6392   15         2            5                 5   \n",
       "\n",
       "      father_education  mother_job  father_job  guardian  ...  english  math  \\\n",
       "1                    3           0           1         0  ...       65    71   \n",
       "2                    2           1           1         0  ...       64    78   \n",
       "3                    2           1           1         0  ...       84    90   \n",
       "4                    6           0           1         0  ...       54    70   \n",
       "5                    4           0           1         0  ...       56    48   \n",
       "...                ...         ...         ...       ...  ...      ...   ...   \n",
       "8605                 1           0           0         0  ...       78    68   \n",
       "8606                 3           1           1         0  ...       86    86   \n",
       "8607                 0           0           0         1  ...       81    83   \n",
       "8609                 2           0           0         2  ...       45    59   \n",
       "8610                 3           0           0         2  ...       59    65   \n",
       "\n",
       "      science  social_science  art_culture  gender_Male  stu_group_Commerce  \\\n",
       "1          40              78           80            0                   1   \n",
       "2          58              86           74            1                   1   \n",
       "3          85              86           88            1                   0   \n",
       "4          45              79           76            1                   1   \n",
       "5          78              88           88            1                   0   \n",
       "...       ...             ...          ...          ...                 ...   \n",
       "8605       79              76           74            0                   1   \n",
       "8606       84              82           84            0                   0   \n",
       "8607       80              84           91            0                   0   \n",
       "8609       41              51           69            1                   0   \n",
       "8610       60              68           69            1                   0   \n",
       "\n",
       "      stu_group_Science  cluster  cluster_label  \n",
       "1                     0        0      Excellent  \n",
       "2                     0        0      Excellent  \n",
       "3                     1        1       Moderate  \n",
       "4                     0        0      Excellent  \n",
       "5                     1        0      Excellent  \n",
       "...                 ...      ...            ...  \n",
       "8605                  0        0      Excellent  \n",
       "8606                  1        1       Moderate  \n",
       "8607                  1        1       Moderate  \n",
       "8609                  0        2        At-Risk  \n",
       "8610                  0        2        At-Risk  \n",
       "\n",
       "[8057 rows x 27 columns]"
      ]
     },
     "execution_count": 26,
     "metadata": {},
     "output_type": "execute_result"
    }
   ],
   "source": [
    "df_filtered['cluster_label'] = df_filtered['cluster'].map(cluster_labels)\n",
    "df_filtered"
   ]
  },
  {
   "cell_type": "code",
   "execution_count": 27,
   "id": "531b18c6",
   "metadata": {
    "execution": {
     "iopub.execute_input": "2025-01-14T18:39:00.901079Z",
     "iopub.status.busy": "2025-01-14T18:39:00.900787Z",
     "iopub.status.idle": "2025-01-14T18:39:01.485258Z",
     "shell.execute_reply": "2025-01-14T18:39:01.484404Z"
    },
    "papermill": {
     "duration": 0.597951,
     "end_time": "2025-01-14T18:39:01.487640",
     "exception": false,
     "start_time": "2025-01-14T18:39:00.889689",
     "status": "completed"
    },
    "tags": []
   },
   "outputs": [
    {
     "data": {
      "image/png": "[encoded data removed]",
      "text/plain": [
       "<Figure size 640x480 with 1 Axes>"
      ]
     },
     "metadata": {},
     "output_type": "display_data"
    }
   ],
   "source": [
    "pca = PCA(n_components=2)  # Reduce to 2 dimensions\n",
    "X_pca = pca.fit_transform(X_scaled)\n",
    "\n",
    "plt.scatter(X_pca[:, 0], X_pca[:, 1], c=df_encoded['cluster'])\n",
    "plt.xlabel('Principal Component 1')\n",
    "plt.ylabel('Principal Component 2')\n",
    "plt.title('Clusters visualized with PCA')\n",
    "plt.show()"
   ]
  },
  {
   "cell_type": "code",
   "execution_count": 28,
   "id": "8a105e99",
   "metadata": {
    "execution": {
     "iopub.execute_input": "2025-01-14T18:39:01.515803Z",
     "iopub.status.busy": "2025-01-14T18:39:01.515338Z",
     "iopub.status.idle": "2025-01-14T18:39:02.297270Z",
     "shell.execute_reply": "2025-01-14T18:39:02.296405Z"
    },
    "papermill": {
     "duration": 0.798976,
     "end_time": "2025-01-14T18:39:02.299720",
     "exception": false,
     "start_time": "2025-01-14T18:39:01.500744",
     "status": "completed"
    },
    "tags": []
   },
   "outputs": [
    {
     "data": {
      "image/png": "[encoded data removed]",
      "text/plain": [
       "<Figure size 640x480 with 1 Axes>"
      ]
     },
     "metadata": {},
     "output_type": "display_data"
    }
   ],
   "source": [
    "X_filtered = df_filtered[features_for_clustering]\n",
    "\n",
    "# Standardize the features of the filtered DataFrame\n",
    "X_scaled_filtered = scaler.fit_transform(X_filtered)\n",
    "\n",
    "pca = PCA(n_components=2)\n",
    "X_pca = pca.fit_transform(X_scaled_filtered)\n",
    "plt.scatter(X_pca[:, 0], X_pca[:, 1], c=df_filtered['cluster'])  # Use df_filtered['cluster'] for colors\n",
    "plt.xlabel('Principal Component 1')\n",
    "plt.ylabel('Principal Component 2')\n",
    "plt.title('Clusters visualized with PCA (after outlier removal)')\n",
    "plt.show()\n"
   ]
  },
  {
   "cell_type": "code",
   "execution_count": 29,
   "id": "70edaf87",
   "metadata": {
    "execution": {
     "iopub.execute_input": "2025-01-14T18:39:02.328752Z",
     "iopub.status.busy": "2025-01-14T18:39:02.328444Z",
     "iopub.status.idle": "2025-01-14T18:39:36.102186Z",
     "shell.execute_reply": "2025-01-14T18:39:36.101254Z"
    },
    "papermill": {
     "duration": 33.80514,
     "end_time": "2025-01-14T18:39:36.119088",
     "exception": false,
     "start_time": "2025-01-14T18:39:02.313948",
     "status": "completed"
    },
    "tags": []
   },
   "outputs": [
    {
     "data": {
      "image/png": "[encoded data removed]",
      "text/plain": [
       "<Figure size 640x480 with 1 Axes>"
      ]
     },
     "metadata": {},
     "output_type": "display_data"
    }
   ],
   "source": [
    "tsne = TSNE(n_components=2, random_state=42)\n",
    "X_tsne = tsne.fit_transform(X_scaled)\n",
    "\n",
    "plt.scatter(X_tsne[:, 0], X_tsne[:, 1], c=df_encoded['cluster'])\n",
    "plt.xlabel('t-SNE Dimension 1')\n",
    "plt.ylabel('t-SNE Dimension 2')\n",
    "plt.title('Clusters visualized with t-SNE')\n",
    "plt.show()\n"
   ]
  },
  {
   "cell_type": "code",
   "execution_count": 30,
   "id": "05aa4709",
   "metadata": {
    "execution": {
     "iopub.execute_input": "2025-01-14T18:39:36.150094Z",
     "iopub.status.busy": "2025-01-14T18:39:36.149773Z",
     "iopub.status.idle": "2025-01-14T18:40:06.799266Z",
     "shell.execute_reply": "2025-01-14T18:40:06.798368Z"
    },
    "papermill": {
     "duration": 30.68276,
     "end_time": "2025-01-14T18:40:06.816956",
     "exception": false,
     "start_time": "2025-01-14T18:39:36.134196",
     "status": "completed"
    },
    "tags": []
   },
   "outputs": [
    {
     "data": {
      "image/png": "[encoded data removed]",
      "text/plain": [
       "<Figure size 640x480 with 1 Axes>"
      ]
     },
     "metadata": {},
     "output_type": "display_data"
    }
   ],
   "source": [
    "tsne = TSNE(n_components=2, random_state=42)\n",
    "X_tsne = tsne.fit_transform(X_scaled_filtered)\n",
    "\n",
    "plt.scatter(X_tsne[:, 0], X_tsne[:, 1], c=df_filtered['cluster'])\n",
    "plt.xlabel('t-SNE Dimension 1')\n",
    "plt.ylabel('t-SNE Dimension 2')\n",
    "plt.title('Clusters visualized with t-SNE After outlier Removal')\n",
    "plt.show()"
   ]
  },
  {
   "cell_type": "code",
   "execution_count": 31,
   "id": "04d0d15c",
   "metadata": {
    "execution": {
     "iopub.execute_input": "2025-01-14T18:40:06.850514Z",
     "iopub.status.busy": "2025-01-14T18:40:06.850176Z",
     "iopub.status.idle": "2025-01-14T18:40:07.758956Z",
     "shell.execute_reply": "2025-01-14T18:40:07.758068Z"
    },
    "papermill": {
     "duration": 0.927059,
     "end_time": "2025-01-14T18:40:07.760169",
     "exception": false,
     "start_time": "2025-01-14T18:40:06.833110",
     "status": "completed"
    },
    "tags": []
   },
   "outputs": [
    {
     "name": "stdout",
     "output_type": "stream",
     "text": [
      "Silhouette Score: 0.18022958405857517\n"
     ]
    }
   ],
   "source": [
    "from sklearn.metrics import silhouette_score\n",
    "\n",
    "silhouette_avg = silhouette_score(X_scaled_filtered, df_filtered['cluster']) \n",
    "print(f\"Silhouette Score: {silhouette_avg}\")"
   ]
  },
  {
   "cell_type": "code",
   "execution_count": 32,
   "id": "054734ec",
   "metadata": {
    "execution": {
     "iopub.execute_input": "2025-01-14T18:40:07.793741Z",
     "iopub.status.busy": "2025-01-14T18:40:07.793436Z",
     "iopub.status.idle": "2025-01-14T18:40:07.797219Z",
     "shell.execute_reply": "2025-01-14T18:40:07.796281Z"
    },
    "papermill": {
     "duration": 0.021804,
     "end_time": "2025-01-14T18:40:07.798416",
     "exception": false,
     "start_time": "2025-01-14T18:40:07.776612",
     "status": "completed"
    },
    "tags": []
   },
   "outputs": [
    {
     "name": "stdout",
     "output_type": "stream",
     "text": [
      "Inertia: 61418.675224527455\n"
     ]
    }
   ],
   "source": [
    "inertia = kmeans.inertia_\n",
    "print(f\"Inertia: {inertia}\")"
   ]
  },
  {
   "cell_type": "code",
   "execution_count": 33,
   "id": "178a989d",
   "metadata": {
    "execution": {
     "iopub.execute_input": "2025-01-14T18:40:07.831739Z",
     "iopub.status.busy": "2025-01-14T18:40:07.831412Z",
     "iopub.status.idle": "2025-01-14T18:40:07.841480Z",
     "shell.execute_reply": "2025-01-14T18:40:07.840418Z"
    },
    "papermill": {
     "duration": 0.029854,
     "end_time": "2025-01-14T18:40:07.844473",
     "exception": false,
     "start_time": "2025-01-14T18:40:07.814619",
     "status": "completed"
    },
    "tags": []
   },
   "outputs": [
    {
     "name": "stdout",
     "output_type": "stream",
     "text": [
      "Davies-Bouldin Index: 1.9481811142018028\n"
     ]
    }
   ],
   "source": [
    "from sklearn.metrics import davies_bouldin_score\n",
    "\n",
    "db_index = davies_bouldin_score(X_scaled_filtered, df_filtered['cluster'])\n",
    "print(f\"Davies-Bouldin Index: {db_index}\")"
   ]
  },
  {
   "cell_type": "code",
   "execution_count": 34,
   "id": "5910e5e8",
   "metadata": {
    "execution": {
     "iopub.execute_input": "2025-01-14T18:40:07.931253Z",
     "iopub.status.busy": "2025-01-14T18:40:07.930709Z",
     "iopub.status.idle": "2025-01-14T18:40:07.945678Z",
     "shell.execute_reply": "2025-01-14T18:40:07.942932Z"
    },
    "papermill": {
     "duration": 0.062466,
     "end_time": "2025-01-14T18:40:07.948631",
     "exception": false,
     "start_time": "2025-01-14T18:40:07.886165",
     "status": "completed"
    },
    "tags": []
   },
   "outputs": [
    {
     "name": "stdout",
     "output_type": "stream",
     "text": [
      "Calinski-Harabasz Index: 2783.718740311932\n"
     ]
    }
   ],
   "source": [
    "from sklearn.metrics import calinski_harabasz_score\n",
    "\n",
    "ch_index = calinski_harabasz_score(X_scaled_filtered, df_filtered['cluster'])\n",
    "print(f\"Calinski-Harabasz Index: {ch_index}\")"
   ]
  },
  {
   "cell_type": "code",
   "execution_count": 35,
   "id": "14f7e71c",
   "metadata": {
    "execution": {
     "iopub.execute_input": "2025-01-14T18:40:07.999961Z",
     "iopub.status.busy": "2025-01-14T18:40:07.999675Z",
     "iopub.status.idle": "2025-01-14T18:40:08.005324Z",
     "shell.execute_reply": "2025-01-14T18:40:08.004271Z"
    },
    "papermill": {
     "duration": 0.024784,
     "end_time": "2025-01-14T18:40:08.006599",
     "exception": false,
     "start_time": "2025-01-14T18:40:07.981815",
     "status": "completed"
    },
    "tags": []
   },
   "outputs": [
    {
     "name": "stdout",
     "output_type": "stream",
     "text": [
      "Points in each cluster: Counter({0: 3156, 1: 2823, 2: 2620})\n"
     ]
    }
   ],
   "source": [
    "# Cluster assignments\n",
    "labels = kmeans.labels_\n",
    "\n",
    "# Count points in each cluster\n",
    "from collections import Counter\n",
    "point_counts = Counter(labels)\n",
    "print(\"Points in each cluster:\", point_counts)"
   ]
  },
  {
   "cell_type": "code",
   "execution_count": 36,
   "id": "2b09ea21",
   "metadata": {
    "execution": {
     "iopub.execute_input": "2025-01-14T18:40:08.040243Z",
     "iopub.status.busy": "2025-01-14T18:40:08.039972Z",
     "iopub.status.idle": "2025-01-14T18:40:08.044656Z",
     "shell.execute_reply": "2025-01-14T18:40:08.043847Z"
    },
    "papermill": {
     "duration": 0.023195,
     "end_time": "2025-01-14T18:40:08.046023",
     "exception": false,
     "start_time": "2025-01-14T18:40:08.022828",
     "status": "completed"
    },
    "tags": []
   },
   "outputs": [
    {
     "data": {
      "text/plain": [
       "(8057, 12)"
      ]
     },
     "execution_count": 36,
     "metadata": {},
     "output_type": "execute_result"
    }
   ],
   "source": [
    "X_scaled_filtered.shape"
   ]
  },
  {
   "cell_type": "code",
   "execution_count": 37,
   "id": "3b316eae",
   "metadata": {
    "execution": {
     "iopub.execute_input": "2025-01-14T18:40:08.080771Z",
     "iopub.status.busy": "2025-01-14T18:40:08.080466Z",
     "iopub.status.idle": "2025-01-14T18:40:08.088033Z",
     "shell.execute_reply": "2025-01-14T18:40:08.087319Z"
    },
    "papermill": {
     "duration": 0.026748,
     "end_time": "2025-01-14T18:40:08.089273",
     "exception": false,
     "start_time": "2025-01-14T18:40:08.062525",
     "status": "completed"
    },
    "tags": []
   },
   "outputs": [
    {
     "data": {
      "text/plain": [
       "array([[-0.05140642, -1.08651471,  0.94362441, -0.96139974, -1.02628552,\n",
       "         1.43830791, -0.54121213, -0.09793076, -2.20863273,  0.26508673,\n",
       "         0.3035983 , -0.3461335 ],\n",
       "       [-0.05140642,  0.9203741 ,  0.94362441,  1.04015006,  0.97438771,\n",
       "         0.5980783 , -0.60658175,  0.34702186, -1.01065099,  0.80168715,\n",
       "        -0.14007005,  0.11292783],\n",
       "       [-0.05140642,  0.9203741 ,  0.94362441,  1.04015006,  0.97438771,\n",
       "         1.28553889,  0.70081072,  1.10979778,  0.78632162,  0.80168715,\n",
       "         0.89515611,  1.0310505 ],\n",
       "       [ 1.04721826,  0.9203741 ,  0.94362441, -0.96139974,  0.97438771,\n",
       "         0.13977123, -1.26027799, -0.16149542, -1.87586002,  0.33216178,\n",
       "         0.0078194 , -0.3461335 ],\n",
       "       [ 1.04721826,  0.9203741 ,  0.94362441, -0.96139974,  0.97438771,\n",
       "        -0.62407387, -1.12953874, -1.55991793,  0.32043984,  0.93583725,\n",
       "         0.89515611, -0.3461335 ],\n",
       "       [-1.15003109,  0.9203741 ,  0.94362441, -0.96139974,  0.97438771,\n",
       "        -0.0893823 ,  0.30859298, -0.79714202, -0.21199649,  0.66753704,\n",
       "         0.74726666,  0.57198916],\n",
       "       [ 1.04721826, -1.08651471,  0.94362441, -0.96139974, -1.02628552,\n",
       "        -0.39492034,  0.43933223,  0.85553914,  0.98598525,  0.80168715,\n",
       "         1.7085481 ,  0.11292783],\n",
       "       [-1.15003109, -1.08651471, -1.05974367, -0.96139974,  0.97438771,\n",
       "        -1.76984152, -0.86806025,  0.2834572 , -0.8775419 , -0.20443863,\n",
       "         0.82121139,  0.57198916],\n",
       "       [ 1.04721826,  0.9203741 , -1.05974367, -0.96139974,  0.97438771,\n",
       "        -1.76984152, -0.21436401, -0.79714202, -0.21199649, -0.20443863,\n",
       "         0.08176413,  2.40823449],\n",
       "       [-1.15003109, -1.08651471,  0.94362441,  1.04015006,  0.97438771,\n",
       "         0.67446281, -0.21436401,  0.47415118, -0.21199649, -0.20443863,\n",
       "         0.74726666,  1.49011183],\n",
       "       [-1.15003109,  0.9203741 ,  0.94362441,  1.04015006,  0.97438771,\n",
       "         1.28553889,  0.83154997,  0.47415118,  0.98598525,  0.93583725,\n",
       "         0.67332194,  1.49011183],\n",
       "       [ 1.04721826,  0.9203741 ,  0.94362441, -0.96139974, -1.02628552,\n",
       "         1.66746144,  0.89691959,  0.79197448,  1.51842158,  0.39923683,\n",
       "         1.19093502,  1.49011183],\n",
       "       [ 1.04721826,  0.9203741 ,  0.94362441,  1.04015006,  0.97438771,\n",
       "        -0.47130485,  0.11248411,  0.47415118, -0.47821466,  0.80168715,\n",
       "        -0.2879595 ,  0.11292783],\n",
       "       [-1.15003109,  0.9203741 ,  0.94362441, -0.96139974,  0.97438771,\n",
       "         0.90361634, -0.86806025,  0.47415118,  0.78632162, -0.60688894,\n",
       "         0.74726666,  0.57198916],\n",
       "       [ 1.04721826,  0.9203741 ,  0.94362441, -0.96139974,  0.97438771,\n",
       "         0.29254025, -1.19490837, -0.47931872, -1.34342369, -0.74103904,\n",
       "         0.74726666,  1.0310505 ],\n",
       "       [-0.05140642,  0.9203741 ,  0.94362441, -0.96139974,  0.97438771,\n",
       "         1.28553889,  0.43933223,  0.02919856,  1.45186703,  1.47243766,\n",
       "         1.4127692 ,  1.49011183],\n",
       "       [-0.05140642,  0.9203741 ,  0.94362441, -0.96139974,  0.97438771,\n",
       "         0.90361634, -0.41047288, -0.22506008, -0.01233287,  0.80168715,\n",
       "         1.26487974,  0.11292783],\n",
       "       [ 1.04721826,  0.9203741 ,  0.94362441, -0.96139974,  0.97438771,\n",
       "         0.21615574, -0.67195138, -0.22506008,  0.78632162, -0.53981389,\n",
       "         0.08176413,  1.0310505 ],\n",
       "       [-0.05140642, -1.08651471,  0.94362441, -0.96139974, -1.02628552,\n",
       "         0.82723183, -0.54121213,  0.6012805 ,  0.586658  , -0.47273884,\n",
       "         0.74726666, -0.80519483],\n",
       "       [ 1.04721826,  0.9203741 ,  0.94362441,  1.04015006,  0.97438771,\n",
       "        -1.38791897, -0.21436401, -0.09793076, -0.8775419 , -1.61301472,\n",
       "         0.67332194,  0.57198916],\n",
       "       [ 1.04721826,  0.9203741 ,  0.94362441, -0.96139974,  0.97438771,\n",
       "         1.20915438, -0.67195138, -0.22506008,  0.78632162, -0.53981389,\n",
       "         1.19093502,  1.0310505 ],\n",
       "       [-1.15003109,  0.9203741 , -1.05974367,  1.04015006,  0.97438771,\n",
       "         1.28553889,  0.11248411,  1.10979778,  0.78632162,  0.39923683,\n",
       "         1.19093502,  1.0310505 ],\n",
       "       [ 1.04721826,  0.9203741 ,  0.94362441, -0.96139974,  0.97438771,\n",
       "        -0.47130485,  0.43933223, -0.16149542, -0.07888741,  0.39923683,\n",
       "         0.67332194, -0.80519483],\n",
       "       [-1.15003109, -1.08651471,  0.94362441,  1.04015006,  0.97438771,\n",
       "        -0.62407387, -0.21436401,  0.47415118, -0.21199649, -0.20443863,\n",
       "         0.74726666,  0.57198916],\n",
       "       [ 1.04721826, -1.08651471, -1.05974367, -0.96139974, -1.02628552,\n",
       "         1.28553889, -0.21436401, -0.09793076,  0.45354892, -0.20443863,\n",
       "        -0.80557259,  0.11292783],\n",
       "       [-0.05140642,  0.9203741 ,  0.94362441,  1.04015006,  0.97438771,\n",
       "        -1.00599642,  1.22376771,  0.47415118, -1.21031461,  0.93583725,\n",
       "         0.59937721, -0.3461335 ],\n",
       "       [ 1.04721826,  0.9203741 ,  0.94362441, -0.96139974,  0.97438771,\n",
       "         0.90361634,  0.04711448, -0.16149542,  0.78632162,  0.93583725,\n",
       "        -0.14007005,  0.11292783],\n",
       "       [-0.05140642,  0.9203741 ,  0.94362441,  1.04015006,  0.97438771,\n",
       "        -1.6170725 ,  0.04711448, -0.47931872, -1.87586002, -1.34471451,\n",
       "         0.67332194,  0.11292783],\n",
       "       [ 1.04721826, -1.08651471, -1.05974367,  1.04015006, -1.02628552,\n",
       "         1.05638536,  0.76618035, -0.0343661 ,  0.52010346,  0.66753704,\n",
       "         0.74726666,  1.49011183],\n",
       "       [ 1.04721826,  0.9203741 ,  0.94362441,  1.04015006,  0.97438771,\n",
       "        -0.62407387, -0.54121213, -0.79714202, -0.74443282, -0.40566379,\n",
       "        -0.95346204,  0.57198916],\n",
       "       [-1.15003109,  0.9203741 ,  0.94362441,  1.04015006,  0.97438771,\n",
       "        -0.92961191, -0.21436401, -0.09793076,  0.65321254, -0.8081141 ,\n",
       "        -0.50979368, -0.3461335 ],\n",
       "       [ 1.04721826,  0.9203741 ,  0.94362441, -0.96139974,  0.97438771,\n",
       "         0.67446281,  0.11248411,  0.47415118, -0.21199649, -0.40566379,\n",
       "        -0.36190423,  0.57198916],\n",
       "       [-1.15003109,  0.9203741 ,  0.94362441, -0.96139974,  0.97438771,\n",
       "         1.28553889,  1.09302847,  0.79197448,  0.38699438,  1.0029123 ,\n",
       "        -0.06612533,  1.0310505 ]])"
      ]
     },
     "execution_count": 37,
     "metadata": {},
     "output_type": "execute_result"
    }
   ],
   "source": [
    "X_scaled_filtered[:-8024,:]"
   ]
  },
  {
   "cell_type": "code",
   "execution_count": 38,
   "id": "3eda23dc",
   "metadata": {
    "execution": {
     "iopub.execute_input": "2025-01-14T18:40:08.124247Z",
     "iopub.status.busy": "2025-01-14T18:40:08.123961Z",
     "iopub.status.idle": "2025-01-14T18:40:08.137602Z",
     "shell.execute_reply": "2025-01-14T18:40:08.136730Z"
    },
    "papermill": {
     "duration": 0.032991,
     "end_time": "2025-01-14T18:40:08.139018",
     "exception": false,
     "start_time": "2025-01-14T18:40:08.106027",
     "status": "completed"
    },
    "tags": []
   },
   "outputs": [
    {
     "data": {
      "text/html": [
       "<div>\n",
       "<style scoped>\n",
       "    .dataframe tbody tr th:only-of-type {\n",
       "        vertical-align: middle;\n",
       "    }\n",
       "\n",
       "    .dataframe tbody tr th {\n",
       "        vertical-align: top;\n",
       "    }\n",
       "\n",
       "    .dataframe thead th {\n",
       "        text-align: right;\n",
       "    }\n",
       "</style>\n",
       "<table border=\"1\" class=\"dataframe\">\n",
       "  <thead>\n",
       "    <tr style=\"text-align: right;\">\n",
       "      <th></th>\n",
       "      <th>id</th>\n",
       "      <th>full_name</th>\n",
       "      <th>age</th>\n",
       "      <th>location</th>\n",
       "      <th>family_size</th>\n",
       "      <th>mother_education</th>\n",
       "      <th>father_education</th>\n",
       "      <th>mother_job</th>\n",
       "      <th>father_job</th>\n",
       "      <th>guardian</th>\n",
       "      <th>...</th>\n",
       "      <th>english</th>\n",
       "      <th>math</th>\n",
       "      <th>science</th>\n",
       "      <th>social_science</th>\n",
       "      <th>art_culture</th>\n",
       "      <th>gender_Male</th>\n",
       "      <th>stu_group_Commerce</th>\n",
       "      <th>stu_group_Science</th>\n",
       "      <th>cluster</th>\n",
       "      <th>cluster_label</th>\n",
       "    </tr>\n",
       "  </thead>\n",
       "  <tbody>\n",
       "    <tr>\n",
       "      <th>1</th>\n",
       "      <td>3</td>\n",
       "      <td>6366</td>\n",
       "      <td>18</td>\n",
       "      <td>1</td>\n",
       "      <td>6</td>\n",
       "      <td>2</td>\n",
       "      <td>3</td>\n",
       "      <td>0</td>\n",
       "      <td>1</td>\n",
       "      <td>0</td>\n",
       "      <td>...</td>\n",
       "      <td>65</td>\n",
       "      <td>71</td>\n",
       "      <td>40</td>\n",
       "      <td>78</td>\n",
       "      <td>80</td>\n",
       "      <td>0</td>\n",
       "      <td>1</td>\n",
       "      <td>0</td>\n",
       "      <td>0</td>\n",
       "      <td>Excellent</td>\n",
       "    </tr>\n",
       "    <tr>\n",
       "      <th>2</th>\n",
       "      <td>4</td>\n",
       "      <td>3563</td>\n",
       "      <td>15</td>\n",
       "      <td>1</td>\n",
       "      <td>4</td>\n",
       "      <td>2</td>\n",
       "      <td>2</td>\n",
       "      <td>1</td>\n",
       "      <td>1</td>\n",
       "      <td>0</td>\n",
       "      <td>...</td>\n",
       "      <td>64</td>\n",
       "      <td>78</td>\n",
       "      <td>58</td>\n",
       "      <td>86</td>\n",
       "      <td>74</td>\n",
       "      <td>1</td>\n",
       "      <td>1</td>\n",
       "      <td>0</td>\n",
       "      <td>0</td>\n",
       "      <td>Excellent</td>\n",
       "    </tr>\n",
       "    <tr>\n",
       "      <th>3</th>\n",
       "      <td>5</td>\n",
       "      <td>5433</td>\n",
       "      <td>16</td>\n",
       "      <td>1</td>\n",
       "      <td>6</td>\n",
       "      <td>2</td>\n",
       "      <td>2</td>\n",
       "      <td>1</td>\n",
       "      <td>1</td>\n",
       "      <td>0</td>\n",
       "      <td>...</td>\n",
       "      <td>84</td>\n",
       "      <td>90</td>\n",
       "      <td>85</td>\n",
       "      <td>86</td>\n",
       "      <td>88</td>\n",
       "      <td>1</td>\n",
       "      <td>0</td>\n",
       "      <td>1</td>\n",
       "      <td>1</td>\n",
       "      <td>Moderate</td>\n",
       "    </tr>\n",
       "    <tr>\n",
       "      <th>4</th>\n",
       "      <td>6</td>\n",
       "      <td>1142</td>\n",
       "      <td>17</td>\n",
       "      <td>2</td>\n",
       "      <td>5</td>\n",
       "      <td>5</td>\n",
       "      <td>6</td>\n",
       "      <td>0</td>\n",
       "      <td>1</td>\n",
       "      <td>0</td>\n",
       "      <td>...</td>\n",
       "      <td>54</td>\n",
       "      <td>70</td>\n",
       "      <td>45</td>\n",
       "      <td>79</td>\n",
       "      <td>76</td>\n",
       "      <td>1</td>\n",
       "      <td>1</td>\n",
       "      <td>0</td>\n",
       "      <td>0</td>\n",
       "      <td>Excellent</td>\n",
       "    </tr>\n",
       "    <tr>\n",
       "      <th>5</th>\n",
       "      <td>7</td>\n",
       "      <td>2442</td>\n",
       "      <td>15</td>\n",
       "      <td>2</td>\n",
       "      <td>5</td>\n",
       "      <td>3</td>\n",
       "      <td>4</td>\n",
       "      <td>0</td>\n",
       "      <td>1</td>\n",
       "      <td>0</td>\n",
       "      <td>...</td>\n",
       "      <td>56</td>\n",
       "      <td>48</td>\n",
       "      <td>78</td>\n",
       "      <td>88</td>\n",
       "      <td>88</td>\n",
       "      <td>1</td>\n",
       "      <td>0</td>\n",
       "      <td>1</td>\n",
       "      <td>0</td>\n",
       "      <td>Excellent</td>\n",
       "    </tr>\n",
       "  </tbody>\n",
       "</table>\n",
       "<p>5 rows × 27 columns</p>\n",
       "</div>"
      ],
      "text/plain": [
       "   id  full_name  age  location  family_size  mother_education  \\\n",
       "1   3       6366   18         1            6                 2   \n",
       "2   4       3563   15         1            4                 2   \n",
       "3   5       5433   16         1            6                 2   \n",
       "4   6       1142   17         2            5                 5   \n",
       "5   7       2442   15         2            5                 3   \n",
       "\n",
       "   father_education  mother_job  father_job  guardian  ...  english  math  \\\n",
       "1                 3           0           1         0  ...       65    71   \n",
       "2                 2           1           1         0  ...       64    78   \n",
       "3                 2           1           1         0  ...       84    90   \n",
       "4                 6           0           1         0  ...       54    70   \n",
       "5                 4           0           1         0  ...       56    48   \n",
       "\n",
       "   science  social_science  art_culture  gender_Male  stu_group_Commerce  \\\n",
       "1       40              78           80            0                   1   \n",
       "2       58              86           74            1                   1   \n",
       "3       85              86           88            1                   0   \n",
       "4       45              79           76            1                   1   \n",
       "5       78              88           88            1                   0   \n",
       "\n",
       "   stu_group_Science  cluster  cluster_label  \n",
       "1                  0        0      Excellent  \n",
       "2                  0        0      Excellent  \n",
       "3                  1        1       Moderate  \n",
       "4                  0        0      Excellent  \n",
       "5                  1        0      Excellent  \n",
       "\n",
       "[5 rows x 27 columns]"
      ]
     },
     "execution_count": 38,
     "metadata": {},
     "output_type": "execute_result"
    }
   ],
   "source": [
    "df_filtered.head()"
   ]
  },
  {
   "cell_type": "code",
   "execution_count": 39,
   "id": "bf57ee8a",
   "metadata": {
    "execution": {
     "iopub.execute_input": "2025-01-14T18:40:08.174348Z",
     "iopub.status.busy": "2025-01-14T18:40:08.174050Z",
     "iopub.status.idle": "2025-01-14T18:40:08.178502Z",
     "shell.execute_reply": "2025-01-14T18:40:08.177789Z"
    },
    "papermill": {
     "duration": 0.023301,
     "end_time": "2025-01-14T18:40:08.179742",
     "exception": false,
     "start_time": "2025-01-14T18:40:08.156441",
     "status": "completed"
    },
    "tags": []
   },
   "outputs": [
    {
     "data": {
      "text/plain": [
       "(8057, 27)"
      ]
     },
     "execution_count": 39,
     "metadata": {},
     "output_type": "execute_result"
    }
   ],
   "source": [
    "df_filtered.shape"
   ]
  },
  {
   "cell_type": "code",
   "execution_count": 40,
   "id": "c97d6682",
   "metadata": {
    "execution": {
     "iopub.execute_input": "2025-01-14T18:40:08.215590Z",
     "iopub.status.busy": "2025-01-14T18:40:08.215209Z",
     "iopub.status.idle": "2025-01-14T18:40:08.220701Z",
     "shell.execute_reply": "2025-01-14T18:40:08.219972Z"
    },
    "papermill": {
     "duration": 0.025193,
     "end_time": "2025-01-14T18:40:08.221933",
     "exception": false,
     "start_time": "2025-01-14T18:40:08.196740",
     "status": "completed"
    },
    "tags": []
   },
   "outputs": [],
   "source": [
    "P_columns = ['location','internet_access','parental_involvement','mother_job','tutoring', 'attendance', \n",
    "    'english', 'math', 'science', \n",
    "    'social_science', 'art_culture','studytime' ]\n",
    "Q_columns = ['cluster']\n",
    "\n",
    "# Create P and Q datasets\n",
    "P = df_filtered[P_columns]\n",
    "Q = df_filtered[Q_columns]\n"
   ]
  },
  {
   "cell_type": "code",
   "execution_count": 41,
   "id": "1d84dc5c",
   "metadata": {
    "execution": {
     "iopub.execute_input": "2025-01-14T18:40:08.257129Z",
     "iopub.status.busy": "2025-01-14T18:40:08.256852Z",
     "iopub.status.idle": "2025-01-14T18:40:08.262853Z",
     "shell.execute_reply": "2025-01-14T18:40:08.262206Z"
    },
    "papermill": {
     "duration": 0.02511,
     "end_time": "2025-01-14T18:40:08.264052",
     "exception": false,
     "start_time": "2025-01-14T18:40:08.238942",
     "status": "completed"
    },
    "tags": []
   },
   "outputs": [],
   "source": [
    "P_train, P_test, Q_train, Q_test = train_test_split(P, Q, test_size=0.2,random_state=42)"
   ]
  },
  {
   "cell_type": "code",
   "execution_count": 42,
   "id": "b5490b96",
   "metadata": {
    "execution": {
     "iopub.execute_input": "2025-01-14T18:40:08.299323Z",
     "iopub.status.busy": "2025-01-14T18:40:08.299021Z",
     "iopub.status.idle": "2025-01-14T18:40:08.302503Z",
     "shell.execute_reply": "2025-01-14T18:40:08.301681Z"
    },
    "papermill": {
     "duration": 0.022202,
     "end_time": "2025-01-14T18:40:08.303773",
     "exception": false,
     "start_time": "2025-01-14T18:40:08.281571",
     "status": "completed"
    },
    "tags": []
   },
   "outputs": [],
   "source": [
    "a=P_train\n",
    "b=Q_train\n",
    "c=P_test\n",
    "d=Q_test"
   ]
  },
  {
   "cell_type": "code",
   "execution_count": 43,
   "id": "f865de88",
   "metadata": {
    "execution": {
     "iopub.execute_input": "2025-01-14T18:40:08.338821Z",
     "iopub.status.busy": "2025-01-14T18:40:08.338526Z",
     "iopub.status.idle": "2025-01-14T18:40:08.579919Z",
     "shell.execute_reply": "2025-01-14T18:40:08.579193Z"
    },
    "papermill": {
     "duration": 0.260635,
     "end_time": "2025-01-14T18:40:08.581386",
     "exception": false,
     "start_time": "2025-01-14T18:40:08.320751",
     "status": "completed"
    },
    "tags": []
   },
   "outputs": [],
   "source": [
    "from sklearn.tree import DecisionTreeClassifier\n",
    "from sklearn.ensemble import AdaBoostClassifier, VotingClassifier\n",
    "from sklearn.model_selection import train_test_split, cross_val_score\n",
    "from sklearn.metrics import accuracy_score, f1_score, confusion_matrix, classification_report\n",
    "from sklearn.preprocessing import StandardScaler\n",
    "from imblearn.over_sampling import SMOTE\n",
    "\n",
    "\n",
    "# Balance the dataset using SMOTE\n",
    "smote = SMOTE(random_state=42)\n",
    "P_train_resampled, Q_train_resampled = smote.fit_resample(P_train, Q_train)"
   ]
  },
  {
   "cell_type": "code",
   "execution_count": 44,
   "id": "b85f6ab4",
   "metadata": {
    "execution": {
     "iopub.execute_input": "2025-01-14T18:40:08.618048Z",
     "iopub.status.busy": "2025-01-14T18:40:08.617521Z",
     "iopub.status.idle": "2025-01-14T18:40:08.620952Z",
     "shell.execute_reply": "2025-01-14T18:40:08.620343Z"
    },
    "papermill": {
     "duration": 0.023138,
     "end_time": "2025-01-14T18:40:08.622190",
     "exception": false,
     "start_time": "2025-01-14T18:40:08.599052",
     "status": "completed"
    },
    "tags": []
   },
   "outputs": [],
   "source": [
    "a=P_train_resampled\n",
    "b=Q_train_resampled"
   ]
  },
  {
   "cell_type": "code",
   "execution_count": 45,
   "id": "f4e99e2f",
   "metadata": {
    "execution": {
     "iopub.execute_input": "2025-01-14T18:40:08.657645Z",
     "iopub.status.busy": "2025-01-14T18:40:08.657359Z",
     "iopub.status.idle": "2025-01-14T18:40:13.364005Z",
     "shell.execute_reply": "2025-01-14T18:40:13.362726Z"
    },
    "papermill": {
     "duration": 4.726538,
     "end_time": "2025-01-14T18:40:13.365777",
     "exception": false,
     "start_time": "2025-01-14T18:40:08.639239",
     "status": "completed"
    },
    "tags": []
   },
   "outputs": [
    {
     "name": "stderr",
     "output_type": "stream",
     "text": [
      "<ipython-input-45-bf2fe99c5c1c>:86: DataConversionWarning: A column-vector y was passed when a 1d array was expected. Please change the shape of y to (n_samples,), for example using ravel().\n",
      "  model.fit(a, b)  # Fit the model on the training data\n",
      "/usr/local/lib/python3.10/dist-packages/sklearn/model_selection/_validation.py:1068: DataConversionWarning: A column-vector y was passed when a 1d array was expected. Please change the shape of y to (n_samples,), for example using ravel().\n",
      "  estimator.fit(X_train, y_train, **fit_params)\n",
      "/usr/local/lib/python3.10/dist-packages/sklearn/model_selection/_validation.py:1068: DataConversionWarning: A column-vector y was passed when a 1d array was expected. Please change the shape of y to (n_samples,), for example using ravel().\n",
      "  estimator.fit(X_train, y_train, **fit_params)\n"
     ]
    },
    {
     "name": "stdout",
     "output_type": "stream",
     "text": [
      "RF Accuracy: 0.986352\n",
      "RF F1 Score: 0.986727\n",
      "RF Confusion Matrix:\n",
      "[[601   1  13]\n",
      " [  5 489   0]\n",
      " [  3   0 500]]\n",
      "KNN Accuracy: 0.990074\n",
      "KNN F1 Score: 0.990358\n",
      "KNN Confusion Matrix:\n",
      "[[604   0  11]\n",
      " [  3 491   0]\n",
      " [  2   0 501]]\n"
     ]
    },
    {
     "name": "stderr",
     "output_type": "stream",
     "text": [
      "/usr/local/lib/python3.10/dist-packages/sklearn/neighbors/_classification.py:215: DataConversionWarning: A column-vector y was passed when a 1d array was expected. Please change the shape of y to (n_samples,), for example using ravel().\n",
      "  return self._fit(X, y)\n",
      "/usr/local/lib/python3.10/dist-packages/sklearn/neighbors/_classification.py:215: DataConversionWarning: A column-vector y was passed when a 1d array was expected. Please change the shape of y to (n_samples,), for example using ravel().\n",
      "  return self._fit(X, y)\n",
      "/usr/local/lib/python3.10/dist-packages/sklearn/neighbors/_classification.py:215: DataConversionWarning: A column-vector y was passed when a 1d array was expected. Please change the shape of y to (n_samples,), for example using ravel().\n",
      "  return self._fit(X, y)\n",
      "<ipython-input-45-bf2fe99c5c1c>:86: DataConversionWarning: A column-vector y was passed when a 1d array was expected. Please change the shape of y to (n_samples,), for example using ravel().\n",
      "  model.fit(a, b)  # Fit the model on the training data\n",
      "/usr/local/lib/python3.10/dist-packages/sklearn/model_selection/_validation.py:1068: DataConversionWarning: A column-vector y was passed when a 1d array was expected. Please change the shape of y to (n_samples,), for example using ravel().\n",
      "  estimator.fit(X_train, y_train, **fit_params)\n",
      "/usr/local/lib/python3.10/dist-packages/sklearn/model_selection/_validation.py:1068: DataConversionWarning: A column-vector y was passed when a 1d array was expected. Please change the shape of y to (n_samples,), for example using ravel().\n",
      "  estimator.fit(X_train, y_train, **fit_params)\n"
     ]
    },
    {
     "name": "stdout",
     "output_type": "stream",
     "text": [
      "ExtraTrees Accuracy: 0.991315\n",
      "ExtraTrees F1 Score: 0.991531\n",
      "ExtraTrees Confusion Matrix:\n",
      "[[606   1   8]\n",
      " [  5 489   0]\n",
      " [  0   0 503]]\n",
      "NaiveBayes Accuracy: 0.984491\n",
      "NaiveBayes F1 Score: 0.984940\n",
      "NaiveBayes Confusion Matrix:\n",
      "[[594   1  20]\n",
      " [  4 490   0]\n",
      " [  0   0 503]]\n"
     ]
    },
    {
     "name": "stderr",
     "output_type": "stream",
     "text": [
      "/usr/local/lib/python3.10/dist-packages/sklearn/utils/validation.py:1143: DataConversionWarning: A column-vector y was passed when a 1d array was expected. Please change the shape of y to (n_samples, ), for example using ravel().\n",
      "  y = column_or_1d(y, warn=True)\n",
      "/usr/local/lib/python3.10/dist-packages/sklearn/utils/validation.py:1143: DataConversionWarning: A column-vector y was passed when a 1d array was expected. Please change the shape of y to (n_samples, ), for example using ravel().\n",
      "  y = column_or_1d(y, warn=True)\n",
      "/usr/local/lib/python3.10/dist-packages/sklearn/utils/validation.py:1143: DataConversionWarning: A column-vector y was passed when a 1d array was expected. Please change the shape of y to (n_samples, ), for example using ravel().\n",
      "  y = column_or_1d(y, warn=True)\n",
      "/usr/local/lib/python3.10/dist-packages/sklearn/ensemble/_bagging.py:802: DataConversionWarning: A column-vector y was passed when a 1d array was expected. Please change the shape of y to (n_samples, ), for example using ravel().\n",
      "  y = column_or_1d(y, warn=True)\n",
      "/usr/local/lib/python3.10/dist-packages/sklearn/ensemble/_base.py:166: FutureWarning: `base_estimator` was renamed to `estimator` in version 1.2 and will be removed in 1.4.\n",
      "  warnings.warn(\n",
      "/usr/local/lib/python3.10/dist-packages/sklearn/ensemble/_bagging.py:802: DataConversionWarning: A column-vector y was passed when a 1d array was expected. Please change the shape of y to (n_samples, ), for example using ravel().\n",
      "  y = column_or_1d(y, warn=True)\n",
      "/usr/local/lib/python3.10/dist-packages/sklearn/ensemble/_base.py:166: FutureWarning: `base_estimator` was renamed to `estimator` in version 1.2 and will be removed in 1.4.\n",
      "  warnings.warn(\n",
      "/usr/local/lib/python3.10/dist-packages/sklearn/ensemble/_bagging.py:802: DataConversionWarning: A column-vector y was passed when a 1d array was expected. Please change the shape of y to (n_samples, ), for example using ravel().\n",
      "  y = column_or_1d(y, warn=True)\n",
      "/usr/local/lib/python3.10/dist-packages/sklearn/ensemble/_base.py:166: FutureWarning: `base_estimator` was renamed to `estimator` in version 1.2 and will be removed in 1.4.\n",
      "  warnings.warn(\n"
     ]
    },
    {
     "name": "stdout",
     "output_type": "stream",
     "text": [
      "Bagging Accuracy: 0.983251\n",
      "Bagging F1 Score: 0.983684\n",
      "Bagging Confusion Matrix:\n",
      "[[597   4  14]\n",
      " [  5 489   0]\n",
      " [  4   0 499]]\n",
      "DTC Accuracy: 0.957196\n",
      "DTC F1 Score: 0.958213\n",
      "DTC Confusion Matrix:\n",
      "[[588  15  12]\n",
      " [ 18 476   0]\n",
      " [ 23   1 479]]\n"
     ]
    },
    {
     "name": "stderr",
     "output_type": "stream",
     "text": [
      "/usr/local/lib/python3.10/dist-packages/sklearn/utils/validation.py:1143: DataConversionWarning: A column-vector y was passed when a 1d array was expected. Please change the shape of y to (n_samples, ), for example using ravel().\n",
      "  y = column_or_1d(y, warn=True)\n",
      "/usr/local/lib/python3.10/dist-packages/sklearn/ensemble/_base.py:166: FutureWarning: `base_estimator` was renamed to `estimator` in version 1.2 and will be removed in 1.4.\n",
      "  warnings.warn(\n",
      "/usr/local/lib/python3.10/dist-packages/sklearn/utils/validation.py:1143: DataConversionWarning: A column-vector y was passed when a 1d array was expected. Please change the shape of y to (n_samples, ), for example using ravel().\n",
      "  y = column_or_1d(y, warn=True)\n",
      "/usr/local/lib/python3.10/dist-packages/sklearn/ensemble/_base.py:166: FutureWarning: `base_estimator` was renamed to `estimator` in version 1.2 and will be removed in 1.4.\n",
      "  warnings.warn(\n",
      "/usr/local/lib/python3.10/dist-packages/sklearn/utils/validation.py:1143: DataConversionWarning: A column-vector y was passed when a 1d array was expected. Please change the shape of y to (n_samples, ), for example using ravel().\n",
      "  y = column_or_1d(y, warn=True)\n",
      "/usr/local/lib/python3.10/dist-packages/sklearn/ensemble/_base.py:166: FutureWarning: `base_estimator` was renamed to `estimator` in version 1.2 and will be removed in 1.4.\n",
      "  warnings.warn(\n"
     ]
    },
    {
     "name": "stdout",
     "output_type": "stream",
     "text": [
      "AdaBoost Accuracy: 0.980769\n",
      "AdaBoost F1 Score: 0.981233\n",
      "AdaBoost Confusion Matrix:\n",
      "[[597   9   9]\n",
      " [  5 489   0]\n",
      " [  8   0 495]]\n"
     ]
    },
    {
     "name": "stderr",
     "output_type": "stream",
     "text": [
      "/usr/local/lib/python3.10/dist-packages/sklearn/utils/validation.py:1143: DataConversionWarning: A column-vector y was passed when a 1d array was expected. Please change the shape of y to (n_samples, ), for example using ravel().\n",
      "  y = column_or_1d(y, warn=True)\n"
     ]
    },
    {
     "name": "stdout",
     "output_type": "stream",
     "text": [
      "SVM Accuracy: 0.985732\n",
      "SVM F1 Score: 0.986156\n",
      "SVM Confusion Matrix:\n",
      "[[596   0  19]\n",
      " [  4 490   0]\n",
      " [  0   0 503]]\n",
      "Total time cost is： 4.687324047088623 s\n"
     ]
    },
    {
     "name": "stderr",
     "output_type": "stream",
     "text": [
      "/usr/local/lib/python3.10/dist-packages/sklearn/utils/validation.py:1143: DataConversionWarning: A column-vector y was passed when a 1d array was expected. Please change the shape of y to (n_samples, ), for example using ravel().\n",
      "  y = column_or_1d(y, warn=True)\n",
      "/usr/local/lib/python3.10/dist-packages/sklearn/utils/validation.py:1143: DataConversionWarning: A column-vector y was passed when a 1d array was expected. Please change the shape of y to (n_samples, ), for example using ravel().\n",
      "  y = column_or_1d(y, warn=True)\n"
     ]
    }
   ],
   "source": [
    "import time\n",
    "import numpy as np\n",
    "import matplotlib.pyplot as plt\n",
    "from sklearn.model_selection import KFold, cross_val_predict\n",
    "from sklearn.metrics import accuracy_score, confusion_matrix, f1_score\n",
    "from sklearn.tree import DecisionTreeClassifier\n",
    "from sklearn.ensemble import RandomForestClassifier, ExtraTreesClassifier\n",
    "from sklearn.neighbors import KNeighborsClassifier\n",
    "from sklearn.naive_bayes import GaussianNB\n",
    "import time\n",
    "import matplotlib.pyplot as plt\n",
    "from sklearn.model_selection import KFold, cross_val_score\n",
    "from sklearn.tree import DecisionTreeClassifier\n",
    "from sklearn.linear_model import LogisticRegression\n",
    "from sklearn.ensemble import RandomForestClassifier, AdaBoostClassifier, BaggingClassifier, ExtraTreesClassifier\n",
    "from sklearn.neighbors import KNeighborsClassifier\n",
    "from sklearn.svm import SVC\n",
    "from sklearn.naive_bayes import GaussianNB\n",
    "\n",
    "start = time.time()\n",
    "resultsAccuracy = []\n",
    "resultsF1 = []\n",
    "resultsConfusion = []\n",
    "models = [\n",
    "    ('RF', RandomForestClassifier( n_estimators=100,          # Number of trees in the forest\n",
    "    max_depth=10,              # Maximum depth of each tree (limits overfitting)\n",
    "    min_samples_split=5,       # Minimum samples required to split an internal node\n",
    "    min_samples_leaf=2,        # Minimum samples required at a leaf node\n",
    "    max_features='sqrt',       # Number of features to consider when looking for the best split\n",
    "    random_state=42,           # Ensures reproducibility\n",
    "    bootstrap=True  )),\n",
    "    ('KNN', KNeighborsClassifier(n_neighbors=5,            # Number of neighbors to consider (default is 5)\n",
    "    weights='uniform',        # Weight function: 'uniform' or 'distance'\n",
    "    algorithm='auto',         # Algorithm to compute nearest neighbors: 'auto', 'ball_tree', 'kd_tree', or 'brute'\n",
    "    leaf_size=30,             # Leaf size for tree-based algorithms (affects speed/memory)\n",
    "    p=2,                      # Power parameter for the Minkowski metric (2 = Euclidean distance)\n",
    "    metric='minkowski',       # Metric used for distance computation\n",
    "    n_jobs=-1   )),\n",
    "    ('ExtraTrees', ExtraTreesClassifier(n_estimators=100,          # Number of trees in the forest\n",
    "    max_depth=10,              # Maximum depth of each tree (limits overfitting)\n",
    "    min_samples_split=5,       # Minimum samples required to split an internal node\n",
    "    min_samples_leaf=2,        # Minimum samples required at a leaf node\n",
    "    max_features='sqrt',       # Number of features to consider when looking for the best split\n",
    "    bootstrap=False,           # Whether to use bootstrapped samples\n",
    "    random_state=42,           # Ensures reproducibility\n",
    "    n_jobs=-1 )),                 # Number of parallel jobs (-1 uses all processors))),\n",
    "    ('NaiveBayes', GaussianNB(var_smoothing=1e-9)),\n",
    "    ('Bagging', BaggingClassifier(  base_estimator=DecisionTreeClassifier(max_depth=5),  # Base model (weak learner)\n",
    "    n_estimators=50,             # Number of base estimators\n",
    "    max_samples=0.8,             # Fraction of the dataset to sample for training each base estimator\n",
    "    max_features=0.8,            # Fraction of features to sample for training each base estimator\n",
    "    bootstrap=True,              # Use bootstrapped samples\n",
    "    bootstrap_features=False,    # Whether to bootstrap features\n",
    "    random_state=42,             # Ensures reproducibility\n",
    "    n_jobs=-1    )),\n",
    "    ('DTC', DecisionTreeClassifier(max_depth=4,               # Limit the depth of the tree\n",
    "    min_samples_split=10,      # Minimum samples required to split a node\n",
    "    min_samples_leaf=5,        # Minimum samples required at a leaf node\n",
    "    random_state=42)),\n",
    "    ('AdaBoost', AdaBoostClassifier(    base_estimator=DecisionTreeClassifier(\n",
    "        max_depth=3,            # Limit depth for weak learners\n",
    "        min_samples_split=10,   # Minimum samples for splitting\n",
    "        min_samples_leaf=5,     # Minimum samples per leaf\n",
    "        random_state=42\n",
    "    ),\n",
    "    n_estimators=50,            # Number of weak learners\n",
    "    learning_rate=0.01,         # Learning rate for regularization\n",
    "    random_state=42)),\n",
    "    ('SVM', SVC( C=1.0,                     # Regularization parameter (lower values mean stronger regularization)\n",
    "    kernel='rbf',              # Kernel type: 'linear', 'poly', 'rbf', 'sigmoid', or 'precomputed'\n",
    "    gamma='scale',             # Kernel coefficient ('scale' adjusts based on the number of features)\n",
    "    probability=True,          # Enable probability estimates (useful for classification)\n",
    "    random_state=42   ))\n",
    "    \n",
    "]\n",
    "\n",
    "batch_size = 1 # Adjust batch size as needed\n",
    "batches = [models[i:i + batch_size] for i in range(0, len(models), batch_size)]\n",
    "\n",
    "for batch in batches:\n",
    "    resultsAccuracy_batch = []\n",
    "    resultsF1_batch = []\n",
    "    resultsConfusion_batch = []\n",
    "    names = []\n",
    "    for name, model in batch:\n",
    "        model.fit(a, b)  # Fit the model on the training data\n",
    "        kfold = KFold(n_splits=2)\n",
    "        y_pred = cross_val_predict(model, c, d, cv=kfold)\n",
    "        accuracy = accuracy_score(d, y_pred)\n",
    "        f1 = f1_score(d, y_pred, average='macro')  # Calculate F1 score with average='macro'\n",
    "        confusion = confusion_matrix(d, y_pred)\n",
    "        resultsAccuracy_batch.append(accuracy)\n",
    "        resultsF1_batch.append(f1)\n",
    "        resultsConfusion_batch.append(confusion)\n",
    "        names.append(name)\n",
    "        accuracyMessage = \"%s Accuracy: %f\" % (name, accuracy)\n",
    "        print(accuracyMessage)\n",
    "        f1Message = \"%s F1 Score: %f\" % (name, f1)\n",
    "        print(f1Message)\n",
    "        confusionMessage = \"%s Confusion Matrix:\\n%s\" % (name, confusion)\n",
    "        print(confusionMessage)\n",
    "    resultsAccuracy.append(resultsAccuracy_batch)\n",
    "    resultsF1.append(resultsF1_batch)\n",
    "    resultsConfusion.append(resultsConfusion_batch)\n",
    "\n",
    "end = time.time()\n",
    "print('Total time cost is：', end - start, 's')"
   ]
  },
  {
   "cell_type": "code",
   "execution_count": 46,
   "id": "5b4be366",
   "metadata": {
    "execution": {
     "iopub.execute_input": "2025-01-14T18:40:13.405113Z",
     "iopub.status.busy": "2025-01-14T18:40:13.404821Z",
     "iopub.status.idle": "2025-01-14T18:40:15.942026Z",
     "shell.execute_reply": "2025-01-14T18:40:15.940975Z"
    },
    "papermill": {
     "duration": 2.557875,
     "end_time": "2025-01-14T18:40:15.943412",
     "exception": false,
     "start_time": "2025-01-14T18:40:13.385537",
     "status": "completed"
    },
    "tags": []
   },
   "outputs": [
    {
     "name": "stderr",
     "output_type": "stream",
     "text": [
      "/usr/local/lib/python3.10/dist-packages/sklearn/ensemble/_base.py:166: FutureWarning: `base_estimator` was renamed to `estimator` in version 1.2 and will be removed in 1.4.\n",
      "  warnings.warn(\n"
     ]
    },
    {
     "name": "stdout",
     "output_type": "stream",
     "text": [
      "Ensemble Model Accuracy: 0.9689826302729528\n",
      "Ensemble Model F1 Score: 0.9698437862060012\n",
      "Ensemble Model Confusion Matrix:\n",
      "[[606   1   8]\n",
      " [ 18 476   0]\n",
      " [ 23   0 480]]\n",
      "\n",
      "Classification Report:\n",
      "              precision    recall  f1-score   support\n",
      "\n",
      "           0       0.94      0.99      0.96       615\n",
      "           1       1.00      0.96      0.98       494\n",
      "           2       0.98      0.95      0.97       503\n",
      "\n",
      "    accuracy                           0.97      1612\n",
      "   macro avg       0.97      0.97      0.97      1612\n",
      "weighted avg       0.97      0.97      0.97      1612\n",
      "\n"
     ]
    },
    {
     "name": "stderr",
     "output_type": "stream",
     "text": [
      "/usr/local/lib/python3.10/dist-packages/sklearn/ensemble/_base.py:166: FutureWarning: `base_estimator` was renamed to `estimator` in version 1.2 and will be removed in 1.4.\n",
      "  warnings.warn(\n",
      "/usr/local/lib/python3.10/dist-packages/sklearn/ensemble/_base.py:166: FutureWarning: `base_estimator` was renamed to `estimator` in version 1.2 and will be removed in 1.4.\n",
      "  warnings.warn(\n",
      "/usr/local/lib/python3.10/dist-packages/sklearn/ensemble/_base.py:166: FutureWarning: `base_estimator` was renamed to `estimator` in version 1.2 and will be removed in 1.4.\n",
      "  warnings.warn(\n",
      "/usr/local/lib/python3.10/dist-packages/sklearn/ensemble/_base.py:166: FutureWarning: `base_estimator` was renamed to `estimator` in version 1.2 and will be removed in 1.4.\n",
      "  warnings.warn(\n",
      "/usr/local/lib/python3.10/dist-packages/sklearn/ensemble/_base.py:166: FutureWarning: `base_estimator` was renamed to `estimator` in version 1.2 and will be removed in 1.4.\n",
      "  warnings.warn(\n"
     ]
    },
    {
     "name": "stdout",
     "output_type": "stream",
     "text": [
      "\n",
      "Cross-validation scores: [0.9789916  0.97969188 0.97689076 0.97338936 0.97689076]\n",
      "Mean CV accuracy: 0.9771708683473388\n"
     ]
    }
   ],
   "source": [
    "from sklearn.tree import DecisionTreeClassifier\n",
    "from sklearn.ensemble import AdaBoostClassifier, VotingClassifier\n",
    "from sklearn.model_selection import train_test_split, cross_val_score\n",
    "from sklearn.metrics import accuracy_score, f1_score, confusion_matrix, classification_report\n",
    "from sklearn.preprocessing import StandardScaler\n",
    "from imblearn.over_sampling import SMOTE\n",
    "\n",
    "\n",
    "# Balance the dataset using SMOTE\n",
    "smote = SMOTE(random_state=42)\n",
    "P_train_resampled, Q_train_resampled = smote.fit_resample(P_train, Q_train)\n",
    "\n",
    "# Standardize the data\n",
    "scaler = StandardScaler()\n",
    "P_train_scaled = scaler.fit_transform(P_train_resampled)\n",
    "P_test_scaled = scaler.transform(P_test)\n",
    "\n",
    "# Apply regularization to DecisionTreeClassifier\n",
    "dtc = DecisionTreeClassifier(\n",
    "    max_depth=4,               # Limit the depth of the tree\n",
    "    min_samples_split=10,      # Minimum samples required to split a node\n",
    "    min_samples_leaf=5,        # Minimum samples required at a leaf node\n",
    "    random_state=42\n",
    ")\n",
    "\n",
    "# Apply regularization to AdaBoostClassifier with a regularized base estimator\n",
    "adaboost = AdaBoostClassifier(\n",
    "    base_estimator=DecisionTreeClassifier(\n",
    "        max_depth=3,            # Limit depth for weak learners\n",
    "        min_samples_split=10,   # Minimum samples for splitting\n",
    "        min_samples_leaf=5,     # Minimum samples per leaf\n",
    "        random_state=42\n",
    "    ),\n",
    "    n_estimators=50,            # Number of weak learners\n",
    "    learning_rate=0.01,         # Learning rate for regularization\n",
    "    random_state=42\n",
    ")\n",
    "\n",
    "# Create an ensemble using VotingClassifier\n",
    "ensemble_model = VotingClassifier(\n",
    "    estimators=[\n",
    "        ('DTC', dtc),\n",
    "        ('AdaBoost', adaboost)\n",
    "    ],\n",
    "    voting='soft'  # Use soft voting for probabilities\n",
    ")\n",
    "\n",
    "# Train the ensemble model\n",
    "ensemble_model.fit(P_train_scaled, Q_train_resampled.values.ravel())\n",
    "\n",
    "# Evaluate the ensemble model on the test set\n",
    "Q_pred = ensemble_model.predict(P_test_scaled)\n",
    "\n",
    "# Calculate metrics\n",
    "accuracy = accuracy_score(Q_test, Q_pred)\n",
    "f1 = f1_score(Q_test, Q_pred, average='macro')\n",
    "conf_matrix = confusion_matrix(Q_test, Q_pred)\n",
    "classification_rep = classification_report(Q_test, Q_pred)\n",
    "\n",
    "# Print results\n",
    "print(f\"Ensemble Model Accuracy: {accuracy}\")\n",
    "print(f\"Ensemble Model F1 Score: {f1}\")\n",
    "print(\"Ensemble Model Confusion Matrix:\")\n",
    "print(conf_matrix)\n",
    "print(\"\\nClassification Report:\")\n",
    "print(classification_rep)\n",
    "\n",
    "# Cross-validation\n",
    "cv_scores = cross_val_score(ensemble_model, P_train_scaled, Q_train_resampled.values.ravel(), cv=5)\n",
    "print(f\"\\nCross-validation scores: {cv_scores}\")\n",
    "print(f\"Mean CV accuracy: {cv_scores.mean()}\")\n"
   ]
  }
 ],
 "metadata": {
  "kaggle": {
   "accelerator": "gpu",
   "dataSources": [
    {
     "datasetId": 6082550,
     "sourceId": 10038088,
     "sourceType": "datasetVersion"
    }
   ],
   "dockerImageVersionId": 30822,
   "isGpuEnabled": true,
   "isInternetEnabled": true,
   "language": "python",
   "sourceType": "notebook"
  },
  "kernelspec": {
   "display_name": "Python 3",
   "language": "python",
   "name": "python3"
  },
  "language_info": {
   "codemirror_mode": {
    "name": "ipython",
    "version": 3
   },
   "file_extension": ".py",
   "mimetype": "text/x-python",
   "name": "python",
   "nbconvert_exporter": "python",
   "pygments_lexer": "ipython3",
   "version": "3.10.12"
  },
  "papermill": {
   "default_parameters": {},
   "duration": 82.515796,
   "end_time": "2025-01-14T18:40:16.581073",
   "environment_variables": {},
   "exception": null,
   "input_path": "__notebook__.ipynb",
   "output_path": "__notebook__.ipynb",
   "parameters": {},
   "start_time": "2025-01-14T18:38:54.065277",
   "version": "2.6.0"
  }
 },
 "nbformat": 4,
 "nbformat_minor": 5
}
