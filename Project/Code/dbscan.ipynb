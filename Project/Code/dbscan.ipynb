{
 "cells": [
  {
   "cell_type": "code",
   "execution_count": 1,
   "id": "b6c189f1",
   "metadata": {
    "_cell_guid": "32b77c88-bd5b-4124-bf6b-672c7682cea3",
    "_uuid": "8c743d88-8c3f-491f-a909-ccd22381c435",
    "collapsed": false,
    "execution": {
     "iopub.execute_input": "2025-01-14T07:28:21.027205Z",
     "iopub.status.busy": "2025-01-14T07:28:21.026831Z",
     "iopub.status.idle": "2025-01-14T07:28:23.071875Z",
     "shell.execute_reply": "2025-01-14T07:28:23.070914Z"
    },
    "jupyter": {
     "outputs_hidden": false
    },
    "papermill": {
     "duration": 2.054956,
     "end_time": "2025-01-14T07:28:23.073719",
     "exception": false,
     "start_time": "2025-01-14T07:28:21.018763",
     "status": "completed"
    },
    "tags": []
   },
   "outputs": [],
   "source": [
    "import numpy as np\n",
    "import pandas as pd\n",
    "import matplotlib.pyplot as plt\n",
    "from sklearn.cluster import KMeans\n",
    "from sklearn.preprocessing import StandardScaler, LabelEncoder\n",
    "from sklearn.neighbors import KNeighborsClassifier\n",
    "from sklearn.model_selection import train_test_split\n",
    "from sklearn.metrics import accuracy_score, confusion_matrix, classification_report\n",
    "from sklearn.manifold import TSNE\n",
    "from sklearn.decomposition import PCA\n",
    "from sklearn.cluster import DBSCAN"
   ]
  },
  {
   "cell_type": "code",
   "execution_count": 2,
   "id": "4f82d2dd",
   "metadata": {
    "_cell_guid": "a27c6117-5d44-4351-863d-6679fd52bbbe",
    "_uuid": "c0ee558c-de22-43a2-bb55-990a525dc5a6",
    "collapsed": false,
    "execution": {
     "iopub.execute_input": "2025-01-14T07:28:23.087744Z",
     "iopub.status.busy": "2025-01-14T07:28:23.087312Z",
     "iopub.status.idle": "2025-01-14T07:28:23.152970Z",
     "shell.execute_reply": "2025-01-14T07:28:23.151883Z"
    },
    "jupyter": {
     "outputs_hidden": false
    },
    "papermill": {
     "duration": 0.074387,
     "end_time": "2025-01-14T07:28:23.154768",
     "exception": false,
     "start_time": "2025-01-14T07:28:23.080381",
     "status": "completed"
    },
    "tags": []
   },
   "outputs": [],
   "source": [
    "dataset = pd.read_csv(\"/kaggle/input/student-performance-bd/bd_students_per_v2.csv\")"
   ]
  },
  {
   "cell_type": "code",
   "execution_count": 3,
   "id": "e3c430c5",
   "metadata": {
    "_cell_guid": "857e200a-9971-470e-be7c-3bce44f63971",
    "_uuid": "6a9ce006-7bb9-4d8b-a496-5e5b515ee34c",
    "collapsed": false,
    "execution": {
     "iopub.execute_input": "2025-01-14T07:28:23.168386Z",
     "iopub.status.busy": "2025-01-14T07:28:23.168035Z",
     "iopub.status.idle": "2025-01-14T07:28:23.189972Z",
     "shell.execute_reply": "2025-01-14T07:28:23.188667Z"
    },
    "jupyter": {
     "outputs_hidden": false
    },
    "papermill": {
     "duration": 0.030616,
     "end_time": "2025-01-14T07:28:23.191772",
     "exception": false,
     "start_time": "2025-01-14T07:28:23.161156",
     "status": "completed"
    },
    "tags": []
   },
   "outputs": [
    {
     "name": "stdout",
     "output_type": "stream",
     "text": [
      "Dataset Preview:\n",
      "   id         full_name  age  gender location  family_size mother_education  \\\n",
      "0   2        Avi Biswas   16    Male    Urban            6              SSC   \n",
      "1   3   Taslima Sultana   18  Female    Rural            6              SSC   \n",
      "2   4  Md Adilur Rahman   15    Male    Rural            4              SSC   \n",
      "3   5       Saleh Ahmed   16    Male    Rural            6              SSC   \n",
      "4   6         Din Islam   17    Male    Urban            5           Honors   \n",
      "\n",
      "  father_education mother_job father_job  ... tutoring school_type attendance  \\\n",
      "0              HSC         No         No  ...      Yes     Private         95   \n",
      "1              HSC         No        Yes  ...       No   Semi_Govt         92   \n",
      "2              SSC        Yes        Yes  ...      Yes        Govt         81   \n",
      "3              SSC        Yes        Yes  ...      Yes     Private         90   \n",
      "4          Masters         No        Yes  ...      Yes   Semi_Govt         75   \n",
      "\n",
      "   extra_curricular_activities english math  science social_science  \\\n",
      "0                          Yes      95   98       92             94   \n",
      "1                           No      65   71       40             78   \n",
      "2                          Yes      64   78       58             86   \n",
      "3                          Yes      84   90       85             86   \n",
      "4                          Yes      54   70       45             79   \n",
      "\n",
      "   art_culture  stu_group  \n",
      "0           98    Science  \n",
      "1           80   Commerce  \n",
      "2           74   Commerce  \n",
      "3           88    Science  \n",
      "4           76   Commerce  \n",
      "\n",
      "[5 rows x 24 columns]\n"
     ]
    }
   ],
   "source": [
    "print(\"Dataset Preview:\")\n",
    "print(dataset.head())"
   ]
  },
  {
   "cell_type": "code",
   "execution_count": 4,
   "id": "6d5e3017",
   "metadata": {
    "_cell_guid": "a0ccfdc5-9de1-4749-94e1-a458ee2ddb63",
    "_uuid": "187b4201-10ea-4449-b16f-990ee13f247e",
    "collapsed": false,
    "execution": {
     "iopub.execute_input": "2025-01-14T07:28:23.205407Z",
     "iopub.status.busy": "2025-01-14T07:28:23.205112Z",
     "iopub.status.idle": "2025-01-14T07:28:23.210122Z",
     "shell.execute_reply": "2025-01-14T07:28:23.209125Z"
    },
    "jupyter": {
     "outputs_hidden": false
    },
    "papermill": {
     "duration": 0.013226,
     "end_time": "2025-01-14T07:28:23.211490",
     "exception": false,
     "start_time": "2025-01-14T07:28:23.198264",
     "status": "completed"
    },
    "tags": []
   },
   "outputs": [
    {
     "name": "stdout",
     "output_type": "stream",
     "text": [
      "\n",
      "Dataset Shape: (8612, 24)\n"
     ]
    }
   ],
   "source": [
    "print(\"\\nDataset Shape:\", dataset.shape)"
   ]
  },
  {
   "cell_type": "code",
   "execution_count": 5,
   "id": "7af334d9",
   "metadata": {
    "_cell_guid": "e6b22dd3-4c58-4340-b22a-5dcc9416640a",
    "_uuid": "65db5a8c-98be-46b3-a642-78e4f6528eed",
    "collapsed": false,
    "execution": {
     "iopub.execute_input": "2025-01-14T07:28:23.225114Z",
     "iopub.status.busy": "2025-01-14T07:28:23.224711Z",
     "iopub.status.idle": "2025-01-14T07:28:23.237296Z",
     "shell.execute_reply": "2025-01-14T07:28:23.236234Z"
    },
    "jupyter": {
     "outputs_hidden": false
    },
    "papermill": {
     "duration": 0.02117,
     "end_time": "2025-01-14T07:28:23.238828",
     "exception": false,
     "start_time": "2025-01-14T07:28:23.217658",
     "status": "completed"
    },
    "tags": []
   },
   "outputs": [
    {
     "name": "stdout",
     "output_type": "stream",
     "text": [
      "\n",
      "Missing Values:\n",
      "id                              0\n",
      "full_name                       0\n",
      "age                             0\n",
      "gender                          0\n",
      "location                        1\n",
      "family_size                     0\n",
      "mother_education               10\n",
      "father_education                4\n",
      "mother_job                      0\n",
      "father_job                      0\n",
      "guardian                        0\n",
      "parental_involvement            0\n",
      "internet_access                 0\n",
      "studytime                       0\n",
      "tutoring                        0\n",
      "school_type                     0\n",
      "attendance                      0\n",
      "extra_curricular_activities     0\n",
      "english                         0\n",
      "math                            0\n",
      "science                         0\n",
      "social_science                  0\n",
      "art_culture                     0\n",
      "stu_group                       0\n",
      "dtype: int64\n"
     ]
    }
   ],
   "source": [
    "print(\"\\nMissing Values:\")\n",
    "print(dataset.isnull().sum())"
   ]
  },
  {
   "cell_type": "code",
   "execution_count": 6,
   "id": "243e9cc9",
   "metadata": {
    "_cell_guid": "600c1ca1-fa88-465c-a60b-a35d88e9dd8b",
    "_uuid": "ca9ed0b1-0543-4376-8604-4cc4b987b6b5",
    "collapsed": false,
    "execution": {
     "iopub.execute_input": "2025-01-14T07:28:23.252980Z",
     "iopub.status.busy": "2025-01-14T07:28:23.252599Z",
     "iopub.status.idle": "2025-01-14T07:28:23.256641Z",
     "shell.execute_reply": "2025-01-14T07:28:23.255829Z"
    },
    "jupyter": {
     "outputs_hidden": false
    },
    "papermill": {
     "duration": 0.012837,
     "end_time": "2025-01-14T07:28:23.258244",
     "exception": false,
     "start_time": "2025-01-14T07:28:23.245407",
     "status": "completed"
    },
    "tags": []
   },
   "outputs": [],
   "source": [
    "df = pd.DataFrame(dataset)"
   ]
  },
  {
   "cell_type": "code",
   "execution_count": 7,
   "id": "8f7731a4",
   "metadata": {
    "_cell_guid": "8045c3bd-db1a-422b-9d68-80dcc877d0b0",
    "_uuid": "bc780eb1-d1c6-4c93-b74f-77ca52707cd0",
    "collapsed": false,
    "execution": {
     "iopub.execute_input": "2025-01-14T07:28:23.272140Z",
     "iopub.status.busy": "2025-01-14T07:28:23.271703Z",
     "iopub.status.idle": "2025-01-14T07:28:23.298980Z",
     "shell.execute_reply": "2025-01-14T07:28:23.297822Z"
    },
    "jupyter": {
     "outputs_hidden": false
    },
    "papermill": {
     "duration": 0.035864,
     "end_time": "2025-01-14T07:28:23.300574",
     "exception": false,
     "start_time": "2025-01-14T07:28:23.264710",
     "status": "completed"
    },
    "tags": []
   },
   "outputs": [
    {
     "data": {
      "text/html": [
       "<div>\n",
       "<style scoped>\n",
       "    .dataframe tbody tr th:only-of-type {\n",
       "        vertical-align: middle;\n",
       "    }\n",
       "\n",
       "    .dataframe tbody tr th {\n",
       "        vertical-align: top;\n",
       "    }\n",
       "\n",
       "    .dataframe thead th {\n",
       "        text-align: right;\n",
       "    }\n",
       "</style>\n",
       "<table border=\"1\" class=\"dataframe\">\n",
       "  <thead>\n",
       "    <tr style=\"text-align: right;\">\n",
       "      <th></th>\n",
       "      <th>id</th>\n",
       "      <th>full_name</th>\n",
       "      <th>age</th>\n",
       "      <th>gender</th>\n",
       "      <th>location</th>\n",
       "      <th>family_size</th>\n",
       "      <th>mother_education</th>\n",
       "      <th>father_education</th>\n",
       "      <th>mother_job</th>\n",
       "      <th>father_job</th>\n",
       "      <th>...</th>\n",
       "      <th>tutoring</th>\n",
       "      <th>school_type</th>\n",
       "      <th>attendance</th>\n",
       "      <th>extra_curricular_activities</th>\n",
       "      <th>english</th>\n",
       "      <th>math</th>\n",
       "      <th>science</th>\n",
       "      <th>social_science</th>\n",
       "      <th>art_culture</th>\n",
       "      <th>stu_group</th>\n",
       "    </tr>\n",
       "  </thead>\n",
       "  <tbody>\n",
       "    <tr>\n",
       "      <th>0</th>\n",
       "      <td>2</td>\n",
       "      <td>Avi Biswas</td>\n",
       "      <td>16</td>\n",
       "      <td>Male</td>\n",
       "      <td>Urban</td>\n",
       "      <td>6</td>\n",
       "      <td>SSC</td>\n",
       "      <td>HSC</td>\n",
       "      <td>No</td>\n",
       "      <td>No</td>\n",
       "      <td>...</td>\n",
       "      <td>Yes</td>\n",
       "      <td>Private</td>\n",
       "      <td>95</td>\n",
       "      <td>Yes</td>\n",
       "      <td>95</td>\n",
       "      <td>98</td>\n",
       "      <td>92</td>\n",
       "      <td>94</td>\n",
       "      <td>98</td>\n",
       "      <td>Science</td>\n",
       "    </tr>\n",
       "    <tr>\n",
       "      <th>1</th>\n",
       "      <td>3</td>\n",
       "      <td>Taslima Sultana</td>\n",
       "      <td>18</td>\n",
       "      <td>Female</td>\n",
       "      <td>Rural</td>\n",
       "      <td>6</td>\n",
       "      <td>SSC</td>\n",
       "      <td>HSC</td>\n",
       "      <td>No</td>\n",
       "      <td>Yes</td>\n",
       "      <td>...</td>\n",
       "      <td>No</td>\n",
       "      <td>Semi_Govt</td>\n",
       "      <td>92</td>\n",
       "      <td>No</td>\n",
       "      <td>65</td>\n",
       "      <td>71</td>\n",
       "      <td>40</td>\n",
       "      <td>78</td>\n",
       "      <td>80</td>\n",
       "      <td>Commerce</td>\n",
       "    </tr>\n",
       "    <tr>\n",
       "      <th>2</th>\n",
       "      <td>4</td>\n",
       "      <td>Md Adilur Rahman</td>\n",
       "      <td>15</td>\n",
       "      <td>Male</td>\n",
       "      <td>Rural</td>\n",
       "      <td>4</td>\n",
       "      <td>SSC</td>\n",
       "      <td>SSC</td>\n",
       "      <td>Yes</td>\n",
       "      <td>Yes</td>\n",
       "      <td>...</td>\n",
       "      <td>Yes</td>\n",
       "      <td>Govt</td>\n",
       "      <td>81</td>\n",
       "      <td>Yes</td>\n",
       "      <td>64</td>\n",
       "      <td>78</td>\n",
       "      <td>58</td>\n",
       "      <td>86</td>\n",
       "      <td>74</td>\n",
       "      <td>Commerce</td>\n",
       "    </tr>\n",
       "    <tr>\n",
       "      <th>3</th>\n",
       "      <td>5</td>\n",
       "      <td>Saleh Ahmed</td>\n",
       "      <td>16</td>\n",
       "      <td>Male</td>\n",
       "      <td>Rural</td>\n",
       "      <td>6</td>\n",
       "      <td>SSC</td>\n",
       "      <td>SSC</td>\n",
       "      <td>Yes</td>\n",
       "      <td>Yes</td>\n",
       "      <td>...</td>\n",
       "      <td>Yes</td>\n",
       "      <td>Private</td>\n",
       "      <td>90</td>\n",
       "      <td>Yes</td>\n",
       "      <td>84</td>\n",
       "      <td>90</td>\n",
       "      <td>85</td>\n",
       "      <td>86</td>\n",
       "      <td>88</td>\n",
       "      <td>Science</td>\n",
       "    </tr>\n",
       "    <tr>\n",
       "      <th>4</th>\n",
       "      <td>6</td>\n",
       "      <td>Din Islam</td>\n",
       "      <td>17</td>\n",
       "      <td>Male</td>\n",
       "      <td>Urban</td>\n",
       "      <td>5</td>\n",
       "      <td>Honors</td>\n",
       "      <td>Masters</td>\n",
       "      <td>No</td>\n",
       "      <td>Yes</td>\n",
       "      <td>...</td>\n",
       "      <td>Yes</td>\n",
       "      <td>Semi_Govt</td>\n",
       "      <td>75</td>\n",
       "      <td>Yes</td>\n",
       "      <td>54</td>\n",
       "      <td>70</td>\n",
       "      <td>45</td>\n",
       "      <td>79</td>\n",
       "      <td>76</td>\n",
       "      <td>Commerce</td>\n",
       "    </tr>\n",
       "    <tr>\n",
       "      <th>...</th>\n",
       "      <td>...</td>\n",
       "      <td>...</td>\n",
       "      <td>...</td>\n",
       "      <td>...</td>\n",
       "      <td>...</td>\n",
       "      <td>...</td>\n",
       "      <td>...</td>\n",
       "      <td>...</td>\n",
       "      <td>...</td>\n",
       "      <td>...</td>\n",
       "      <td>...</td>\n",
       "      <td>...</td>\n",
       "      <td>...</td>\n",
       "      <td>...</td>\n",
       "      <td>...</td>\n",
       "      <td>...</td>\n",
       "      <td>...</td>\n",
       "      <td>...</td>\n",
       "      <td>...</td>\n",
       "      <td>...</td>\n",
       "      <td>...</td>\n",
       "    </tr>\n",
       "    <tr>\n",
       "      <th>8607</th>\n",
       "      <td>8609</td>\n",
       "      <td>Elina Khanam</td>\n",
       "      <td>17</td>\n",
       "      <td>Female</td>\n",
       "      <td>City</td>\n",
       "      <td>5</td>\n",
       "      <td>HSC</td>\n",
       "      <td>Non_Educated</td>\n",
       "      <td>No</td>\n",
       "      <td>No</td>\n",
       "      <td>...</td>\n",
       "      <td>No</td>\n",
       "      <td>Govt</td>\n",
       "      <td>78</td>\n",
       "      <td>Yes</td>\n",
       "      <td>81</td>\n",
       "      <td>83</td>\n",
       "      <td>80</td>\n",
       "      <td>84</td>\n",
       "      <td>91</td>\n",
       "      <td>Science</td>\n",
       "    </tr>\n",
       "    <tr>\n",
       "      <th>8608</th>\n",
       "      <td>8610</td>\n",
       "      <td>Sadiq Ghosh</td>\n",
       "      <td>16</td>\n",
       "      <td>Male</td>\n",
       "      <td>City</td>\n",
       "      <td>2</td>\n",
       "      <td>SSC</td>\n",
       "      <td>Under_SSC</td>\n",
       "      <td>No</td>\n",
       "      <td>Yes</td>\n",
       "      <td>...</td>\n",
       "      <td>No</td>\n",
       "      <td>Private</td>\n",
       "      <td>73</td>\n",
       "      <td>No</td>\n",
       "      <td>95</td>\n",
       "      <td>100</td>\n",
       "      <td>96</td>\n",
       "      <td>98</td>\n",
       "      <td>98</td>\n",
       "      <td>Science</td>\n",
       "    </tr>\n",
       "    <tr>\n",
       "      <th>8609</th>\n",
       "      <td>8611</td>\n",
       "      <td>Arman Amin</td>\n",
       "      <td>18</td>\n",
       "      <td>Male</td>\n",
       "      <td>City</td>\n",
       "      <td>3</td>\n",
       "      <td>Diploma</td>\n",
       "      <td>SSC</td>\n",
       "      <td>No</td>\n",
       "      <td>No</td>\n",
       "      <td>...</td>\n",
       "      <td>Yes</td>\n",
       "      <td>Private</td>\n",
       "      <td>51</td>\n",
       "      <td>No</td>\n",
       "      <td>45</td>\n",
       "      <td>59</td>\n",
       "      <td>41</td>\n",
       "      <td>51</td>\n",
       "      <td>69</td>\n",
       "      <td>Arts</td>\n",
       "    </tr>\n",
       "    <tr>\n",
       "      <th>8610</th>\n",
       "      <td>8612</td>\n",
       "      <td>Tawhidul Saif</td>\n",
       "      <td>15</td>\n",
       "      <td>Male</td>\n",
       "      <td>Urban</td>\n",
       "      <td>5</td>\n",
       "      <td>Honors</td>\n",
       "      <td>HSC</td>\n",
       "      <td>No</td>\n",
       "      <td>No</td>\n",
       "      <td>...</td>\n",
       "      <td>No</td>\n",
       "      <td>Private</td>\n",
       "      <td>66</td>\n",
       "      <td>Yes</td>\n",
       "      <td>59</td>\n",
       "      <td>65</td>\n",
       "      <td>60</td>\n",
       "      <td>68</td>\n",
       "      <td>69</td>\n",
       "      <td>Arts</td>\n",
       "    </tr>\n",
       "    <tr>\n",
       "      <th>8611</th>\n",
       "      <td>8613</td>\n",
       "      <td>Naimul Sen</td>\n",
       "      <td>18</td>\n",
       "      <td>Male</td>\n",
       "      <td>Urban</td>\n",
       "      <td>3</td>\n",
       "      <td>Diploma</td>\n",
       "      <td>Under_SSC</td>\n",
       "      <td>No</td>\n",
       "      <td>No</td>\n",
       "      <td>...</td>\n",
       "      <td>Yes</td>\n",
       "      <td>Semi_Govt</td>\n",
       "      <td>88</td>\n",
       "      <td>Yes</td>\n",
       "      <td>87</td>\n",
       "      <td>95</td>\n",
       "      <td>96</td>\n",
       "      <td>100</td>\n",
       "      <td>98</td>\n",
       "      <td>Science</td>\n",
       "    </tr>\n",
       "  </tbody>\n",
       "</table>\n",
       "<p>8612 rows × 24 columns</p>\n",
       "</div>"
      ],
      "text/plain": [
       "        id         full_name  age  gender location  family_size  \\\n",
       "0        2        Avi Biswas   16    Male    Urban            6   \n",
       "1        3   Taslima Sultana   18  Female    Rural            6   \n",
       "2        4  Md Adilur Rahman   15    Male    Rural            4   \n",
       "3        5       Saleh Ahmed   16    Male    Rural            6   \n",
       "4        6         Din Islam   17    Male    Urban            5   \n",
       "...    ...               ...  ...     ...      ...          ...   \n",
       "8607  8609      Elina Khanam   17  Female     City            5   \n",
       "8608  8610       Sadiq Ghosh   16    Male     City            2   \n",
       "8609  8611        Arman Amin   18    Male     City            3   \n",
       "8610  8612     Tawhidul Saif   15    Male    Urban            5   \n",
       "8611  8613        Naimul Sen   18    Male    Urban            3   \n",
       "\n",
       "     mother_education father_education mother_job father_job  ... tutoring  \\\n",
       "0                 SSC              HSC         No         No  ...      Yes   \n",
       "1                 SSC              HSC         No        Yes  ...       No   \n",
       "2                 SSC              SSC        Yes        Yes  ...      Yes   \n",
       "3                 SSC              SSC        Yes        Yes  ...      Yes   \n",
       "4              Honors          Masters         No        Yes  ...      Yes   \n",
       "...               ...              ...        ...        ...  ...      ...   \n",
       "8607              HSC     Non_Educated         No         No  ...       No   \n",
       "8608              SSC        Under_SSC         No        Yes  ...       No   \n",
       "8609          Diploma              SSC         No         No  ...      Yes   \n",
       "8610           Honors              HSC         No         No  ...       No   \n",
       "8611          Diploma        Under_SSC         No         No  ...      Yes   \n",
       "\n",
       "     school_type attendance  extra_curricular_activities english math  \\\n",
       "0        Private         95                          Yes      95   98   \n",
       "1      Semi_Govt         92                           No      65   71   \n",
       "2           Govt         81                          Yes      64   78   \n",
       "3        Private         90                          Yes      84   90   \n",
       "4      Semi_Govt         75                          Yes      54   70   \n",
       "...          ...        ...                          ...     ...  ...   \n",
       "8607        Govt         78                          Yes      81   83   \n",
       "8608     Private         73                           No      95  100   \n",
       "8609     Private         51                           No      45   59   \n",
       "8610     Private         66                          Yes      59   65   \n",
       "8611   Semi_Govt         88                          Yes      87   95   \n",
       "\n",
       "      science social_science  art_culture  stu_group  \n",
       "0          92             94           98    Science  \n",
       "1          40             78           80   Commerce  \n",
       "2          58             86           74   Commerce  \n",
       "3          85             86           88    Science  \n",
       "4          45             79           76   Commerce  \n",
       "...       ...            ...          ...        ...  \n",
       "8607       80             84           91    Science  \n",
       "8608       96             98           98    Science  \n",
       "8609       41             51           69       Arts  \n",
       "8610       60             68           69       Arts  \n",
       "8611       96            100           98    Science  \n",
       "\n",
       "[8612 rows x 24 columns]"
      ]
     },
     "execution_count": 7,
     "metadata": {},
     "output_type": "execute_result"
    }
   ],
   "source": [
    "df"
   ]
  },
  {
   "cell_type": "code",
   "execution_count": 8,
   "id": "257f696c",
   "metadata": {
    "_cell_guid": "2db54c57-4001-42a9-92c1-18962622c7cd",
    "_uuid": "e58ab860-9888-4af3-bac4-fdd419e51e31",
    "collapsed": false,
    "execution": {
     "iopub.execute_input": "2025-01-14T07:28:23.315694Z",
     "iopub.status.busy": "2025-01-14T07:28:23.315319Z",
     "iopub.status.idle": "2025-01-14T07:28:23.328727Z",
     "shell.execute_reply": "2025-01-14T07:28:23.327847Z"
    },
    "jupyter": {
     "outputs_hidden": false
    },
    "papermill": {
     "duration": 0.022698,
     "end_time": "2025-01-14T07:28:23.330419",
     "exception": false,
     "start_time": "2025-01-14T07:28:23.307721",
     "status": "completed"
    },
    "tags": []
   },
   "outputs": [],
   "source": [
    "# Remove rows with missing values\n",
    "df_cleaned = dataset.dropna()"
   ]
  },
  {
   "cell_type": "code",
   "execution_count": 9,
   "id": "fc6dfccd",
   "metadata": {
    "_cell_guid": "8fc79adc-51e5-4006-87cc-681a3f81a874",
    "_uuid": "6c5f5d9b-6781-48b5-b2c6-c484ee8e5ca9",
    "collapsed": false,
    "execution": {
     "iopub.execute_input": "2025-01-14T07:28:23.345933Z",
     "iopub.status.busy": "2025-01-14T07:28:23.345475Z",
     "iopub.status.idle": "2025-01-14T07:28:23.358642Z",
     "shell.execute_reply": "2025-01-14T07:28:23.357429Z"
    },
    "jupyter": {
     "outputs_hidden": false
    },
    "papermill": {
     "duration": 0.023026,
     "end_time": "2025-01-14T07:28:23.360424",
     "exception": false,
     "start_time": "2025-01-14T07:28:23.337398",
     "status": "completed"
    },
    "tags": []
   },
   "outputs": [
    {
     "name": "stdout",
     "output_type": "stream",
     "text": [
      "\n",
      "Missing Values After Cleaning:\n",
      "id                             0\n",
      "full_name                      0\n",
      "age                            0\n",
      "gender                         0\n",
      "location                       0\n",
      "family_size                    0\n",
      "mother_education               0\n",
      "father_education               0\n",
      "mother_job                     0\n",
      "father_job                     0\n",
      "guardian                       0\n",
      "parental_involvement           0\n",
      "internet_access                0\n",
      "studytime                      0\n",
      "tutoring                       0\n",
      "school_type                    0\n",
      "attendance                     0\n",
      "extra_curricular_activities    0\n",
      "english                        0\n",
      "math                           0\n",
      "science                        0\n",
      "social_science                 0\n",
      "art_culture                    0\n",
      "stu_group                      0\n",
      "dtype: int64\n"
     ]
    }
   ],
   "source": [
    "# Verify no missing values remain\n",
    "print(\"\\nMissing Values After Cleaning:\")\n",
    "print(df_cleaned.isnull().sum())"
   ]
  },
  {
   "cell_type": "code",
   "execution_count": 10,
   "id": "4d28dad2",
   "metadata": {
    "_cell_guid": "0ff81c1e-f4be-48a6-aa5c-13e582895368",
    "_uuid": "36efb1ed-a472-4849-bc82-8b76c2087239",
    "collapsed": false,
    "execution": {
     "iopub.execute_input": "2025-01-14T07:28:23.375722Z",
     "iopub.status.busy": "2025-01-14T07:28:23.375357Z",
     "iopub.status.idle": "2025-01-14T07:28:23.379187Z",
     "shell.execute_reply": "2025-01-14T07:28:23.378247Z"
    },
    "jupyter": {
     "outputs_hidden": false
    },
    "papermill": {
     "duration": 0.012985,
     "end_time": "2025-01-14T07:28:23.380638",
     "exception": false,
     "start_time": "2025-01-14T07:28:23.367653",
     "status": "completed"
    },
    "tags": []
   },
   "outputs": [],
   "source": [
    "df = df_cleaned"
   ]
  },
  {
   "cell_type": "code",
   "execution_count": 11,
   "id": "3a265624",
   "metadata": {
    "_cell_guid": "469e3659-6594-4d56-93f2-d3f3cabf8e0c",
    "_uuid": "57565ed2-8567-421d-9fdf-206e84822a5f",
    "collapsed": false,
    "execution": {
     "iopub.execute_input": "2025-01-14T07:28:23.396366Z",
     "iopub.status.busy": "2025-01-14T07:28:23.396031Z",
     "iopub.status.idle": "2025-01-14T07:28:23.400267Z",
     "shell.execute_reply": "2025-01-14T07:28:23.399306Z"
    },
    "jupyter": {
     "outputs_hidden": false
    },
    "papermill": {
     "duration": 0.013489,
     "end_time": "2025-01-14T07:28:23.401743",
     "exception": false,
     "start_time": "2025-01-14T07:28:23.388254",
     "status": "completed"
    },
    "tags": []
   },
   "outputs": [],
   "source": [
    "categorical_columns = ['gender', 'stu_group']"
   ]
  },
  {
   "cell_type": "code",
   "execution_count": 12,
   "id": "033b0910",
   "metadata": {
    "_cell_guid": "d178e301-3911-4187-a48c-2de420ae4bf7",
    "_uuid": "66dbdd7a-5e44-41d9-b139-05686494accd",
    "collapsed": false,
    "execution": {
     "iopub.execute_input": "2025-01-14T07:28:23.416898Z",
     "iopub.status.busy": "2025-01-14T07:28:23.416534Z",
     "iopub.status.idle": "2025-01-14T07:28:23.432847Z",
     "shell.execute_reply": "2025-01-14T07:28:23.431974Z"
    },
    "jupyter": {
     "outputs_hidden": false
    },
    "papermill": {
     "duration": 0.025802,
     "end_time": "2025-01-14T07:28:23.434555",
     "exception": false,
     "start_time": "2025-01-14T07:28:23.408753",
     "status": "completed"
    },
    "tags": []
   },
   "outputs": [],
   "source": [
    "# One-Hot Encode categorical columns\n",
    "df_pandas_encoded = pd.get_dummies(df, columns=categorical_columns, drop_first=True)"
   ]
  },
  {
   "cell_type": "code",
   "execution_count": 13,
   "id": "b828a889",
   "metadata": {
    "_cell_guid": "a8270944-fc28-4f24-a7f9-19cdb9ccf31d",
    "_uuid": "e354fb8c-bb11-4d03-8f07-5ca4c8823a65",
    "collapsed": false,
    "execution": {
     "iopub.execute_input": "2025-01-14T07:28:23.449603Z",
     "iopub.status.busy": "2025-01-14T07:28:23.449236Z",
     "iopub.status.idle": "2025-01-14T07:28:23.461338Z",
     "shell.execute_reply": "2025-01-14T07:28:23.460107Z"
    },
    "jupyter": {
     "outputs_hidden": false
    },
    "papermill": {
     "duration": 0.021376,
     "end_time": "2025-01-14T07:28:23.462998",
     "exception": false,
     "start_time": "2025-01-14T07:28:23.441622",
     "status": "completed"
    },
    "tags": []
   },
   "outputs": [
    {
     "name": "stdout",
     "output_type": "stream",
     "text": [
      "\n",
      "Encoded Dataset Preview:\n",
      "   id         full_name  age location  family_size mother_education  \\\n",
      "0   2        Avi Biswas   16    Urban            6              SSC   \n",
      "1   3   Taslima Sultana   18    Rural            6              SSC   \n",
      "2   4  Md Adilur Rahman   15    Rural            4              SSC   \n",
      "3   5       Saleh Ahmed   16    Rural            6              SSC   \n",
      "4   6         Din Islam   17    Urban            5           Honors   \n",
      "\n",
      "  father_education mother_job father_job guardian  ... attendance  \\\n",
      "0              HSC         No         No   Father  ...         95   \n",
      "1              HSC         No        Yes   Father  ...         92   \n",
      "2              SSC        Yes        Yes   Father  ...         81   \n",
      "3              SSC        Yes        Yes   Father  ...         90   \n",
      "4          Masters         No        Yes   Father  ...         75   \n",
      "\n",
      "  extra_curricular_activities  english math science  social_science  \\\n",
      "0                         Yes       95   98      92              94   \n",
      "1                          No       65   71      40              78   \n",
      "2                         Yes       64   78      58              86   \n",
      "3                         Yes       84   90      85              86   \n",
      "4                         Yes       54   70      45              79   \n",
      "\n",
      "  art_culture  gender_Male  stu_group_Commerce  stu_group_Science  \n",
      "0          98         True               False               True  \n",
      "1          80        False                True              False  \n",
      "2          74         True                True              False  \n",
      "3          88         True               False               True  \n",
      "4          76         True                True              False  \n",
      "\n",
      "[5 rows x 25 columns]\n"
     ]
    }
   ],
   "source": [
    "print(\"\\nEncoded Dataset Preview:\")\n",
    "print(df_pandas_encoded.head())"
   ]
  },
  {
   "cell_type": "code",
   "execution_count": 14,
   "id": "a4f51c8e",
   "metadata": {
    "execution": {
     "iopub.execute_input": "2025-01-14T07:28:23.478525Z",
     "iopub.status.busy": "2025-01-14T07:28:23.478149Z",
     "iopub.status.idle": "2025-01-14T07:28:23.488079Z",
     "shell.execute_reply": "2025-01-14T07:28:23.486940Z"
    },
    "papermill": {
     "duration": 0.019265,
     "end_time": "2025-01-14T07:28:23.489572",
     "exception": false,
     "start_time": "2025-01-14T07:28:23.470307",
     "status": "completed"
    },
    "tags": []
   },
   "outputs": [
    {
     "name": "stdout",
     "output_type": "stream",
     "text": [
      "0       2\n",
      "1       2\n",
      "2       2\n",
      "3       2\n",
      "4       5\n",
      "       ..\n",
      "8607    3\n",
      "8608    2\n",
      "8609    4\n",
      "8610    5\n",
      "8611    4\n",
      "Name: mother_education, Length: 8599, dtype: int64\n"
     ]
    }
   ],
   "source": [
    "\n",
    "# Custom mapping\n",
    "custom_mapping = {'Non_Educated':0,'Under_SSC':1,'SSC':2,'HSC':3 ,'Diploma':4,'Honors':5,'Hons':5 ,'Masters':6}\n",
    "\n",
    "# Apply the mapping\n",
    "df_pandas_encoded['mother_education'] = df_pandas_encoded['mother_education'].map(custom_mapping)\n",
    "\n",
    "#Apply Encoding\n",
    "from sklearn.preprocessing import LabelEncoder\n",
    "encoder = LabelEncoder()\n",
    "df_pandas_encoded['mother_education'] = encoder.fit_transform(df_pandas_encoded['mother_education'])\n",
    "print(df_pandas_encoded['mother_education'] )"
   ]
  },
  {
   "cell_type": "code",
   "execution_count": 15,
   "id": "4407331c",
   "metadata": {
    "execution": {
     "iopub.execute_input": "2025-01-14T07:28:23.506271Z",
     "iopub.status.busy": "2025-01-14T07:28:23.505908Z",
     "iopub.status.idle": "2025-01-14T07:28:23.515558Z",
     "shell.execute_reply": "2025-01-14T07:28:23.514605Z"
    },
    "papermill": {
     "duration": 0.019391,
     "end_time": "2025-01-14T07:28:23.517030",
     "exception": false,
     "start_time": "2025-01-14T07:28:23.497639",
     "status": "completed"
    },
    "tags": []
   },
   "outputs": [
    {
     "name": "stdout",
     "output_type": "stream",
     "text": [
      "0       3\n",
      "1       3\n",
      "2       2\n",
      "3       2\n",
      "4       6\n",
      "       ..\n",
      "8607    0\n",
      "8608    1\n",
      "8609    2\n",
      "8610    3\n",
      "8611    1\n",
      "Name: father_education, Length: 8599, dtype: int64\n"
     ]
    }
   ],
   "source": [
    "# Custom mapping\n",
    "custom_mapping = {'Non_Educated':0,'Under_SSC':1,'SSC':2,'HSC':3 ,'Diploma':4,'Honors':5,'Hons':5 ,'Masters':6}\n",
    "\n",
    "# Apply the mapping\n",
    "df_pandas_encoded['father_education'] = df_pandas_encoded['father_education'].map(custom_mapping)\n",
    "\n",
    "#Apply Encoding\n",
    "from sklearn.preprocessing import LabelEncoder\n",
    "encoder = LabelEncoder()\n",
    "df_pandas_encoded['father_education'] = encoder.fit_transform(df_pandas_encoded['father_education'])\n",
    "print(df_pandas_encoded['father_education'] )"
   ]
  },
  {
   "cell_type": "code",
   "execution_count": 16,
   "id": "13b9fcb8",
   "metadata": {
    "_cell_guid": "e673d069-47b8-4f4a-ba55-987c2511a77c",
    "_uuid": "d63d7d0b-a10b-450a-8f28-56a01f423164",
    "collapsed": false,
    "execution": {
     "iopub.execute_input": "2025-01-14T07:28:23.532361Z",
     "iopub.status.busy": "2025-01-14T07:28:23.532018Z",
     "iopub.status.idle": "2025-01-14T07:28:23.570125Z",
     "shell.execute_reply": "2025-01-14T07:28:23.569038Z"
    },
    "jupyter": {
     "outputs_hidden": false
    },
    "papermill": {
     "duration": 0.047765,
     "end_time": "2025-01-14T07:28:23.571975",
     "exception": false,
     "start_time": "2025-01-14T07:28:23.524210",
     "status": "completed"
    },
    "tags": []
   },
   "outputs": [],
   "source": [
    "# Apply Label Encoding to any remaining categorical or boolean columns\n",
    "encoder = LabelEncoder()\n",
    "df_encoded = df_pandas_encoded.apply(\n",
    "    lambda col: encoder.fit_transform(col) if (col.dtype == 'object' or col.dtype == 'bool') else col)\n",
    "\n",
    "#encoder = LabelEncoder()\n",
    "\n",
    "# Apply LabelEncoder to all columns except the first two\n",
    "#df_encoded = df_pandas_encoded.apply(\n",
    "   # lambda col: encoder.fit_transform(col) if (col.dtype in ['object', 'bool'] and col.name not in df_pandas_encoded.columns[:2]) else col\n",
    "#)"
   ]
  },
  {
   "cell_type": "code",
   "execution_count": 17,
   "id": "791b3237",
   "metadata": {
    "_cell_guid": "f75d1fd2-f3d5-4ced-b278-a11f2b12d01e",
    "_uuid": "70db8d6f-b36e-45a5-a81a-a5abe113224e",
    "collapsed": false,
    "execution": {
     "iopub.execute_input": "2025-01-14T07:28:23.587888Z",
     "iopub.status.busy": "2025-01-14T07:28:23.587504Z",
     "iopub.status.idle": "2025-01-14T07:28:23.597897Z",
     "shell.execute_reply": "2025-01-14T07:28:23.596515Z"
    },
    "jupyter": {
     "outputs_hidden": false
    },
    "papermill": {
     "duration": 0.019962,
     "end_time": "2025-01-14T07:28:23.599493",
     "exception": false,
     "start_time": "2025-01-14T07:28:23.579531",
     "status": "completed"
    },
    "tags": []
   },
   "outputs": [
    {
     "name": "stdout",
     "output_type": "stream",
     "text": [
      "\n",
      "Fully Encoded Dataset Preview:\n",
      "   id  full_name  age  location  family_size  mother_education  \\\n",
      "0   2        602   16         2            6                 2   \n",
      "1   3       6366   18         1            6                 2   \n",
      "2   4       3563   15         1            4                 2   \n",
      "3   5       5433   16         1            6                 2   \n",
      "4   6       1142   17         2            5                 5   \n",
      "\n",
      "   father_education  mother_job  father_job  guardian  ...  attendance  \\\n",
      "0                 3           0           0         0  ...          95   \n",
      "1                 3           0           1         0  ...          92   \n",
      "2                 2           1           1         0  ...          81   \n",
      "3                 2           1           1         0  ...          90   \n",
      "4                 6           0           1         0  ...          75   \n",
      "\n",
      "   extra_curricular_activities  english  math  science  social_science  \\\n",
      "0                            1       95    98       92              94   \n",
      "1                            0       65    71       40              78   \n",
      "2                            1       64    78       58              86   \n",
      "3                            1       84    90       85              86   \n",
      "4                            1       54    70       45              79   \n",
      "\n",
      "   art_culture  gender_Male  stu_group_Commerce  stu_group_Science  \n",
      "0           98            1                   0                  1  \n",
      "1           80            0                   1                  0  \n",
      "2           74            1                   1                  0  \n",
      "3           88            1                   0                  1  \n",
      "4           76            1                   1                  0  \n",
      "\n",
      "[5 rows x 25 columns]\n"
     ]
    }
   ],
   "source": [
    "# Verify the encoded dataset\n",
    "print(\"\\nFully Encoded Dataset Preview:\")\n",
    "print(df_encoded.head())"
   ]
  },
  {
   "cell_type": "code",
   "execution_count": 18,
   "id": "81fa2268",
   "metadata": {
    "_cell_guid": "d17193be-4c4b-4562-9f58-bb293818997b",
    "_uuid": "9a1f037c-db89-4bd0-bb72-38167b806933",
    "collapsed": false,
    "execution": {
     "iopub.execute_input": "2025-01-14T07:28:23.615761Z",
     "iopub.status.busy": "2025-01-14T07:28:23.615409Z",
     "iopub.status.idle": "2025-01-14T07:28:23.621181Z",
     "shell.execute_reply": "2025-01-14T07:28:23.620149Z"
    },
    "jupyter": {
     "outputs_hidden": false
    },
    "papermill": {
     "duration": 0.015649,
     "end_time": "2025-01-14T07:28:23.622644",
     "exception": false,
     "start_time": "2025-01-14T07:28:23.606995",
     "status": "completed"
    },
    "tags": []
   },
   "outputs": [
    {
     "name": "stdout",
     "output_type": "stream",
     "text": [
      "\n",
      "Data Type of 'gender_Male': bool\n"
     ]
    }
   ],
   "source": [
    "df_encoded# Display the data types of a sample column to confirm encoding\n",
    "print(\"\\nData Type of 'gender_Male':\", df_pandas_encoded['gender_Male'].dtype)"
   ]
  },
  {
   "cell_type": "code",
   "execution_count": 19,
   "id": "5bfdcd80",
   "metadata": {
    "_cell_guid": "5543ac9d-7696-4228-90f2-2a5a07ed4268",
    "_uuid": "0c14d78e-7941-49ed-ade2-60be97f92c30",
    "collapsed": false,
    "execution": {
     "iopub.execute_input": "2025-01-14T07:28:23.638627Z",
     "iopub.status.busy": "2025-01-14T07:28:23.638259Z",
     "iopub.status.idle": "2025-01-14T07:28:23.642867Z",
     "shell.execute_reply": "2025-01-14T07:28:23.641687Z"
    },
    "jupyter": {
     "outputs_hidden": false
    },
    "papermill": {
     "duration": 0.014352,
     "end_time": "2025-01-14T07:28:23.644522",
     "exception": false,
     "start_time": "2025-01-14T07:28:23.630170",
     "status": "completed"
    },
    "tags": []
   },
   "outputs": [],
   "source": [
    "# Select features for clustering\n",
    "features_for_clustering = [\n",
    "    'location', 'mother_job', 'father_job', 'parental_involvement',\n",
    "    'internet_access', 'studytime', 'tutoring', 'attendance', \n",
    "    'extra_curricular_activities', 'english', 'math', 'science', \n",
    "    'social_science', 'art_culture' \n",
    "]"
   ]
  },
  {
   "cell_type": "code",
   "execution_count": 20,
   "id": "bfd873df",
   "metadata": {
    "_cell_guid": "d3a1b1eb-674d-4f89-b763-4137aa7c2c93",
    "_uuid": "8e39f590-8b08-47e7-8be0-b6226f633c73",
    "collapsed": false,
    "execution": {
     "iopub.execute_input": "2025-01-14T07:28:23.660330Z",
     "iopub.status.busy": "2025-01-14T07:28:23.659985Z",
     "iopub.status.idle": "2025-01-14T07:28:23.664990Z",
     "shell.execute_reply": "2025-01-14T07:28:23.663934Z"
    },
    "jupyter": {
     "outputs_hidden": false
    },
    "papermill": {
     "duration": 0.014534,
     "end_time": "2025-01-14T07:28:23.666563",
     "exception": false,
     "start_time": "2025-01-14T07:28:23.652029",
     "status": "completed"
    },
    "tags": []
   },
   "outputs": [],
   "source": [
    "X = df_encoded[features_for_clustering]"
   ]
  },
  {
   "cell_type": "code",
   "execution_count": 21,
   "id": "6e86e5b0",
   "metadata": {
    "_cell_guid": "e563ea92-3944-4ca9-a1da-2db58e221ae3",
    "_uuid": "7f7b5f58-dbbb-46e2-b2be-68dc01159b3b",
    "collapsed": false,
    "execution": {
     "iopub.execute_input": "2025-01-14T07:28:23.682560Z",
     "iopub.status.busy": "2025-01-14T07:28:23.682237Z",
     "iopub.status.idle": "2025-01-14T07:28:23.693931Z",
     "shell.execute_reply": "2025-01-14T07:28:23.692985Z"
    },
    "jupyter": {
     "outputs_hidden": false
    },
    "papermill": {
     "duration": 0.021765,
     "end_time": "2025-01-14T07:28:23.695776",
     "exception": false,
     "start_time": "2025-01-14T07:28:23.674011",
     "status": "completed"
    },
    "tags": []
   },
   "outputs": [],
   "source": [
    "\n",
    "# Standardize the features\n",
    "scaler = StandardScaler()\n",
    "X_scaled = scaler.fit_transform(X)"
   ]
  },
  {
   "cell_type": "code",
   "execution_count": 22,
   "id": "6d273da9",
   "metadata": {
    "_cell_guid": "e1eea946-3107-40fa-98fc-ab660f988802",
    "_uuid": "e8ce9126-23e8-4b36-a4ba-eabf9c7aa44f",
    "collapsed": false,
    "execution": {
     "iopub.execute_input": "2025-01-14T07:28:23.711718Z",
     "iopub.status.busy": "2025-01-14T07:28:23.711351Z",
     "iopub.status.idle": "2025-01-14T07:28:24.424004Z",
     "shell.execute_reply": "2025-01-14T07:28:24.422838Z"
    },
    "jupyter": {
     "outputs_hidden": false
    },
    "papermill": {
     "duration": 0.722802,
     "end_time": "2025-01-14T07:28:24.426027",
     "exception": false,
     "start_time": "2025-01-14T07:28:23.703225",
     "status": "completed"
    },
    "tags": []
   },
   "outputs": [],
   "source": [
    "# Apply DBSCAN clustering\n",
    "dbscan = DBSCAN(eps=0.75, min_samples=10)  # Adjust eps and min_samples as needed\n",
    "df_encoded['cluster'] = dbscan.fit_predict(X_scaled)"
   ]
  },
  {
   "cell_type": "code",
   "execution_count": 23,
   "id": "bf65e8a2",
   "metadata": {
    "execution": {
     "iopub.execute_input": "2025-01-14T07:28:24.442465Z",
     "iopub.status.busy": "2025-01-14T07:28:24.442142Z",
     "iopub.status.idle": "2025-01-14T07:28:24.449071Z",
     "shell.execute_reply": "2025-01-14T07:28:24.447894Z"
    },
    "papermill": {
     "duration": 0.016368,
     "end_time": "2025-01-14T07:28:24.450442",
     "exception": false,
     "start_time": "2025-01-14T07:28:24.434074",
     "status": "completed"
    },
    "tags": []
   },
   "outputs": [
    {
     "name": "stdout",
     "output_type": "stream",
     "text": [
      "Number of clusters: 3\n"
     ]
    }
   ],
   "source": [
    "# --- Analyze the clusters ---\n",
    "\n",
    "# Number of clusters (excluding noise points labeled as -1)\n",
    "n_clusters_ = len(set(df_encoded['cluster'])) - (1 if -1 in df_encoded['cluster'] else 0)\n",
    "print(f\"Number of clusters: {n_clusters_}\")"
   ]
  },
  {
   "cell_type": "code",
   "execution_count": 24,
   "id": "11cdb538",
   "metadata": {
    "execution": {
     "iopub.execute_input": "2025-01-14T07:28:24.466669Z",
     "iopub.status.busy": "2025-01-14T07:28:24.466287Z",
     "iopub.status.idle": "2025-01-14T07:28:24.487390Z",
     "shell.execute_reply": "2025-01-14T07:28:24.486049Z"
    },
    "papermill": {
     "duration": 0.031096,
     "end_time": "2025-01-14T07:28:24.489182",
     "exception": false,
     "start_time": "2025-01-14T07:28:24.458086",
     "status": "completed"
    },
    "tags": []
   },
   "outputs": [
    {
     "name": "stdout",
     "output_type": "stream",
     "text": [
      "                  id    full_name        age  location  family_size  \\\n",
      "cluster                                                               \n",
      "-1       4306.597130  3549.946681  16.613114  1.053203     4.498308   \n",
      " 0       3276.294118  4450.117647  17.235294  0.000000     5.176471   \n",
      " 1       7209.454545  3923.545455  16.181818  0.000000     5.090909   \n",
      "\n",
      "         mother_education  father_education  mother_job  father_job  guardian  \\\n",
      "cluster                                                                         \n",
      "-1               2.986699          3.117606    0.479874    0.558278  0.944581   \n",
      " 0               3.117647          4.941176    0.000000    1.000000  0.705882   \n",
      " 1               3.727273          4.181818    1.000000    1.000000  1.454545   \n",
      "\n",
      "         ...  attendance  extra_curricular_activities    english       math  \\\n",
      "cluster  ...                                                                  \n",
      "-1       ...   73.967565                     0.530977  73.586863  72.905962   \n",
      " 0       ...   90.705882                     1.000000  84.352941  87.235294   \n",
      " 1       ...   89.363636                     1.000000  81.818182  82.090909   \n",
      "\n",
      "           science  social_science  art_culture  gender_Male  \\\n",
      "cluster                                                        \n",
      "-1       73.505425       74.454089    76.223778     0.503909   \n",
      " 0       84.294118       83.764706    90.647059     0.529412   \n",
      " 1       80.272727       79.363636    74.909091     0.454545   \n",
      "\n",
      "         stu_group_Commerce  stu_group_Science  \n",
      "cluster                                         \n",
      "-1                 0.335550           0.344184  \n",
      " 0                 0.000000           1.000000  \n",
      " 1                 0.454545           0.545455  \n",
      "\n",
      "[3 rows x 25 columns]\n"
     ]
    }
   ],
   "source": [
    "# Calculate cluster means (including noise points for analysis)\n",
    "cluster_means = df_encoded.groupby('cluster').mean()\n",
    "print(cluster_means)"
   ]
  },
  {
   "cell_type": "code",
   "execution_count": 25,
   "id": "53a7be0b",
   "metadata": {
    "execution": {
     "iopub.execute_input": "2025-01-14T07:28:24.505430Z",
     "iopub.status.busy": "2025-01-14T07:28:24.505104Z",
     "iopub.status.idle": "2025-01-14T07:28:25.039104Z",
     "shell.execute_reply": "2025-01-14T07:28:25.038046Z"
    },
    "papermill": {
     "duration": 0.545355,
     "end_time": "2025-01-14T07:28:25.042093",
     "exception": false,
     "start_time": "2025-01-14T07:28:24.496738",
     "status": "completed"
    },
    "tags": []
   },
   "outputs": [
    {
     "data": {
      "image/png": "[encoded data removed]",
      "text/plain": [
       "<Figure size 640x480 with 1 Axes>"
      ]
     },
     "metadata": {},
     "output_type": "display_data"
    }
   ],
   "source": [
    "# --- Visualize the clusters with PCA ---\n",
    "\n",
    "pca = PCA(n_components=2)\n",
    "X_pca = pca.fit_transform(X_scaled)\n",
    "\n",
    "plt.scatter(X_pca[:, 0], X_pca[:, 1], c=df_encoded['cluster'])\n",
    "plt.xlabel('Principal Component 1')\n",
    "plt.ylabel('Principal Component 2')\n",
    "plt.title('Clusters visualized with PCA (DBSCAN)')\n",
    "plt.show()\n"
   ]
  },
  {
   "cell_type": "code",
   "execution_count": 26,
   "id": "a982d5cc",
   "metadata": {
    "execution": {
     "iopub.execute_input": "2025-01-14T07:28:25.063146Z",
     "iopub.status.busy": "2025-01-14T07:28:25.062729Z",
     "iopub.status.idle": "2025-01-14T07:29:07.515401Z",
     "shell.execute_reply": "2025-01-14T07:29:07.514395Z"
    },
    "papermill": {
     "duration": 42.476973,
     "end_time": "2025-01-14T07:29:07.528997",
     "exception": false,
     "start_time": "2025-01-14T07:28:25.052024",
     "status": "completed"
    },
    "tags": []
   },
   "outputs": [
    {
     "data": {
      "image/png": "[encoded data removed]",
      "text/plain": [
       "<Figure size 640x480 with 1 Axes>"
      ]
     },
     "metadata": {},
     "output_type": "display_data"
    }
   ],
   "source": [
    "# --- Visualize the clusters with t-SNE ---\n",
    "\n",
    "tsne = TSNE(n_components=2, random_state=42)\n",
    "X_tsne = tsne.fit_transform(X_scaled)\n",
    "\n",
    "plt.scatter(X_tsne[:, 0], X_tsne[:, 1], c=df_encoded['cluster'])\n",
    "plt.xlabel('t-SNE Dimension 1')\n",
    "plt.ylabel('t-SNE Dimension 2')\n",
    "plt.title('Clusters visualized with t-SNE (DBSCAN)')\n",
    "plt.show()\n",
    "\n"
   ]
  },
  {
   "cell_type": "code",
   "execution_count": 27,
   "id": "025c448d",
   "metadata": {
    "execution": {
     "iopub.execute_input": "2025-01-14T07:29:07.553405Z",
     "iopub.status.busy": "2025-01-14T07:29:07.553078Z",
     "iopub.status.idle": "2025-01-14T07:29:07.564196Z",
     "shell.execute_reply": "2025-01-14T07:29:07.563043Z"
    },
    "papermill": {
     "duration": 0.025471,
     "end_time": "2025-01-14T07:29:07.566022",
     "exception": false,
     "start_time": "2025-01-14T07:29:07.540551",
     "status": "completed"
    },
    "tags": []
   },
   "outputs": [
    {
     "name": "stdout",
     "output_type": "stream",
     "text": [
      "Silhouette Score: 0.701210224893016\n",
      "Davies-Bouldin Index: 0.42995643594582755\n",
      "Calinski-Harabasz Index: 120.06099394575342\n"
     ]
    }
   ],
   "source": [
    "# --- Evaluate the clustering ---\n",
    "from sklearn.metrics import silhouette_score\n",
    "from sklearn.metrics import davies_bouldin_score\n",
    "from sklearn.metrics import calinski_harabasz_score\n",
    "\n",
    "# Filter out noise points for Silhouette Score calculation\n",
    "X_filtered = X_scaled[df_encoded['cluster'] != -1]\n",
    "labels_filtered = df_encoded['cluster'][df_encoded['cluster'] != -1]\n",
    "\n",
    "if n_clusters_ > 1:  # Silhouette Score needs at least 2 clusters\n",
    "    silhouette_avg = silhouette_score(X_filtered, labels_filtered)\n",
    "    print(f\"Silhouette Score: {silhouette_avg}\")\n",
    "    \n",
    "    db_index = davies_bouldin_score(X_filtered, labels_filtered)\n",
    "    print(f\"Davies-Bouldin Index: {db_index}\")\n",
    "\n",
    "    ch_index = calinski_harabasz_score(X_filtered, labels_filtered)\n",
    "    print(f\"Calinski-Harabasz Index: {ch_index}\")\n"
   ]
  },
  {
   "cell_type": "code",
   "execution_count": null,
   "id": "04f2c431",
   "metadata": {
    "papermill": {
     "duration": 0.011891,
     "end_time": "2025-01-14T07:29:07.590299",
     "exception": false,
     "start_time": "2025-01-14T07:29:07.578408",
     "status": "completed"
    },
    "tags": []
   },
   "outputs": [],
   "source": []
  }
 ],
 "metadata": {
  "kaggle": {
   "accelerator": "none",
   "dataSources": [
    {
     "datasetId": 6082550,
     "sourceId": 10038088,
     "sourceType": "datasetVersion"
    }
   ],
   "dockerImageVersionId": 30822,
   "isGpuEnabled": false,
   "isInternetEnabled": true,
   "language": "python",
   "sourceType": "notebook"
  },
  "kernelspec": {
   "display_name": "Python 3",
   "language": "python",
   "name": "python3"
  },
  "language_info": {
   "codemirror_mode": {
    "name": "ipython",
    "version": 3
   },
   "file_extension": ".py",
   "mimetype": "text/x-python",
   "name": "python",
   "nbconvert_exporter": "python",
   "pygments_lexer": "ipython3",
   "version": "3.10.12"
  },
  "papermill": {
   "default_parameters": {},
   "duration": 49.349623,
   "end_time": "2025-01-14T07:29:08.223154",
   "environment_variables": {},
   "exception": null,
   "input_path": "__notebook__.ipynb",
   "output_path": "__notebook__.ipynb",
   "parameters": {},
   "start_time": "2025-01-14T07:28:18.873531",
   "version": "2.6.0"
  }
 },
 "nbformat": 4,
 "nbformat_minor": 5
}
